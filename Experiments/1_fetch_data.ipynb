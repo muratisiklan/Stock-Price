{
 "cells": [
  {
   "cell_type": "code",
   "execution_count": 15,
   "metadata": {},
   "outputs": [],
   "source": [
    "import pandas as pd\n",
    "import yfinance as yf\n"
   ]
  },
  {
   "cell_type": "code",
   "execution_count": 76,
   "metadata": {},
   "outputs": [
    {
     "name": "stdout",
     "output_type": "stream",
     "text": [
      "[*********************100%%**********************]  1 of 1 completed\n"
     ]
    },
    {
     "data": {
      "text/html": [
       "<div>\n",
       "<style scoped>\n",
       "    .dataframe tbody tr th:only-of-type {\n",
       "        vertical-align: middle;\n",
       "    }\n",
       "\n",
       "    .dataframe tbody tr th {\n",
       "        vertical-align: top;\n",
       "    }\n",
       "\n",
       "    .dataframe thead th {\n",
       "        text-align: right;\n",
       "    }\n",
       "</style>\n",
       "<table border=\"1\" class=\"dataframe\">\n",
       "  <thead>\n",
       "    <tr style=\"text-align: right;\">\n",
       "      <th></th>\n",
       "      <th>Date</th>\n",
       "      <th>Open</th>\n",
       "      <th>High</th>\n",
       "      <th>Low</th>\n",
       "      <th>Close</th>\n",
       "      <th>Adj Close</th>\n",
       "      <th>Volume</th>\n",
       "    </tr>\n",
       "  </thead>\n",
       "  <tbody>\n",
       "    <tr>\n",
       "      <th>0</th>\n",
       "      <td>2024-02-23</td>\n",
       "      <td>185.009995</td>\n",
       "      <td>185.039993</td>\n",
       "      <td>182.229996</td>\n",
       "      <td>182.520004</td>\n",
       "      <td>182.520004</td>\n",
       "      <td>45074500</td>\n",
       "    </tr>\n",
       "    <tr>\n",
       "      <th>1</th>\n",
       "      <td>2024-02-26</td>\n",
       "      <td>182.240005</td>\n",
       "      <td>182.759995</td>\n",
       "      <td>180.649994</td>\n",
       "      <td>181.160004</td>\n",
       "      <td>181.160004</td>\n",
       "      <td>40715200</td>\n",
       "    </tr>\n",
       "  </tbody>\n",
       "</table>\n",
       "</div>"
      ],
      "text/plain": [
       "        Date        Open        High         Low       Close   Adj Close  \\\n",
       "0 2024-02-23  185.009995  185.039993  182.229996  182.520004  182.520004   \n",
       "1 2024-02-26  182.240005  182.759995  180.649994  181.160004  181.160004   \n",
       "\n",
       "     Volume  \n",
       "0  45074500  \n",
       "1  40715200  "
      ]
     },
     "execution_count": 76,
     "metadata": {},
     "output_type": "execute_result"
    }
   ],
   "source": [
    "import yfinance as yf\n",
    "from datetime import datetime, timedelta\n",
    "import pandas as pd\n",
    "\n",
    "def get_data_from_yfinance(symbol, start_date, end_date):\n",
    "    start_date = datetime.strptime(start_date, '%Y-%m-%d')\n",
    "    end_date = datetime.strptime(end_date, '%Y-%m-%d')\n",
    "    try:\n",
    "        # Fetch historical stock data for the specified symbol and date range from Yahoo Finance\n",
    "        stock_data = yf.download(symbol, start=start_date, end=end_date)\n",
    "        \n",
    "        # Reset the index and format the '_id' field as a string\n",
    "        stock_data.reset_index(inplace=True)\n",
    "        \n",
    "        return stock_data\n",
    "    except Exception as e:\n",
    "        print(f\"Error fetching data for {symbol} from {start_date} to {end_date}: {e}\")\n",
    "df = get_data_from_yfinance(\"AAPL\",\"2024-02-23\",\"2024-02-27\")\n",
    "df.head()"
   ]
  },
  {
   "cell_type": "code",
   "execution_count": 75,
   "metadata": {},
   "outputs": [
    {
     "name": "stdout",
     "output_type": "stream",
     "text": [
      "[*********************100%%**********************]  1 of 1 completed\n"
     ]
    }
   ],
   "source": [
    "from pymongo import MongoClient\n",
    "\n",
    "def create_update_collections(connection_string, database):\n",
    "    symbols_list = [\"AAPL\"]\n",
    "\n",
    "    \"\"\"cretes data frame for given symbol list starting from 2015-01-01 to now+1 (now is included)\n",
    "    \"\"\"\n",
    "    client = MongoClient(connection_string)\n",
    "    db = client[database]\n",
    "        \n",
    "\n",
    "    for symbol in symbols_list:\n",
    "\n",
    "        collection = db[symbol]\n",
    "        most_recent_document = collection.find_one({}, sort=[('_id', -1)])\n",
    "        if most_recent_document:\n",
    "            most_recent_id = most_recent_document[\"_id\"]\n",
    "            most_recent_date = datetime.strptime(most_recent_id, \"%Y-%m-%d\")\n",
    "            one_day_later = most_recent_date + timedelta(days=1)\n",
    "            start_date = one_day_later.strftime(\"%Y-%m-%d\")\n",
    "\n",
    "            now = datetime.now()\n",
    "            tomorrow = now + timedelta(days=1)\n",
    "            end_date = tomorrow.strftime(\"%Y-%m-%d\")\n",
    "        else:\n",
    "            start_date = \"2015-01-01\"\n",
    "            tomorrow = datetime.now() + timedelta(days=1)\n",
    "            end_date = tomorrow.strftime(\"%Y-%m-%d\")\n",
    "\n",
    "\n",
    "        \n",
    "        data = get_data_from_yfinance(symbol, start_date,end_date)\n",
    "\n",
    "        data['_id'] = pd.to_datetime(data['Date']).dt.strftime(\"%Y-%m-%d\")\n",
    "\n",
    "        # Drop the original 'Date' column\n",
    "        data = data.drop(columns=['Date'])\n",
    "\n",
    "        # Convert the DataFrame to a list of dictionaries\n",
    "        data_list = data.to_dict(orient='records')\n",
    "\n",
    "        # Insert the data into the MongoDB collection\n",
    "        collection.insert_many(data_list)\n",
    "\n",
    "    client.close()\n",
    "\n",
    "\n",
    "create_update_collections(\"mongodb://127.0.0.1:27017/\",\"stockdata\")    \n",
    "\n"
   ]
  },
  {
   "cell_type": "code",
   "execution_count": 74,
   "metadata": {},
   "outputs": [
    {
     "ename": "TypeError",
     "evalue": "function missing required argument 'year' (pos 1)",
     "output_type": "error",
     "traceback": [
      "\u001b[0;31m---------------------------------------------------------------------------\u001b[0m",
      "\u001b[0;31mTypeError\u001b[0m                                 Traceback (most recent call last)",
      "Cell \u001b[0;32mIn[74], line 1\u001b[0m\n\u001b[0;32m----> 1\u001b[0m a \u001b[38;5;241m=\u001b[39m \u001b[43mdatetime\u001b[49m\u001b[43m(\u001b[49m\u001b[43m)\u001b[49m\u001b[38;5;241m.\u001b[39mnow()\n",
      "\u001b[0;31mTypeError\u001b[0m: function missing required argument 'year' (pos 1)"
     ]
    }
   ],
   "source": [
    "a = datetime().now()"
   ]
  },
  {
   "cell_type": "code",
   "execution_count": 72,
   "metadata": {},
   "outputs": [
    {
     "name": "stdout",
     "output_type": "stream",
     "text": [
      "<class 'str'>\n",
      "2024-02-27\n"
     ]
    },
    {
     "data": {
      "text/plain": [
       "datetime.timedelta"
      ]
     },
     "execution_count": 72,
     "metadata": {},
     "output_type": "execute_result"
    }
   ],
   "source": [
    "current_time = datetime.now().strftime(\"%Y-%m-%d\")\n",
    "print(type(current_time))\n",
    "print(current_time)\n"
   ]
  },
  {
   "cell_type": "code",
   "execution_count": 4,
   "metadata": {},
   "outputs": [
    {
     "data": {
      "image/png": "[encoded data removed]",
      "text/plain": [
       "<Figure size 1200x600 with 1 Axes>"
      ]
     },
     "metadata": {},
     "output_type": "display_data"
    }
   ],
   "source": [
    "import pandas as pd\n",
    "import matplotlib.pyplot as plt\n",
    "from pymongo import MongoClient\n",
    "\n",
    "# Constants\n",
    "MONGO_URI = \"mongodb://127.0.0.1:27017/\"\n",
    "DB_NAME = \"stockdata\"\n",
    "COLLECTION_NAME = \"interest\"\n",
    "\n",
    "# Connect to MongoDB\n",
    "client = MongoClient(MONGO_URI)\n",
    "db = client[DB_NAME]\n",
    "collection = db[COLLECTION_NAME]\n",
    "\n",
    "# Retrieve data from MongoDB\n",
    "data = list(collection.find({}, {'_id': 1, 'Rate': 1}))\n",
    "\n",
    "# Convert data to DataFrame\n",
    "df = pd.DataFrame(data)\n",
    "df['_id'] = pd.to_datetime(df['_id'], format='%Y-%m-%d')\n",
    "\n",
    "# Plotting\n",
    "plt.figure(figsize=(12, 6))\n",
    "plt.plot(df['_id'], df['Rate'], marker='o', linestyle='-', color='b')\n",
    "plt.title('Interest Rates Over Time')\n",
    "plt.xlabel('Date')\n",
    "plt.ylabel('Interest Rate')\n",
    "plt.grid(True)\n",
    "plt.show()\n",
    "\n",
    "# Close the MongoDB connection\n",
    "client.close()\n"
   ]
  }
 ],
 "metadata": {
  "kernelspec": {
   "display_name": ".venv",
   "language": "python",
   "name": "python3"
  },
  "language_info": {
   "codemirror_mode": {
    "name": "ipython",
    "version": 3
   },
   "file_extension": ".py",
   "mimetype": "text/x-python",
   "name": "python",
   "nbconvert_exporter": "python",
   "pygments_lexer": "ipython3",
   "version": "3.10.2"
  }
 },
 "nbformat": 4,
 "nbformat_minor": 2
}
