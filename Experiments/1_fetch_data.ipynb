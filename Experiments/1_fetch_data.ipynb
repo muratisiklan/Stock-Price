{
 "cells": [
  {
   "cell_type": "code",
   "execution_count": 10,
   "metadata": {},
   "outputs": [],
   "source": [
    "import pandas as pd\n",
    "import yfinance as yf\n",
    "\n",
    "bist_data = pd.read_csv(\"/Users/muratisiklan/Desktop/stock-price/Artifacts/bist_data.csv\")"
   ]
  },
  {
   "cell_type": "code",
   "execution_count": 11,
   "metadata": {},
   "outputs": [],
   "source": [
    "\n",
    "def get_stock_data(symbol, start_date, end_date):\n",
    "    try:\n",
    "        stock_data = yf.download(symbol, start=start_date, end=end_date)\n",
    "        return stock_data\n",
    "    except Exception as e:\n",
    "        print(f\"Error fetching data for {symbol}: {e}\")\n",
    "        return None\n",
    "\n",
    "symbols = bist_data[\"Symbol\"].head(5).to_list()\n"
   ]
  },
  {
   "cell_type": "code",
   "execution_count": 23,
   "metadata": {},
   "outputs": [
    {
     "name": "stdout",
     "output_type": "stream",
     "text": [
      "[*********************100%%**********************]  1 of 1 completed\n"
     ]
    }
   ],
   "source": [
    "data = get_stock_data(\"BINHO.IS\",\"2023-11-25\",\"2023-12-30\")"
   ]
  },
  {
   "cell_type": "code",
   "execution_count": 24,
   "metadata": {},
   "outputs": [
    {
     "data": {
      "text/html": [
       "<div>\n",
       "<style scoped>\n",
       "    .dataframe tbody tr th:only-of-type {\n",
       "        vertical-align: middle;\n",
       "    }\n",
       "\n",
       "    .dataframe tbody tr th {\n",
       "        vertical-align: top;\n",
       "    }\n",
       "\n",
       "    .dataframe thead th {\n",
       "        text-align: right;\n",
       "    }\n",
       "</style>\n",
       "<table border=\"1\" class=\"dataframe\">\n",
       "  <thead>\n",
       "    <tr style=\"text-align: right;\">\n",
       "      <th></th>\n",
       "      <th>Open</th>\n",
       "      <th>High</th>\n",
       "      <th>Low</th>\n",
       "      <th>Close</th>\n",
       "      <th>Adj Close</th>\n",
       "      <th>Volume</th>\n",
       "    </tr>\n",
       "    <tr>\n",
       "      <th>Date</th>\n",
       "      <th></th>\n",
       "      <th></th>\n",
       "      <th></th>\n",
       "      <th></th>\n",
       "      <th></th>\n",
       "      <th></th>\n",
       "    </tr>\n",
       "  </thead>\n",
       "  <tbody>\n",
       "    <tr>\n",
       "      <th>2023-12-21</th>\n",
       "      <td>235.699997</td>\n",
       "      <td>265.250000</td>\n",
       "      <td>224.000000</td>\n",
       "      <td>264.750000</td>\n",
       "      <td>264.750000</td>\n",
       "      <td>916841</td>\n",
       "    </tr>\n",
       "    <tr>\n",
       "      <th>2023-12-22</th>\n",
       "      <td>250.500000</td>\n",
       "      <td>278.000000</td>\n",
       "      <td>248.600006</td>\n",
       "      <td>259.250000</td>\n",
       "      <td>259.250000</td>\n",
       "      <td>648775</td>\n",
       "    </tr>\n",
       "    <tr>\n",
       "      <th>2023-12-26</th>\n",
       "      <td>230.000000</td>\n",
       "      <td>240.800003</td>\n",
       "      <td>222.600006</td>\n",
       "      <td>226.000000</td>\n",
       "      <td>226.000000</td>\n",
       "      <td>384567</td>\n",
       "    </tr>\n",
       "    <tr>\n",
       "      <th>2023-12-27</th>\n",
       "      <td>225.000000</td>\n",
       "      <td>235.699997</td>\n",
       "      <td>215.000000</td>\n",
       "      <td>225.000000</td>\n",
       "      <td>225.000000</td>\n",
       "      <td>400157</td>\n",
       "    </tr>\n",
       "    <tr>\n",
       "      <th>2023-12-28</th>\n",
       "      <td>223.000000</td>\n",
       "      <td>236.000000</td>\n",
       "      <td>221.000000</td>\n",
       "      <td>233.899994</td>\n",
       "      <td>233.899994</td>\n",
       "      <td>198613</td>\n",
       "    </tr>\n",
       "  </tbody>\n",
       "</table>\n",
       "</div>"
      ],
      "text/plain": [
       "                  Open        High         Low       Close   Adj Close  Volume\n",
       "Date                                                                          \n",
       "2023-12-21  235.699997  265.250000  224.000000  264.750000  264.750000  916841\n",
       "2023-12-22  250.500000  278.000000  248.600006  259.250000  259.250000  648775\n",
       "2023-12-26  230.000000  240.800003  222.600006  226.000000  226.000000  384567\n",
       "2023-12-27  225.000000  235.699997  215.000000  225.000000  225.000000  400157\n",
       "2023-12-28  223.000000  236.000000  221.000000  233.899994  233.899994  198613"
      ]
     },
     "execution_count": 24,
     "metadata": {},
     "output_type": "execute_result"
    }
   ],
   "source": [
    "data.tail()"
   ]
  },
  {
   "cell_type": "code",
   "execution_count": null,
   "metadata": {},
   "outputs": [],
   "source": []
  },
  {
   "cell_type": "code",
   "execution_count": 21,
   "metadata": {},
   "outputs": [
    {
     "name": "stdout",
     "output_type": "stream",
     "text": [
      "Most Recent Entry _id: 2023-12-27\n"
     ]
    }
   ],
   "source": [
    "from pymongo import MongoClient\n",
    "\n",
    "# Constants\n",
    "MONGO_URI = \"mongodb://127.0.0.1:27017/\"\n",
    "DB_NAME = \"stockdata\"\n",
    "COLLECTION_NAME = \"test\"\n",
    "\n",
    "# Connect to MongoDB\n",
    "with MongoClient(MONGO_URI) as client:\n",
    "    db = client[DB_NAME]\n",
    "    collection = db[COLLECTION_NAME]\n",
    "\n",
    "    # Find the most recent entry\n",
    "    most_recent_entry = collection.find_one({}, sort=[(\"_id\", -1)])\n",
    "\n",
    "# Print the _id field of the most recent entry\n",
    "if most_recent_entry and \"_id\" in most_recent_entry:\n",
    "    print(\"Most Recent Entry _id:\", most_recent_entry[\"_id\"])\n",
    "else:\n",
    "    print(\"No entries in the collection.\")\n"
   ]
  },
  {
   "cell_type": "code",
   "execution_count": 22,
   "metadata": {},
   "outputs": [
    {
     "name": "stdout",
     "output_type": "stream",
     "text": [
      "Most Recent Document:\n",
      "{'_id': '2023-12-27', 'bist': [{'Symbol': 'BINHO.IS', 'Company': '1000 YATIRIMLAR HOLDİNG A.Ş.', 'Open': 225.0, 'High': 235.6999969482422, 'Low': 215.0, 'Close': 225.0, 'AdjClose': 225.0, 'Volume': 400157.0}, {'Symbol': 'AVOD.IS', 'Company': 'A.V.O.D. KURUTULMUŞ GIDA VE TARIM ÜRÜNLERİ SANAYİ TİCARET A.Ş.', 'Open': 2.9600000381469727, 'High': 3.069999933242798, 'Low': 2.950000047683716, 'Close': 3.0299999713897705, 'AdjClose': 3.0299999713897705, 'Volume': 6845574.0}, {'Symbol': 'A1CAP.IS', 'Company': 'A1 CAPITAL YATIRIM MENKUL DEĞERLER A.Ş.', 'Open': 24.760000228881836, 'High': 25.959999084472656, 'Low': 24.5, 'Close': 25.219999313354492, 'AdjClose': 25.219999313354492, 'Volume': 1281855.0}, {'Symbol': 'ACSEL.IS', 'Company': 'ACISELSAN ACIPAYAM SELÜLOZ SANAYİ VE TİCARET A.Ş.', 'Open': 93.0, 'High': 97.75, 'Low': 89.75, 'Close': 89.75, 'AdjClose': 89.75, 'Volume': 1330070.0}, {'Symbol': 'ADEL.IS', 'Company': 'ADEL KALEMCİLİK TİCARET VE SANAYİ A.Ş.', 'Open': 322.5, 'High': 339.0, 'Low': 317.5, 'Close': 325.5, 'AdjClose': 325.5, 'Volume': 134470.0}, {'Symbol': 'ADESE.IS', 'Company': 'ADESE GAYRİMENKUL YATIRIM A.Ş.', 'Open': 1.75, 'High': 1.8200000524520874, 'Low': 1.7400000095367432, 'Close': 1.7999999523162842, 'AdjClose': 1.7999999523162842, 'Volume': 28479078.0}, {'Symbol': 'ADGYO.IS', 'Company': 'ADRA GAYRİMENKUL YATIRIM ORTAKLIĞI A.Ş.', 'Open': 28.399999618530273, 'High': 28.68000030517578, 'Low': 27.639999389648438, 'Close': 28.079999923706055, 'AdjClose': 28.079999923706055, 'Volume': 2080118.0}, {'Symbol': 'AFYON.IS', 'Company': 'AFYON ÇİMENTO SANAYİ T.A.Ş.', 'Open': 10.420000076293945, 'High': 10.75, 'Low': 10.3100004196167, 'Close': 10.529999732971191, 'AdjClose': 10.529999732971191, 'Volume': 4005400.0}, {'Symbol': 'AGHOL.IS', 'Company': 'AG ANADOLU GRUBU HOLDİNG A.Ş.', 'Open': 186.1999969482422, 'High': 188.89999389648438, 'Low': 182.8000030517578, 'Close': 183.5, 'AdjClose': 183.5, 'Volume': 439215.0}, {'Symbol': 'AGESA.IS', 'Company': 'AGESA HAYAT VE EMEKLİLİK A.Ş.', 'Open': 55.70000076293945, 'High': 56.0, 'Low': 54.29999923706055, 'Close': 56.0, 'AdjClose': 56.0, 'Volume': 263227.0}, {'Symbol': 'AGROT.IS', 'Company': 'AGROTECH YÜKSEK TEKNOLOJİ VE YATIRIM A.Ş.', 'Open': 11.600000381469727, 'High': 12.199999809265137, 'Low': 11.579999923706055, 'Close': 11.899999618530273, 'AdjClose': 11.899999618530273, 'Volume': 6373803.0}, {'Symbol': 'AHGAZ.IS', 'Company': 'AHLATCI DOĞAL GAZ DAĞITIM ENERJİ VE YATIRIM A.Ş.', 'Open': 8.65999984741211, 'High': 9.140000343322754, 'Low': 8.65999984741211, 'Close': 8.850000381469727, 'AdjClose': 8.850000381469727, 'Volume': 48659908.0}, {'Symbol': 'AKBNK.IS', 'Company': 'AKBANK T.A.Ş.', 'Open': 37.599998474121094, 'High': 37.68000030517578, 'Low': 35.81999969482422, 'Close': 35.880001068115234, 'AdjClose': 35.880001068115234, 'Volume': 117038330.0}, {'Symbol': 'AKCNS.IS', 'Company': 'AKÇANSA ÇİMENTO SANAYİ VE TİCARET A.Ş.', 'Open': 130.5, 'High': 132.8000030517578, 'Low': 128.5, 'Close': 130.10000610351562, 'AdjClose': 130.10000610351562, 'Volume': 934037.0}, {'Symbol': 'AKYHO.IS', 'Company': 'AKDENİZ YATIRIM HOLDİNG A.Ş.', 'Open': 3.7799999713897705, 'High': 3.8499999046325684, 'Low': 3.680000066757202, 'Close': 3.759999990463257, 'AdjClose': 3.759999990463257, 'Volume': 777972.0}, {'Symbol': 'AKENR.IS', 'Company': 'AKENERJİ ELEKTRİK ÜRETİM A.Ş.', 'Open': 4.050000190734863, 'High': 4.159999847412109, 'Low': 4.03000020980835, 'Close': 4.099999904632568, 'AdjClose': 4.099999904632568, 'Volume': 1733870.0}, {'Symbol': 'AKFGY.IS', 'Company': 'AKFEN GAYRİMENKUL YATIRIM ORTAKLIĞI A.Ş.', 'Open': 1.7400000095367432, 'High': 1.7699999809265137, 'Low': 1.690000057220459, 'Close': 1.7300000190734863, 'AdjClose': 1.7300000190734863, 'Volume': 57476726.0}, {'Symbol': 'AKFYE.IS', 'Company': 'AKFEN YENİLENEBİLİR ENERJİ A.Ş.', 'Open': 13.390000343322754, 'High': 14.210000038146973, 'Low': 13.199999809265137, 'Close': 13.470000267028809, 'AdjClose': 13.470000267028809, 'Volume': 36945432.0}, {'Symbol': 'ATEKS.IS', 'Company': 'AKIN TEKSTİL A.Ş.', 'Open': 86.25, 'High': 89.0, 'Low': 84.4000015258789, 'Close': 85.80000305175781, 'AdjClose': 85.80000305175781, 'Volume': 56883.0}, {'Symbol': 'AKSGY.IS', 'Company': 'AKİŞ GAYRİMENKUL YATIRIM ORTAKLIĞI A.Ş.', 'Open': 9.989999771118164, 'High': 10.399999618530273, 'Low': 9.90999984741211, 'Close': 10.270000457763672, 'AdjClose': 10.270000457763672, 'Volume': 1863042.0}, {'Symbol': 'AKMGY.IS', 'Company': 'AKMERKEZ GAYRİMENKUL YATIRIM ORTAKLIĞI A.Ş.', 'Open': 125.5999984741211, 'High': 128.3000030517578, 'Low': 124.0, 'Close': 125.0999984741211, 'AdjClose': 125.0999984741211, 'Volume': 47606.0}, {'Symbol': 'AKSA.IS', 'Company': 'AKSA AKRİLİK KİMYA SANAYİİ A.Ş.', 'Open': 84.5, 'High': 88.0, 'Low': 83.19999694824219, 'Close': 87.94999694824219, 'AdjClose': 87.94999694824219, 'Volume': 1524293.0}, {'Symbol': 'AKSEN.IS', 'Company': 'AKSA ENERJİ ÜRETİM A.Ş.', 'Open': 28.8799991607666, 'High': 29.68000030517578, 'Low': 28.3799991607666, 'Close': 28.84000015258789, 'AdjClose': 28.84000015258789, 'Volume': 6346758.0}, {'Symbol': 'AKGRT.IS', 'Company': 'AKSİGORTA A.Ş.', 'Open': 5.139999866485596, 'High': 5.21999979019165, 'Low': 5.03000020980835, 'Close': 5.03000020980835, 'AdjClose': 5.03000020980835, 'Volume': 20122926.0}, {'Symbol': 'AKSUE.IS', 'Company': 'AKSU ENERJİ VE TİCARET A.Ş.', 'Open': 19.899999618530273, 'High': 20.479999542236328, 'Low': 19.799999237060547, 'Close': 20.139999389648438, 'AdjClose': 20.139999389648438, 'Volume': 204190.0}, {'Symbol': 'ALCAR.IS', 'Company': 'ALARKO CARRIER SANAYİ VE TİCARET A.Ş.', 'Open': 1007.0, 'High': 1070.0, 'Low': 986.0, 'Close': 1009.0, 'AdjClose': 1009.0, 'Volume': 83816.0}, {'Symbol': 'ALGYO.IS', 'Company': 'ALARKO GAYRİMENKUL YATIRIM ORTAKLIĞI A.Ş.', 'Open': 35.97999954223633, 'High': 36.560001373291016, 'Low': 35.540000915527344, 'Close': 35.599998474121094, 'AdjClose': 35.599998474121094, 'Volume': 959115.0}, {'Symbol': 'ALARK.IS', 'Company': 'ALARKO HOLDİNG A.Ş.', 'Open': 86.6500015258789, 'High': 89.05000305175781, 'Low': 85.69999694824219, 'Close': 86.9000015258789, 'AdjClose': 86.9000015258789, 'Volume': 3874680.0}, {'Symbol': 'ALBRK.IS', 'Company': 'ALBARAKA TÜRK KATILIM BANKASI A.Ş.', 'Open': 3.6600000858306885, 'High': 3.7200000286102295, 'Low': 3.619999885559082, 'Close': 3.690000057220459, 'AdjClose': 3.690000057220459, 'Volume': 7711743.0}, {'Symbol': 'ALCTL.IS', 'Company': 'ALCATEL LUCENT TELETAŞ TELEKOMÜNİKASYON A.Ş.', 'Open': 71.0999984741211, 'High': 75.0, 'Low': 70.05000305175781, 'Close': 72.05000305175781, 'AdjClose': 72.05000305175781, 'Volume': 292533.0}, {'Symbol': 'ALFAS.IS', 'Company': 'ALFA SOLAR ENERJİ SANAYİ VE TİCARET A.Ş.', 'Open': 81.0, 'High': 85.5999984741211, 'Low': 79.0, 'Close': 81.69999694824219, 'AdjClose': 81.69999694824219, 'Volume': 5981650.0}, {'Symbol': 'ALKIM.IS', 'Company': 'ALKİM ALKALİ KİMYA A.Ş.', 'Open': 32.279998779296875, 'High': 32.47999954223633, 'Low': 31.360000610351562, 'Close': 32.08000183105469, 'AdjClose': 32.08000183105469, 'Volume': 1328676.0}, {'Symbol': 'ALKA.IS', 'Company': 'ALKİM KAĞIT SANAYİ VE TİCARET A.Ş.', 'Open': 24.860000610351562, 'High': 25.040000915527344, 'Low': 24.219999313354492, 'Close': 24.5, 'AdjClose': 24.5, 'Volume': 608959.0}, {'Symbol': 'AYCES.IS', 'Company': 'ALTIN YUNUS ÇEŞME TURİSTİK TESİSLER A.Ş.', 'Open': 500.0, 'High': 510.0, 'Low': 495.0, 'Close': 495.0, 'AdjClose': 495.0, 'Volume': 19520.0}, {'Symbol': 'ALMAD.IS', 'Company': 'ALTINYAĞ MADENCİLİK VE ENERJİ YATIRIMLARI SANAYİ VE TİCARET A.Ş.', 'Open': 6.460000038146973, 'High': 6.550000190734863, 'Low': 6.300000190734863, 'Close': 6.460000038146973, 'AdjClose': 6.460000038146973, 'Volume': 2506849.0}, {'Symbol': 'ANSGR.IS', 'Company': 'ANADOLU ANONİM TÜRK SİGORTA ŞİRKETİ', 'Open': 55.900001525878906, 'High': 57.70000076293945, 'Low': 54.95000076293945, 'Close': 55.900001525878906, 'AdjClose': 55.900001525878906, 'Volume': 2378712.0}, {'Symbol': 'AEFES.IS', 'Company': 'ANADOLU EFES BİRACILIK VE MALT SANAYİİ A.Ş.', 'Open': 130.5, 'High': 130.5, 'Low': 124.5999984741211, 'Close': 127.9000015258789, 'AdjClose': 127.9000015258789, 'Volume': 3449490.0}, {'Symbol': 'ANHYT.IS', 'Company': 'ANADOLU HAYAT EMEKLİLİK A.Ş.', 'Open': 35.20000076293945, 'High': 36.599998474121094, 'Low': 35.02000045776367, 'Close': 35.97999954223633, 'AdjClose': 35.97999954223633, 'Volume': 273946.0}, {'Symbol': 'ASUZU.IS', 'Company': 'ANADOLU ISUZU OTOMOTİV SANAYİ VE TİCARET A.Ş.', 'Open': 184.89999389648438, 'High': 190.39999389648438, 'Low': 182.0, 'Close': 186.5, 'AdjClose': 186.5, 'Volume': 292842.0}, {'Symbol': 'ANGEN.IS', 'Company': 'ANATOLİA TANI VE BİYOTEKNOLOJİ ÜRÜNLERİ ARAŞTIRMA GELİŞTİRME SANAYİ VE TİCARET A.Ş.', 'Open': 12.100000381469727, 'High': 12.300000190734863, 'Low': 12.029999732971191, 'Close': 12.079999923706055, 'AdjClose': 12.079999923706055, 'Volume': 1730616.0}, {'Symbol': 'ANELE.IS', 'Company': 'ANEL ELEKTRİK PROJE TAAHHÜT VE TİCARET A.Ş.', 'Open': 9.84000015258789, 'High': 10.390000343322754, 'Low': 9.710000038146973, 'Close': 10.199999809265137, 'AdjClose': 10.199999809265137, 'Volume': 1927017.0}, {'Symbol': 'ARCLK.IS', 'Company': 'ARÇELİK A.Ş.', 'Open': 123.5, 'High': 125.5999984741211, 'Low': 123.0, 'Close': 124.0, 'AdjClose': 124.0, 'Volume': 2452111.0}, {'Symbol': 'ARDYZ.IS', 'Company': 'ARD GRUP BİLİŞİM TEKNOLOJİLERİ A.Ş.', 'Open': 23.059999465942383, 'High': 23.479999542236328, 'Low': 22.299999237060547, 'Close': 22.760000228881836, 'AdjClose': 22.760000228881836, 'Volume': 3630344.0}, {'Symbol': 'ARENA.IS', 'Company': 'ARENA BİLGİSAYAR SANAYİ VE TİCARET A.Ş.', 'Open': 32.900001525878906, 'High': 33.040000915527344, 'Low': 31.399999618530273, 'Close': 31.719999313354492, 'AdjClose': 31.719999313354492, 'Volume': 463715.0}, {'Symbol': 'ARSAN.IS', 'Company': 'ARSAN TEKSTİL TİCARET VE SANAYİ A.Ş.', 'Open': 9.579999923706055, 'High': 9.779999732971191, 'Low': 9.199999809265137, 'Close': 9.609999656677246, 'AdjClose': 9.609999656677246, 'Volume': 769636.0}, {'Symbol': 'ASGYO.IS', 'Company': 'ASCE GAYRİMENKUL YATIRIM ORTAKLIĞI A.Ş.', 'Open': 13.300000190734863, 'High': 13.699999809265137, 'Low': 13.149999618530273, 'Close': 13.300000190734863, 'AdjClose': 13.300000190734863, 'Volume': 5884276.0}, {'Symbol': 'ASELS.IS', 'Company': 'ASELSAN ELEKTRONİK SANAYİ VE TİCARET A.Ş.', 'Open': 43.63999938964844, 'High': 44.20000076293945, 'Low': 42.900001525878906, 'Close': 43.02000045776367, 'AdjClose': 43.02000045776367, 'Volume': 42364922.0}, {'Symbol': 'ATAGY.IS', 'Company': 'ATA GAYRİMENKUL YATIRIM ORTAKLIĞI A.Ş.', 'Open': 8.359999656677246, 'High': 8.380000114440918, 'Low': 8.140000343322754, 'Close': 8.1899995803833, 'AdjClose': 8.1899995803833, 'Volume': 111949.0}, {'Symbol': 'ATAKP.IS', 'Company': 'ATAKEY PATATES GIDA SANAYİ VE TİCARET A.Ş.', 'Open': 40.2599983215332, 'High': 42.68000030517578, 'Low': 39.400001525878906, 'Close': 42.68000030517578, 'AdjClose': 42.68000030517578, 'Volume': 2940239.0}, {'Symbol': 'AGYO.IS', 'Company': 'ATAKULE GAYRİMENKUL YATIRIM ORTAKLIĞI A.Ş.', 'Open': 8.399999618530273, 'High': 8.399999618530273, 'Low': 7.730000019073486, 'Close': 7.730000019073486, 'AdjClose': 7.730000019073486, 'Volume': 4306871.0}, {'Symbol': 'ATSYH.IS', 'Company': 'ATLANTİS YATIRIM HOLDİNG A.Ş.', 'Open': 47.0, 'High': 48.0, 'Low': 47.0, 'Close': 47.5, 'AdjClose': 47.5, 'Volume': 43108.0}, {'Symbol': 'ATLAS.IS', 'Company': 'ATLAS MENKUL KIYMETLER YATIRIM ORTAKLIĞI A.Ş.', 'Open': 4.159999847412109, 'High': 4.21999979019165, 'Low': 4.070000171661377, 'Close': 4.150000095367432, 'AdjClose': 4.150000095367432, 'Volume': 226397.0}, {'Symbol': 'ATATP.IS', 'Company': 'ATP YAZILIM VE TEKNOLOJİ A.Ş.', 'Open': 96.0, 'High': 101.0, 'Low': 91.5, 'Close': 94.19999694824219, 'AdjClose': 94.19999694824219, 'Volume': 283907.0}, {'Symbol': 'AVGYO.IS', 'Company': 'AVRASYA GAYRİMENKUL YATIRIM ORTAKLIĞI A.Ş.', 'Open': 7.579999923706055, 'High': 8.039999961853027, 'Low': 7.340000152587891, 'Close': 7.869999885559082, 'AdjClose': 7.869999885559082, 'Volume': 1570225.0}, {'Symbol': 'AVTUR.IS', 'Company': 'AVRASYA PETROL VE TURİSTİK TESİSLER YATIRIMLAR A.Ş.', 'Open': 8.380000114440918, 'High': 8.479999542236328, 'Low': 8.0, 'Close': 8.199999809265137, 'AdjClose': 8.199999809265137, 'Volume': 748979.0}, {'Symbol': 'AVHOL.IS', 'Company': 'AVRUPA YATIRIM HOLDİNG A.Ş.', 'Open': 32.599998474121094, 'High': 32.79999923706055, 'Low': 29.440000534057617, 'Close': 30.719999313354492, 'AdjClose': 30.719999313354492, 'Volume': 3274947.0}, {'Symbol': 'AVPGY.IS', 'Company': 'AVRUPAKENT GAYRİMENKUL YATIRIM ORTAKLIĞI A.Ş.', 'Open': 40.79999923706055, 'High': 41.599998474121094, 'Low': 38.7400016784668, 'Close': 38.7400016784668, 'AdjClose': 38.7400016784668, 'Volume': 14162300.0}, {'Symbol': 'AYDEM.IS', 'Company': 'AYDEM YENİLENEBİLİR ENERJİ A.Ş.', 'Open': 16.049999237060547, 'High': 16.399999618530273, 'Low': 15.75, 'Close': 16.25, 'AdjClose': 16.25, 'Volume': 2260780.0}, {'Symbol': 'AYEN.IS', 'Company': 'AYEN ENERJİ A.Ş.', 'Open': 22.399999618530273, 'High': 23.420000076293945, 'Low': 21.5, 'Close': 22.540000915527344, 'AdjClose': 22.540000915527344, 'Volume': 806976.0}, {'Symbol': 'AYES.IS', 'Company': 'AYES ÇELİK HASIR VE ÇİT SANAYİ A.Ş.', 'Open': 27.100000381469727, 'High': 27.5, 'Low': 27.059999465942383, 'Close': 27.5, 'AdjClose': 27.5, 'Volume': 81061.0}, {'Symbol': 'AYGAZ.IS', 'Company': 'AYGAZ A.Ş.', 'Open': 122.19999694824219, 'High': 129.39999389648438, 'Low': 122.0, 'Close': 127.80000305175781, 'AdjClose': 127.80000305175781, 'Volume': 1161189.0}, {'Symbol': 'BAGFS.IS', 'Company': 'BAGFAŞ BANDIRMA GÜBRE FABRİKALARI A.Ş.', 'Open': 31.219999313354492, 'High': 31.5, 'Low': 29.899999618530273, 'Close': 30.399999618530273, 'AdjClose': 30.399999618530273, 'Volume': 970862.0}, {'Symbol': 'BAKAB.IS', 'Company': 'BAK AMBALAJ SANAYİ VE TİCARET A.Ş.', 'Open': 66.94999694824219, 'High': 69.9000015258789, 'Low': 66.94999694824219, 'Close': 68.1500015258789, 'AdjClose': 68.1500015258789, 'Volume': 53946.0}, {'Symbol': 'BALAT.IS', 'Company': 'BALATACILAR BALATACILIK SANAYİ VE TİCARET A.Ş.', 'Open': 15.600000381469727, 'High': 15.960000038146973, 'Low': 15.600000381469727, 'Close': 15.960000038146973, 'AdjClose': 15.960000038146973, 'Volume': 102778.0}, {'Symbol': 'BNTAS.IS', 'Company': 'BANTAŞ BANDIRMA AMBALAJ SANAYİ TİCARET A.Ş.', 'Open': 6.21999979019165, 'High': 6.400000095367432, 'Low': 6.099999904632568, 'Close': 6.320000171661377, 'AdjClose': 6.320000171661377, 'Volume': 1246106.0}, {'Symbol': 'BANVT.IS', 'Company': 'BANVİT BANDIRMA VİTAMİNLİ YEM SANAYİİ A.Ş.', 'Open': 90.80000305175781, 'High': 92.6500015258789, 'Low': 88.75, 'Close': 89.5, 'AdjClose': 89.5, 'Volume': 341769.0}, {'Symbol': 'BASCM.IS', 'Company': 'BAŞTAŞ BAŞKENT ÇİMENTO SANAYİ VE TİCARET A.Ş.', 'Open': 8.3100004196167, 'High': 8.3100004196167, 'Low': 8.180000305175781, 'Close': 8.180000305175781, 'AdjClose': 8.180000305175781, 'Volume': 108850.0}, {'Symbol': 'BEGYO.IS', 'Company': 'BATI EGE GAYRİMENKUL YATIRIM ORTAKLIĞI A.Ş.', 'Open': 2.8399999141693115, 'High': 2.880000114440918, 'Low': 2.8399999141693115, 'Close': 2.8499999046325684, 'AdjClose': 2.8499999046325684, 'Volume': 47423880.0}, {'Symbol': 'BTCIM.IS', 'Company': 'BATIÇİM BATI ANADOLU ÇİMENTO SANAYİİ A.Ş.', 'Open': 109.4000015258789, 'High': 111.0999984741211, 'Low': 105.80000305175781, 'Close': 107.0999984741211, 'AdjClose': 107.0999984741211, 'Volume': 1266248.0}, {'Symbol': 'BSOKE.IS', 'Company': 'BATISÖKE SÖKE ÇİMENTO SANAYİİ T.A.Ş.', 'Open': 11.010000228881836, 'High': 11.130000114440918, 'Low': 10.220000267028809, 'Close': 10.829999923706055, 'AdjClose': 10.829999923706055, 'Volume': 1698179.0}, {'Symbol': 'BYDNR.IS', 'Company': 'BAYDÖNER RESTORANLARI A.Ş.', 'Open': 20.8799991607666, 'High': 22.959999084472656, 'Low': 20.579999923706055, 'Close': 21.18000030517578, 'AdjClose': 21.18000030517578, 'Volume': 2811675.0}, {'Symbol': 'BAYRK.IS', 'Company': 'BAYRAK EBT TABAN SANAYİ VE TİCARET A.Ş.', 'Open': 14.0, 'High': 15.399999618530273, 'Low': 13.399999618530273, 'Close': 15.399999618530273, 'AdjClose': 15.399999618530273, 'Volume': 2312268.0}, {'Symbol': 'BERA.IS', 'Company': 'BERA HOLDİNG A.Ş.', 'Open': 10.649999618530273, 'High': 10.930000305175781, 'Low': 10.510000228881836, 'Close': 10.789999961853027, 'AdjClose': 10.789999961853027, 'Volume': 4863420.0}, {'Symbol': 'BRKSN.IS', 'Company': 'BERKOSAN YALITIM VE TECRİT MADDELERİ ÜRETİM VE TİCARET A.Ş.', 'Open': 19.440000534057617, 'High': 21.299999237060547, 'Low': 19.43000030517578, 'Close': 21.299999237060547, 'AdjClose': 21.299999237060547, 'Volume': 400302.0}, {'Symbol': 'BJKAS.IS', 'Company': 'BEŞİKTAŞ FUTBOL YATIRIMLARI SANAYİ VE TİCARET A.Ş.', 'Open': 44.20000076293945, 'High': 46.0, 'Low': 39.880001068115234, 'Close': 44.0, 'AdjClose': 44.0, 'Volume': 4228948.0}, {'Symbol': 'BEYAZ.IS', 'Company': 'BEYAZ FİLO OTO KİRALAMA A.Ş.', 'Open': 19.139999389648438, 'High': 20.979999542236328, 'Low': 18.700000762939453, 'Close': 19.799999237060547, 'AdjClose': 19.799999237060547, 'Volume': 6147439.0}, {'Symbol': 'BIENY.IS', 'Company': 'BİEN YAPI ÜRÜNLERİ SANAYİ TURİZM VE TİCARET A.Ş.', 'Open': 38.20000076293945, 'High': 39.5, 'Low': 37.02000045776367, 'Close': 38.41999816894531, 'AdjClose': 38.41999816894531, 'Volume': 2478145.0}, {'Symbol': 'BLCYT.IS', 'Company': 'BİLİCİ YATIRIM SANAYİ VE TİCARET A.Ş.', 'Open': 13.84000015258789, 'High': 14.0600004196167, 'Low': 13.359999656677246, 'Close': 13.90999984741211, 'AdjClose': 13.90999984741211, 'Volume': 440477.0}, {'Symbol': 'BIMAS.IS', 'Company': 'BİM BİRLEŞİK MAĞAZALAR A.Ş.', 'Open': 303.75, 'High': 309.5, 'Low': 299.0, 'Close': 306.0, 'AdjClose': 306.0, 'Volume': 2667404.0}, {'Symbol': 'BRKO.IS', 'Company': 'BİRKO BİRLEŞİK KOYUNLULULAR MENSUCAT TİCARET VE SANAYİ A.Ş.', 'Open': 3.6600000858306885, 'High': 3.6600000858306885, 'Low': 3.640000104904175, 'Close': 3.640000104904175, 'AdjClose': 3.640000104904175, 'Volume': 202809.0}, {'Symbol': 'BRLSM.IS', 'Company': 'BİRLEŞİM MÜHENDİSLİK ISITMA SOĞUTMA HAVALANDIRMA SANAYİ VE TİCARET A.Ş.', 'Open': 20.200000762939453, 'High': 22.219999313354492, 'Low': 19.979999542236328, 'Close': 21.299999237060547, 'AdjClose': 21.299999237060547, 'Volume': 6872713.0}, {'Symbol': 'BRMEN.IS', 'Company': 'BİRLİK MENSUCAT TİCARET VE SANAYİ İŞLETMESİ A.Ş.', 'Open': 3.9200000762939453, 'High': 3.9800000190734863, 'Low': 3.9000000953674316, 'Close': 3.9000000953674316, 'AdjClose': 3.9000000953674316, 'Volume': 105903.0}, {'Symbol': 'BIZIM.IS', 'Company': 'BİZİM TOPTAN SATIŞ MAĞAZALARI A.Ş.', 'Open': 35.70000076293945, 'High': 36.380001068115234, 'Low': 35.0, 'Close': 35.619998931884766, 'AdjClose': 35.619998931884766, 'Volume': 418510.0}, {'Symbol': 'BMSCH.IS', 'Company': 'BMS ÇELİK HASIR SANAYİ VE TİCARET A.Ş.', 'Open': 15.699999809265137, 'High': 16.190000534057617, 'Low': 15.5, 'Close': 15.970000267028809, 'AdjClose': 15.970000267028809, 'Volume': 381177.0}, {'Symbol': 'BORLS.IS', 'Company': 'BORLEASE OTOMOTİV A.Ş.', 'Open': 29.780000686645508, 'High': 29.899999618530273, 'Low': 28.5, 'Close': 28.5, 'AdjClose': 28.5, 'Volume': 1726287.0}, {'Symbol': 'BRSAN.IS', 'Company': 'BORUSAN BİRLEŞİK BORU FABRİKALARI SANAYİ VE TİCARET A.Ş.', 'Open': 538.5, 'High': 553.5, 'Low': 503.5, 'Close': 528.0, 'AdjClose': 528.0, 'Volume': 2108726.0}, {'Symbol': 'BRYAT.IS', 'Company': 'BORUSAN YATIRIM VE PAZARLAMA A.Ş.', 'Open': 2294.0, 'High': 2345.0, 'Low': 2191.0, 'Close': 2194.0, 'AdjClose': 2194.0, 'Volume': 131507.0}, {'Symbol': 'BFREN.IS', 'Company': 'BOSCH FREN SİSTEMLERİ SANAYİ VE TİCARET A.Ş.', 'Open': 9825.0, 'High': 10485.0, 'Low': 9615.0, 'Close': 10260.0, 'AdjClose': 10260.0, 'Volume': 21798.0}, {'Symbol': 'BOSSA.IS', 'Company': 'BOSSA TİCARET VE SANAYİ İŞLETMELERİ T.A.Ş.', 'Open': 8.800000190734863, 'High': 8.899999618530273, 'Low': 8.640000343322754, 'Close': 8.699999809265137, 'AdjClose': 8.699999809265137, 'Volume': 624450.0}, {'Symbol': 'BRISA.IS', 'Company': 'BRİSA BRIDGESTONE SABANCI LASTİK SANAYİ VE TİCARET A.Ş.', 'Open': 76.19999694824219, 'High': 78.0999984741211, 'Low': 75.44999694824219, 'Close': 76.5999984741211, 'AdjClose': 76.5999984741211, 'Volume': 218543.0}, {'Symbol': 'BURCE.IS', 'Company': 'BURÇELİK BURSA ÇELİK DÖKÜM SANAYİİ A.Ş.', 'Open': 114.5, 'High': 120.19999694824219, 'Low': 112.4000015258789, 'Close': 117.4000015258789, 'AdjClose': 117.4000015258789, 'Volume': 236716.0}, {'Symbol': 'BURVA.IS', 'Company': 'BURÇELİK VANA SANAYİ VE TİCARET A.Ş.', 'Open': 68.0, 'High': 70.05000305175781, 'Low': 64.5999984741211, 'Close': 67.44999694824219, 'AdjClose': 67.44999694824219, 'Volume': 72900.0}, {'Symbol': 'BUCIM.IS', 'Company': 'BURSA ÇİMENTO FABRİKASI A.Ş.', 'Open': 6.96999979019165, 'High': 7.0, 'Low': 6.809999942779541, 'Close': 6.900000095367432, 'AdjClose': 6.900000095367432, 'Volume': 6064082.0}, {'Symbol': 'BVSAN.IS', 'Company': 'BÜLBÜLOĞLU VİNÇ SANAYİ VE TİCARET A.Ş.', 'Open': 71.0, 'High': 74.4000015258789, 'Low': 70.3499984741211, 'Close': 72.30000305175781, 'AdjClose': 72.30000305175781, 'Volume': 444220.0}, {'Symbol': 'BIGCH.IS', 'Company': 'BÜYÜK ŞEFLER GIDA TURİZM TEKSTİL DANIŞMANLIK ORGANİZASYON EĞİTİM SANAYİ VE TİCARET A.Ş.', 'Open': 19.34000015258789, 'High': 20.299999237060547, 'Low': 19.190000534057617, 'Close': 19.649999618530273, 'AdjClose': 19.649999618530273, 'Volume': 1261171.0}, {'Symbol': 'CRFSA.IS', 'Company': 'CARREFOURSA CARREFOUR SABANCI TİCARET MERKEZİ A.Ş.', 'Open': 109.0, 'High': 111.5, 'Low': 106.0, 'Close': 107.5, 'AdjClose': 107.5, 'Volume': 548168.0}, {'Symbol': 'CASA.IS', 'Company': 'CASA EMTİA PETROL KİMYEVİ VE TÜREVLERİ SANAYİ TİCARET A.Ş.', 'Open': 85.0, 'High': 86.6500015258789, 'Low': 85.0, 'Close': 86.6500015258789, 'AdjClose': 86.6500015258789, 'Volume': 33239.0}, {'Symbol': 'CEOEM.IS', 'Company': 'CEO EVENT MEDYA A.Ş.', 'Open': 19.299999237060547, 'High': 21.219999313354492, 'Low': 18.760000228881836, 'Close': 20.0, 'AdjClose': 20.0, 'Volume': 4821005.0}, {'Symbol': 'CCOLA.IS', 'Company': 'COCA-COLA İÇECEK A.Ş.', 'Open': 479.0, 'High': 490.25, 'Low': 471.0, 'Close': 485.0, 'AdjClose': 485.0, 'Volume': 309729.0}, {'Symbol': 'COSMO.IS', 'Company': 'COSMOS YATIRIM HOLDİNG A.Ş.', 'Open': 98.94999694824219, 'High': 108.19999694824219, 'Low': 95.44999694824219, 'Close': 104.5, 'AdjClose': 104.5, 'Volume': 43987.0}, {'Symbol': 'CRDFA.IS', 'Company': 'CREDITWEST FAKTORİNG A.Ş.', 'Open': 5.210000038146973, 'High': 5.5, 'Low': 5.139999866485596, 'Close': 5.230000019073486, 'AdjClose': 5.230000019073486, 'Volume': 1464607.0}, {'Symbol': 'CWENE.IS', 'Company': 'CW ENERJİ MÜHENDİSLİK TİCARET VE SANAYİ A.Ş.', 'Open': 239.0, 'High': 251.0, 'Low': 234.6999969482422, 'Close': 242.89999389648438, 'AdjClose': 242.89999389648438, 'Volume': 1544953.0}, {'Symbol': 'CANTE.IS', 'Company': 'ÇAN2 TERMİK A.Ş.', 'Open': 16.030000686645508, 'High': 16.299999237060547, 'Low': 15.979999542236328, 'Close': 16.0, 'AdjClose': 16.0, 'Volume': 10477090.0}, {'Symbol': 'CATES.IS', 'Company': 'ÇATES ELEKTRİK ÜRETİM A.Ş.', 'Open': 40.70000076293945, 'High': 42.79999923706055, 'Low': 40.099998474121094, 'Close': 40.220001220703125, 'AdjClose': 40.220001220703125, 'Volume': 6933410.0}, {'Symbol': 'CLEBI.IS', 'Company': 'ÇELEBİ HAVA SERVİSİ A.Ş.', 'Open': 795.0, 'High': 825.0, 'Low': 777.0, 'Close': 805.5, 'AdjClose': 805.5, 'Volume': 73890.0}, {'Symbol': 'CELHA.IS', 'Company': 'ÇELİK HALAT VE TEL SANAYİİ A.Ş.', 'Open': 39.779998779296875, 'High': 41.939998626708984, 'Low': 38.91999816894531, 'Close': 41.5, 'AdjClose': 41.5, 'Volume': 147260.0}, {'Symbol': 'CEMAS.IS', 'Company': 'ÇEMAŞ DÖKÜM SANAYİ A.Ş.', 'Open': 4.079999923706055, 'High': 4.099999904632568, 'Low': 3.8299999237060547, 'Close': 3.9000000953674316, 'AdjClose': 3.9000000953674316, 'Volume': 39678997.0}, {'Symbol': 'CEMTS.IS', 'Company': 'ÇEMTAŞ ÇELİK MAKİNA SANAYİ VE TİCARET A.Ş.', 'Open': 9.279999732971191, 'High': 9.600000381469727, 'Low': 9.079999923706055, 'Close': 9.430000305175781, 'AdjClose': 9.430000305175781, 'Volume': 3949672.0}, {'Symbol': 'CMBTN.IS', 'Company': 'ÇİMBETON HAZIRBETON VE PREFABRİK YAPI ELEMANLARI SANAYİ VE TİCARET A.Ş.', 'Open': 2000.0, 'High': 2040.0, 'Low': 1900.0, 'Close': 1915.0, 'AdjClose': 1915.0, 'Volume': 87085.0}, {'Symbol': 'CMENT.IS', 'Company': 'ÇİMENTAŞ İZMİR ÇİMENTO FABRİKASI T.A.Ş.', 'Open': 168.0, 'High': 173.0, 'Low': 168.0, 'Close': 172.89999389648438, 'AdjClose': 172.89999389648438, 'Volume': 7060.0}, {'Symbol': 'CIMSA.IS', 'Company': 'ÇİMSA ÇİMENTO SANAYİ VE TİCARET A.Ş.', 'Open': 27.739999771118164, 'High': 28.579999923706055, 'Low': 27.420000076293945, 'Close': 28.020000457763672, 'AdjClose': 28.020000457763672, 'Volume': 7283964.0}, {'Symbol': 'CUSAN.IS', 'Company': 'ÇUHADAROĞLU METAL SANAYİ VE PAZARLAMA A.Ş.', 'Open': 19.280000686645508, 'High': 20.139999389648438, 'Low': 18.75, 'Close': 18.8799991607666, 'AdjClose': 18.8799991607666, 'Volume': 2861052.0}, {'Symbol': 'DAGHL.IS', 'Company': 'DAGİ YATIRIM HOLDİNG A.Ş.', 'Open': 12.989999771118164, 'High': 13.300000190734863, 'Low': 12.600000381469727, 'Close': 12.65999984741211, 'AdjClose': 12.65999984741211, 'Volume': 516685.0}, {'Symbol': 'DAPGM.IS', 'Company': 'DAP GAYRİMENKUL GELİŞTİRME A.Ş.', 'Open': 26.0, 'High': 26.34000015258789, 'Low': 25.5, 'Close': 26.079999923706055, 'AdjClose': 26.079999923706055, 'Volume': 2672967.0}, {'Symbol': 'DARDL.IS', 'Company': 'DARDANEL ÖNENTAŞ GIDA SANAYİ A.Ş.', 'Open': 4.820000171661377, 'High': 4.96999979019165, 'Low': 4.769999980926514, 'Close': 4.820000171661377, 'AdjClose': 4.820000171661377, 'Volume': 3352542.0}, {'Symbol': 'DGATE.IS', 'Company': 'DATAGATE BİLGİSAYAR MALZEMELERİ TİCARET A.Ş.', 'Open': 21.81999969482422, 'High': 22.360000610351562, 'Low': 21.34000015258789, 'Close': 21.959999084472656, 'AdjClose': 21.959999084472656, 'Volume': 161482.0}, {'Symbol': 'DMSAS.IS', 'Company': 'DEMİSAŞ DÖKÜM EMAYE MAMÜLLERİ SANAYİ A.Ş.', 'Open': 7.650000095367432, 'High': 7.769999980926514, 'Low': 7.449999809265137, 'Close': 7.53000020980835, 'AdjClose': 7.53000020980835, 'Volume': 456262.0}, {'Symbol': 'DENGE.IS', 'Company': 'DENGE YATIRIM HOLDİNG A.Ş.', 'Open': 2.2300000190734863, 'High': 2.2799999713897705, 'Low': 2.130000114440918, 'Close': 2.1600000858306885, 'AdjClose': 2.1600000858306885, 'Volume': 12462238.0}, {'Symbol': 'DZGYO.IS', 'Company': 'DENİZ GAYRİMENKUL YATIRIM ORTAKLIĞI A.Ş.', 'Open': 3.490000009536743, 'High': 3.6500000953674316, 'Low': 3.4800000190734863, 'Close': 3.5799999237060547, 'AdjClose': 3.5799999237060547, 'Volume': 1995387.0}, {'Symbol': 'DERIM.IS', 'Company': 'DERİMOD KONFEKSİYON AYAKKABI DERİ SANAYİ VE TİCARET A.Ş.', 'Open': 14.050000190734863, 'High': 14.850000381469727, 'Low': 13.699999809265137, 'Close': 14.619999885559082, 'AdjClose': 14.619999885559082, 'Volume': 118504.0}, {'Symbol': 'DERHL.IS', 'Company': 'DERLÜKS YATIRIM HOLDİNG A.Ş.', 'Open': 6.869999885559082, 'High': 7.139999866485596, 'Low': 6.579999923706055, 'Close': 6.599999904632568, 'AdjClose': 6.599999904632568, 'Volume': 3382424.0}, {'Symbol': 'DESA.IS', 'Company': 'DESA DERİ SANAYİ VE TİCARET A.Ş.', 'Open': 16.68000030517578, 'High': 17.020000457763672, 'Low': 16.450000762939453, 'Close': 16.790000915527344, 'AdjClose': 16.790000915527344, 'Volume': 434092.0}, {'Symbol': 'DESPC.IS', 'Company': 'DESPEC BİLGİSAYAR PAZARLAMA VE TİCARET A.Ş.', 'Open': 26.100000381469727, 'High': 26.940000534057617, 'Low': 24.799999237060547, 'Close': 26.15999984741211, 'AdjClose': 26.15999984741211, 'Volume': 124318.0}, {'Symbol': 'DEVA.IS', 'Company': 'DEVA HOLDİNG A.Ş.', 'Open': 71.0999984741211, 'High': 73.44999694824219, 'Low': 70.05000305175781, 'Close': 72.55000305175781, 'AdjClose': 72.55000305175781, 'Volume': 368517.0}, {'Symbol': 'DIRIT.IS', 'Company': 'DİRİTEKS DİRİLİŞ TEKSTİL SANAYİ VE TİCARET A.Ş.', 'Open': 9.460000038146973, 'High': 9.460000038146973, 'Low': 9.460000038146973, 'Close': 9.460000038146973, 'AdjClose': 9.460000038146973, 'Volume': 76048.0}, {'Symbol': 'DITAS.IS', 'Company': 'DİTAŞ DOĞAN YEDEK PARÇA İMALAT VE TEKNİK A.Ş.', 'Open': 14.199999809265137, 'High': 15.279999732971191, 'Low': 14.050000190734863, 'Close': 14.34000015258789, 'AdjClose': 14.34000015258789, 'Volume': 234659.0}, {'Symbol': 'DMRGD.IS', 'Company': 'DMR UNLU MAMULLER ÜRETİM GIDA TOPTAN PERAKENDE İHRACAT A.Ş.', 'Open': 9.920000076293945, 'High': 10.140000343322754, 'Low': 9.210000038146973, 'Close': 10.09000015258789, 'AdjClose': 10.09000015258789, 'Volume': 10986840.0}, {'Symbol': 'DOCO.IS', 'Company': 'DO & CO AKTIENGESELLSCHAFT', 'Open': 4155.0, 'High': 4325.0, 'Low': 4082.5, 'Close': 4275.0, 'AdjClose': 4275.0, 'Volume': 10402.0}, {'Symbol': 'DOFER.IS', 'Company': 'DOFER YAPI MALZEMELERİ SANAYİ VE TİCARET A.Ş.', 'Open': 23.0, 'High': 23.65999984741211, 'Low': 22.799999237060547, 'Close': 23.0, 'AdjClose': 23.0, 'Volume': 1439734.0}, {'Symbol': 'DOBUR.IS', 'Company': 'DOĞAN BURDA DERGİ YAYINCILIK VE PAZARLAMA A.Ş.', 'Open': 62.0, 'High': 64.25, 'Low': 61.45000076293945, 'Close': 63.04999923706055, 'AdjClose': 63.04999923706055, 'Volume': 109936.0}, {'Symbol': 'DOHOL.IS', 'Company': 'DOĞAN ŞİRKETLER GRUBU HOLDİNG A.Ş.', 'Open': 10.619999885559082, 'High': 10.930000305175781, 'Low': 10.5, 'Close': 10.710000038146973, 'AdjClose': 10.710000038146973, 'Volume': 29201995.0}, {'Symbol': 'DGNMO.IS', 'Company': 'DOĞANLAR MOBİLYA GRUBU İMALAT SANAYİ VE TİCARET A.Ş.', 'Open': 8.890000343322754, 'High': 8.979999542236328, 'Low': 8.699999809265137, 'Close': 8.800000190734863, 'AdjClose': 8.800000190734863, 'Volume': 1058815.0}, {'Symbol': 'DOGUB.IS', 'Company': 'DOĞUSAN BORU SANAYİİ VE TİCARET A.Ş.', 'Open': 13.279999732971191, 'High': 14.050000190734863, 'Low': 12.619999885559082, 'Close': 14.029999732971191, 'AdjClose': 14.029999732971191, 'Volume': 334396.0}, {'Symbol': 'DGGYO.IS', 'Company': 'DOĞUŞ GAYRİMENKUL YATIRIM ORTAKLIĞI A.Ş.', 'Open': 28.979999542236328, 'High': 29.920000076293945, 'Low': 28.139999389648438, 'Close': 28.899999618530273, 'AdjClose': 28.899999618530273, 'Volume': 201317.0}, {'Symbol': 'DOAS.IS', 'Company': 'DOĞUŞ OTOMOTİV SERVİS VE TİCARET A.Ş.', 'Open': 230.39999389648438, 'High': 231.0, 'Low': 226.0, 'Close': 227.39999389648438, 'AdjClose': 227.39999389648438, 'Volume': 1055097.0}, {'Symbol': 'DOKTA.IS', 'Company': 'DÖKTAŞ DÖKÜMCÜLÜK TİCARET VE SANAYİ A.Ş.', 'Open': 27.31999969482422, 'High': 29.399999618530273, 'Low': 26.5, 'Close': 28.5, 'AdjClose': 28.5, 'Volume': 462663.0}, {'Symbol': 'DURDO.IS', 'Company': 'DURAN DOĞAN BASIM VE AMBALAJ SANAYİ A.Ş.', 'Open': 43.97999954223633, 'High': 46.779998779296875, 'Low': 42.5, 'Close': 45.880001068115234, 'AdjClose': 45.880001068115234, 'Volume': 202866.0}, {'Symbol': 'DYOBY.IS', 'Company': 'DYO BOYA FABRİKALARI SANAYİ VE TİCARET A.Ş.', 'Open': 21.260000228881836, 'High': 21.899999618530273, 'Low': 20.34000015258789, 'Close': 20.600000381469727, 'AdjClose': 20.600000381469727, 'Volume': 3195976.0}, {'Symbol': 'EBEBK.IS', 'Company': 'EBEBEK MAĞAZACILIK A.Ş.', 'Open': 70.9000015258789, 'High': 70.9000015258789, 'Low': 66.75, 'Close': 68.8499984741211, 'AdjClose': 68.8499984741211, 'Volume': 778941.0}, {'Symbol': 'ECZYT.IS', 'Company': 'ECZACIBAŞI YATIRIM HOLDİNG ORTAKLIĞI A.Ş.', 'Open': 238.5, 'High': 245.8000030517578, 'Low': 235.10000610351562, 'Close': 240.60000610351562, 'AdjClose': 240.60000610351562, 'Volume': 712474.0}, {'Symbol': 'EDIP.IS', 'Company': 'EDİP GAYRİMENKUL YATIRIM SANAYİ VE TİCARET A.Ş.', 'Open': 15.020000457763672, 'High': 15.420000076293945, 'Low': 14.510000228881836, 'Close': 14.800000190734863, 'AdjClose': 14.800000190734863, 'Volume': 2474380.0}, {'Symbol': 'EGEEN.IS', 'Company': 'EGE ENDÜSTRİ VE TİCARET A.Ş.', 'Open': 9895.0, 'High': 10280.0, 'Low': 9712.5, 'Close': 9915.0, 'AdjClose': 9915.0, 'Volume': 43384.0}, {'Symbol': 'EGGUB.IS', 'Company': 'EGE GÜBRE SANAYİİ A.Ş.', 'Open': 41.2599983215332, 'High': 43.099998474121094, 'Low': 40.84000015258789, 'Close': 42.099998474121094, 'AdjClose': 42.099998474121094, 'Volume': 293261.0}, {'Symbol': 'EGPRO.IS', 'Company': 'EGE PROFİL TİCARET VE SANAYİ A.Ş.', 'Open': 127.0, 'High': 130.0, 'Low': 126.0999984741211, 'Close': 127.5999984741211, 'AdjClose': 127.5999984741211, 'Volume': 593651.0}, {'Symbol': 'EGSER.IS', 'Company': 'EGE SERAMİK SANAYİ VE TİCARET A.Ş.', 'Open': 3.130000114440918, 'High': 3.2799999713897705, 'Low': 3.119999885559082, 'Close': 3.1700000762939453, 'AdjClose': 3.1700000762939453, 'Volume': 6059165.0}, {'Symbol': 'EPLAS.IS', 'Company': 'EGEPLAST EGE PLASTİK TİCARET VE SANAYİ A.Ş.', 'Open': 5.210000038146973, 'High': 5.389999866485596, 'Low': 5.119999885559082, 'Close': 5.119999885559082, 'AdjClose': 5.119999885559082, 'Volume': 1954413.0}, {'Symbol': 'ECILC.IS', 'Company': 'EİS ECZACIBAŞI İLAÇ SINAİ VE FİNANSAL YATIRIMLAR SANAYİ VE TİCARET A.Ş.', 'Open': 41.58000183105469, 'High': 41.720001220703125, 'Low': 40.97999954223633, 'Close': 41.29999923706055, 'AdjClose': 41.29999923706055, 'Volume': 3269454.0}, {'Symbol': 'EKIZ.IS', 'Company': 'EKİZ KİMYA SANAYİ VE TİCARET A.Ş.', 'Open': 38.400001525878906, 'High': 38.400001525878906, 'Low': 38.400001525878906, 'Close': 38.400001525878906, 'AdjClose': 38.400001525878906, 'Volume': 15408.0}, {'Symbol': 'EKOS.IS', 'Company': 'EKOS TEKNOLOJİ VE ELEKTRİK A.Ş.', 'Open': 32.0, 'High': 33.0, 'Low': 31.0, 'Close': 32.900001525878906, 'AdjClose': 32.900001525878906, 'Volume': 2574408.0}, {'Symbol': 'EMKEL.IS', 'Company': 'EMEK ELEKTRİK ENDÜSTRİSİ A.Ş.', 'Open': 14.25, 'High': 14.25, 'Low': 13.539999961853027, 'Close': 13.539999961853027, 'AdjClose': 13.539999961853027, 'Volume': 3369298.0}, {'Symbol': 'EMNIS.IS', 'Company': 'EMİNİŞ AMBALAJ SANAYİ VE TİCARET A.Ş.', 'Open': 82.3499984741211, 'High': 82.6500015258789, 'Low': 80.25, 'Close': 82.6500015258789, 'AdjClose': 82.6500015258789, 'Volume': 26638.0}, {'Symbol': 'EKGYO.IS', 'Company': 'EMLAK KONUT GAYRİMENKUL YATIRIM ORTAKLIĞI A.Ş.', 'Open': 6.820000171661377, 'High': 6.929999828338623, 'Low': 6.75, 'Close': 6.760000228881836, 'AdjClose': 6.760000228881836, 'Volume': 208754449.0}, {'Symbol': 'ENJSA.IS', 'Company': 'ENERJİSA ENERJİ A.Ş.', 'Open': 44.20000076293945, 'High': 45.13999938964844, 'Low': 43.81999969482422, 'Close': 44.619998931884766, 'AdjClose': 44.619998931884766, 'Volume': 6883956.0}, {'Symbol': 'ENERY.IS', 'Company': 'ENERYA ENERJİ A.Ş.', 'Open': 103.0, 'High': 113.5, 'Low': 100.30000305175781, 'Close': 106.30000305175781, 'AdjClose': 106.30000305175781, 'Volume': 5605328.0}, {'Symbol': 'ENKAI.IS', 'Company': 'ENKA İNŞAAT VE SANAYİ A.Ş.', 'Open': 33.900001525878906, 'High': 34.36000061035156, 'Low': 33.47999954223633, 'Close': 33.70000076293945, 'AdjClose': 33.70000076293945, 'Volume': 25681902.0}, {'Symbol': 'ERBOS.IS', 'Company': 'ERBOSAN ERCİYAS BORU SANAYİİ VE TİCARET A.Ş.', 'Open': 167.8000030517578, 'High': 171.1999969482422, 'Low': 160.0, 'Close': 167.0, 'AdjClose': 167.0, 'Volume': 275319.0}, {'Symbol': 'ERCB.IS', 'Company': 'ERCİYAS ÇELİK BORU SANAYİ A.Ş.', 'Open': 111.0, 'High': 113.0, 'Low': 108.4000015258789, 'Close': 108.80000305175781, 'AdjClose': 108.80000305175781, 'Volume': 707765.0}, {'Symbol': 'EREGL.IS', 'Company': 'EREĞLİ DEMİR VE ÇELİK FABRİKALARI T.A.Ş.', 'Open': 40.560001373291016, 'High': 41.459999084472656, 'Low': 40.18000030517578, 'Close': 41.119998931884766, 'AdjClose': 41.119998931884766, 'Volume': 73129668.0}, {'Symbol': 'ERSU.IS', 'Company': 'ERSU MEYVE VE GIDA SANAYİ A.Ş.', 'Open': 10.649999618530273, 'High': 10.699999809265137, 'Low': 9.630000114440918, 'Close': 10.460000038146973, 'AdjClose': 10.460000038146973, 'Volume': 1601556.0}, {'Symbol': 'ESCOM.IS', 'Company': 'ESCORT TEKNOLOJİ YATIRIM A.Ş.', 'Open': 37.5, 'High': 38.959999084472656, 'Low': 36.779998779296875, 'Close': 37.599998474121094, 'AdjClose': 37.599998474121094, 'Volume': 317373.0}, {'Symbol': 'ESEN.IS', 'Company': 'ESENBOĞA ELEKTRİK ÜRETİM A.Ş.', 'Open': 15.5, 'High': 17.0, 'Low': 15.270000457763672, 'Close': 15.859999656677246, 'AdjClose': 15.859999656677246, 'Volume': 5645321.0}, {'Symbol': 'ETILR.IS', 'Company': 'ETİLER GIDA VE TİCARİ YATIRIMLAR SANAYİ VE TİCARET A.Ş.', 'Open': 11.420000076293945, 'High': 12.0, 'Low': 11.25, 'Close': 11.390000343322754, 'AdjClose': 11.390000343322754, 'Volume': 711611.0}, {'Symbol': 'EUKYO.IS', 'Company': 'EURO KAPİTAL YATIRIM ORTAKLIĞI A.Ş.', 'Open': 14.0, 'High': 14.1899995803833, 'Low': 13.050000190734863, 'Close': 13.34000015258789, 'AdjClose': 13.34000015258789, 'Volume': 301375.0}, {'Symbol': 'EUYO.IS', 'Company': 'EURO MENKUL KIYMET YATIRIM ORTAKLIĞI A.Ş.', 'Open': 12.210000038146973, 'High': 12.239999771118164, 'Low': 12.100000381469727, 'Close': 12.1899995803833, 'AdjClose': 12.1899995803833, 'Volume': 206982.0}, {'Symbol': 'ETYAT.IS', 'Company': 'EURO TREND YATIRIM ORTAKLIĞI A.Ş.', 'Open': 7.949999809265137, 'High': 8.119999885559082, 'Low': 7.75, 'Close': 7.75, 'AdjClose': 7.75, 'Volume': 163536.0}, {'Symbol': 'EUHOL.IS', 'Company': 'EURO YATIRIM HOLDİNG A.Ş.', 'Open': 2.75, 'High': 2.9800000190734863, 'Low': 2.7100000381469727, 'Close': 2.9000000953674316, 'AdjClose': 2.9000000953674316, 'Volume': 7282399.0}, {'Symbol': 'TEZOL.IS', 'Company': 'EUROPAP TEZOL KAĞIT SANAYİ VE TİCARET A.Ş.', 'Open': 17.149999618530273, 'High': 17.700000762939453, 'Low': 17.0, 'Close': 17.219999313354492, 'AdjClose': 17.219999313354492, 'Volume': 1106115.0}, {'Symbol': 'EUPWR.IS', 'Company': 'EUROPOWER ENERJİ VE OTOMASYON TEKNOLOJİLERİ SANAYİ TİCARET A.Ş.', 'Open': 143.5, 'High': 151.89999389648438, 'Low': 141.0, 'Close': 148.39999389648438, 'AdjClose': 148.39999389648438, 'Volume': 3200325.0}, {'Symbol': 'EYGYO.IS', 'Company': 'EYG GAYRİMENKUL YATIRIM ORTAKLIĞI A.Ş.', 'Open': 21.100000381469727, 'High': 21.459999084472656, 'Low': 20.440000534057617, 'Close': 20.540000915527344, 'AdjClose': 20.540000915527344, 'Volume': 523737.0}, {'Symbol': 'FADE.IS', 'Company': 'FADE GIDA YATIRIM SANAYİ TİCARET A.Ş.', 'Open': 13.579999923706055, 'High': 14.220000267028809, 'Low': 13.460000038146973, 'Close': 13.859999656677246, 'AdjClose': 13.859999656677246, 'Volume': 756756.0}, {'Symbol': 'FMIZP.IS', 'Company': 'FEDERAL-MOGUL İZMİT PİSTON VE PİM ÜRETİM TESİSLERİ A.Ş.', 'Open': 259.0, 'High': 274.0, 'Low': 254.0, 'Close': 260.0, 'AdjClose': 260.0, 'Volume': 161704.0}, {'Symbol': 'FENER.IS', 'Company': 'FENERBAHÇE FUTBOL A.Ş.', 'Open': 87.80000305175781, 'High': 89.0999984741211, 'Low': 87.0, 'Close': 87.55000305175781, 'AdjClose': 87.55000305175781, 'Volume': 1541920.0}, {'Symbol': 'FLAP.IS', 'Company': 'FLAP KONGRE TOPLANTI HİZMETLERİ OTOMOTİV VE TURİZM A.Ş.', 'Open': 9.75, 'High': 10.720000267028809, 'Low': 9.630000114440918, 'Close': 10.720000267028809, 'AdjClose': 10.720000267028809, 'Volume': 17776056.0}, {'Symbol': 'FONET.IS', 'Company': 'FONET BİLGİ TEKNOLOJİLERİ A.Ş.', 'Open': 6.090000152587891, 'High': 6.340000152587891, 'Low': 6.010000228881836, 'Close': 6.090000152587891, 'AdjClose': 6.090000152587891, 'Volume': 4212731.0}, {'Symbol': 'FROTO.IS', 'Company': 'FORD OTOMOTİV SANAYİ A.Ş.', 'Open': 736.0, 'High': 746.0, 'Low': 732.5, 'Close': 732.5, 'AdjClose': 732.5, 'Volume': 913055.0}, {'Symbol': 'FORMT.IS', 'Company': 'FORMET METAL VE CAM SANAYİ A.Ş.', 'Open': 2.069999933242798, 'High': 2.190000057220459, 'Low': 2.0, 'Close': 2.0799999237060547, 'AdjClose': 2.0799999237060547, 'Volume': 7830734.0}, {'Symbol': 'FORTE.IS', 'Company': 'FORTE BİLGİ İLETİŞİM TEKNOLOJİLERİ VE SAVUNMA SANAYİ A.Ş.', 'Open': 61.0, 'High': 64.30000305175781, 'Low': 60.0, 'Close': 60.79999923706055, 'AdjClose': 60.79999923706055, 'Volume': 2149659.0}, {'Symbol': 'FRIGO.IS', 'Company': 'FRİGO-PAK GIDA MADDELERİ SANAYİ VE TİCARET A.Ş.', 'Open': 5.809999942779541, 'High': 5.949999809265137, 'Low': 5.679999828338623, 'Close': 5.829999923706055, 'AdjClose': 5.829999923706055, 'Volume': 1291314.0}, {'Symbol': 'FZLGY.IS', 'Company': 'FUZUL GAYRİMENKUL YATIRIM ORTAKLIĞI A.Ş.', 'Open': 10.890000343322754, 'High': 11.380000114440918, 'Low': 10.699999809265137, 'Close': 11.130000114440918, 'AdjClose': 11.130000114440918, 'Volume': 3125932.0}, {'Symbol': 'GWIND.IS', 'Company': 'GALATA WIND ENERJİ A.Ş.', 'Open': 21.0, 'High': 21.65999984741211, 'Low': 20.860000610351562, 'Close': 20.899999618530273, 'AdjClose': 20.899999618530273, 'Volume': 6223127.0}, {'Symbol': 'GSRAY.IS', 'Company': 'GALATASARAY SPORTİF SINAİ VE TİCARİ YATIRIMLAR A.Ş.', 'Open': 6.010000228881836, 'High': 6.090000152587891, 'Low': 5.949999809265137, 'Close': 5.980000019073486, 'AdjClose': 5.980000019073486, 'Volume': 19395759.0}, {'Symbol': 'GARFA.IS', 'Company': 'GARANTİ FAKTORİNG A.Ş.', 'Open': 71.0999984741211, 'High': 73.5999984741211, 'Low': 70.0, 'Close': 71.19999694824219, 'AdjClose': 71.19999694824219, 'Volume': 54297.0}, {'Symbol': 'GRNYO.IS', 'Company': 'GARANTİ YATIRIM ORTAKLIĞI A.Ş.', 'Open': 6.400000095367432, 'High': 6.400000095367432, 'Low': 6.179999828338623, 'Close': 6.25, 'AdjClose': 6.25, 'Volume': 187756.0}, {'Symbol': 'GEDIK.IS', 'Company': 'GEDİK YATIRIM MENKUL DEĞERLER A.Ş.', 'Open': 13.449999809265137, 'High': 13.630000114440918, 'Low': 13.149999618530273, 'Close': 13.25, 'AdjClose': 13.25, 'Volume': 1091591.0}, {'Symbol': 'GEDZA.IS', 'Company': 'GEDİZ AMBALAJ SANAYİ VE TİCARET A.Ş.', 'Open': 17.540000915527344, 'High': 17.65999984741211, 'Low': 16.739999771118164, 'Close': 17.149999618530273, 'AdjClose': 17.149999618530273, 'Volume': 667978.0}, {'Symbol': 'GLCVY.IS', 'Company': 'GELECEK VARLIK YÖNETİMİ A.Ş.', 'Open': 31.100000381469727, 'High': 32.7599983215332, 'Low': 30.540000915527344, 'Close': 31.8799991607666, 'AdjClose': 31.8799991607666, 'Volume': 569635.0}, {'Symbol': 'GENIL.IS', 'Company': 'GEN İLAÇ VE SAĞLIK ÜRÜNLERİ SANAYİ VE TİCARET A.Ş.', 'Open': 44.29999923706055, 'High': 45.279998779296875, 'Low': 43.29999923706055, 'Close': 44.34000015258789, 'AdjClose': 44.34000015258789, 'Volume': 943244.0}, {'Symbol': 'GENTS.IS', 'Company': 'GENTAŞ DEKORATİF YÜZEYLER SANAYİ VE TİCARET A.Ş.', 'Open': 7.269999980926514, 'High': 7.550000190734863, 'Low': 7.190000057220459, 'Close': 7.380000114440918, 'AdjClose': 7.380000114440918, 'Volume': 791549.0}, {'Symbol': 'GEREL.IS', 'Company': 'GERSAN ELEKTRİK TİCARET VE SANAYİ A.Ş.', 'Open': 20.459999084472656, 'High': 21.260000228881836, 'Low': 20.200000762939453, 'Close': 21.0, 'AdjClose': 21.0, 'Volume': 938492.0}, {'Symbol': 'GIPTA.IS', 'Company': 'GIPTA OFİS KIRTASİYE VE PROMOSYON ÜRÜNLERİ İMALAT SANAYİ A.Ş.', 'Open': 26.84000015258789, 'High': 27.399999618530273, 'Low': 26.299999237060547, 'Close': 26.5, 'AdjClose': 26.5, 'Volume': 1069755.0}, {'Symbol': 'GESAN.IS', 'Company': 'GİRİŞİM ELEKTRİK SANAYİ TAAHHÜT VE TİCARET A.Ş.', 'Open': 65.05000305175781, 'High': 67.5, 'Low': 63.54999923706055, 'Close': 63.650001525878906, 'AdjClose': 63.650001525878906, 'Volume': 8238014.0}, {'Symbol': 'GLBMD.IS', 'Company': 'GLOBAL MENKUL DEĞERLER A.Ş.', 'Open': 35.959999084472656, 'High': 37.0, 'Low': 34.70000076293945, 'Close': 35.68000030517578, 'AdjClose': 35.68000030517578, 'Volume': 79282.0}, {'Symbol': 'GLYHO.IS', 'Company': 'GLOBAL YATIRIM HOLDİNG A.Ş.', 'Open': 10.210000038146973, 'High': 10.6899995803833, 'Low': 9.9399995803833, 'Close': 10.5, 'AdjClose': 10.5, 'Volume': 24222464.0}, {'Symbol': 'GOODY.IS', 'Company': 'GOODYEAR LASTİKLERİ T.A.Ş.', 'Open': 17.209999084472656, 'High': 17.579999923706055, 'Low': 17.15999984741211, 'Close': 17.15999984741211, 'AdjClose': 17.15999984741211, 'Volume': 1488492.0}, {'Symbol': 'GOKNR.IS', 'Company': 'GÖKNUR GIDA MADDELERİ ENERJİ İMALAT İTHALAT İHRACAT TİCARET VE SANAYİ A.Ş.', 'Open': 18.0, 'High': 19.040000915527344, 'Low': 17.84000015258789, 'Close': 18.600000381469727, 'AdjClose': 18.600000381469727, 'Volume': 2588622.0}, {'Symbol': 'GOLTS.IS', 'Company': 'GÖLTAŞ GÖLLER BÖLGESİ ÇİMENTO SANAYİ VE TİCARET A.Ş.', 'Open': 230.5, 'High': 233.1999969482422, 'Low': 222.1999969482422, 'Close': 230.1999969482422, 'AdjClose': 230.1999969482422, 'Volume': 169411.0}, {'Symbol': 'GOZDE.IS', 'Company': 'GÖZDE GİRİŞİM SERMAYESİ YATIRIM ORTAKLIĞI A.Ş.', 'Open': 18.84000015258789, 'High': 19.649999618530273, 'Low': 18.399999618530273, 'Close': 19.18000030517578, 'AdjClose': 19.18000030517578, 'Volume': 5920363.0}, {'Symbol': 'GRTRK.IS', 'Company': 'GRAINTURK TARIM A.Ş.', 'Open': 35.58000183105469, 'High': 37.97999954223633, 'Low': 35.58000183105469, 'Close': 36.15999984741211, 'AdjClose': 36.15999984741211, 'Volume': 886034.0}, {'Symbol': 'GSDDE.IS', 'Company': 'GSD DENİZCİLİK GAYRİMENKUL İNŞAAT SANAYİ VE TİCARET A.Ş.', 'Open': 6.960000038146973, 'High': 7.25, 'Low': 6.949999809265137, 'Close': 7.079999923706055, 'AdjClose': 7.079999923706055, 'Volume': 626143.0}, {'Symbol': 'GSDHO.IS', 'Company': 'GSD HOLDİNG A.Ş.', 'Open': 3.430000066757202, 'High': 3.5199999809265137, 'Low': 3.430000066757202, 'Close': 3.430000066757202, 'AdjClose': 3.430000066757202, 'Volume': 15390709.0}, {'Symbol': 'GUBRF.IS', 'Company': 'GÜBRE FABRİKALARI T.A.Ş.', 'Open': 155.39999389648438, 'High': 155.39999389648438, 'Low': 155.39999389648438, 'Close': 155.39999389648438, 'AdjClose': 155.39999389648438, 'Volume': 1864302.0}, {'Symbol': 'GLRYH.IS', 'Company': 'GÜLER YATIRIM HOLDİNG A.Ş.', 'Open': 9.699999809265137, 'High': 9.979999542236328, 'Low': 9.600000381469727, 'Close': 9.800000190734863, 'AdjClose': 9.800000190734863, 'Volume': 1597270.0}, {'Symbol': 'SAHOL.IS', 'Company': 'HACI ÖMER SABANCI HOLDİNG A.Ş.', 'Open': 61.400001525878906, 'High': 61.54999923706055, 'Low': 59.45000076293945, 'Close': 60.75, 'AdjClose': 60.75, 'Volume': 35403791.0}, {'Symbol': 'HLGYO.IS', 'Company': 'HALK GAYRİMENKUL YATIRIM ORTAKLIĞI A.Ş.', 'Open': 3.4700000286102295, 'High': 3.5199999809265137, 'Low': 3.4100000858306885, 'Close': 3.4600000381469727, 'AdjClose': 3.4600000381469727, 'Volume': 9613034.0}, {'Symbol': 'HATSN.IS', 'Company': 'HAT-SAN GEMİ İNŞAA BAKIM ONARIM DENİZ NAKLİYAT SANAYİ VE TİCARET A.Ş.', 'Open': 46.97999954223633, 'High': 48.459999084472656, 'Low': 44.63999938964844, 'Close': 45.560001373291016, 'AdjClose': 45.560001373291016, 'Volume': 5030273.0}, {'Symbol': 'HATEK.IS', 'Company': 'HATEKS HATAY TEKSTİL İŞLETMELERİ A.Ş.', 'Open': 10.510000228881836, 'High': 10.510000228881836, 'Low': 10.0, 'Close': 10.010000228881836, 'AdjClose': 10.010000228881836, 'Volume': 2908214.0}, {'Symbol': 'HDFGS.IS', 'Company': 'HEDEF GİRİŞİM SERMAYESİ YATIRIM ORTAKLIĞI A.Ş.', 'Open': 1.6299999952316284, 'High': 1.7100000381469727, 'Low': 1.6100000143051147, 'Close': 1.7000000476837158, 'AdjClose': 1.7000000476837158, 'Volume': 16633460.0}, {'Symbol': 'HEDEF.IS', 'Company': 'HEDEF HOLDİNG A.Ş.', 'Open': 27.31999969482422, 'High': 28.079999923706055, 'Low': 27.100000381469727, 'Close': 27.799999237060547, 'AdjClose': 27.799999237060547, 'Volume': 365845.0}, {'Symbol': 'HEKTS.IS', 'Company': 'HEKTAŞ TİCARET T.A.Ş.', 'Open': 20.1200008392334, 'High': 20.600000381469727, 'Low': 19.899999618530273, 'Close': 20.219999313354492, 'AdjClose': 20.219999313354492, 'Volume': 26863468.0}, {'Symbol': 'HTTBT.IS', 'Company': 'HİTİT BİLGİSAYAR HİZMETLERİ A.Ş.', 'Open': 58.900001525878906, 'High': 58.900001525878906, 'Low': 54.400001525878906, 'Close': 55.79999923706055, 'AdjClose': 55.79999923706055, 'Volume': 596882.0}, {'Symbol': 'HUBVC.IS', 'Company': 'HUB GİRİŞİM SERMAYESİ YATIRIM ORTAKLIĞI A.Ş.', 'Open': 7.559999942779541, 'High': 7.670000076293945, 'Low': 7.239999771118164, 'Close': 7.489999771118164, 'AdjClose': 7.489999771118164, 'Volume': 1565045.0}, {'Symbol': 'HURGZ.IS', 'Company': 'HÜRRİYET GAZETECİLİK VE MATBAACILIK A.Ş.', 'Open': 3.5399999618530273, 'High': 3.859999895095825, 'Low': 3.5299999713897705, 'Close': 3.859999895095825, 'AdjClose': 3.859999895095825, 'Volume': 13860157.0}, {'Symbol': 'ICBCT.IS', 'Company': 'ICBC TURKEY BANK A.Ş.', 'Open': 14.850000381469727, 'High': 15.489999771118164, 'Low': 14.109999656677246, 'Close': 14.25, 'AdjClose': 14.25, 'Volume': 738060.0}, {'Symbol': 'ICUGS.IS', 'Company': 'ICU GİRİŞİM SERMAYESİ YATIRIM ORTAKLIĞI A.Ş.', 'Open': 9.069999694824219, 'High': 9.069999694824219, 'Low': 9.069999694824219, 'Close': 9.069999694824219, 'AdjClose': 9.069999694824219, 'Volume': 0.0}, {'Symbol': 'INGRM.IS', 'Company': 'INGRAM MİCRO BİLİŞİM SİSTEMLERİ A.Ş.', 'Open': 454.0, 'High': 477.25, 'Low': 453.75, 'Close': 456.0, 'AdjClose': 456.0, 'Volume': 144222.0}, {'Symbol': 'INVEO.IS', 'Company': 'INVEO YATIRIM HOLDİNG A.Ş.', 'Open': 3.9175000190734863, 'High': 3.9175000190734863, 'Low': 3.9175000190734863, 'Close': 3.9175000190734863, 'AdjClose': 3.9175000190734863, 'Volume': 0.0}, {'Symbol': 'IEYHO.IS', 'Company': 'IŞIKLAR ENERJİ VE YAPI HOLDİNG A.Ş.', 'Open': 3.490000009536743, 'High': 3.819999933242798, 'Low': 3.390000104904175, 'Close': 3.819999933242798, 'AdjClose': 3.819999933242798, 'Volume': 26933179.0}, {'Symbol': 'IDEAS.IS', 'Company': 'İDEAL FİNANSAL TEKNOLOJİLER VE DANIŞMANLIK A.Ş.', 'Open': 82.0, 'High': 96.0, 'Low': 81.55000305175781, 'Close': 93.0, 'AdjClose': 93.0, 'Volume': 150304.0}, {'Symbol': 'IDGYO.IS', 'Company': 'İDEALİST GAYRİMENKUL YATIRIM ORTAKLIĞI A.Ş.', 'Open': 5.139999866485596, 'High': 5.139999866485596, 'Low': 4.889999866485596, 'Close': 4.989999771118164, 'AdjClose': 4.989999771118164, 'Volume': 807700.0}, {'Symbol': 'IHEVA.IS', 'Company': 'İHLAS EV ALETLERİ İMALAT SANAYİ VE TİCARET A.Ş.', 'Open': 2.1500000953674316, 'High': 2.180000066757202, 'Low': 2.0999999046325684, 'Close': 2.109999895095825, 'AdjClose': 2.109999895095825, 'Volume': 7529125.0}, {'Symbol': 'IHLGM.IS', 'Company': 'İHLAS GAYRİMENKUL PROJE GELİŞTİRME VE TİCARET A.Ş.', 'Open': 1.2799999713897705, 'High': 1.2899999618530273, 'Low': 1.25, 'Close': 1.2599999904632568, 'AdjClose': 1.2599999904632568, 'Volume': 7593358.0}, {'Symbol': 'IHGZT.IS', 'Company': 'İHLAS GAZETECİLİK A.Ş.', 'Open': 1.1699999570846558, 'High': 1.2000000476837158, 'Low': 1.149999976158142, 'Close': 1.1699999570846558, 'AdjClose': 1.1699999570846558, 'Volume': 9687029.0}, {'Symbol': 'IHLAS.IS', 'Company': 'İHLAS HOLDİNG A.Ş.', 'Open': 0.9800000190734863, 'High': 0.9900000095367432, 'Low': 0.9599999785423279, 'Close': 0.9599999785423279, 'AdjClose': 0.9599999785423279, 'Volume': 40523039.0}, {'Symbol': 'IHYAY.IS', 'Company': 'İHLAS YAYIN HOLDİNG A.Ş.', 'Open': 2.7200000286102295, 'High': 2.8499999046325684, 'Low': 2.6500000953674316, 'Close': 2.7100000381469727, 'AdjClose': 2.7100000381469727, 'Volume': 4772129.0}, {'Symbol': 'INDES.IS', 'Company': 'İNDEKS BİLGİSAYAR SİSTEMLERİ MÜHENDİSLİK SANAYİ VE TİCARET A.Ş.', 'Open': 5.980000019073486, 'High': 5.980000019073486, 'Low': 5.809999942779541, 'Close': 5.809999942779541, 'AdjClose': 5.809999942779541, 'Volume': 9227273.0}, {'Symbol': 'INFO.IS', 'Company': 'İNFO YATIRIM MENKUL DEĞERLER A.Ş.', 'Open': 11.319999694824219, 'High': 11.899999618530273, 'Low': 11.239999771118164, 'Close': 11.619999885559082, 'AdjClose': 11.619999885559082, 'Volume': 1626016.0}, {'Symbol': 'INTEM.IS', 'Company': 'İNTEMA İNŞAAT VE TESİSAT MALZEMELERİ YATIRIM VE PAZARLAMA A.Ş.', 'Open': 191.1999969482422, 'High': 208.60000610351562, 'Low': 187.0, 'Close': 194.6999969482422, 'AdjClose': 194.6999969482422, 'Volume': 194870.0}, {'Symbol': 'IPEKE.IS', 'Company': 'İPEK DOĞAL ENERJİ KAYNAKLARI ARAŞTIRMA VE ÜRETİM A.Ş.', 'Open': 29.5, 'High': 31.040000915527344, 'Low': 29.399999618530273, 'Close': 30.65999984741211, 'AdjClose': 30.65999984741211, 'Volume': 2318975.0}, {'Symbol': 'ISDMR.IS', 'Company': 'İSKENDERUN DEMİR VE ÇELİK A.Ş.', 'Open': 33.70000076293945, 'High': 34.36000061035156, 'Low': 33.63999938964844, 'Close': 33.97999954223633, 'AdjClose': 33.97999954223633, 'Volume': 1002170.0}, {'Symbol': 'ISFIN.IS', 'Company': 'İŞ FİNANSAL KİRALAMA A.Ş.', 'Open': 11.079999923706055, 'High': 11.149999618530273, 'Low': 10.760000228881836, 'Close': 10.760000228881836, 'AdjClose': 10.760000228881836, 'Volume': 4632316.0}, {'Symbol': 'ISGYO.IS', 'Company': 'İŞ GAYRİMENKUL YATIRIM ORTAKLIĞI A.Ş.', 'Open': 15.75, 'High': 16.6299991607666, 'Low': 15.75, 'Close': 15.75, 'AdjClose': 15.75, 'Volume': 35762227.0}, {'Symbol': 'ISGSY.IS', 'Company': 'İŞ GİRİŞİM SERMAYESİ YATIRIM ORTAKLIĞI A.Ş.', 'Open': 20.799999237060547, 'High': 21.18000030517578, 'Low': 20.040000915527344, 'Close': 20.5, 'AdjClose': 20.5, 'Volume': 612287.0}, {'Symbol': 'ISMEN.IS', 'Company': 'İŞ YATIRIM MENKUL DEĞERLER A.Ş.', 'Open': 29.100000381469727, 'High': 29.739999771118164, 'Low': 28.700000762939453, 'Close': 29.040000915527344, 'AdjClose': 29.040000915527344, 'Volume': 3598806.0}, {'Symbol': 'ISYAT.IS', 'Company': 'İŞ YATIRIM ORTAKLIĞI A.Ş.', 'Open': 9.9399995803833, 'High': 9.970000267028809, 'Low': 9.449999809265137, 'Close': 9.630000114440918, 'AdjClose': 9.630000114440918, 'Volume': 3371269.0}, {'Symbol': 'ISBIR.IS', 'Company': 'İŞBİR HOLDİNG A.Ş.', 'Open': 89.0, 'High': 89.0, 'Low': 88.0, 'Close': 88.0, 'AdjClose': 88.0, 'Volume': 30848.0}, {'Symbol': 'IZINV.IS', 'Company': 'İZ YATIRIM HOLDİNG A.Ş.', 'Open': 33.47999954223633, 'High': 36.84000015258789, 'Low': 33.41999816894531, 'Close': 36.84000015258789, 'AdjClose': 36.84000015258789, 'Volume': 163005.0}, {'Symbol': 'IZENR.IS', 'Company': 'İZDEMİR ENERJİ ELEKTRİK ÜRETİM A.Ş.', 'Open': 23.760000228881836, 'High': 24.81999969482422, 'Low': 23.3799991607666, 'Close': 24.200000762939453, 'AdjClose': 24.200000762939453, 'Volume': 4338978.0}, {'Symbol': 'IZMDC.IS', 'Company': 'İZMİR DEMİR ÇELİK SANAYİ A.Ş.', 'Open': 5.519999980926514, 'High': 5.710000038146973, 'Low': 5.389999866485596, 'Close': 5.400000095367432, 'AdjClose': 5.400000095367432, 'Volume': 18087362.0}, {'Symbol': 'IZFAS.IS', 'Company': 'İZMİR FIRÇA SANAYİ VE TİCARET A.Ş.', 'Open': 12.0, 'High': 12.199999809265137, 'Low': 11.6899995803833, 'Close': 11.720000267028809, 'AdjClose': 11.720000267028809, 'Volume': 1704848.0}, {'Symbol': 'JANTS.IS', 'Company': 'JANTSA JANT SANAYİ VE TİCARET A.Ş.', 'Open': 125.30000305175781, 'High': 128.8000030517578, 'Low': 123.19999694824219, 'Close': 125.5, 'AdjClose': 125.5, 'Volume': 402571.0}, {'Symbol': 'KFEIN.IS', 'Company': 'KAFEİN YAZILIM HİZMETLERİ TİCARET A.Ş.', 'Open': 50.70000076293945, 'High': 53.849998474121094, 'Low': 50.650001525878906, 'Close': 52.79999923706055, 'AdjClose': 52.79999923706055, 'Volume': 545428.0}, {'Symbol': 'KLKIM.IS', 'Company': 'KALEKİM KİMYEVİ MADDELER SANAYİ VE TİCARET A.Ş.', 'Open': 19.479999542236328, 'High': 20.0, 'Low': 19.200000762939453, 'Close': 19.25, 'AdjClose': 19.25, 'Volume': 1514194.0}, {'Symbol': 'KLSER.IS', 'Company': 'KALESERAMİK ÇANAKKALE KALEBODUR SERAMİK SANAYİ A.Ş.', 'Open': 56.0, 'High': 61.599998474121094, 'Low': 55.400001525878906, 'Close': 58.79999923706055, 'AdjClose': 58.79999923706055, 'Volume': 6351128.0}, {'Symbol': 'KAPLM.IS', 'Company': 'KAPLAMİN AMBALAJ SANAYİ VE TİCARET A.Ş.', 'Open': 78.80000305175781, 'High': 86.75, 'Low': 78.5999984741211, 'Close': 86.75, 'AdjClose': 86.75, 'Volume': 201732.0}, {'Symbol': 'KRDMA.IS', 'Company': 'KARDEMİR KARABÜK DEMİR ÇELİK SANAYİ VE TİCARET A.Ş.', 'Open': 19.940000534057617, 'High': 20.34000015258789, 'Low': 19.739999771118164, 'Close': 20.18000030517578, 'AdjClose': 20.18000030517578, 'Volume': 3264569.0}, {'Symbol': 'KRDMB.IS', 'Company': 'KARDEMİR KARABÜK DEMİR ÇELİK SANAYİ VE TİCARET A.Ş.', 'Open': 18.18000030517578, 'High': 18.799999237060547, 'Low': 18.18000030517578, 'Close': 18.440000534057617, 'AdjClose': 18.440000534057617, 'Volume': 705912.0}, {'Symbol': 'KRDMD.IS', 'Company': 'KARDEMİR KARABÜK DEMİR ÇELİK SANAYİ VE TİCARET A.Ş.', 'Open': 22.299999237060547, 'High': 23.5, 'Low': 22.219999313354492, 'Close': 23.020000457763672, 'AdjClose': 23.020000457763672, 'Volume': 55243707.0}, {'Symbol': 'KAREL.IS', 'Company': 'KAREL ELEKTRONİK SANAYİ VE TİCARET A.Ş.', 'Open': 12.0, 'High': 12.0, 'Low': 11.1899995803833, 'Close': 11.510000228881836, 'AdjClose': 11.510000228881836, 'Volume': 1573443.0}, {'Symbol': 'KARSN.IS', 'Company': 'KARSAN OTOMOTİV SANAYİİ VE TİCARET A.Ş.', 'Open': 8.130000114440918, 'High': 8.260000228881836, 'Low': 8.020000457763672, 'Close': 8.0600004196167, 'AdjClose': 8.0600004196167, 'Volume': 10070776.0}, {'Symbol': 'KRTEK.IS', 'Company': 'KARSU TEKSTİL SANAYİİ VE TİCARET A.Ş.', 'Open': 24.0, 'High': 24.760000228881836, 'Low': 23.1200008392334, 'Close': 23.700000762939453, 'AdjClose': 23.700000762939453, 'Volume': 421593.0}, {'Symbol': 'KARTN.IS', 'Company': 'KARTONSAN KARTON SANAYİ VE TİCARET A.Ş.', 'Open': 69.5999984741211, 'High': 71.75, 'Low': 69.5, 'Close': 70.4000015258789, 'AdjClose': 70.4000015258789, 'Volume': 115762.0}, {'Symbol': 'KTLEV.IS', 'Company': 'KATILIMEVİM TASARRUF FİNANSMAN A.Ş.', 'Open': 65.9000015258789, 'High': 71.0999984741211, 'Low': 65.44999694824219, 'Close': 69.5, 'AdjClose': 69.5, 'Volume': 3230808.0}, {'Symbol': 'KATMR.IS', 'Company': 'KATMERCİLER ARAÇ ÜSTÜ EKİPMAN SANAYİ VE TİCARET A.Ş.', 'Open': 1.7300000190734863, 'High': 1.809999942779541, 'Low': 1.7200000286102295, 'Close': 1.7899999618530273, 'AdjClose': 1.7899999618530273, 'Volume': 33689925.0}, {'Symbol': 'KAYSE.IS', 'Company': 'KAYSERİ ŞEKER FABRİKASI A.Ş.', 'Open': 31.700000762939453, 'High': 32.619998931884766, 'Low': 31.34000015258789, 'Close': 31.700000762939453, 'AdjClose': 31.700000762939453, 'Volume': 2866756.0}, {'Symbol': 'KENT.IS', 'Company': 'KENT GIDA MADDELERİ SANAYİİ VE TİCARET A.Ş.', 'Open': 432.5, 'High': 432.5, 'Low': 430.0, 'Close': 430.0, 'AdjClose': 430.0, 'Volume': 5612.0}, {'Symbol': 'KERVT.IS', 'Company': 'KEREVİTAŞ GIDA SANAYİ VE TİCARET A.Ş.', 'Open': 8.819999694824219, 'High': 9.079999923706055, 'Low': 8.520000457763672, 'Close': 8.899999618530273, 'AdjClose': 8.899999618530273, 'Volume': 1494605.0}, {'Symbol': 'KRVGD.IS', 'Company': 'KERVAN GIDA SANAYİ VE TİCARET A.Ş.', 'Open': 19.649999618530273, 'High': 19.969999313354492, 'Low': 19.56999969482422, 'Close': 19.700000762939453, 'AdjClose': 19.700000762939453, 'Volume': 387429.0}, {'Symbol': 'KERVN.IS', 'Company': 'KERVANSARAY YATIRIM HOLDİNG A.Ş.', 'Open': 0.9300000071525574, 'High': 0.9599999785423279, 'Low': 0.9300000071525574, 'Close': 0.9599999785423279, 'AdjClose': 0.9599999785423279, 'Volume': 712587.0}, {'Symbol': 'KZBGY.IS', 'Company': 'KIZILBÜK GAYRİMENKUL YATIRIM ORTAKLIĞI A.Ş.', 'Open': 17.1299991607666, 'High': 17.639999389648438, 'Low': 17.059999465942383, 'Close': 17.239999771118164, 'AdjClose': 17.239999771118164, 'Volume': 1229381.0}, {'Symbol': 'KLGYO.IS', 'Company': 'KİLER GAYRİMENKUL YATIRIM ORTAKLIĞI A.Ş.', 'Open': 2.7300000190734863, 'High': 2.799999952316284, 'Low': 2.7100000381469727, 'Close': 2.7300000190734863, 'AdjClose': 2.7300000190734863, 'Volume': 13278984.0}, {'Symbol': 'KLRHO.IS', 'Company': 'KİLER HOLDİNG A.Ş.', 'Open': 33.86000061035156, 'High': 34.400001525878906, 'Low': 32.20000076293945, 'Close': 32.20000076293945, 'AdjClose': 32.20000076293945, 'Volume': 576496.0}, {'Symbol': 'KMPUR.IS', 'Company': 'KİMTEKS POLİÜRETAN SANAYİ VE TİCARET A.Ş.', 'Open': 54.0, 'High': 56.099998474121094, 'Low': 53.04999923706055, 'Close': 54.5, 'AdjClose': 54.5, 'Volume': 783205.0}, {'Symbol': 'KLMSN.IS', 'Company': 'KLİMASAN KLİMA SANAYİ VE TİCARET A.Ş.', 'Open': 21.799999237060547, 'High': 21.860000610351562, 'Low': 21.040000915527344, 'Close': 21.15999984741211, 'AdjClose': 21.15999984741211, 'Volume': 880283.0}, {'Symbol': 'KCHOL.IS', 'Company': 'KOÇ HOLDİNG A.Ş.', 'Open': 137.5, 'High': 138.3000030517578, 'Low': 135.3000030517578, 'Close': 136.0, 'AdjClose': 136.0, 'Volume': 9411433.0}, {'Symbol': 'KNFRT.IS', 'Company': 'KONFRUT GIDA SANAYİ VE TİCARET A.Ş.', 'Open': 17.0, 'High': 17.579999923706055, 'Low': 16.600000381469727, 'Close': 17.049999237060547, 'AdjClose': 17.049999237060547, 'Volume': 786686.0}, {'Symbol': 'KONTR.IS', 'Company': 'KONTROLMATİK TEKNOLOJİ ENERJİ VE MÜHENDİSLİK A.Ş.', 'Open': 186.60000610351562, 'High': 203.60000610351562, 'Low': 184.0, 'Close': 193.5, 'AdjClose': 193.5, 'Volume': 7739897.0}, {'Symbol': 'KONYA.IS', 'Company': 'KONYA ÇİMENTO SANAYİİ A.Ş.', 'Open': 6972.5, 'High': 7197.5, 'Low': 6850.0, 'Close': 7100.0, 'AdjClose': 7100.0, 'Volume': 16878.0}, {'Symbol': 'KONKA.IS', 'Company': 'KONYA KAĞIT SANAYİ VE TİCARET A.Ş.', 'Open': 43.97999954223633, 'High': 44.65999984741211, 'Low': 42.5, 'Close': 42.7400016784668, 'AdjClose': 42.7400016784668, 'Volume': 1337216.0}, {'Symbol': 'KGYO.IS', 'Company': 'KORAY GAYRİMENKUL YATIRIM ORTAKLIĞI A.Ş.', 'Open': 5.429999828338623, 'High': 5.429999828338623, 'Low': 5.429999828338623, 'Close': 5.429999828338623, 'AdjClose': 5.429999828338623, 'Volume': 0.0}, {'Symbol': 'KORDS.IS', 'Company': 'KORDSA TEKNİK TEKSTİL A.Ş.', 'Open': 73.0, 'High': 74.55000305175781, 'Low': 71.69999694824219, 'Close': 73.8499984741211, 'AdjClose': 73.8499984741211, 'Volume': 666345.0}, {'Symbol': 'KOZAL.IS', 'Company': 'KOZA ALTIN İŞLETMELERİ A.Ş.', 'Open': 18.93000030517578, 'High': 19.489999771118164, 'Low': 18.520000457763672, 'Close': 19.309999465942383, 'AdjClose': 19.309999465942383, 'Volume': 59509447.0}, {'Symbol': 'KOZAA.IS', 'Company': 'KOZA ANADOLU METAL MADENCİLİK İŞLETMELERİ A.Ş.', 'Open': 39.20000076293945, 'High': 41.119998931884766, 'Low': 38.900001525878906, 'Close': 40.68000030517578, 'AdjClose': 40.68000030517578, 'Volume': 10044775.0}, {'Symbol': 'KRGYO.IS', 'Company': 'KÖRFEZ GAYRİMENKUL YATIRIM ORTAKLIĞI A.Ş.', 'Open': 26.079999923706055, 'High': 27.479999542236328, 'Low': 25.65999984741211, 'Close': 27.0, 'AdjClose': 27.0, 'Volume': 450798.0}, {'Symbol': 'KRSTL.IS', 'Company': 'KRİSTAL KOLA VE MEŞRUBAT SANAYİ TİCARET A.Ş.', 'Open': 9.710000038146973, 'High': 11.539999961853027, 'Low': 9.550000190734863, 'Close': 11.199999809265137, 'AdjClose': 11.199999809265137, 'Volume': 3666249.0}, {'Symbol': 'KRONT.IS', 'Company': 'KRON TEKNOLOJİ A.Ş.', 'Open': 12.75, 'High': 13.380000114440918, 'Low': 12.34000015258789, 'Close': 12.609999656677246, 'AdjClose': 12.609999656677246, 'Volume': 1816399.0}, {'Symbol': 'KSTUR.IS', 'Company': 'KUŞTUR KUŞADASI TURİZM ENDÜSTRİSİ A.Ş.', 'Open': 1541.0, 'High': 1650.0, 'Low': 1541.0, 'Close': 1630.0, 'AdjClose': 1630.0, 'Volume': 1115.0}, {'Symbol': 'KUVVA.IS', 'Company': 'KUVVA GIDA TİCARET VE SANAYİ YATIRIMLARI A.Ş.', 'Open': 44.0, 'High': 44.0, 'Low': 41.29999923706055, 'Close': 42.52000045776367, 'AdjClose': 42.52000045776367, 'Volume': 30470.0}, {'Symbol': 'KUYAS.IS', 'Company': 'KUYAŞ YATIRIM A.Ş.', 'Open': 44.279998779296875, 'High': 44.279998779296875, 'Low': 44.279998779296875, 'Close': 44.279998779296875, 'AdjClose': 44.279998779296875, 'Volume': 162406.0}, {'Symbol': 'KBORU.IS', 'Company': 'KUZEY BORU A.Ş.', 'Open': 45.040000915527344, 'High': 46.959999084472656, 'Low': 43.0, 'Close': 43.0, 'AdjClose': 43.0, 'Volume': 18453870.0}, {'Symbol': 'KZGYO.IS', 'Company': 'KUZUGRUP GAYRİMENKUL YATIRIM ORTAKLIĞI A.Ş.', 'Open': 19.90999984741211, 'High': 20.34000015258789, 'Low': 19.670000076293945, 'Close': 19.719999313354492, 'AdjClose': 19.719999313354492, 'Volume': 1708367.0}, {'Symbol': 'KUTPO.IS', 'Company': 'KÜTAHYA PORSELEN SANAYİ A.Ş.', 'Open': 52.04999923706055, 'High': 53.95000076293945, 'Low': 51.150001525878906, 'Close': 52.150001525878906, 'AdjClose': 52.150001525878906, 'Volume': 126413.0}, {'Symbol': 'LIDFA.IS', 'Company': 'LİDER FAKTORİNG A.Ş.', 'Open': 7.769999980926514, 'High': 7.900000095367432, 'Low': 7.539999961853027, 'Close': 7.590000152587891, 'AdjClose': 7.590000152587891, 'Volume': 4745295.0}, {'Symbol': 'LINK.IS', 'Company': 'LİNK BİLGİSAYAR SİSTEMLERİ YAZILIMI VE DONANIMI SANAYİ VE TİCARET A.Ş.', 'Open': 174.89999389648438, 'High': 185.10000610351562, 'Low': 168.8000030517578, 'Close': 179.3000030517578, 'AdjClose': 179.3000030517578, 'Volume': 47398.0}, {'Symbol': 'LOGO.IS', 'Company': 'LOGO YAZILIM SANAYİ VE TİCARET A.Ş.', 'Open': 70.0, 'High': 70.19999694824219, 'Low': 67.80000305175781, 'Close': 68.3499984741211, 'AdjClose': 68.3499984741211, 'Volume': 638038.0}, {'Symbol': 'LKMNH.IS', 'Company': 'LOKMAN HEKİM ENGÜRÜSAĞ SAĞLIK TURİZM EĞİTİM HİZMETLERİ VE İNŞAAT TAAHHÜT A.Ş.', 'Open': 60.45000076293945, 'High': 62.900001525878906, 'Low': 57.0, 'Close': 60.70000076293945, 'AdjClose': 60.70000076293945, 'Volume': 1260188.0}, {'Symbol': 'LRSHO.IS', 'Company': 'LORAS HOLDİNG A.Ş.', 'Open': 3.1500000953674316, 'High': 3.309999942779541, 'Low': 3.109999895095825, 'Close': 3.25, 'AdjClose': 3.25, 'Volume': 5499917.0}, {'Symbol': 'LUKSK.IS', 'Company': 'LÜKS KADİFE TİCARET VE SANAYİİ A.Ş.', 'Open': 59.0, 'High': 59.0, 'Low': 57.95000076293945, 'Close': 58.0, 'AdjClose': 58.0, 'Volume': 36379.0}, {'Symbol': 'MAKTK.IS', 'Company': 'MAKİNA TAKIM ENDÜSTRİSİ A.Ş.', 'Open': 5.0, 'High': 5.090000152587891, 'Low': 4.96999979019165, 'Close': 4.980000019073486, 'AdjClose': 4.980000019073486, 'Volume': 3018625.0}, {'Symbol': 'MAGEN.IS', 'Company': 'MARGÜN ENERJİ ÜRETİM SANAYİ VE TİCARET A.Ş.', 'Open': 9.300000190734863, 'High': 9.75, 'Low': 8.90999984741211, 'Close': 8.90999984741211, 'AdjClose': 8.90999984741211, 'Volume': 12710248.0}, {'Symbol': 'MARKA.IS', 'Company': 'MARKA YATIRIM HOLDİNG A.Ş.', 'Open': 32.97999954223633, 'High': 32.97999954223633, 'Low': 30.360000610351562, 'Close': 31.719999313354492, 'AdjClose': 31.719999313354492, 'Volume': 112161.0}, {'Symbol': 'MAALT.IS', 'Company': 'MARMARİS ALTINYUNUS TURİSTİK TESİSLER A.Ş.', 'Open': 749.0, 'High': 780.0, 'Low': 739.0, 'Close': 762.5, 'AdjClose': 762.5, 'Volume': 33867.0}, {'Symbol': 'MRSHL.IS', 'Company': 'MARSHALL BOYA VE VERNİK SANAYİİ A.Ş.', 'Open': 1875.0, 'High': 1909.0, 'Low': 1797.0, 'Close': 1799.0, 'AdjClose': 1799.0, 'Volume': 74447.0}, {'Symbol': 'MRGYO.IS', 'Company': 'MARTI GAYRİMENKUL YATIRIM ORTAKLIĞI A.Ş.', 'Open': 3.7300000190734863, 'High': 4.550000190734863, 'Low': 3.7300000190734863, 'Close': 4.550000190734863, 'AdjClose': 4.550000190734863, 'Volume': 87812852.0}, {'Symbol': 'MARTI.IS', 'Company': 'MARTI OTEL İŞLETMELERİ A.Ş.', 'Open': 3.75, 'High': 3.7799999713897705, 'Low': 3.640000104904175, 'Close': 3.640000104904175, 'AdjClose': 3.640000104904175, 'Volume': 6365481.0}, {'Symbol': 'MAVI.IS', 'Company': 'MAVİ GİYİM SANAYİ VE TİCARET A.Ş.', 'Open': 105.5999984741211, 'High': 109.0, 'Low': 105.30000305175781, 'Close': 108.0999984741211, 'AdjClose': 108.0999984741211, 'Volume': 1851626.0}, {'Symbol': 'MZHLD.IS', 'Company': 'MAZHAR ZORLU HOLDİNG A.Ş.', 'Open': 7.429999828338623, 'High': 7.590000152587891, 'Low': 7.360000133514404, 'Close': 7.420000076293945, 'AdjClose': 7.420000076293945, 'Volume': 667250.0}, {'Symbol': 'MEDTR.IS', 'Company': 'MEDİTERA TIBBİ MALZEME SANAYİ VE TİCARET A.Ş.', 'Open': 25.6200008392334, 'High': 26.18000030517578, 'Low': 24.34000015258789, 'Close': 24.700000762939453, 'AdjClose': 24.700000762939453, 'Volume': 1373637.0}, {'Symbol': 'MEGMT.IS', 'Company': 'MEGA METAL SANAYİ VE TİCARET A.Ş.', 'Open': 23.0, 'High': 23.299999237060547, 'Low': 21.940000534057617, 'Close': 22.020000457763672, 'AdjClose': 22.020000457763672, 'Volume': 9348886.0}, {'Symbol': 'MEGAP.IS', 'Company': 'MEGA POLİETİLEN KÖPÜK SANAYİ VE TİCARET A.Ş.', 'Open': 3.8499999046325684, 'High': 3.940000057220459, 'Low': 3.7699999809265137, 'Close': 3.9000000953674316, 'AdjClose': 3.9000000953674316, 'Volume': 7027461.0}, {'Symbol': 'MEKAG.IS', 'Company': 'MEKA BETON SANTRALLERİ İMALAT SANAYİ VE TİCARET A.Ş.', 'Open': 52.0, 'High': 55.599998474121094, 'Low': 51.20000076293945, 'Close': 52.0, 'AdjClose': 52.0, 'Volume': 2476221.0}, {'Symbol': 'MNDRS.IS', 'Company': 'MENDERES TEKSTİL SANAYİ VE TİCARET A.Ş.', 'Open': 7.909999847412109, 'High': 8.1899995803833, 'Low': 7.900000095367432, 'Close': 8.050000190734863, 'AdjClose': 8.050000190734863, 'Volume': 2388117.0}, {'Symbol': 'MEPET.IS', 'Company': 'MEPET METRO PETROL VE TESİSLERİ SANAYİ TİCARET A.Ş.', 'Open': 7.690000057220459, 'High': 7.690000057220459, 'Low': 7.340000152587891, 'Close': 7.369999885559082, 'AdjClose': 7.369999885559082, 'Volume': 361594.0}, {'Symbol': 'MERIT.IS', 'Company': 'MERİT TURİZM YATIRIM VE İŞLETME A.Ş.', 'Open': 62.0, 'High': 64.19999694824219, 'Low': 60.900001525878906, 'Close': 62.5, 'AdjClose': 62.5, 'Volume': 136751.0}, {'Symbol': 'MERKO.IS', 'Company': 'MERKO GIDA SANAYİ VE TİCARET A.Ş.', 'Open': 7.199999809265137, 'High': 7.28000020980835, 'Low': 6.960000038146973, 'Close': 7.190000057220459, 'AdjClose': 7.190000057220459, 'Volume': 1815548.0}, {'Symbol': 'METUR.IS', 'Company': 'METEMTUR YATIRIM ENERJİ TURİZM VE İNŞAAT A.Ş.', 'Open': 14.0, 'High': 14.390000343322754, 'Low': 13.720000267028809, 'Close': 13.800000190734863, 'AdjClose': 13.800000190734863, 'Volume': 580803.0}, {'Symbol': 'METRO.IS', 'Company': 'METRO TİCARİ VE MALİ YATIRIMLAR HOLDİNG A.Ş.', 'Open': 2.069999933242798, 'High': 2.119999885559082, 'Low': 2.0399999618530273, 'Close': 2.069999933242798, 'AdjClose': 2.069999933242798, 'Volume': 5483810.0}, {'Symbol': 'MTRYO.IS', 'Company': 'METRO YATIRIM ORTAKLIĞI A.Ş.', 'Open': 6.199999809265137, 'High': 6.630000114440918, 'Low': 5.909999847412109, 'Close': 6.409999847412109, 'AdjClose': 6.409999847412109, 'Volume': 273845.0}, {'Symbol': 'MHRGY.IS', 'Company': 'MHR GAYRİMENKUL YATIRIM ORTAKLIĞI A.Ş.', 'Open': 5.239999771118164, 'High': 5.269999980926514, 'Low': 4.900000095367432, 'Close': 4.920000076293945, 'AdjClose': 4.920000076293945, 'Volume': 33982670.0}, {'Symbol': 'MIATK.IS', 'Company': 'MİA TEKNOLOJİ A.Ş.', 'Open': 28.799999237060547, 'High': 31.68000030517578, 'Low': 28.3799991607666, 'Close': 31.68000030517578, 'AdjClose': 31.68000030517578, 'Volume': 11436966.0}, {'Symbol': 'MGROS.IS', 'Company': 'MİGROS TİCARET A.Ş.', 'Open': 330.75, 'High': 335.25, 'Low': 328.0, 'Close': 328.5, 'AdjClose': 328.5, 'Volume': 1109027.0}, {'Symbol': 'MIPAZ.IS', 'Company': 'MİLPA TİCARİ VE SINAİ ÜRÜNLER PAZARLAMA SANAYİ VE TİCARET A.Ş.', 'Open': 36.20000076293945, 'High': 37.0, 'Low': 32.58000183105469, 'Close': 35.20000076293945, 'AdjClose': 35.20000076293945, 'Volume': 1351533.0}, {'Symbol': 'MSGYO.IS', 'Company': 'MİSTRAL GAYRİMENKUL YATIRIM ORTAKLIĞI A.Ş.', 'Open': 14.489999771118164, 'High': 14.600000381469727, 'Low': 13.119999885559082, 'Close': 13.119999885559082, 'AdjClose': 13.119999885559082, 'Volume': 1548489.0}, {'Symbol': 'MPARK.IS', 'Company': 'MLP SAĞLIK HİZMETLERİ A.Ş.', 'Open': 144.8000030517578, 'High': 146.10000610351562, 'Low': 138.5, 'Close': 142.0, 'AdjClose': 142.0, 'Volume': 819880.0}, {'Symbol': 'MMCAS.IS', 'Company': 'MMC SANAYİ VE TİCARİ YATIRIMLAR A.Ş.', 'Open': 8.0, 'High': 8.0, 'Low': 7.929999828338623, 'Close': 7.929999828338623, 'AdjClose': 7.929999828338623, 'Volume': 55354.0}, {'Symbol': 'MNDTR.IS', 'Company': 'MONDİ TURKEY OLUKLU MUKAVVA KAĞIT VE AMBALAJ SANAYİ A.Ş.', 'Open': 14.069999694824219, 'High': 14.199999809265137, 'Low': 13.880000114440918, 'Close': 14.020000457763672, 'AdjClose': 14.020000457763672, 'Volume': 470643.0}, {'Symbol': 'NATEN.IS', 'Company': 'NATUREL YENİLENEBİLİR ENERJİ TİCARET A.Ş.', 'Open': 38.36000061035156, 'High': 42.18000030517578, 'Low': 37.63999938964844, 'Close': 40.099998474121094, 'AdjClose': 40.099998474121094, 'Volume': 4589603.0}, {'Symbol': 'NTHOL.IS', 'Company': 'NET HOLDİNG A.Ş.', 'Open': 17.75, 'High': 17.8799991607666, 'Low': 17.270000457763672, 'Close': 17.709999084472656, 'AdjClose': 17.709999084472656, 'Volume': 861790.0}, {'Symbol': 'NETAS.IS', 'Company': 'NETAŞ TELEKOMÜNİKASYON A.Ş.', 'Open': 36.29999923706055, 'High': 39.79999923706055, 'Low': 36.220001220703125, 'Close': 36.880001068115234, 'AdjClose': 36.880001068115234, 'Volume': 581051.0}, {'Symbol': 'NIBAS.IS', 'Company': 'NİĞBAŞ NİĞDE BETON SANAYİ VE TİCARET A.Ş.', 'Open': 15.329999923706055, 'High': 15.649999618530273, 'Low': 15.119999885559082, 'Close': 15.3100004196167, 'AdjClose': 15.3100004196167, 'Volume': 573637.0}, {'Symbol': 'NUHCM.IS', 'Company': 'NUH ÇİMENTO SANAYİ A.Ş.', 'Open': 281.75, 'High': 290.75, 'Low': 278.5, 'Close': 288.25, 'AdjClose': 288.25, 'Volume': 132657.0}, {'Symbol': 'NUGYO.IS', 'Company': 'NUROL GAYRİMENKUL YATIRIM ORTAKLIĞI A.Ş.', 'Open': 5.75, 'High': 5.800000190734863, 'Low': 5.619999885559082, 'Close': 5.690000057220459, 'AdjClose': 5.690000057220459, 'Volume': 2357442.0}, {'Symbol': 'ODAS.IS', 'Company': 'ODAŞ ELEKTRİK ÜRETİM SANAYİ TİCARET A.Ş.', 'Open': 7.679999828338623, 'High': 7.96999979019165, 'Low': 7.630000114440918, 'Close': 7.820000171661377, 'AdjClose': 7.820000171661377, 'Volume': 61508440.0}, {'Symbol': 'OFSYM.IS', 'Company': 'OFİS YEM GIDA SANAYİ TİCARET A.Ş.', 'Open': 37.70000076293945, 'High': 40.380001068115234, 'Low': 37.15999984741211, 'Close': 38.939998626708984, 'AdjClose': 38.939998626708984, 'Volume': 1161538.0}, {'Symbol': 'ORCAY.IS', 'Company': 'ORÇAY ORTAKÖY ÇAY SANAYİ VE TİCARET A.Ş.', 'Open': 8.579999923706055, 'High': 8.949999809265137, 'Low': 8.510000228881836, 'Close': 8.760000228881836, 'AdjClose': 8.760000228881836, 'Volume': 839109.0}, {'Symbol': 'ORGE.IS', 'Company': 'ORGE ENERJİ ELEKTRİK TAAHHÜT A.Ş.', 'Open': 55.849998474121094, 'High': 57.75, 'Low': 55.150001525878906, 'Close': 56.20000076293945, 'AdjClose': 56.20000076293945, 'Volume': 1732978.0}, {'Symbol': 'ORMA.IS', 'Company': 'ORMA ORMAN MAHSULLERİ İNTEGRE SANAYİ VE TİCARET A.Ş.', 'Open': 118.9000015258789, 'High': 118.9000015258789, 'Low': 117.5, 'Close': 117.5, 'AdjClose': 117.5, 'Volume': 21430.0}, {'Symbol': 'OSMEN.IS', 'Company': 'OSMANLI YATIRIM MENKUL DEĞERLER A.Ş.', 'Open': 158.89999389648438, 'High': 165.0, 'Low': 155.8000030517578, 'Close': 161.8000030517578, 'AdjClose': 161.8000030517578, 'Volume': 63087.0}, {'Symbol': 'OSTIM.IS', 'Company': 'OSTİM ENDÜSTRİYEL YATIRIMLAR VE İŞLETME A.Ş.', 'Open': 5.75, 'High': 5.75, 'Low': 5.269999980926514, 'Close': 5.420000076293945, 'AdjClose': 5.420000076293945, 'Volume': 27562099.0}, {'Symbol': 'OTKAR.IS', 'Company': 'OTOKAR OTOMOTİV VE SAVUNMA SANAYİ A.Ş.', 'Open': 393.5, 'High': 411.0, 'Low': 380.0, 'Close': 403.0, 'AdjClose': 403.0, 'Volume': 309102.0}, {'Symbol': 'OTTO.IS', 'Company': 'OTTO HOLDİNG A.Ş.', 'Open': 279.75, 'High': 320.0, 'Low': 279.75, 'Close': 317.0, 'AdjClose': 317.0, 'Volume': 6067.0}, {'Symbol': 'OYAKC.IS', 'Company': 'OYAK ÇİMENTO FABRİKALARI A.Ş.', 'Open': 53.54999923706055, 'High': 54.75, 'Low': 52.54999923706055, 'Close': 53.900001525878906, 'AdjClose': 53.900001525878906, 'Volume': 8752056.0}, {'Symbol': 'OYYAT.IS', 'Company': 'OYAK YATIRIM MENKUL DEĞERLER A.Ş.', 'Open': 37.400001525878906, 'High': 37.70000076293945, 'Low': 36.560001373291016, 'Close': 37.040000915527344, 'AdjClose': 37.040000915527344, 'Volume': 147288.0}, {'Symbol': 'OYAYO.IS', 'Company': 'OYAK YATIRIM ORTAKLIĞI A.Ş.', 'Open': 24.18000030517578, 'High': 24.260000228881836, 'Low': 23.440000534057617, 'Close': 23.6200008392334, 'AdjClose': 23.6200008392334, 'Volume': 56192.0}, {'Symbol': 'OYLUM.IS', 'Company': 'OYLUM SINAİ YATIRIMLAR A.Ş.', 'Open': 6.900000095367432, 'High': 7.349999904632568, 'Low': 6.559999942779541, 'Close': 7.179999828338623, 'AdjClose': 7.179999828338623, 'Volume': 2140449.0}, {'Symbol': 'OZKGY.IS', 'Company': 'ÖZAK GAYRİMENKUL YATIRIM ORTAKLIĞI A.Ş.', 'Open': 7.110000133514404, 'High': 7.269999980926514, 'Low': 7.010000228881836, 'Close': 7.119999885559082, 'AdjClose': 7.119999885559082, 'Volume': 5116518.0}, {'Symbol': 'OZGYO.IS', 'Company': 'ÖZDERİCİ GAYRİMENKUL YATIRIM ORTAKLIĞI A.Ş.', 'Open': 4.670000076293945, 'High': 4.769999980926514, 'Low': 4.619999885559082, 'Close': 4.699999809265137, 'AdjClose': 4.699999809265137, 'Volume': 1804958.0}, {'Symbol': 'OZRDN.IS', 'Company': 'ÖZERDEN AMBALAJ SANAYİ A.Ş.', 'Open': 38.5, 'High': 40.119998931884766, 'Low': 37.31999969482422, 'Close': 39.29999923706055, 'AdjClose': 39.29999923706055, 'Volume': 109545.0}, {'Symbol': 'PAMEL.IS', 'Company': 'PAMEL YENİLENEBİLİR ELEKTRİK ÜRETİM A.Ş.', 'Open': 90.75, 'High': 102.5, 'Low': 90.75, 'Close': 95.5999984741211, 'AdjClose': 95.5999984741211, 'Volume': 1081109.0}, {'Symbol': 'PNLSN.IS', 'Company': 'PANELSAN ÇATI CEPHE SİSTEMLERİ SANAYİ VE TİCARET A.Ş.', 'Open': 53.79999923706055, 'High': 55.599998474121094, 'Low': 52.70000076293945, 'Close': 55.599998474121094, 'AdjClose': 55.599998474121094, 'Volume': 564613.0}, {'Symbol': 'PAGYO.IS', 'Company': 'PANORA GAYRİMENKUL YATIRIM ORTAKLIĞI A.Ş.', 'Open': 33.900001525878906, 'High': 34.08000183105469, 'Low': 32.81999969482422, 'Close': 33.0, 'AdjClose': 33.0, 'Volume': 125132.0}, {'Symbol': 'PAPIL.IS', 'Company': 'PAPİLON SAVUNMA TEKNOLOJİ VE TİCARET A.Ş.', 'Open': 49.0, 'High': 50.0, 'Low': 47.279998779296875, 'Close': 48.439998626708984, 'AdjClose': 48.439998626708984, 'Volume': 466203.0}, {'Symbol': 'PRKME.IS', 'Company': 'PARK ELEKTRİK ÜRETİM MADENCİLİK SANAYİ VE TİCARET A.Ş.', 'Open': 17.780000686645508, 'High': 18.09000015258789, 'Low': 17.610000610351562, 'Close': 17.75, 'AdjClose': 17.75, 'Volume': 620000.0}, {'Symbol': 'PARSN.IS', 'Company': 'PARSAN MAKİNA PARÇALARI SANAYİİ A.Ş.', 'Open': 85.75, 'High': 89.94999694824219, 'Low': 84.9000015258789, 'Close': 88.0999984741211, 'AdjClose': 88.0999984741211, 'Volume': 336133.0}, {'Symbol': 'PASEU.IS', 'Company': 'PASİFİK EURASİA LOJİSTİK DIŞ TİCARET A.Ş.', 'Open': 47.779998779296875, 'High': 49.70000076293945, 'Low': 47.099998474121094, 'Close': 48.040000915527344, 'AdjClose': 48.040000915527344, 'Volume': 860100.0}, {'Symbol': 'PSGYO.IS', 'Company': 'PASİFİK GAYRİMENKUL YATIRIM ORTAKLIĞI A.Ş.', 'Open': 4.480000019073486, 'High': 4.550000190734863, 'Low': 4.309999942779541, 'Close': 4.429999828338623, 'AdjClose': 4.429999828338623, 'Volume': 6143990.0}, {'Symbol': 'PGSUS.IS', 'Company': 'PEGASUS HAVA TAŞIMACILIĞI A.Ş.', 'Open': 641.5, 'High': 650.0, 'Low': 638.0, 'Close': 639.0, 'AdjClose': 639.0, 'Volume': 1418657.0}, {'Symbol': 'PEKGY.IS', 'Company': 'PEKER GAYRİMENKUL YATIRIM ORTAKLIĞI A.Ş.', 'Open': 29.899999618530273, 'High': 31.079999923706055, 'Low': 29.68000030517578, 'Close': 30.280000686645508, 'AdjClose': 30.280000686645508, 'Volume': 4040824.0}, {'Symbol': 'PENGD.IS', 'Company': 'PENGUEN GIDA SANAYİ A.Ş.', 'Open': 5.369999885559082, 'High': 5.920000076293945, 'Low': 5.28000020980835, 'Close': 5.460000038146973, 'AdjClose': 5.460000038146973, 'Volume': 2863468.0}, {'Symbol': 'PENTA.IS', 'Company': 'PENTA TEKNOLOJİ ÜRÜNLERİ DAĞITIM TİCARET A.Ş.', 'Open': 17.200000762939453, 'High': 17.40999984741211, 'Low': 16.940000534057617, 'Close': 17.020000457763672, 'AdjClose': 17.020000457763672, 'Volume': 2132437.0}, {'Symbol': 'PEGYO.IS', 'Company': 'PERA GAYRİMENKUL YATIRIM ORTAKLIĞI A.Ş.', 'Open': 17.899999618530273, 'High': 17.899999618530273, 'Low': 16.15999984741211, 'Close': 16.25, 'AdjClose': 16.25, 'Volume': 8828583.0}, {'Symbol': 'PSDTC.IS', 'Company': 'PERGAMON STATUS DIŞ TİCARET A.Ş.', 'Open': 51.0, 'High': 55.0, 'Low': 48.47999954223633, 'Close': 53.20000076293945, 'AdjClose': 53.20000076293945, 'Volume': 67816.0}, {'Symbol': 'PETKM.IS', 'Company': 'PETKİM PETROKİMYA HOLDİNG A.Ş.', 'Open': 17.270000457763672, 'High': 17.399999618530273, 'Low': 16.959999084472656, 'Close': 17.049999237060547, 'AdjClose': 17.049999237060547, 'Volume': 73718159.0}, {'Symbol': 'PKENT.IS', 'Company': 'PETROKENT TURİZM A.Ş.', 'Open': 204.39999389648438, 'High': 224.8000030517578, 'Low': 194.1999969482422, 'Close': 211.5, 'AdjClose': 211.5, 'Volume': 499689.0}, {'Symbol': 'PETUN.IS', 'Company': 'PINAR ENTEGRE ET VE UN SANAYİİ A.Ş.', 'Open': 61.599998474121094, 'High': 62.54999923706055, 'Low': 60.900001525878906, 'Close': 61.54999923706055, 'AdjClose': 61.54999923706055, 'Volume': 72312.0}, {'Symbol': 'PINSU.IS', 'Company': 'PINAR SU VE İÇECEK SANAYİ VE TİCARET A.Ş.', 'Open': 11.170000076293945, 'High': 11.630000114440918, 'Low': 10.8100004196167, 'Close': 11.479999542236328, 'AdjClose': 11.479999542236328, 'Volume': 1321405.0}, {'Symbol': 'PNSUT.IS', 'Company': 'PINAR SÜT MAMULLERİ SANAYİİ A.Ş.', 'Open': 63.25, 'High': 64.0999984741211, 'Low': 62.0, 'Close': 62.849998474121094, 'AdjClose': 62.849998474121094, 'Volume': 231993.0}, {'Symbol': 'PKART.IS', 'Company': 'PLASTİKKART AKILLI KART İLETİŞİM SİSTEMLERİ SANAYİ VE TİCARET A.Ş.', 'Open': 32.79999923706055, 'High': 33.29999923706055, 'Low': 31.100000381469727, 'Close': 32.400001525878906, 'AdjClose': 32.400001525878906, 'Volume': 30068.0}, {'Symbol': 'POLHO.IS', 'Company': 'POLİSAN HOLDİNG A.Ş.', 'Open': 12.199999809265137, 'High': 12.75, 'Low': 12.100000381469727, 'Close': 12.40999984741211, 'AdjClose': 12.40999984741211, 'Volume': 5507586.0}, {'Symbol': 'POLTK.IS', 'Company': 'POLİTEKNİK METAL SANAYİ VE TİCARET A.Ş.', 'Open': 13600.0, 'High': 13600.0, 'Low': 13245.0, 'Close': 13245.0, 'AdjClose': 13245.0, 'Volume': 767.0}, {'Symbol': 'PRZMA.IS', 'Company': 'PRİZMA PRES MATBAACILIK YAYINCILIK SANAYİ VE TİCARET A.Ş.', 'Open': 35.7599983215332, 'High': 39.47999954223633, 'Low': 34.119998931884766, 'Close': 39.47999954223633, 'AdjClose': 39.47999954223633, 'Volume': 820416.0}, {'Symbol': 'QNBFL.IS', 'Company': 'QNB FİNANS FİNANSAL KİRALAMA A.Ş.', 'Open': 759.0, 'High': 764.5, 'Low': 759.0, 'Close': 764.5, 'AdjClose': 764.5, 'Volume': 6028.0}, {'Symbol': 'QNBFB.IS', 'Company': 'QNB FİNANSBANK A.Ş.', 'Open': 230.10000610351562, 'High': 267.25, 'Low': 230.10000610351562, 'Close': 267.25, 'AdjClose': 267.25, 'Volume': 38863.0}, {'Symbol': 'QUAGR.IS', 'Company': 'QUA GRANITE HAYAL YAPI VE ÜRÜNLERİ SANAYİ TİCARET A.Ş.', 'Open': 5.309999942779541, 'High': 5.449999809265137, 'Low': 5.179999828338623, 'Close': 5.210000038146973, 'AdjClose': 5.210000038146973, 'Volume': 15793118.0}, {'Symbol': 'RALYH.IS', 'Company': 'RAL YATIRIM HOLDİNG A.Ş.', 'Open': 72.55000305175781, 'High': 75.9000015258789, 'Low': 68.94999694824219, 'Close': 73.25, 'AdjClose': 73.25, 'Volume': 439624.0}, {'Symbol': 'RAYSG.IS', 'Company': 'RAY SİGORTA A.Ş.', 'Open': 213.0, 'High': 234.0, 'Low': 208.0, 'Close': 230.5, 'AdjClose': 230.5, 'Volume': 147906.0}, {'Symbol': 'REEDR.IS', 'Company': 'REEDER TEKNOLOJİ SANAYİ VE TİCARET A.Ş.', 'Open': 19.760000228881836, 'High': 20.65999984741211, 'Low': 19.5, 'Close': 20.15999984741211, 'AdjClose': 20.15999984741211, 'Volume': 21506800.0}, {'Symbol': 'RYGYO.IS', 'Company': 'REYSAŞ GAYRİMENKUL YATIRIM ORTAKLIĞI A.Ş.', 'Open': 24.15999984741211, 'High': 24.760000228881836, 'Low': 23.760000228881836, 'Close': 24.260000228881836, 'AdjClose': 24.260000228881836, 'Volume': 939330.0}, {'Symbol': 'RYSAS.IS', 'Company': 'REYSAŞ TAŞIMACILIK VE LOJİSTİK TİCARET A.Ş.', 'Open': 26.1200008392334, 'High': 26.68000030517578, 'Low': 25.520000457763672, 'Close': 26.280000686645508, 'AdjClose': 26.280000686645508, 'Volume': 148757.0}, {'Symbol': 'RODRG.IS', 'Company': 'RODRİGO TEKSTİL SANAYİ VE TİCARET A.Ş.', 'Open': 49.5, 'High': 52.349998474121094, 'Low': 49.099998474121094, 'Close': 50.400001525878906, 'AdjClose': 50.400001525878906, 'Volume': 96934.0}, {'Symbol': 'ROYAL.IS', 'Company': 'ROYAL HALI İPLİK TEKSTİL MOBİLYA SANAYİ VE TİCARET A.Ş.', 'Open': 6.800000190734863, 'High': 6.800000190734863, 'Low': 6.800000190734863, 'Close': 6.800000190734863, 'AdjClose': 6.800000190734863, 'Volume': 0.0}, {'Symbol': 'RTALB.IS', 'Company': 'RTA LABORATUVARLARI BİYOLOJİK ÜRÜNLER İLAÇ VE MAKİNE SANAYİ TİCARET A.Ş.', 'Open': 15.210000038146973, 'High': 15.210000038146973, 'Low': 14.25, 'Close': 14.420000076293945, 'AdjClose': 14.420000076293945, 'Volume': 7589101.0}, {'Symbol': 'RUBNS.IS', 'Company': 'RUBENİS TEKSTİL SANAYİ TİCARET A.Ş.', 'Open': 20.959999084472656, 'High': 21.65999984741211, 'Low': 20.760000228881836, 'Close': 21.219999313354492, 'AdjClose': 21.219999313354492, 'Volume': 601400.0}, {'Symbol': 'SAFKR.IS', 'Company': 'SAFKAR EGE SOĞUTMACILIK KLİMA SOĞUK HAVA TESİSLERİ İHRACAT İTHALAT SANAYİ VE TİCARET A.Ş.', 'Open': 30.479999542236328, 'High': 31.079999923706055, 'Low': 29.639999389648438, 'Close': 30.040000915527344, 'AdjClose': 30.040000915527344, 'Volume': 219005.0}, {'Symbol': 'SANEL.IS', 'Company': 'SAN-EL MÜHENDİSLİK ELEKTRİK TAAHHÜT SANAYİ VE TİCARET A.Ş.', 'Open': 23.540000915527344, 'High': 23.559999465942383, 'Low': 23.540000915527344, 'Close': 23.559999465942383, 'AdjClose': 23.559999465942383, 'Volume': 40157.0}, {'Symbol': 'SANFM.IS', 'Company': 'SANİFOAM ENDÜSTRİ VE TÜKETİM ÜRÜNLERİ SANAYİ TİCARET A.Ş.', 'Open': 32.65999984741211, 'High': 35.779998779296875, 'Low': 31.799999237060547, 'Close': 33.779998779296875, 'AdjClose': 33.779998779296875, 'Volume': 1342538.0}, {'Symbol': 'SANKO.IS', 'Company': 'SANKO PAZARLAMA İTHALAT İHRACAT A.Ş.', 'Open': 17.989999771118164, 'High': 18.309999465942383, 'Low': 17.829999923706055, 'Close': 18.0, 'AdjClose': 18.0, 'Volume': 264794.0}, {'Symbol': 'SAMAT.IS', 'Company': 'SARAY MATBAACILIK KAĞITÇILIK KIRTASİYECİLİK TİCARET VE SANAYİ A.Ş.', 'Open': 50.0, 'High': 50.0, 'Low': 42.5, 'Close': 42.5, 'AdjClose': 42.5, 'Volume': 337566.0}, {'Symbol': 'SARKY.IS', 'Company': 'SARKUYSAN ELEKTROLİTİK BAKIR SANAYİ VE TİCARET A.Ş.', 'Open': 25.899999618530273, 'High': 26.6200008392334, 'Low': 25.540000915527344, 'Close': 26.479999542236328, 'AdjClose': 26.479999542236328, 'Volume': 837334.0}, {'Symbol': 'SASA.IS', 'Company': 'SASA POLYESTER SANAYİ A.Ş.', 'Open': 38.099998474121094, 'High': 38.279998779296875, 'Low': 36.5, 'Close': 36.5, 'AdjClose': 36.5, 'Volume': 42142943.0}, {'Symbol': 'SAYAS.IS', 'Company': 'SAY YENİLENEBİLİR ENERJİ EKİPMANLARI SANAYİ VE TİCARET A.Ş.', 'Open': 74.4000015258789, 'High': 81.0, 'Low': 72.5999984741211, 'Close': 77.5, 'AdjClose': 77.5, 'Volume': 2048942.0}, {'Symbol': 'SEKUR.IS', 'Company': 'SEKURO PLASTİK AMBALAJ SANAYİ A.Ş.', 'Open': 20.979999542236328, 'High': 21.3799991607666, 'Low': 20.5, 'Close': 21.139999389648438, 'AdjClose': 21.139999389648438, 'Volume': 70145.0}, {'Symbol': 'SELEC.IS', 'Company': 'SELÇUK ECZA DEPOSU TİCARET VE SANAYİ A.Ş.', 'Open': 58.5, 'High': 60.79999923706055, 'Low': 56.349998474121094, 'Close': 59.95000076293945, 'AdjClose': 59.95000076293945, 'Volume': 4348029.0}, {'Symbol': 'SELGD.IS', 'Company': 'SELÇUK GIDA ENDÜSTRİ İHRACAT İTHALAT A.Ş.', 'Open': 18.010000228881836, 'High': 18.989999771118164, 'Low': 18.010000228881836, 'Close': 18.989999771118164, 'AdjClose': 18.989999771118164, 'Volume': 68796.0}, {'Symbol': 'SNKRN.IS', 'Company': 'SENKRON SİBER GÜVENLİK YAZILIM VE BİLİŞİM ÇÖZÜMLERİ A.Ş.', 'Open': 23.780000686645508, 'High': 24.8799991607666, 'Low': 23.780000686645508, 'Close': 24.8799991607666, 'AdjClose': 24.8799991607666, 'Volume': 39123.0}, {'Symbol': 'SRVGY.IS', 'Company': 'SERVET GAYRİMENKUL YATIRIM ORTAKLIĞI A.Ş.', 'Open': 276.75, 'High': 284.5, 'Low': 270.0, 'Close': 270.25, 'AdjClose': 270.25, 'Volume': 231562.0}, {'Symbol': 'SEYKM.IS', 'Company': 'SEYİTLER KİMYA SANAYİ A.Ş.', 'Open': 5.380000114440918, 'High': 5.5, 'Low': 5.300000190734863, 'Close': 5.380000114440918, 'AdjClose': 5.380000114440918, 'Volume': 805252.0}, {'Symbol': 'SILVR.IS', 'Company': 'SİLVERLİNE ENDÜSTRİ VE TİCARET A.Ş.', 'Open': 12.850000381469727, 'High': 13.699999809265137, 'Low': 12.800000190734863, 'Close': 13.289999961853027, 'AdjClose': 13.289999961853027, 'Volume': 449106.0}, {'Symbol': 'SNGYO.IS', 'Company': 'SİNPAŞ GAYRİMENKUL YATIRIM ORTAKLIĞI A.Ş.', 'Open': 2.680000066757202, 'High': 2.690000057220459, 'Low': 2.5899999141693115, 'Close': 2.609999895095825, 'AdjClose': 2.609999895095825, 'Volume': 21561171.0}, {'Symbol': 'SMRTG.IS', 'Company': 'SMART GÜNEŞ ENERJİSİ TEKNOLOJİLERİ ARAŞTIRMA GELİŞTİRME ÜRETİM SANAYİ VE TİCARET A.Ş.', 'Open': 56.0, 'High': 56.75, 'Low': 52.650001525878906, 'Close': 52.75, 'AdjClose': 52.75, 'Volume': 10876655.0}, {'Symbol': 'SMART.IS', 'Company': 'SMARTİKS YAZILIM A.Ş.', 'Open': 31.0, 'High': 31.0, 'Low': 29.100000381469727, 'Close': 29.100000381469727, 'AdjClose': 29.100000381469727, 'Volume': 1260339.0}, {'Symbol': 'SODSN.IS', 'Company': 'SODAŞ SODYUM SANAYİİ A.Ş.', 'Open': 67.5, 'High': 67.55000305175781, 'Low': 67.5, 'Close': 67.55000305175781, 'AdjClose': 67.55000305175781, 'Volume': 30928.0}, {'Symbol': 'SKTAS.IS', 'Company': 'SÖKTAŞ TEKSTİL SANAYİ VE TİCARET A.Ş.', 'Open': 4.480000019073486, 'High': 4.800000190734863, 'Low': 4.309999942779541, 'Close': 4.489999771118164, 'AdjClose': 4.489999771118164, 'Volume': 4002363.0}, {'Symbol': 'SONME.IS', 'Company': 'SÖNMEZ FİLAMENT SENTETİK İPLİK VE ELYAF SANAYİ A.Ş.', 'Open': 62.5, 'High': 63.5, 'Low': 56.79999923706055, 'Close': 60.70000076293945, 'AdjClose': 60.70000076293945, 'Volume': 105258.0}, {'Symbol': 'SNPAM.IS', 'Company': 'SÖNMEZ PAMUKLU SANAYİİ A.Ş.', 'Open': 128.0, 'High': 128.0, 'Low': 117.0, 'Close': 117.0, 'AdjClose': 117.0, 'Volume': 74234.0}, {'Symbol': 'SUMAS.IS', 'Company': 'SUMAŞ SUNİ TAHTA VE MOBİLYA SANAYİ A.Ş.', 'Open': 182.0, 'High': 182.0, 'Low': 180.89999389648438, 'Close': 180.89999389648438, 'AdjClose': 180.89999389648438, 'Volume': 5547.0}, {'Symbol': 'SUNTK.IS', 'Company': 'SUN TEKSTİL SANAYİ VE TİCARET A.Ş.', 'Open': 17.979999542236328, 'High': 18.540000915527344, 'Low': 17.299999237060547, 'Close': 18.399999618530273, 'AdjClose': 18.399999618530273, 'Volume': 1881211.0}, {'Symbol': 'SURGY.IS', 'Company': 'SUR TATİL EVLERİ GAYRİMENKUL YATIRIM ORTAKLIĞI A.Ş.', 'Open': 29.600000381469727, 'High': 30.440000534057617, 'Low': 28.84000015258789, 'Close': 28.84000015258789, 'AdjClose': 28.84000015258789, 'Volume': 5720654.0}, {'Symbol': 'SEKFK.IS', 'Company': 'ŞEKER FİNANSAL KİRALAMA A.Ş.', 'Open': 13.4399995803833, 'High': 13.649999618530273, 'Low': 12.770000457763672, 'Close': 13.4399995803833, 'AdjClose': 13.4399995803833, 'Volume': 583888.0}, {'Symbol': 'SKYMD.IS', 'Company': 'ŞEKER YATIRIM MENKUL DEĞERLER A.Ş.', 'Open': 7.050000190734863, 'High': 7.130000114440918, 'Low': 6.739999771118164, 'Close': 6.800000190734863, 'AdjClose': 6.800000190734863, 'Volume': 7603383.0}, {'Symbol': 'SKBNK.IS', 'Company': 'ŞEKERBANK T.A.Ş.', 'Open': 4.599999904632568, 'High': 4.599999904632568, 'Low': 4.599999904632568, 'Close': 4.599999904632568, 'AdjClose': 4.599999904632568, 'Volume': 5636948.0}, {'Symbol': 'SOKM.IS', 'Company': 'ŞOK MARKETLER TİCARET A.Ş.', 'Open': 53.79999923706055, 'High': 54.20000076293945, 'Low': 52.20000076293945, 'Close': 53.70000076293945, 'AdjClose': 53.70000076293945, 'Volume': 4293980.0}, {'Symbol': 'TABGD.IS', 'Company': 'TAB GIDA SANAYİ VE TİCARET A.Ş.', 'Open': 112.80000305175781, 'High': 118.30000305175781, 'Low': 104.5, 'Close': 110.69999694824219, 'AdjClose': 110.69999694824219, 'Volume': 8263348.0}, {'Symbol': 'TNZTP.IS', 'Company': 'TAPDİ OKSİJEN ÖZEL SAĞLIK VE EĞİTİM HİZMETLERİ SANAYİ TİCARET A.Ş.', 'Open': 58.099998474121094, 'High': 59.0, 'Low': 56.599998474121094, 'Close': 56.75, 'AdjClose': 56.75, 'Volume': 194728.0}, {'Symbol': 'TARKM.IS', 'Company': 'TARKİM BİTKİ KORUMA SANAYİ VE TİCARET A.Ş.', 'Open': 445.0, 'High': 490.25, 'Low': 435.0, 'Close': 490.25, 'AdjClose': 490.25, 'Volume': 1027709.0}, {'Symbol': 'TATGD.IS', 'Company': 'TAT GIDA SANAYİ A.Ş.', 'Open': 32.84000015258789, 'High': 33.0, 'Low': 31.799999237060547, 'Close': 31.799999237060547, 'AdjClose': 31.799999237060547, 'Volume': 1143616.0}, {'Symbol': 'TAVHL.IS', 'Company': 'TAV HAVALİMANLARI HOLDİNG A.Ş.', 'Open': 102.5, 'High': 105.5, 'Low': 101.9000015258789, 'Close': 103.0999984741211, 'AdjClose': 103.0999984741211, 'Volume': 3128299.0}, {'Symbol': 'TEKTU.IS', 'Company': 'TEK-ART İNŞAAT TİCARET TURİZM SANAYİ VE YATIRIMLAR A.Ş.', 'Open': 2.6600000858306885, 'High': 2.7100000381469727, 'Low': 2.609999895095825, 'Close': 2.6500000953674316, 'AdjClose': 2.6500000953674316, 'Volume': 7802202.0}, {'Symbol': 'TKFEN.IS', 'Company': 'TEKFEN HOLDİNG A.Ş.', 'Open': 34.15999984741211, 'High': 35.459999084472656, 'Low': 33.560001373291016, 'Close': 34.70000076293945, 'AdjClose': 34.70000076293945, 'Volume': 4954976.0}, {'Symbol': 'TKNSA.IS', 'Company': 'TEKNOSA İÇ VE DIŞ TİCARET A.Ş.', 'Open': 29.81999969482422, 'High': 30.299999237060547, 'Low': 29.0, 'Close': 29.239999771118164, 'AdjClose': 29.239999771118164, 'Volume': 2484758.0}, {'Symbol': 'TMPOL.IS', 'Company': 'TEMAPOL POLİMER PLASTİK VE İNŞAAT SANAYİ TİCARET A.Ş.', 'Open': 84.5, 'High': 93.5, 'Low': 80.30000305175781, 'Close': 93.5, 'AdjClose': 93.5, 'Volume': 118852.0}, {'Symbol': 'TERA.IS', 'Company': 'TERA YATIRIM MENKUL DEĞERLER A.Ş.', 'Open': 35.70000076293945, 'High': 37.18000030517578, 'Low': 35.63999938964844, 'Close': 36.79999923706055, 'AdjClose': 36.79999923706055, 'Volume': 330689.0}, {'Symbol': 'TETMT.IS', 'Company': 'TETAMAT GIDA YATIRIMLARI A.Ş.', 'Open': 3122.5, 'High': 3150.0, 'Low': 3080.0, 'Close': 3095.0, 'AdjClose': 3095.0, 'Volume': 1960.0}, {'Symbol': 'TGSAS.IS', 'Company': 'TGS DIŞ TİCARET A.Ş.', 'Open': 26.020000457763672, 'High': 26.65999984741211, 'Low': 25.299999237060547, 'Close': 26.459999084472656, 'AdjClose': 26.459999084472656, 'Volume': 81033.0}, {'Symbol': 'TOASO.IS', 'Company': 'TOFAŞ TÜRK OTOMOBİL FABRİKASI A.Ş.', 'Open': 210.60000610351562, 'High': 214.1999969482422, 'Low': 209.5, 'Close': 211.8000030517578, 'AdjClose': 211.8000030517578, 'Volume': 2224138.0}, {'Symbol': 'TRGYO.IS', 'Company': 'TORUNLAR GAYRİMENKUL YATIRIM ORTAKLIĞI A.Ş.', 'Open': 28.219999313354492, 'High': 29.520000457763672, 'Low': 28.059999465942383, 'Close': 29.219999313354492, 'AdjClose': 29.219999313354492, 'Volume': 999109.0}, {'Symbol': 'TLMAN.IS', 'Company': 'TRABZON LİMAN İŞLETMECİLİĞİ A.Ş.', 'Open': 77.94999694824219, 'High': 85.0, 'Low': 77.9000015258789, 'Close': 82.0, 'AdjClose': 82.0, 'Volume': 477003.0}, {'Symbol': 'TSPOR.IS', 'Company': 'TRABZONSPOR SPORTİF YATIRIM VE FUTBOL İŞLETMECİLİĞİ TİCARET A.Ş.', 'Open': 2.440000057220459, 'High': 2.509999990463257, 'Low': 2.4000000953674316, 'Close': 2.4700000286102295, 'AdjClose': 2.4700000286102295, 'Volume': 12594797.0}, {'Symbol': 'TDGYO.IS', 'Company': 'TREND GAYRİMENKUL YATIRIM ORTAKLIĞI A.Ş.', 'Open': 7.269999980926514, 'High': 7.400000095367432, 'Low': 7.03000020980835, 'Close': 7.199999809265137, 'AdjClose': 7.199999809265137, 'Volume': 400134.0}, {'Symbol': 'TSGYO.IS', 'Company': 'TSKB GAYRİMENKUL YATIRIM ORTAKLIĞI A.Ş.', 'Open': 5.650000095367432, 'High': 6.159999847412109, 'Low': 5.550000190734863, 'Close': 5.96999979019165, 'AdjClose': 5.96999979019165, 'Volume': 4229529.0}, {'Symbol': 'TUCLK.IS', 'Company': 'TUĞÇELİK ALÜMİNYUM VE METAL MAMÜLLERİ SANAYİ VE TİCARET A.Ş.', 'Open': 63.349998474121094, 'High': 63.79999923706055, 'Low': 61.900001525878906, 'Close': 62.45000076293945, 'AdjClose': 62.45000076293945, 'Volume': 538432.0}, {'Symbol': 'TUKAS.IS', 'Company': 'TUKAŞ GIDA SANAYİ VE TİCARET A.Ş.', 'Open': 6.309999942779541, 'High': 6.550000190734863, 'Low': 6.28000020980835, 'Close': 6.400000095367432, 'AdjClose': 6.400000095367432, 'Volume': 9923371.0}, {'Symbol': 'TRCAS.IS', 'Company': 'TURCAS PETROL A.Ş.', 'Open': 16.799999237060547, 'High': 17.799999237060547, 'Low': 16.5, 'Close': 17.209999084472656, 'AdjClose': 17.209999084472656, 'Volume': 1165050.0}, {'Symbol': 'TCELL.IS', 'Company': 'TURKCELL İLETİŞİM HİZMETLERİ A.Ş.', 'Open': 53.099998474121094, 'High': 54.20000076293945, 'Low': 52.25, 'Close': 53.70000076293945, 'AdjClose': 53.70000076293945, 'Volume': 29235298.0}, {'Symbol': 'TMSN.IS', 'Company': 'TÜMOSAN MOTOR VE TRAKTÖR SANAYİ A.Ş.', 'Open': 77.0, 'High': 81.4000015258789, 'Low': 75.5, 'Close': 78.0, 'AdjClose': 78.0, 'Volume': 970183.0}, {'Symbol': 'TUPRS.IS', 'Company': 'TÜPRAŞ-TÜRKİYE PETROL RAFİNERİLERİ A.Ş.', 'Open': 143.39999389648438, 'High': 147.39999389648438, 'Low': 142.0, 'Close': 146.1999969482422, 'AdjClose': 146.1999969482422, 'Volume': 21222616.0}, {'Symbol': 'THYAO.IS', 'Company': 'TÜRK HAVA YOLLARI A.O.', 'Open': 227.60000610351562, 'High': 229.5, 'Low': 221.60000610351562, 'Close': 222.1999969482422, 'AdjClose': 222.1999969482422, 'Volume': 25992461.0}, {'Symbol': 'PRKAB.IS', 'Company': 'TÜRK PRYSMİAN KABLO VE SİSTEMLERİ A.Ş.', 'Open': 28.420000076293945, 'High': 29.760000228881836, 'Low': 28.100000381469727, 'Close': 28.920000076293945, 'AdjClose': 28.920000076293945, 'Volume': 507918.0}, {'Symbol': 'TTKOM.IS', 'Company': 'TÜRK TELEKOMÜNİKASYON A.Ş.', 'Open': 24.299999237060547, 'High': 24.760000228881836, 'Low': 23.5, 'Close': 23.540000915527344, 'AdjClose': 23.540000915527344, 'Volume': 37775378.0}, {'Symbol': 'TTRAK.IS', 'Company': 'TÜRK TRAKTÖR VE ZİRAAT MAKİNELERİ A.Ş.', 'Open': 688.0, 'High': 688.5, 'Low': 666.0, 'Close': 666.0, 'AdjClose': 666.0, 'Volume': 492028.0}, {'Symbol': 'TBORG.IS', 'Company': 'TÜRK TUBORG BİRA VE MALT SANAYİİ A.Ş.', 'Open': 65.0, 'High': 65.0, 'Low': 64.5, 'Close': 64.80000305175781, 'AdjClose': 64.80000305175781, 'Volume': 11996.0}, {'Symbol': 'TURGG.IS', 'Company': 'TÜRKER PROJE GAYRİMENKUL VE YATIRIM GELİŞTİRME A.Ş.', 'Open': 421.0, 'High': 463.0, 'Low': 417.25, 'Close': 463.0, 'AdjClose': 463.0, 'Volume': 49233.0}, {'Symbol': 'GARAN.IS', 'Company': 'TÜRKİYE GARANTİ BANKASI A.Ş.', 'Open': 56.0, 'High': 56.45000076293945, 'Low': 55.25, 'Close': 55.75, 'AdjClose': 55.75, 'Volume': 24508620.0}, {'Symbol': 'HALKB.IS', 'Company': 'TÜRKİYE HALK BANKASI A.Ş.', 'Open': 11.489999771118164, 'High': 11.829999923706055, 'Low': 11.34000015258789, 'Close': 11.649999618530273, 'AdjClose': 11.649999618530273, 'Volume': 35671774.0}, {'Symbol': 'ISATR.IS', 'Company': 'TÜRKİYE İŞ BANKASI A.Ş.', 'Open': 974357.5, 'High': 974357.5, 'Low': 974357.5, 'Close': 974357.5, 'AdjClose': 974357.5, 'Volume': 0.0}, {'Symbol': 'ISBTR.IS', 'Company': 'TÜRKİYE İŞ BANKASI A.Ş.', 'Open': 538500.0, 'High': 538500.0, 'Low': 535000.0, 'Close': 538000.0, 'AdjClose': 538000.0, 'Volume': 5.0}, {'Symbol': 'ISCTR.IS', 'Company': 'TÜRKİYE İŞ BANKASI A.Ş.', 'Open': 22.260000228881836, 'High': 22.700000762939453, 'Low': 21.579999923706055, 'Close': 22.34000015258789, 'AdjClose': 22.34000015258789, 'Volume': 142701182.0}, {'Symbol': 'KLNMA.IS', 'Company': 'TÜRKİYE KALKINMA VE YATIRIM BANKASI A.Ş.', 'Open': 27.959999084472656, 'High': 27.959999084472656, 'Low': 26.979999542236328, 'Close': 26.979999542236328, 'AdjClose': 26.979999542236328, 'Volume': 150081.0}, {'Symbol': 'TSKB.IS', 'Company': 'TÜRKİYE SINAİ KALKINMA BANKASI A.Ş.', 'Open': 6.289999961853027, 'High': 6.340000152587891, 'Low': 5.989999771118164, 'Close': 6.190000057220459, 'AdjClose': 6.190000057220459, 'Volume': 59314856.0}, {'Symbol': 'TURSG.IS', 'Company': 'TÜRKİYE SİGORTA A.Ş.', 'Open': 37.68000030517578, 'High': 38.81999969482422, 'Low': 36.84000015258789, 'Close': 38.81999969482422, 'AdjClose': 38.81999969482422, 'Volume': 3302677.0}, {'Symbol': 'SISE.IS', 'Company': 'TÜRKİYE ŞİŞE VE CAM FABRİKALARI A.Ş.', 'Open': 45.70000076293945, 'High': 49.15999984741211, 'Low': 45.20000076293945, 'Close': 46.84000015258789, 'AdjClose': 46.84000015258789, 'Volume': 43209777.0}, {'Symbol': 'VAKBN.IS', 'Company': 'TÜRKİYE VAKIFLAR BANKASI T.A.O.', 'Open': 12.25, 'High': 12.479999542236328, 'Low': 11.960000038146973, 'Close': 12.220000267028809, 'AdjClose': 12.220000267028809, 'Volume': 38754474.0}, {'Symbol': 'UFUK.IS', 'Company': 'UFUK YATIRIM YÖNETİM VE GAYRİMENKUL A.Ş.', 'Open': 99.5999984741211, 'High': 104.80000305175781, 'Low': 95.0, 'Close': 95.0, 'AdjClose': 95.0, 'Volume': 37398.0}, {'Symbol': 'ULAS.IS', 'Company': 'ULAŞLAR TURİZM ENERJİ TARIM GIDA VE İNŞAAT YATIRIMLARI A.Ş.', 'Open': 12.1899995803833, 'High': 13.420000076293945, 'Low': 11.65999984741211, 'Close': 13.420000076293945, 'AdjClose': 13.420000076293945, 'Volume': 228612.0}, {'Symbol': 'ULUFA.IS', 'Company': 'ULUSAL FAKTORİNG A.Ş.', 'Open': 8.25, 'High': 8.539999961853027, 'Low': 8.119999885559082, 'Close': 8.390000343322754, 'AdjClose': 8.390000343322754, 'Volume': 2194079.0}, {'Symbol': 'ULUSE.IS', 'Company': 'ULUSOY ELEKTRİK İMALAT TAAHHÜT VE TİCARET A.Ş.', 'Open': 120.5, 'High': 126.19999694824219, 'Low': 120.5, 'Close': 124.5, 'AdjClose': 124.5, 'Volume': 68659.0}, {'Symbol': 'ULUUN.IS', 'Company': 'ULUSOY UN SANAYİ VE TİCARET A.Ş.', 'Open': 25.0, 'High': 25.100000381469727, 'Low': 24.399999618530273, 'Close': 24.479999542236328, 'AdjClose': 24.479999542236328, 'Volume': 1839267.0}, {'Symbol': 'UMPAS.IS', 'Company': 'UMPAŞ HOLDİNG A.Ş.', 'Open': 7.46999979019165, 'High': 7.579999923706055, 'Low': 7.46999979019165, 'Close': 7.550000190734863, 'AdjClose': 7.550000190734863, 'Volume': 89388.0}, {'Symbol': 'USAK.IS', 'Company': 'UŞAK SERAMİK SANAYİ A.Ş.', 'Open': 10.170000076293945, 'High': 10.619999885559082, 'Low': 10.050000190734863, 'Close': 10.430000305175781, 'AdjClose': 10.430000305175781, 'Volume': 1312798.0}, {'Symbol': 'UZERB.IS', 'Company': 'UZERTAŞ BOYA SANAYİ TİCARET VE YATIRIM A.Ş.', 'Open': 132.10000610351562, 'High': 139.8000030517578, 'Low': 132.10000610351562, 'Close': 139.60000610351562, 'AdjClose': 139.60000610351562, 'Volume': 32441.0}, {'Symbol': 'ULKER.IS', 'Company': 'ÜLKER BİSKÜVİ SANAYİ A.Ş.', 'Open': 74.6500015258789, 'High': 76.9000015258789, 'Low': 74.25, 'Close': 75.4000015258789, 'AdjClose': 75.4000015258789, 'Volume': 3459119.0}, {'Symbol': 'UNLU.IS', 'Company': 'ÜNLÜ YATIRIM HOLDİNG A.Ş.', 'Open': 14.609999656677246, 'High': 15.5, 'Low': 13.880000114440918, 'Close': 15.010000228881836, 'AdjClose': 15.010000228881836, 'Volume': 1340293.0}, {'Symbol': 'VAKFN.IS', 'Company': 'VAKIF FİNANSAL KİRALAMA A.Ş.', 'Open': 3.930000066757202, 'High': 4.119999885559082, 'Low': 3.930000066757202, 'Close': 4.090000152587891, 'AdjClose': 4.090000152587891, 'Volume': 8588453.0}, {'Symbol': 'VKGYO.IS', 'Company': 'VAKIF GAYRİMENKUL YATIRIM ORTAKLIĞI A.Ş.', 'Open': 1.649999976158142, 'High': 1.7100000381469727, 'Low': 1.6299999952316284, 'Close': 1.690000057220459, 'AdjClose': 1.690000057220459, 'Volume': 26801011.0}, {'Symbol': 'VKFYO.IS', 'Company': 'VAKIF MENKUL KIYMET YATIRIM ORTAKLIĞI A.Ş.', 'Open': 24.799999237060547, 'High': 25.079999923706055, 'Low': 24.299999237060547, 'Close': 24.8799991607666, 'AdjClose': 24.8799991607666, 'Volume': 207250.0}, {'Symbol': 'VAKKO.IS', 'Company': 'VAKKO TEKSTİL VE HAZIR GİYİM SANAYİ İŞLETMELERİ A.Ş.', 'Open': 69.1500015258789, 'High': 74.55000305175781, 'Low': 68.5999984741211, 'Close': 71.30000305175781, 'AdjClose': 71.30000305175781, 'Volume': 547452.0}, {'Symbol': 'VANGD.IS', 'Company': 'VANET GIDA SANAYİ İÇ VE DIŞ TİCARET A.Ş.', 'Open': 16.6299991607666, 'High': 19.700000762939453, 'Low': 16.6299991607666, 'Close': 17.84000015258789, 'AdjClose': 17.84000015258789, 'Volume': 807078.0}, {'Symbol': 'VBTYZ.IS', 'Company': 'VBT YAZILIM A.Ş.', 'Open': 109.0, 'High': 113.5, 'Low': 106.80000305175781, 'Close': 108.4000015258789, 'AdjClose': 108.4000015258789, 'Volume': 529447.0}, {'Symbol': 'VRGYO.IS', 'Company': 'VERA KONSEPT GAYRİMENKUL YATIRIM ORTAKLIĞI A.Ş.', 'Open': 21.200000762939453, 'High': 21.459999084472656, 'Low': 20.299999237060547, 'Close': 20.299999237060547, 'AdjClose': 20.299999237060547, 'Volume': 2954852.0}, {'Symbol': 'VERUS.IS', 'Company': 'VERUSA HOLDİNG A.Ş.', 'Open': 162.89999389648438, 'High': 162.89999389648438, 'Low': 162.89999389648438, 'Close': 162.89999389648438, 'AdjClose': 162.89999389648438, 'Volume': 49768.0}, {'Symbol': 'VERTU.IS', 'Company': 'VERUSATURK GİRİŞİM SERMAYESİ YATIRIM ORTAKLIĞI A.Ş.', 'Open': 30.399999618530273, 'High': 32.939998626708984, 'Low': 30.399999618530273, 'Close': 31.34000015258789, 'AdjClose': 31.34000015258789, 'Volume': 1806385.0}, {'Symbol': 'VESBE.IS', 'Company': 'VESTEL BEYAZ EŞYA SANAYİ VE TİCARET A.Ş.', 'Open': 14.979999542236328, 'High': 15.289999961853027, 'Low': 14.930000305175781, 'Close': 15.15999984741211, 'AdjClose': 15.15999984741211, 'Volume': 4380307.0}, {'Symbol': 'VESTL.IS', 'Company': 'VESTEL ELEKTRONİK SANAYİ VE TİCARET A.Ş.', 'Open': 43.31999969482422, 'High': 44.220001220703125, 'Low': 42.540000915527344, 'Close': 43.34000015258789, 'AdjClose': 43.34000015258789, 'Volume': 4888888.0}, {'Symbol': 'VKING.IS', 'Company': 'VİKİNG KAĞIT VE SELÜLOZ A.Ş.', 'Open': 23.719999313354492, 'High': 24.459999084472656, 'Low': 23.5, 'Close': 23.799999237060547, 'AdjClose': 23.799999237060547, 'Volume': 40975.0}, {'Symbol': 'YKBNK.IS', 'Company': 'YAPI VE KREDİ BANKASI A.Ş.', 'Open': 19.8799991607666, 'High': 19.940000534057617, 'Low': 19.059999465942383, 'Close': 19.15999984741211, 'AdjClose': 19.15999984741211, 'Volume': 190022703.0}, {'Symbol': 'YAPRK.IS', 'Company': 'YAPRAK SÜT VE BESİ ÇİFTLİKLERİ SANAYİ VE TİCARET A.Ş.', 'Open': 216.89999389648438, 'High': 217.0, 'Low': 200.10000610351562, 'Close': 201.6999969482422, 'AdjClose': 201.6999969482422, 'Volume': 232085.0}, {'Symbol': 'YATAS.IS', 'Company': 'YATAŞ YATAK VE YORGAN SANAYİ TİCARET A.Ş.', 'Open': 23.0, 'High': 23.459999084472656, 'Low': 22.280000686645508, 'Close': 22.440000534057617, 'AdjClose': 22.440000534057617, 'Volume': 2487888.0}, {'Symbol': 'YYLGD.IS', 'Company': 'YAYLA AGRO GIDA SANAYİ VE TİCARET A.Ş.', 'Open': 11.779999732971191, 'High': 11.850000381469727, 'Low': 11.34000015258789, 'Close': 11.399999618530273, 'AdjClose': 11.399999618530273, 'Volume': 13258416.0}, {'Symbol': 'YAYLA.IS', 'Company': 'YAYLA ENERJİ ÜRETİM TURİZM VE İNŞAAT TİCARET A.Ş.', 'Open': 6.289999961853027, 'High': 6.340000152587891, 'Low': 6.099999904632568, 'Close': 6.269999980926514, 'AdjClose': 6.269999980926514, 'Volume': 377535.0}, {'Symbol': 'YGGYO.IS', 'Company': 'YENİ GİMAT GAYRİMENKUL YATIRIM ORTAKLIĞI A.Ş.', 'Open': 36.7400016784668, 'High': 36.7400016784668, 'Low': 36.0, 'Close': 36.47999954223633, 'AdjClose': 36.47999954223633, 'Volume': 63936.0}, {'Symbol': 'YGYO.IS', 'Company': 'YEŞİL GAYRİMENKUL YATIRIM ORTAKLIĞI A.Ş.', 'Open': 3.009999990463257, 'High': 3.2100000381469727, 'Low': 2.880000114440918, 'Close': 3.180000066757202, 'AdjClose': 3.180000066757202, 'Volume': 3022008.0}, {'Symbol': 'YYAPI.IS', 'Company': 'YEŞİL YAPI ENDÜSTRİSİ A.Ş.', 'Open': 2.8499999046325684, 'High': 2.9100000858306885, 'Low': 2.7799999713897705, 'Close': 2.8399999141693115, 'AdjClose': 2.8399999141693115, 'Volume': 9840474.0}, {'Symbol': 'YESIL.IS', 'Company': 'YEŞİL YATIRIM HOLDİNG A.Ş.', 'Open': 3.6600000858306885, 'High': 3.75, 'Low': 3.5799999237060547, 'Close': 3.6500000953674316, 'AdjClose': 3.6500000953674316, 'Volume': 5147199.0}, {'Symbol': 'YBTAS.IS', 'Company': 'YİBİTAŞ YOZGAT İŞÇİ BİRLİĞİ İNŞAAT MALZEMELERİ TİCARET VE SANAYİ A.Ş.', 'Open': 126800.0, 'High': 127555.0, 'Low': 126800.0, 'Close': 127540.0, 'AdjClose': 127540.0, 'Volume': 45.0}, {'Symbol': 'YONGA.IS', 'Company': 'YONGA MOBİLYA SANAYİ VE TİCARET A.Ş.', 'Open': 40.0, 'High': 40.0, 'Low': 38.779998779296875, 'Close': 38.779998779296875, 'AdjClose': 38.779998779296875, 'Volume': 13772.0}, {'Symbol': 'YKSLN.IS', 'Company': 'YÜKSELEN ÇELİK A.Ş.', 'Open': 13.850000381469727, 'High': 13.850000381469727, 'Low': 13.300000190734863, 'Close': 13.399999618530273, 'AdjClose': 13.399999618530273, 'Volume': 2122604.0}, {'Symbol': 'YUNSA.IS', 'Company': 'YÜNSA YÜNLÜ SANAYİ VE TİCARET A.Ş.', 'Open': 68.80000305175781, 'High': 70.5, 'Low': 67.9000015258789, 'Close': 69.9000015258789, 'AdjClose': 69.9000015258789, 'Volume': 330114.0}, {'Symbol': 'ZEDUR.IS', 'Company': 'ZEDUR ENERJİ ELEKTRİK ÜRETİM A.Ş.', 'Open': 72.5, 'High': 79.75, 'Low': 70.5, 'Close': 79.75, 'AdjClose': 79.75, 'Volume': 342098.0}, {'Symbol': 'ZRGYO.IS', 'Company': 'ZİRAAT GAYRİMENKUL YATIRIM ORTAKLIĞI A.Ş.', 'Open': 5.340000152587891, 'High': 5.570000171661377, 'Low': 5.25, 'Close': 5.340000152587891, 'AdjClose': 5.340000152587891, 'Volume': 9531584.0}, {'Symbol': 'ZOREN.IS', 'Company': 'ZORLU ENERJİ ELEKTRİK ÜRETİM A.Ş.', 'Open': 4.050000190734863, 'High': 4.070000171661377, 'Low': 3.940000057220459, 'Close': 4.0, 'AdjClose': 4.0, 'Volume': 81916136.0}, {'Symbol': 'TRY=X', 'Company': 'TRY per USD', 'Open': 29.30590057373047, 'High': 29.4060001373291, 'Low': 29.149049758911133, 'Close': 29.30590057373047, 'AdjClose': 29.30590057373047, 'Volume': 0.0}, {'Symbol': 'XU100.IS', 'Company': 'BİST100', 'Open': 7282.2001953125, 'High': 7365.10009765625, 'Low': 7215.0, 'Close': 7260.39990234375, 'AdjClose': 7260.39990234375, 'Volume': 2146187500.0}, {'Symbol': 'XU030.IS', 'Company': 'BİST30', 'Open': 7937.2998046875, 'High': 8014.39990234375, 'Low': 7840.5, 'Close': 7899.5, 'AdjClose': 7899.5, 'Volume': 1355200.0}, {'Symbol': 'GC=F', 'Company': 'USD per Ounce of Gold', 'Open': 2067.300048828125, 'High': 2081.89990234375, 'Low': 2064.800048828125, 'Close': 2081.89990234375, 'AdjClose': 2081.89990234375, 'Volume': 64.0}]}\n"
     ]
    }
   ],
   "source": [
    "from pymongo import MongoClient\n",
    "\n",
    "# Set up the MongoDB connection\n",
    "mongo_uri = \"mongodb://127.0.0.1:27017/\"\n",
    "db_name = \"stockdata\"\n",
    "collection_name = \"test\"\n",
    "\n",
    "# Connect to MongoDB\n",
    "client = MongoClient(mongo_uri)\n",
    "db = client[db_name]\n",
    "collection = db[collection_name]\n",
    "\n",
    "# Find the most recent document based on the _id field\n",
    "most_recent_document = collection.find_one(sort=[(\"_id\", -1)])\n",
    "\n",
    "# Print or process the most recent document\n",
    "if most_recent_document:\n",
    "    print(\"Most Recent Document:\")\n",
    "    print(most_recent_document)\n",
    "else:\n",
    "    print(\"No documents found in the collection.\")\n"
   ]
  },
  {
   "cell_type": "code",
   "execution_count": 5,
   "metadata": {},
   "outputs": [
    {
     "data": {
      "text/plain": [
       "'/Users/muratisiklan/Desktop/stock-price/Experiments'"
      ]
     },
     "execution_count": 5,
     "metadata": {},
     "output_type": "execute_result"
    }
   ],
   "source": [
    "%pwd"
   ]
  },
  {
   "cell_type": "code",
   "execution_count": 6,
   "metadata": {},
   "outputs": [],
   "source": [
    "import os\n",
    "os.chdir(\"../\")"
   ]
  },
  {
   "cell_type": "code",
   "execution_count": 7,
   "metadata": {},
   "outputs": [],
   "source": [
    "from src.update_db import update_database"
   ]
  },
  {
   "cell_type": "code",
   "execution_count": 20,
   "metadata": {},
   "outputs": [
    {
     "name": "stdout",
     "output_type": "stream",
     "text": [
      "[*********************100%%**********************]  1 of 1 completed"
     ]
    },
    {
     "name": "stderr",
     "output_type": "stream",
     "text": [
      "\n",
      "1 Failed download:\n",
      "['BINHO.IS']: Exception('%ticker%: No price data found, symbol may be delisted (1d 2023-12-28 -> 2023-12-28)')\n"
     ]
    },
    {
     "name": "stdout",
     "output_type": "stream",
     "text": [
      "\n",
      "[*********************100%%**********************]  1 of 1 completed"
     ]
    },
    {
     "name": "stderr",
     "output_type": "stream",
     "text": [
      "\n",
      "1 Failed download:\n",
      "['AVOD.IS']: Exception('%ticker%: No price data found, symbol may be delisted (1d 2023-12-28 -> 2023-12-28)')\n"
     ]
    },
    {
     "name": "stdout",
     "output_type": "stream",
     "text": [
      "\n",
      "[*********************100%%**********************]  1 of 1 completed"
     ]
    },
    {
     "name": "stderr",
     "output_type": "stream",
     "text": [
      "\n",
      "1 Failed download:\n",
      "['A1CAP.IS']: Exception('%ticker%: No price data found, symbol may be delisted (1d 2023-12-28 -> 2023-12-28)')\n"
     ]
    },
    {
     "name": "stdout",
     "output_type": "stream",
     "text": [
      "\n",
      "[*********************100%%**********************]  1 of 1 completed"
     ]
    },
    {
     "name": "stderr",
     "output_type": "stream",
     "text": [
      "\n",
      "1 Failed download:\n",
      "['ACP.IS']: Exception('%ticker%: No timezone found, symbol may be delisted')\n"
     ]
    },
    {
     "name": "stdout",
     "output_type": "stream",
     "text": [
      "\n",
      "[*********************100%%**********************]  1 of 1 completed"
     ]
    },
    {
     "name": "stderr",
     "output_type": "stream",
     "text": [
      "\n",
      "1 Failed download:\n",
      "['ACSEL.IS']: Exception('%ticker%: No price data found, symbol may be delisted (1d 2023-12-28 -> 2023-12-28)')\n"
     ]
    },
    {
     "name": "stdout",
     "output_type": "stream",
     "text": [
      "\n",
      "[*********************100%%**********************]  1 of 1 completed"
     ]
    },
    {
     "name": "stderr",
     "output_type": "stream",
     "text": [
      "\n",
      "1 Failed download:\n",
      "['ADEL.IS']: Exception('%ticker%: No price data found, symbol may be delisted (1d 2023-12-28 -> 2023-12-28)')\n"
     ]
    },
    {
     "name": "stdout",
     "output_type": "stream",
     "text": [
      "\n",
      "[*********************100%%**********************]  1 of 1 completed"
     ]
    },
    {
     "name": "stderr",
     "output_type": "stream",
     "text": [
      "\n",
      "1 Failed download:\n",
      "['ADESE.IS']: Exception('%ticker%: No price data found, symbol may be delisted (1d 2023-12-28 -> 2023-12-28)')\n"
     ]
    },
    {
     "name": "stdout",
     "output_type": "stream",
     "text": [
      "\n",
      "[*********************100%%**********************]  1 of 1 completed"
     ]
    },
    {
     "name": "stderr",
     "output_type": "stream",
     "text": [
      "\n",
      "1 Failed download:\n",
      "['ADGYO.IS']: Exception('%ticker%: No price data found, symbol may be delisted (1d 2023-12-28 -> 2023-12-28)')\n"
     ]
    },
    {
     "name": "stdout",
     "output_type": "stream",
     "text": [
      "\n",
      "[*********************100%%**********************]  1 of 1 completed"
     ]
    },
    {
     "name": "stderr",
     "output_type": "stream",
     "text": [
      "\n",
      "1 Failed download:\n",
      "['AFYON.IS']: Exception('%ticker%: No price data found, symbol may be delisted (1d 2023-12-28 -> 2023-12-28)')\n"
     ]
    },
    {
     "name": "stdout",
     "output_type": "stream",
     "text": [
      "\n",
      "[*********************100%%**********************]  1 of 1 completed"
     ]
    },
    {
     "name": "stderr",
     "output_type": "stream",
     "text": [
      "\n",
      "1 Failed download:\n",
      "['AGHOL.IS']: Exception('%ticker%: No price data found, symbol may be delisted (1d 2023-12-28 -> 2023-12-28)')\n"
     ]
    },
    {
     "name": "stdout",
     "output_type": "stream",
     "text": [
      "\n",
      "[*********************100%%**********************]  1 of 1 completed"
     ]
    },
    {
     "name": "stderr",
     "output_type": "stream",
     "text": [
      "\n",
      "1 Failed download:\n",
      "['AGESA.IS']: Exception('%ticker%: No price data found, symbol may be delisted (1d 2023-12-28 -> 2023-12-28)')\n"
     ]
    },
    {
     "name": "stdout",
     "output_type": "stream",
     "text": [
      "\n",
      "[*********************100%%**********************]  1 of 1 completed"
     ]
    },
    {
     "name": "stderr",
     "output_type": "stream",
     "text": [
      "\n",
      "1 Failed download:\n",
      "['AGROT.IS']: Exception('%ticker%: No price data found, symbol may be delisted (1d 2023-12-28 -> 2023-12-28)')\n"
     ]
    },
    {
     "name": "stdout",
     "output_type": "stream",
     "text": [
      "\n",
      "[*********************100%%**********************]  1 of 1 completed"
     ]
    },
    {
     "name": "stderr",
     "output_type": "stream",
     "text": [
      "\n",
      "1 Failed download:\n",
      "['AHGAZ.IS']: Exception('%ticker%: No price data found, symbol may be delisted (1d 2023-12-28 -> 2023-12-28)')\n"
     ]
    },
    {
     "name": "stdout",
     "output_type": "stream",
     "text": [
      "\n",
      "[*********************100%%**********************]  1 of 1 completed"
     ]
    },
    {
     "name": "stderr",
     "output_type": "stream",
     "text": [
      "\n",
      "1 Failed download:\n",
      "['AKSFA.IS']: Exception('%ticker%: No timezone found, symbol may be delisted')\n"
     ]
    },
    {
     "name": "stdout",
     "output_type": "stream",
     "text": [
      "\n",
      "[*********************100%%**********************]  1 of 1 completed"
     ]
    },
    {
     "name": "stderr",
     "output_type": "stream",
     "text": [
      "\n",
      "1 Failed download:\n",
      "['AKFK.IS']: Exception('%ticker%: No timezone found, symbol may be delisted')\n"
     ]
    },
    {
     "name": "stdout",
     "output_type": "stream",
     "text": [
      "\n",
      "[*********************100%%**********************]  1 of 1 completed"
     ]
    },
    {
     "name": "stderr",
     "output_type": "stream",
     "text": [
      "\n",
      "1 Failed download:\n",
      "['AKM.IS']: Exception('%ticker%: No timezone found, symbol may be delisted')\n"
     ]
    },
    {
     "name": "stdout",
     "output_type": "stream",
     "text": [
      "\n",
      "[*********************100%%**********************]  1 of 1 completed"
     ]
    },
    {
     "name": "stderr",
     "output_type": "stream",
     "text": [
      "\n",
      "1 Failed download:\n",
      "['AKMEN.IS']: Exception('%ticker%: No timezone found, symbol may be delisted')\n"
     ]
    },
    {
     "name": "stdout",
     "output_type": "stream",
     "text": [
      "\n",
      "[*********************100%%**********************]  1 of 1 completed"
     ]
    },
    {
     "name": "stderr",
     "output_type": "stream",
     "text": [
      "\n",
      "1 Failed download:\n",
      "['AKBNK.IS']: Exception('%ticker%: No price data found, symbol may be delisted (1d 2023-12-28 -> 2023-12-28)')\n"
     ]
    },
    {
     "name": "stdout",
     "output_type": "stream",
     "text": [
      "\n",
      "[*********************100%%**********************]  1 of 1 completed"
     ]
    },
    {
     "name": "stderr",
     "output_type": "stream",
     "text": [
      "\n",
      "1 Failed download:\n",
      "['AKCKM.IS']: Exception('%ticker%: No timezone found, symbol may be delisted')\n"
     ]
    },
    {
     "name": "stdout",
     "output_type": "stream",
     "text": [
      "\n",
      "[*********************100%%**********************]  1 of 1 completed"
     ]
    },
    {
     "name": "stderr",
     "output_type": "stream",
     "text": [
      "\n",
      "1 Failed download:\n",
      "['AKCNS.IS']: Exception('%ticker%: No price data found, symbol may be delisted (1d 2023-12-28 -> 2023-12-28)')\n"
     ]
    },
    {
     "name": "stdout",
     "output_type": "stream",
     "text": [
      "\n",
      "[*********************100%%**********************]  1 of 1 completed"
     ]
    },
    {
     "name": "stderr",
     "output_type": "stream",
     "text": [
      "\n",
      "1 Failed download:\n",
      "['AKDFA.IS']: Exception('%ticker%: No timezone found, symbol may be delisted')\n"
     ]
    },
    {
     "name": "stdout",
     "output_type": "stream",
     "text": [
      "\n",
      "[*********************100%%**********************]  1 of 1 completed"
     ]
    },
    {
     "name": "stderr",
     "output_type": "stream",
     "text": [
      "\n",
      "1 Failed download:\n",
      "['AKYHO.IS']: Exception('%ticker%: No price data found, symbol may be delisted (1d 2023-12-28 -> 2023-12-28)')\n"
     ]
    },
    {
     "name": "stdout",
     "output_type": "stream",
     "text": [
      "\n",
      "[*********************100%%**********************]  1 of 1 completed"
     ]
    },
    {
     "name": "stderr",
     "output_type": "stream",
     "text": [
      "\n",
      "1 Failed download:\n",
      "['AKENR.IS']: Exception('%ticker%: No price data found, symbol may be delisted (1d 2023-12-28 -> 2023-12-28)')\n"
     ]
    },
    {
     "name": "stdout",
     "output_type": "stream",
     "text": [
      "\n",
      "[*********************100%%**********************]  1 of 1 completed"
     ]
    },
    {
     "name": "stderr",
     "output_type": "stream",
     "text": [
      "\n",
      "1 Failed download:\n",
      "['AKFGY.IS']: Exception('%ticker%: No price data found, symbol may be delisted (1d 2023-12-28 -> 2023-12-28)')\n"
     ]
    },
    {
     "name": "stdout",
     "output_type": "stream",
     "text": [
      "\n",
      "[*********************100%%**********************]  1 of 1 completed"
     ]
    },
    {
     "name": "stderr",
     "output_type": "stream",
     "text": [
      "\n",
      "1 Failed download:\n",
      "['AKFYE.IS']: Exception('%ticker%: No price data found, symbol may be delisted (1d 2023-12-28 -> 2023-12-28)')\n"
     ]
    },
    {
     "name": "stdout",
     "output_type": "stream",
     "text": [
      "\n",
      "[*********************100%%**********************]  1 of 1 completed"
     ]
    },
    {
     "name": "stderr",
     "output_type": "stream",
     "text": [
      "\n",
      "1 Failed download:\n",
      "['ATEKS.IS']: Exception('%ticker%: No price data found, symbol may be delisted (1d 2023-12-28 -> 2023-12-28)')\n"
     ]
    },
    {
     "name": "stdout",
     "output_type": "stream",
     "text": [
      "\n",
      "[*********************100%%**********************]  1 of 1 completed"
     ]
    },
    {
     "name": "stderr",
     "output_type": "stream",
     "text": [
      "\n",
      "1 Failed download:\n",
      "['AKSGY.IS']: Exception('%ticker%: No price data found, symbol may be delisted (1d 2023-12-28 -> 2023-12-28)')\n"
     ]
    },
    {
     "name": "stdout",
     "output_type": "stream",
     "text": [
      "\n",
      "[*********************100%%**********************]  1 of 1 completed"
     ]
    },
    {
     "name": "stderr",
     "output_type": "stream",
     "text": [
      "\n",
      "1 Failed download:\n",
      "['AKMGY.IS']: Exception('%ticker%: No price data found, symbol may be delisted (1d 2023-12-28 -> 2023-12-28)')\n"
     ]
    },
    {
     "name": "stdout",
     "output_type": "stream",
     "text": [
      "\n",
      "[*********************100%%**********************]  1 of 1 completed"
     ]
    },
    {
     "name": "stderr",
     "output_type": "stream",
     "text": [
      "\n",
      "1 Failed download:\n",
      "['AKSA.IS']: Exception('%ticker%: No price data found, symbol may be delisted (1d 2023-12-28 -> 2023-12-28)')\n"
     ]
    },
    {
     "name": "stdout",
     "output_type": "stream",
     "text": [
      "\n",
      "[*********************100%%**********************]  1 of 1 completed"
     ]
    },
    {
     "name": "stderr",
     "output_type": "stream",
     "text": [
      "\n",
      "1 Failed download:\n",
      "['AKSEN.IS']: Exception('%ticker%: No price data found, symbol may be delisted (1d 2023-12-28 -> 2023-12-28)')\n"
     ]
    },
    {
     "name": "stdout",
     "output_type": "stream",
     "text": [
      "\n",
      "[*********************100%%**********************]  1 of 1 completed"
     ]
    },
    {
     "name": "stderr",
     "output_type": "stream",
     "text": [
      "\n",
      "1 Failed download:\n",
      "['AKGRT.IS']: Exception('%ticker%: No price data found, symbol may be delisted (1d 2023-12-28 -> 2023-12-28)')\n"
     ]
    },
    {
     "name": "stdout",
     "output_type": "stream",
     "text": [
      "\n",
      "[*********************100%%**********************]  1 of 1 completed"
     ]
    },
    {
     "name": "stderr",
     "output_type": "stream",
     "text": [
      "\n",
      "1 Failed download:\n",
      "['AKSUE.IS']: Exception('%ticker%: No price data found, symbol may be delisted (1d 2023-12-28 -> 2023-12-28)')\n"
     ]
    },
    {
     "name": "stdout",
     "output_type": "stream",
     "text": [
      "\n",
      "[*********************100%%**********************]  1 of 1 completed"
     ]
    },
    {
     "name": "stderr",
     "output_type": "stream",
     "text": [
      "\n",
      "1 Failed download:\n",
      "['AKTVK.IS']: Exception('%ticker%: No timezone found, symbol may be delisted')\n"
     ]
    },
    {
     "name": "stdout",
     "output_type": "stream",
     "text": [
      "\n",
      "[*********************100%%**********************]  1 of 1 completed"
     ]
    },
    {
     "name": "stderr",
     "output_type": "stream",
     "text": [
      "\n",
      "1 Failed download:\n",
      "['AFB.IS']: Exception('%ticker%: No timezone found, symbol may be delisted')\n"
     ]
    },
    {
     "name": "stdout",
     "output_type": "stream",
     "text": [
      "\n",
      "[*********************100%%**********************]  1 of 1 completed"
     ]
    },
    {
     "name": "stderr",
     "output_type": "stream",
     "text": [
      "\n",
      "1 Failed download:\n",
      "['AKTIF.IS']: Exception('%ticker%: No timezone found, symbol may be delisted')\n"
     ]
    },
    {
     "name": "stdout",
     "output_type": "stream",
     "text": [
      "\n",
      "[*********************100%%**********************]  1 of 1 completed"
     ]
    },
    {
     "name": "stderr",
     "output_type": "stream",
     "text": [
      "\n",
      "1 Failed download:\n",
      "['ALCAR.IS']: Exception('%ticker%: No price data found, symbol may be delisted (1d 2023-12-28 -> 2023-12-28)')\n"
     ]
    },
    {
     "name": "stdout",
     "output_type": "stream",
     "text": [
      "\n",
      "[*********************100%%**********************]  1 of 1 completed"
     ]
    },
    {
     "name": "stderr",
     "output_type": "stream",
     "text": [
      "\n",
      "1 Failed download:\n",
      "['ALGYO.IS']: Exception('%ticker%: No price data found, symbol may be delisted (1d 2023-12-28 -> 2023-12-28)')\n"
     ]
    },
    {
     "name": "stdout",
     "output_type": "stream",
     "text": [
      "\n",
      "[*********************100%%**********************]  1 of 1 completed"
     ]
    },
    {
     "name": "stderr",
     "output_type": "stream",
     "text": [
      "\n",
      "1 Failed download:\n",
      "['ALARK.IS']: Exception('%ticker%: No price data found, symbol may be delisted (1d 2023-12-28 -> 2023-12-28)')\n"
     ]
    },
    {
     "name": "stdout",
     "output_type": "stream",
     "text": [
      "\n",
      "[*********************100%%**********************]  1 of 1 completed"
     ]
    },
    {
     "name": "stderr",
     "output_type": "stream",
     "text": [
      "\n",
      "1 Failed download:\n",
      "['ALBRK.IS']: Exception('%ticker%: No price data found, symbol may be delisted (1d 2023-12-28 -> 2023-12-28)')\n"
     ]
    },
    {
     "name": "stdout",
     "output_type": "stream",
     "text": [
      "\n",
      "[*********************100%%**********************]  1 of 1 completed"
     ]
    },
    {
     "name": "stderr",
     "output_type": "stream",
     "text": [
      "\n",
      "1 Failed download:\n",
      "['ALK.IS']: Exception('%ticker%: No timezone found, symbol may be delisted')\n"
     ]
    },
    {
     "name": "stdout",
     "output_type": "stream",
     "text": [
      "\n",
      "[*********************100%%**********************]  1 of 1 completed"
     ]
    },
    {
     "name": "stderr",
     "output_type": "stream",
     "text": [
      "\n",
      "1 Failed download:\n",
      "['ALCTL.IS']: Exception('%ticker%: No price data found, symbol may be delisted (1d 2023-12-28 -> 2023-12-28)')\n"
     ]
    },
    {
     "name": "stdout",
     "output_type": "stream",
     "text": [
      "\n",
      "[*********************100%%**********************]  1 of 1 completed"
     ]
    },
    {
     "name": "stderr",
     "output_type": "stream",
     "text": [
      "\n",
      "1 Failed download:\n",
      "['ALFAS.IS']: Exception('%ticker%: No price data found, symbol may be delisted (1d 2023-12-28 -> 2023-12-28)')\n"
     ]
    },
    {
     "name": "stdout",
     "output_type": "stream",
     "text": [
      "\n",
      "[*********************100%%**********************]  1 of 1 completed"
     ]
    },
    {
     "name": "stderr",
     "output_type": "stream",
     "text": [
      "\n",
      "1 Failed download:\n",
      "['ALJF.IS']: Exception('%ticker%: No timezone found, symbol may be delisted')\n"
     ]
    },
    {
     "name": "stdout",
     "output_type": "stream",
     "text": [
      "\n",
      "[*********************100%%**********************]  1 of 1 completed"
     ]
    },
    {
     "name": "stderr",
     "output_type": "stream",
     "text": [
      "\n",
      "1 Failed download:\n",
      "['ALKIM.IS']: Exception('%ticker%: No price data found, symbol may be delisted (1d 2023-12-28 -> 2023-12-28)')\n"
     ]
    },
    {
     "name": "stdout",
     "output_type": "stream",
     "text": [
      "\n",
      "[*********************100%%**********************]  1 of 1 completed"
     ]
    },
    {
     "name": "stderr",
     "output_type": "stream",
     "text": [
      "\n",
      "1 Failed download:\n",
      "['ALKA.IS']: Exception('%ticker%: No price data found, symbol may be delisted (1d 2023-12-28 -> 2023-12-28)')\n"
     ]
    },
    {
     "name": "stdout",
     "output_type": "stream",
     "text": [
      "\n",
      "[*********************100%%**********************]  1 of 1 completed"
     ]
    },
    {
     "name": "stderr",
     "output_type": "stream",
     "text": [
      "\n",
      "1 Failed download:\n",
      "['ALNUS.IS']: Exception('%ticker%: No timezone found, symbol may be delisted')\n"
     ]
    },
    {
     "name": "stdout",
     "output_type": "stream",
     "text": [
      "\n",
      "[*********************100%%**********************]  1 of 1 completed"
     ]
    },
    {
     "name": "stderr",
     "output_type": "stream",
     "text": [
      "\n",
      "1 Failed download:\n",
      "['ANC.IS']: Exception('%ticker%: No timezone found, symbol may be delisted')\n"
     ]
    },
    {
     "name": "stdout",
     "output_type": "stream",
     "text": [
      "\n",
      "[*********************100%%**********************]  1 of 1 completed"
     ]
    },
    {
     "name": "stderr",
     "output_type": "stream",
     "text": [
      "\n",
      "1 Failed download:\n",
      "['ALFIN.IS']: Exception('%ticker%: No timezone found, symbol may be delisted')\n"
     ]
    },
    {
     "name": "stdout",
     "output_type": "stream",
     "text": [
      "\n",
      "[*********************100%%**********************]  1 of 1 completed"
     ]
    },
    {
     "name": "stderr",
     "output_type": "stream",
     "text": [
      "\n",
      "1 Failed download:\n",
      "['AYCES.IS']: Exception('%ticker%: No price data found, symbol may be delisted (1d 2023-12-28 -> 2023-12-28)')\n"
     ]
    },
    {
     "name": "stdout",
     "output_type": "stream",
     "text": [
      "\n",
      "[*********************100%%**********************]  1 of 1 completed"
     ]
    },
    {
     "name": "stderr",
     "output_type": "stream",
     "text": [
      "\n",
      "1 Failed download:\n",
      "['ALMAD.IS']: Exception('%ticker%: No price data found, symbol may be delisted (1d 2023-12-28 -> 2023-12-28)')\n"
     ]
    },
    {
     "name": "stdout",
     "output_type": "stream",
     "text": [
      "\n",
      "[*********************100%%**********************]  1 of 1 completed"
     ]
    },
    {
     "name": "stderr",
     "output_type": "stream",
     "text": [
      "\n",
      "1 Failed download:\n",
      "['ANSGR.IS']: Exception('%ticker%: No price data found, symbol may be delisted (1d 2023-12-28 -> 2023-12-28)')\n"
     ]
    },
    {
     "name": "stdout",
     "output_type": "stream",
     "text": [
      "\n",
      "[*********************100%%**********************]  1 of 1 completed"
     ]
    },
    {
     "name": "stderr",
     "output_type": "stream",
     "text": [
      "\n",
      "1 Failed download:\n",
      "['AEFES.IS']: Exception('%ticker%: No price data found, symbol may be delisted (1d 2023-12-28 -> 2023-12-28)')\n"
     ]
    },
    {
     "name": "stdout",
     "output_type": "stream",
     "text": [
      "\n",
      "[*********************100%%**********************]  1 of 1 completed"
     ]
    },
    {
     "name": "stderr",
     "output_type": "stream",
     "text": [
      "\n",
      "1 Failed download:\n",
      "['ANHYT.IS']: Exception('%ticker%: No price data found, symbol may be delisted (1d 2023-12-28 -> 2023-12-28)')\n"
     ]
    },
    {
     "name": "stdout",
     "output_type": "stream",
     "text": [
      "\n",
      "[*********************100%%**********************]  1 of 1 completed"
     ]
    },
    {
     "name": "stderr",
     "output_type": "stream",
     "text": [
      "\n",
      "1 Failed download:\n",
      "['ASUZU.IS']: Exception('%ticker%: No price data found, symbol may be delisted (1d 2023-12-28 -> 2023-12-28)')\n"
     ]
    },
    {
     "name": "stdout",
     "output_type": "stream",
     "text": [
      "\n",
      "[*********************100%%**********************]  1 of 1 completed"
     ]
    },
    {
     "name": "stderr",
     "output_type": "stream",
     "text": [
      "\n",
      "1 Failed download:\n",
      "['ANGEN.IS']: Exception('%ticker%: No price data found, symbol may be delisted (1d 2023-12-28 -> 2023-12-28)')\n"
     ]
    },
    {
     "name": "stdout",
     "output_type": "stream",
     "text": [
      "\n",
      "[*********************100%%**********************]  1 of 1 completed"
     ]
    },
    {
     "name": "stderr",
     "output_type": "stream",
     "text": [
      "\n",
      "1 Failed download:\n",
      "['ANELE.IS']: Exception('%ticker%: No price data found, symbol may be delisted (1d 2023-12-28 -> 2023-12-28)')\n"
     ]
    },
    {
     "name": "stdout",
     "output_type": "stream",
     "text": [
      "\n",
      "[*********************100%%**********************]  1 of 1 completed"
     ]
    },
    {
     "name": "stderr",
     "output_type": "stream",
     "text": [
      "\n",
      "1 Failed download:\n",
      "['ARCLK.IS']: Exception('%ticker%: No price data found, symbol may be delisted (1d 2023-12-28 -> 2023-12-28)')\n"
     ]
    },
    {
     "name": "stdout",
     "output_type": "stream",
     "text": [
      "\n",
      "[*********************100%%**********************]  1 of 1 completed"
     ]
    },
    {
     "name": "stderr",
     "output_type": "stream",
     "text": [
      "\n",
      "1 Failed download:\n",
      "['ARDYZ.IS']: Exception('%ticker%: No price data found, symbol may be delisted (1d 2023-12-28 -> 2023-12-28)')\n"
     ]
    },
    {
     "name": "stdout",
     "output_type": "stream",
     "text": [
      "\n",
      "[*********************100%%**********************]  1 of 1 completed"
     ]
    },
    {
     "name": "stderr",
     "output_type": "stream",
     "text": [
      "\n",
      "1 Failed download:\n",
      "['ARENA.IS']: Exception('%ticker%: No price data found, symbol may be delisted (1d 2023-12-28 -> 2023-12-28)')\n"
     ]
    },
    {
     "name": "stdout",
     "output_type": "stream",
     "text": [
      "\n",
      "[*********************100%%**********************]  1 of 1 completed"
     ]
    },
    {
     "name": "stderr",
     "output_type": "stream",
     "text": [
      "\n",
      "1 Failed download:\n",
      "['ARNFK.IS']: Exception('%ticker%: No timezone found, symbol may be delisted')\n"
     ]
    },
    {
     "name": "stdout",
     "output_type": "stream",
     "text": [
      "\n",
      "[*********************100%%**********************]  1 of 1 completed"
     ]
    },
    {
     "name": "stderr",
     "output_type": "stream",
     "text": [
      "\n",
      "1 Failed download:\n",
      "['ARSAN.IS']: Exception('%ticker%: No price data found, symbol may be delisted (1d 2023-12-28 -> 2023-12-28)')\n"
     ]
    },
    {
     "name": "stdout",
     "output_type": "stream",
     "text": [
      "\n",
      "[*********************100%%**********************]  1 of 1 completed"
     ]
    },
    {
     "name": "stderr",
     "output_type": "stream",
     "text": [
      "\n",
      "1 Failed download:\n",
      "['ARZUM.IS']: Exception(\"%ticker%: Period 'max' is invalid, must be one of ['1d', '5d']\")\n"
     ]
    },
    {
     "name": "stdout",
     "output_type": "stream",
     "text": [
      "\n",
      "[*********************100%%**********************]  1 of 1 completed"
     ]
    },
    {
     "name": "stderr",
     "output_type": "stream",
     "text": [
      "\n",
      "1 Failed download:\n",
      "['ASGYO.IS']: Exception('%ticker%: No price data found, symbol may be delisted (1d 2023-12-28 -> 2023-12-28)')\n"
     ]
    },
    {
     "name": "stdout",
     "output_type": "stream",
     "text": [
      "\n",
      "[*********************100%%**********************]  1 of 1 completed"
     ]
    },
    {
     "name": "stderr",
     "output_type": "stream",
     "text": [
      "\n",
      "1 Failed download:\n",
      "['ASELS.IS']: Exception('%ticker%: No price data found, symbol may be delisted (1d 2023-12-28 -> 2023-12-28)')\n"
     ]
    },
    {
     "name": "stdout",
     "output_type": "stream",
     "text": [
      "\n",
      "[*********************100%%**********************]  1 of 1 completed"
     ]
    },
    {
     "name": "stderr",
     "output_type": "stream",
     "text": [
      "\n",
      "1 Failed download:\n",
      "['ASTOR.IS']: Exception(\"%ticker%: Period 'max' is invalid, must be one of ['1d', '5d']\")\n"
     ]
    },
    {
     "name": "stdout",
     "output_type": "stream",
     "text": [
      "\n",
      "[*********************100%%**********************]  1 of 1 completed"
     ]
    },
    {
     "name": "stderr",
     "output_type": "stream",
     "text": [
      "\n",
      "1 Failed download:\n",
      "['ATAGY.IS']: Exception('%ticker%: No price data found, symbol may be delisted (1d 2023-12-28 -> 2023-12-28)')\n"
     ]
    },
    {
     "name": "stdout",
     "output_type": "stream",
     "text": [
      "\n",
      "[*********************100%%**********************]  1 of 1 completed"
     ]
    },
    {
     "name": "stderr",
     "output_type": "stream",
     "text": [
      "\n",
      "1 Failed download:\n",
      "['ATA.IS']: Exception('%ticker%: No timezone found, symbol may be delisted')\n"
     ]
    },
    {
     "name": "stdout",
     "output_type": "stream",
     "text": [
      "\n",
      "[*********************100%%**********************]  1 of 1 completed"
     ]
    },
    {
     "name": "stderr",
     "output_type": "stream",
     "text": [
      "\n",
      "1 Failed download:\n",
      "['ATAYM.IS']: Exception('%ticker%: No timezone found, symbol may be delisted')\n"
     ]
    },
    {
     "name": "stdout",
     "output_type": "stream",
     "text": [
      "\n",
      "[*********************100%%**********************]  1 of 1 completed"
     ]
    },
    {
     "name": "stderr",
     "output_type": "stream",
     "text": [
      "\n",
      "1 Failed download:\n",
      "['ATAKP.IS']: Exception('%ticker%: No price data found, symbol may be delisted (1d 2023-12-28 -> 2023-12-28)')\n"
     ]
    },
    {
     "name": "stdout",
     "output_type": "stream",
     "text": [
      "\n",
      "[*********************100%%**********************]  1 of 1 completed"
     ]
    },
    {
     "name": "stderr",
     "output_type": "stream",
     "text": [
      "\n",
      "1 Failed download:\n",
      "['AGYO.IS']: Exception('%ticker%: No price data found, symbol may be delisted (1d 2023-12-28 -> 2023-12-28)')\n"
     ]
    },
    {
     "name": "stdout",
     "output_type": "stream",
     "text": [
      "\n",
      "[*********************100%%**********************]  1 of 1 completed"
     ]
    },
    {
     "name": "stderr",
     "output_type": "stream",
     "text": [
      "\n",
      "1 Failed download:\n",
      "['ATLFA.IS']: Exception('%ticker%: No timezone found, symbol may be delisted')\n"
     ]
    },
    {
     "name": "stdout",
     "output_type": "stream",
     "text": [
      "\n",
      "[*********************100%%**********************]  1 of 1 completed"
     ]
    },
    {
     "name": "stderr",
     "output_type": "stream",
     "text": [
      "\n",
      "1 Failed download:\n",
      "['ATSYH.IS']: Exception('%ticker%: No price data found, symbol may be delisted (1d 2023-12-28 -> 2023-12-28)')\n"
     ]
    },
    {
     "name": "stdout",
     "output_type": "stream",
     "text": [
      "\n",
      "[*********************100%%**********************]  1 of 1 completed"
     ]
    },
    {
     "name": "stderr",
     "output_type": "stream",
     "text": [
      "\n",
      "1 Failed download:\n",
      "['ATLAS.IS']: Exception('%ticker%: No price data found, symbol may be delisted (1d 2023-12-28 -> 2023-12-28)')\n"
     ]
    },
    {
     "name": "stdout",
     "output_type": "stream",
     "text": [
      "\n",
      "[*********************100%%**********************]  1 of 1 completed"
     ]
    },
    {
     "name": "stderr",
     "output_type": "stream",
     "text": [
      "\n",
      "1 Failed download:\n",
      "['ATATP.IS']: Exception('%ticker%: No price data found, symbol may be delisted (1d 2023-12-28 -> 2023-12-28)')\n"
     ]
    },
    {
     "name": "stdout",
     "output_type": "stream",
     "text": [
      "\n",
      "[*********************100%%**********************]  1 of 1 completed"
     ]
    },
    {
     "name": "stderr",
     "output_type": "stream",
     "text": [
      "\n",
      "1 Failed download:\n",
      "['AVGYO.IS']: Exception('%ticker%: No price data found, symbol may be delisted (1d 2023-12-28 -> 2023-12-28)')\n"
     ]
    },
    {
     "name": "stdout",
     "output_type": "stream",
     "text": [
      "\n",
      "[*********************100%%**********************]  1 of 1 completed"
     ]
    },
    {
     "name": "stderr",
     "output_type": "stream",
     "text": [
      "\n",
      "1 Failed download:\n",
      "['AVTUR.IS']: Exception('%ticker%: No price data found, symbol may be delisted (1d 2023-12-28 -> 2023-12-28)')\n"
     ]
    },
    {
     "name": "stdout",
     "output_type": "stream",
     "text": [
      "\n",
      "[*********************100%%**********************]  1 of 1 completed"
     ]
    },
    {
     "name": "stderr",
     "output_type": "stream",
     "text": [
      "\n",
      "1 Failed download:\n",
      "['AVHOL.IS']: Exception('%ticker%: No price data found, symbol may be delisted (1d 2023-12-28 -> 2023-12-28)')\n"
     ]
    },
    {
     "name": "stdout",
     "output_type": "stream",
     "text": [
      "\n",
      "[*********************100%%**********************]  1 of 1 completed"
     ]
    },
    {
     "name": "stderr",
     "output_type": "stream",
     "text": [
      "\n",
      "1 Failed download:\n",
      "['AVPGY.IS']: Exception('%ticker%: No price data found, symbol may be delisted (1d 2023-12-28 -> 2023-12-28)')\n"
     ]
    },
    {
     "name": "stdout",
     "output_type": "stream",
     "text": [
      "\n",
      "[*********************100%%**********************]  1 of 1 completed"
     ]
    },
    {
     "name": "stderr",
     "output_type": "stream",
     "text": [
      "\n",
      "1 Failed download:\n",
      "['AYDEM.IS']: Exception('%ticker%: No price data found, symbol may be delisted (1d 2023-12-28 -> 2023-12-28)')\n"
     ]
    },
    {
     "name": "stdout",
     "output_type": "stream",
     "text": [
      "\n",
      "[*********************100%%**********************]  1 of 1 completed"
     ]
    },
    {
     "name": "stderr",
     "output_type": "stream",
     "text": [
      "\n",
      "1 Failed download:\n",
      "['AYEN.IS']: Exception('%ticker%: No price data found, symbol may be delisted (1d 2023-12-28 -> 2023-12-28)')\n"
     ]
    },
    {
     "name": "stdout",
     "output_type": "stream",
     "text": [
      "\n",
      "[*********************100%%**********************]  1 of 1 completed"
     ]
    },
    {
     "name": "stderr",
     "output_type": "stream",
     "text": [
      "\n",
      "1 Failed download:\n",
      "['AYES.IS']: Exception('%ticker%: No price data found, symbol may be delisted (1d 2023-12-28 -> 2023-12-28)')\n"
     ]
    },
    {
     "name": "stdout",
     "output_type": "stream",
     "text": [
      "\n",
      "[*********************100%%**********************]  1 of 1 completed"
     ]
    },
    {
     "name": "stderr",
     "output_type": "stream",
     "text": [
      "\n",
      "1 Failed download:\n",
      "['AYGAZ.IS']: Exception('%ticker%: No price data found, symbol may be delisted (1d 2023-12-28 -> 2023-12-28)')\n"
     ]
    },
    {
     "name": "stdout",
     "output_type": "stream",
     "text": [
      "\n",
      "[*********************100%%**********************]  1 of 1 completed"
     ]
    },
    {
     "name": "stderr",
     "output_type": "stream",
     "text": [
      "\n",
      "1 Failed download:\n",
      "['AZTEK.IS']: Exception(\"%ticker%: Period 'max' is invalid, must be one of ['1d', '5d']\")\n"
     ]
    },
    {
     "name": "stdout",
     "output_type": "stream",
     "text": [
      "\n",
      "[*********************100%%**********************]  1 of 1 completed"
     ]
    },
    {
     "name": "stderr",
     "output_type": "stream",
     "text": [
      "\n",
      "1 Failed download:\n",
      "['BAGFS.IS']: Exception('%ticker%: No price data found, symbol may be delisted (1d 2023-12-28 -> 2023-12-28)')\n"
     ]
    },
    {
     "name": "stdout",
     "output_type": "stream",
     "text": [
      "\n",
      "[*********************100%%**********************]  1 of 1 completed"
     ]
    },
    {
     "name": "stderr",
     "output_type": "stream",
     "text": [
      "\n",
      "1 Failed download:\n",
      "['BAKAB.IS']: Exception('%ticker%: No price data found, symbol may be delisted (1d 2023-12-28 -> 2023-12-28)')\n"
     ]
    },
    {
     "name": "stdout",
     "output_type": "stream",
     "text": [
      "\n",
      "[*********************100%%**********************]  1 of 1 completed"
     ]
    },
    {
     "name": "stderr",
     "output_type": "stream",
     "text": [
      "\n",
      "1 Failed download:\n",
      "['BALAT.IS']: Exception('%ticker%: No price data found, symbol may be delisted (1d 2023-12-28 -> 2023-12-28)')\n"
     ]
    },
    {
     "name": "stdout",
     "output_type": "stream",
     "text": [
      "\n",
      "[*********************100%%**********************]  1 of 1 completed"
     ]
    },
    {
     "name": "stderr",
     "output_type": "stream",
     "text": [
      "\n",
      "1 Failed download:\n",
      "['BNTAS.IS']: Exception('%ticker%: No price data found, symbol may be delisted (1d 2023-12-28 -> 2023-12-28)')\n"
     ]
    },
    {
     "name": "stdout",
     "output_type": "stream",
     "text": [
      "\n",
      "[*********************100%%**********************]  1 of 1 completed"
     ]
    },
    {
     "name": "stderr",
     "output_type": "stream",
     "text": [
      "\n",
      "1 Failed download:\n",
      "['BANVT.IS']: Exception('%ticker%: No price data found, symbol may be delisted (1d 2023-12-28 -> 2023-12-28)')\n"
     ]
    },
    {
     "name": "stdout",
     "output_type": "stream",
     "text": [
      "\n",
      "[*********************100%%**********************]  1 of 1 completed"
     ]
    },
    {
     "name": "stderr",
     "output_type": "stream",
     "text": [
      "\n",
      "1 Failed download:\n",
      "['BARMA.IS']: Exception(\"%ticker%: Period 'max' is invalid, must be one of ['1d', '5d']\")\n"
     ]
    },
    {
     "name": "stdout",
     "output_type": "stream",
     "text": [
      "\n",
      "[*********************100%%**********************]  1 of 1 completed"
     ]
    },
    {
     "name": "stderr",
     "output_type": "stream",
     "text": [
      "\n",
      "1 Failed download:\n",
      "['BASGZ.IS']: Exception(\"%ticker%: Period 'max' is invalid, must be one of ['1d', '5d']\")\n"
     ]
    },
    {
     "name": "stdout",
     "output_type": "stream",
     "text": [
      "\n",
      "[*********************100%%**********************]  1 of 1 completed"
     ]
    },
    {
     "name": "stderr",
     "output_type": "stream",
     "text": [
      "\n",
      "1 Failed download:\n",
      "['BASCM.IS']: Exception('%ticker%: No price data found, symbol may be delisted (1d 2023-12-28 -> 2023-12-28)')\n"
     ]
    },
    {
     "name": "stdout",
     "output_type": "stream",
     "text": [
      "\n",
      "[*********************100%%**********************]  1 of 1 completed"
     ]
    },
    {
     "name": "stderr",
     "output_type": "stream",
     "text": [
      "\n",
      "1 Failed download:\n",
      "['BEGYO.IS']: Exception('%ticker%: No price data found, symbol may be delisted (1d 2023-12-28 -> 2023-12-28)')\n"
     ]
    },
    {
     "name": "stdout",
     "output_type": "stream",
     "text": [
      "\n",
      "[*********************100%%**********************]  1 of 1 completed"
     ]
    },
    {
     "name": "stderr",
     "output_type": "stream",
     "text": [
      "\n",
      "1 Failed download:\n",
      "['BTCIM.IS']: Exception('%ticker%: No price data found, symbol may be delisted (1d 2023-12-28 -> 2023-12-28)')\n"
     ]
    },
    {
     "name": "stdout",
     "output_type": "stream",
     "text": [
      "\n",
      "[*********************100%%**********************]  1 of 1 completed"
     ]
    },
    {
     "name": "stderr",
     "output_type": "stream",
     "text": [
      "\n",
      "1 Failed download:\n",
      "['BSOKE.IS']: Exception('%ticker%: No price data found, symbol may be delisted (1d 2023-12-28 -> 2023-12-28)')\n"
     ]
    },
    {
     "name": "stdout",
     "output_type": "stream",
     "text": [
      "\n",
      "[*********************100%%**********************]  1 of 1 completed"
     ]
    },
    {
     "name": "stderr",
     "output_type": "stream",
     "text": [
      "\n",
      "1 Failed download:\n",
      "['BYDNR.IS']: Exception('%ticker%: No price data found, symbol may be delisted (1d 2023-12-28 -> 2023-12-28)')\n"
     ]
    },
    {
     "name": "stdout",
     "output_type": "stream",
     "text": [
      "\n",
      "[*********************100%%**********************]  1 of 1 completed"
     ]
    },
    {
     "name": "stderr",
     "output_type": "stream",
     "text": [
      "\n",
      "1 Failed download:\n",
      "['BAYRK.IS']: Exception('%ticker%: No price data found, symbol may be delisted (1d 2023-12-28 -> 2023-12-28)')\n"
     ]
    },
    {
     "name": "stdout",
     "output_type": "stream",
     "text": [
      "\n",
      "[*********************100%%**********************]  1 of 1 completed"
     ]
    },
    {
     "name": "stderr",
     "output_type": "stream",
     "text": [
      "\n",
      "1 Failed download:\n"
     ]
    },
    {
     "name": "stdout",
     "output_type": "stream",
     "text": [
      "\n"
     ]
    },
    {
     "name": "stderr",
     "output_type": "stream",
     "text": [
      "['BERA.IS']: Exception('%ticker%: No price data found, symbol may be delisted (1d 2023-12-28 -> 2023-12-28)')\n"
     ]
    },
    {
     "name": "stdout",
     "output_type": "stream",
     "text": [
      "[*********************100%%**********************]  1 of 1 completed"
     ]
    },
    {
     "name": "stderr",
     "output_type": "stream",
     "text": [
      "\n",
      "1 Failed download:\n",
      "['BRKT.IS']: Exception('%ticker%: No timezone found, symbol may be delisted')\n"
     ]
    },
    {
     "name": "stdout",
     "output_type": "stream",
     "text": [
      "\n",
      "[*********************100%%**********************]  1 of 1 completed"
     ]
    },
    {
     "name": "stderr",
     "output_type": "stream",
     "text": [
      "\n",
      "1 Failed download:\n",
      "['BRKSN.IS']: Exception('%ticker%: No price data found, symbol may be delisted (1d 2023-12-28 -> 2023-12-28)')\n"
     ]
    },
    {
     "name": "stdout",
     "output_type": "stream",
     "text": [
      "\n",
      "[*********************100%%**********************]  1 of 1 completed"
     ]
    },
    {
     "name": "stderr",
     "output_type": "stream",
     "text": [
      "\n",
      "1 Failed download:\n",
      "['BJKAS.IS']: Exception('%ticker%: No price data found, symbol may be delisted (1d 2023-12-28 -> 2023-12-28)')\n"
     ]
    },
    {
     "name": "stdout",
     "output_type": "stream",
     "text": [
      "\n",
      "[*********************100%%**********************]  1 of 1 completed"
     ]
    },
    {
     "name": "stderr",
     "output_type": "stream",
     "text": [
      "\n",
      "1 Failed download:\n",
      "['BEYAZ.IS']: Exception('%ticker%: No price data found, symbol may be delisted (1d 2023-12-28 -> 2023-12-28)')\n"
     ]
    },
    {
     "name": "stdout",
     "output_type": "stream",
     "text": [
      "\n",
      "[*********************100%%**********************]  1 of 1 completed"
     ]
    },
    {
     "name": "stderr",
     "output_type": "stream",
     "text": [
      "\n",
      "1 Failed download:\n",
      "['BIENF.IS']: Exception('%ticker%: No timezone found, symbol may be delisted')\n"
     ]
    },
    {
     "name": "stdout",
     "output_type": "stream",
     "text": [
      "\n",
      "[*********************100%%**********************]  1 of 1 completed"
     ]
    },
    {
     "name": "stderr",
     "output_type": "stream",
     "text": [
      "\n",
      "1 Failed download:\n",
      "['BIENY.IS']: Exception('%ticker%: No price data found, symbol may be delisted (1d 2023-12-28 -> 2023-12-28)')\n"
     ]
    },
    {
     "name": "stdout",
     "output_type": "stream",
     "text": [
      "\n",
      "[*********************100%%**********************]  1 of 1 completed"
     ]
    },
    {
     "name": "stderr",
     "output_type": "stream",
     "text": [
      "\n",
      "1 Failed download:\n",
      "['BLCYT.IS']: Exception('%ticker%: No price data found, symbol may be delisted (1d 2023-12-28 -> 2023-12-28)')\n"
     ]
    },
    {
     "name": "stdout",
     "output_type": "stream",
     "text": [
      "\n",
      "[*********************100%%**********************]  1 of 1 completed"
     ]
    },
    {
     "name": "stderr",
     "output_type": "stream",
     "text": [
      "\n",
      "1 Failed download:\n",
      "['BLKOM.IS']: Exception('%ticker%: No timezone found, symbol may be delisted')\n"
     ]
    },
    {
     "name": "stdout",
     "output_type": "stream",
     "text": [
      "\n",
      "[*********************100%%**********************]  1 of 1 completed"
     ]
    },
    {
     "name": "stderr",
     "output_type": "stream",
     "text": [
      "\n",
      "1 Failed download:\n",
      "['BIMAS.IS']: Exception('%ticker%: No price data found, symbol may be delisted (1d 2023-12-28 -> 2023-12-28)')\n"
     ]
    },
    {
     "name": "stdout",
     "output_type": "stream",
     "text": [
      "\n",
      "[*********************100%%**********************]  1 of 1 completed"
     ]
    },
    {
     "name": "stderr",
     "output_type": "stream",
     "text": [
      "\n",
      "1 Failed download:\n",
      "['BIOEN.IS']: Exception(\"%ticker%: Period 'max' is invalid, must be one of ['1d', '5d']\")\n"
     ]
    },
    {
     "name": "stdout",
     "output_type": "stream",
     "text": [
      "\n",
      "[*********************100%%**********************]  1 of 1 completed"
     ]
    },
    {
     "name": "stderr",
     "output_type": "stream",
     "text": [
      "\n",
      "1 Failed download:\n",
      "['BRKVY.IS']: Exception(\"%ticker%: Period 'max' is invalid, must be one of ['1d', '5d']\")\n"
     ]
    },
    {
     "name": "stdout",
     "output_type": "stream",
     "text": [
      "\n",
      "[*********************100%%**********************]  1 of 1 completed"
     ]
    },
    {
     "name": "stderr",
     "output_type": "stream",
     "text": [
      "\n",
      "1 Failed download:\n",
      "['BRKO.IS']: Exception('%ticker%: No price data found, symbol may be delisted (1d 2023-12-28 -> 2023-12-28)')\n"
     ]
    },
    {
     "name": "stdout",
     "output_type": "stream",
     "text": [
      "\n",
      "[*********************100%%**********************]  1 of 1 completed"
     ]
    },
    {
     "name": "stderr",
     "output_type": "stream",
     "text": [
      "\n",
      "1 Failed download:\n",
      "['BRLSM.IS']: Exception('%ticker%: No price data found, symbol may be delisted (1d 2023-12-28 -> 2023-12-28)')\n"
     ]
    },
    {
     "name": "stdout",
     "output_type": "stream",
     "text": [
      "\n",
      "[*********************100%%**********************]  1 of 1 completed"
     ]
    },
    {
     "name": "stderr",
     "output_type": "stream",
     "text": [
      "\n",
      "1 Failed download:\n",
      "['BRMEN.IS']: Exception('%ticker%: No price data found, symbol may be delisted (1d 2023-12-28 -> 2023-12-28)')\n"
     ]
    },
    {
     "name": "stdout",
     "output_type": "stream",
     "text": [
      "\n",
      "[*********************100%%**********************]  1 of 1 completed"
     ]
    },
    {
     "name": "stderr",
     "output_type": "stream",
     "text": [
      "\n",
      "1 Failed download:\n",
      "['BIZIM.IS']: Exception('%ticker%: No price data found, symbol may be delisted (1d 2023-12-28 -> 2023-12-28)')\n"
     ]
    },
    {
     "name": "stdout",
     "output_type": "stream",
     "text": [
      "\n",
      "[*********************100%%**********************]  1 of 1 completed"
     ]
    },
    {
     "name": "stderr",
     "output_type": "stream",
     "text": [
      "\n",
      "1 Failed download:\n",
      "['BMSTL.IS']: Exception(\"%ticker%: Period 'max' is invalid, must be one of ['1d', '5d']\")\n"
     ]
    },
    {
     "name": "stdout",
     "output_type": "stream",
     "text": [
      "\n",
      "[*********************100%%**********************]  1 of 1 completed"
     ]
    },
    {
     "name": "stderr",
     "output_type": "stream",
     "text": [
      "\n",
      "1 Failed download:\n",
      "['BMSCH.IS']: Exception('%ticker%: No price data found, symbol may be delisted (1d 2023-12-28 -> 2023-12-28)')\n"
     ]
    },
    {
     "name": "stdout",
     "output_type": "stream",
     "text": [
      "\n",
      "[*********************100%%**********************]  1 of 1 completed"
     ]
    },
    {
     "name": "stderr",
     "output_type": "stream",
     "text": [
      "\n",
      "1 Failed download:\n",
      "['BNPPI.IS']: Exception('%ticker%: No timezone found, symbol may be delisted')\n"
     ]
    },
    {
     "name": "stdout",
     "output_type": "stream",
     "text": [
      "\n",
      "[*********************100%%**********************]  1 of 1 completed"
     ]
    },
    {
     "name": "stderr",
     "output_type": "stream",
     "text": [
      "\n",
      "1 Failed download:\n",
      "['BNPFK.IS']: Exception('%ticker%: No timezone found, symbol may be delisted')\n"
     ]
    },
    {
     "name": "stdout",
     "output_type": "stream",
     "text": [
      "\n",
      "[*********************100%%**********************]  1 of 1 completed"
     ]
    },
    {
     "name": "stderr",
     "output_type": "stream",
     "text": [
      "\n",
      "1 Failed download:\n",
      "['BOBET.IS']: Exception(\"%ticker%: Period 'max' is invalid, must be one of ['1d', '5d']\")\n"
     ]
    },
    {
     "name": "stdout",
     "output_type": "stream",
     "text": [
      "\n",
      "[*********************100%%**********************]  1 of 1 completed"
     ]
    },
    {
     "name": "stderr",
     "output_type": "stream",
     "text": [
      "\n",
      "1 Failed download:\n",
      "['BORLS.IS']: Exception('%ticker%: No price data found, symbol may be delisted (1d 2023-12-28 -> 2023-12-28)')\n"
     ]
    },
    {
     "name": "stdout",
     "output_type": "stream",
     "text": [
      "\n",
      "[*********************100%%**********************]  1 of 1 completed"
     ]
    },
    {
     "name": "stderr",
     "output_type": "stream",
     "text": [
      "\n",
      "1 Failed download:\n",
      "['BRSAN.IS']: Exception('%ticker%: No price data found, symbol may be delisted (1d 2023-12-28 -> 2023-12-28)')\n"
     ]
    },
    {
     "name": "stdout",
     "output_type": "stream",
     "text": [
      "\n",
      "[*********************100%%**********************]  1 of 1 completed"
     ]
    },
    {
     "name": "stderr",
     "output_type": "stream",
     "text": [
      "\n",
      "1 Failed download:\n",
      "['BRYAT.IS']: Exception('%ticker%: No price data found, symbol may be delisted (1d 2023-12-28 -> 2023-12-28)')\n"
     ]
    },
    {
     "name": "stdout",
     "output_type": "stream",
     "text": [
      "\n",
      "[*********************100%%**********************]  1 of 1 completed"
     ]
    },
    {
     "name": "stderr",
     "output_type": "stream",
     "text": [
      "\n",
      "1 Failed download:\n",
      "['BFREN.IS']: Exception('%ticker%: No price data found, symbol may be delisted (1d 2023-12-28 -> 2023-12-28)')\n"
     ]
    },
    {
     "name": "stdout",
     "output_type": "stream",
     "text": [
      "\n",
      "[*********************100%%**********************]  1 of 1 completed"
     ]
    },
    {
     "name": "stderr",
     "output_type": "stream",
     "text": [
      "\n",
      "1 Failed download:\n",
      "['BOSSA.IS']: Exception('%ticker%: No price data found, symbol may be delisted (1d 2023-12-28 -> 2023-12-28)')\n"
     ]
    },
    {
     "name": "stdout",
     "output_type": "stream",
     "text": [
      "\n",
      "[*********************100%%**********************]  1 of 1 completed"
     ]
    },
    {
     "name": "stderr",
     "output_type": "stream",
     "text": [
      "\n",
      "1 Failed download:\n",
      "['BRISA.IS']: Exception('%ticker%: No price data found, symbol may be delisted (1d 2023-12-28 -> 2023-12-28)')\n"
     ]
    },
    {
     "name": "stdout",
     "output_type": "stream",
     "text": [
      "\n",
      "[*********************100%%**********************]  1 of 1 completed"
     ]
    },
    {
     "name": "stderr",
     "output_type": "stream",
     "text": [
      "\n",
      "1 Failed download:\n",
      "['BURCE.IS']: Exception('%ticker%: No price data found, symbol may be delisted (1d 2023-12-28 -> 2023-12-28)')\n"
     ]
    },
    {
     "name": "stdout",
     "output_type": "stream",
     "text": [
      "\n",
      "[*********************100%%**********************]  1 of 1 completed"
     ]
    },
    {
     "name": "stderr",
     "output_type": "stream",
     "text": [
      "\n",
      "1 Failed download:\n",
      "['BURVA.IS']: Exception('%ticker%: No price data found, symbol may be delisted (1d 2023-12-28 -> 2023-12-28)')\n"
     ]
    },
    {
     "name": "stdout",
     "output_type": "stream",
     "text": [
      "\n",
      "[*********************100%%**********************]  1 of 1 completed"
     ]
    },
    {
     "name": "stderr",
     "output_type": "stream",
     "text": [
      "\n",
      "1 Failed download:\n",
      "['BUCIM.IS']: Exception('%ticker%: No price data found, symbol may be delisted (1d 2023-12-28 -> 2023-12-28)')\n"
     ]
    },
    {
     "name": "stdout",
     "output_type": "stream",
     "text": [
      "\n",
      "[*********************100%%**********************]  1 of 1 completed"
     ]
    },
    {
     "name": "stderr",
     "output_type": "stream",
     "text": [
      "\n",
      "1 Failed download:\n",
      "['BVSAN.IS']: Exception('%ticker%: No price data found, symbol may be delisted (1d 2023-12-28 -> 2023-12-28)')\n"
     ]
    },
    {
     "name": "stdout",
     "output_type": "stream",
     "text": [
      "\n",
      "[*********************100%%**********************]  1 of 1 completed"
     ]
    },
    {
     "name": "stderr",
     "output_type": "stream",
     "text": [
      "\n",
      "1 Failed download:\n",
      "['BIGCH.IS']: Exception('%ticker%: No price data found, symbol may be delisted (1d 2023-12-28 -> 2023-12-28)')\n"
     ]
    },
    {
     "name": "stdout",
     "output_type": "stream",
     "text": [
      "\n",
      "[*********************100%%**********************]  1 of 1 completed"
     ]
    },
    {
     "name": "stderr",
     "output_type": "stream",
     "text": [
      "\n",
      "1 Failed download:\n",
      "['CRFSA.IS']: Exception('%ticker%: No price data found, symbol may be delisted (1d 2023-12-28 -> 2023-12-28)')\n"
     ]
    },
    {
     "name": "stdout",
     "output_type": "stream",
     "text": [
      "\n",
      "[*********************100%%**********************]  1 of 1 completed"
     ]
    },
    {
     "name": "stderr",
     "output_type": "stream",
     "text": [
      "\n",
      "1 Failed download:\n",
      "['CASA.IS']: Exception('%ticker%: No price data found, symbol may be delisted (1d 2023-12-28 -> 2023-12-28)')\n"
     ]
    },
    {
     "name": "stdout",
     "output_type": "stream",
     "text": [
      "\n",
      "[*********************100%%**********************]  1 of 1 completed"
     ]
    },
    {
     "name": "stderr",
     "output_type": "stream",
     "text": [
      "\n",
      "1 Failed download:\n",
      "['CEOEM.IS']: Exception('%ticker%: No price data found, symbol may be delisted (1d 2023-12-28 -> 2023-12-28)')\n"
     ]
    },
    {
     "name": "stdout",
     "output_type": "stream",
     "text": [
      "\n",
      "[*********************100%%**********************]  1 of 1 completed"
     ]
    },
    {
     "name": "stderr",
     "output_type": "stream",
     "text": [
      "\n",
      "1 Failed download:\n",
      "['CREAN.IS']: Exception('%ticker%: No timezone found, symbol may be delisted')\n"
     ]
    },
    {
     "name": "stdout",
     "output_type": "stream",
     "text": [
      "\n",
      "[*********************100%%**********************]  1 of 1 completed"
     ]
    },
    {
     "name": "stderr",
     "output_type": "stream",
     "text": [
      "\n",
      "1 Failed download:\n",
      "['CCOLA.IS']: Exception('%ticker%: No price data found, symbol may be delisted (1d 2023-12-28 -> 2023-12-28)')\n"
     ]
    },
    {
     "name": "stdout",
     "output_type": "stream",
     "text": [
      "\n",
      "[*********************100%%**********************]  1 of 1 completed"
     ]
    },
    {
     "name": "stderr",
     "output_type": "stream",
     "text": [
      "\n",
      "1 Failed download:\n",
      "['CONSE.IS']: Exception(\"%ticker%: Period 'max' is invalid, must be one of ['1d', '5d']\")\n"
     ]
    },
    {
     "name": "stdout",
     "output_type": "stream",
     "text": [
      "\n",
      "[*********************100%%**********************]  1 of 1 completed"
     ]
    },
    {
     "name": "stderr",
     "output_type": "stream",
     "text": [
      "\n",
      "1 Failed download:\n",
      "['COSMO.IS']: Exception('%ticker%: No price data found, symbol may be delisted (1d 2023-12-28 -> 2023-12-28)')\n"
     ]
    },
    {
     "name": "stdout",
     "output_type": "stream",
     "text": [
      "\n",
      "[*********************100%%**********************]  1 of 1 completed"
     ]
    },
    {
     "name": "stderr",
     "output_type": "stream",
     "text": [
      "\n",
      "1 Failed download:\n",
      "['CRDFA.IS']: Exception('%ticker%: No price data found, symbol may be delisted (1d 2023-12-28 -> 2023-12-28)')\n"
     ]
    },
    {
     "name": "stdout",
     "output_type": "stream",
     "text": [
      "\n",
      "[*********************100%%**********************]  1 of 1 completed"
     ]
    },
    {
     "name": "stderr",
     "output_type": "stream",
     "text": [
      "\n",
      "1 Failed download:\n",
      "['CVKMD.IS']: Exception(\"%ticker%: Period 'max' is invalid, must be one of ['1d', '5d']\")\n"
     ]
    },
    {
     "name": "stdout",
     "output_type": "stream",
     "text": [
      "\n",
      "[*********************100%%**********************]  1 of 1 completed"
     ]
    },
    {
     "name": "stderr",
     "output_type": "stream",
     "text": [
      "\n",
      "1 Failed download:\n",
      "['CWENE.IS']: Exception('%ticker%: No price data found, symbol may be delisted (1d 2023-12-28 -> 2023-12-28)')\n"
     ]
    },
    {
     "name": "stdout",
     "output_type": "stream",
     "text": [
      "\n",
      "[*********************100%%**********************]  1 of 1 completed"
     ]
    },
    {
     "name": "stderr",
     "output_type": "stream",
     "text": [
      "\n",
      "1 Failed download:\n",
      "['CAGFA.IS']: Exception('%ticker%: No timezone found, symbol may be delisted')\n"
     ]
    },
    {
     "name": "stdout",
     "output_type": "stream",
     "text": [
      "\n",
      "[*********************100%%**********************]  1 of 1 completed"
     ]
    },
    {
     "name": "stderr",
     "output_type": "stream",
     "text": [
      "\n",
      "1 Failed download:\n",
      "['CLDNM.IS']: Exception('%ticker%: No timezone found, symbol may be delisted')\n"
     ]
    },
    {
     "name": "stdout",
     "output_type": "stream",
     "text": [
      "\n",
      "[*********************100%%**********************]  1 of 1 completed"
     ]
    },
    {
     "name": "stderr",
     "output_type": "stream",
     "text": [
      "\n",
      "1 Failed download:\n",
      "['CANTE.IS']: Exception('%ticker%: No price data found, symbol may be delisted (1d 2023-12-28 -> 2023-12-28)')\n"
     ]
    },
    {
     "name": "stdout",
     "output_type": "stream",
     "text": [
      "\n",
      "[*********************100%%**********************]  1 of 1 completed"
     ]
    },
    {
     "name": "stderr",
     "output_type": "stream",
     "text": [
      "\n",
      "1 Failed download:\n",
      "['CATES.IS']: Exception('%ticker%: No price data found, symbol may be delisted (1d 2023-12-28 -> 2023-12-28)')\n"
     ]
    },
    {
     "name": "stdout",
     "output_type": "stream",
     "text": [
      "\n",
      "[*********************100%%**********************]  1 of 1 completed"
     ]
    },
    {
     "name": "stderr",
     "output_type": "stream",
     "text": [
      "\n",
      "1 Failed download:\n"
     ]
    },
    {
     "name": "stdout",
     "output_type": "stream",
     "text": [
      "\n"
     ]
    },
    {
     "name": "stderr",
     "output_type": "stream",
     "text": [
      "['CLEBI.IS']: Exception('%ticker%: No price data found, symbol may be delisted (1d 2023-12-28 -> 2023-12-28)')\n"
     ]
    },
    {
     "name": "stdout",
     "output_type": "stream",
     "text": [
      "[*********************100%%**********************]  1 of 1 completed"
     ]
    },
    {
     "name": "stderr",
     "output_type": "stream",
     "text": [
      "\n",
      "1 Failed download:\n",
      "['CELHA.IS']: Exception('%ticker%: No price data found, symbol may be delisted (1d 2023-12-28 -> 2023-12-28)')\n"
     ]
    },
    {
     "name": "stdout",
     "output_type": "stream",
     "text": [
      "\n",
      "[*********************100%%**********************]  1 of 1 completed"
     ]
    },
    {
     "name": "stderr",
     "output_type": "stream",
     "text": [
      "\n",
      "1 Failed download:\n",
      "['CLKMT.IS']: Exception('%ticker%: No timezone found, symbol may be delisted')\n"
     ]
    },
    {
     "name": "stdout",
     "output_type": "stream",
     "text": [
      "\n",
      "[*********************100%%**********************]  1 of 1 completed"
     ]
    },
    {
     "name": "stderr",
     "output_type": "stream",
     "text": [
      "\n",
      "1 Failed download:\n",
      "['CEMAS.IS']: Exception('%ticker%: No price data found, symbol may be delisted (1d 2023-12-28 -> 2023-12-28)')\n"
     ]
    },
    {
     "name": "stdout",
     "output_type": "stream",
     "text": [
      "\n",
      "[*********************100%%**********************]  1 of 1 completed"
     ]
    },
    {
     "name": "stderr",
     "output_type": "stream",
     "text": [
      "\n",
      "1 Failed download:\n",
      "['CEMTS.IS']: Exception('%ticker%: No price data found, symbol may be delisted (1d 2023-12-28 -> 2023-12-28)')\n"
     ]
    },
    {
     "name": "stdout",
     "output_type": "stream",
     "text": [
      "\n",
      "[*********************100%%**********************]  1 of 1 completed"
     ]
    },
    {
     "name": "stderr",
     "output_type": "stream",
     "text": [
      "\n",
      "1 Failed download:\n",
      "['CMBTN.IS']: Exception('%ticker%: No price data found, symbol may be delisted (1d 2023-12-28 -> 2023-12-28)')\n"
     ]
    },
    {
     "name": "stdout",
     "output_type": "stream",
     "text": [
      "\n",
      "[*********************100%%**********************]  1 of 1 completed"
     ]
    },
    {
     "name": "stderr",
     "output_type": "stream",
     "text": [
      "\n",
      "1 Failed download:\n",
      "['CMENT.IS']: Exception('%ticker%: No price data found, symbol may be delisted (1d 2023-12-28 -> 2023-12-28)')\n"
     ]
    },
    {
     "name": "stdout",
     "output_type": "stream",
     "text": [
      "\n",
      "[*********************100%%**********************]  1 of 1 completed"
     ]
    },
    {
     "name": "stderr",
     "output_type": "stream",
     "text": [
      "\n",
      "1 Failed download:\n",
      "['CIMSA.IS']: Exception('%ticker%: No price data found, symbol may be delisted (1d 2023-12-28 -> 2023-12-28)')\n"
     ]
    },
    {
     "name": "stdout",
     "output_type": "stream",
     "text": [
      "\n",
      "[*********************100%%**********************]  1 of 1 completed"
     ]
    },
    {
     "name": "stderr",
     "output_type": "stream",
     "text": [
      "\n",
      "1 Failed download:\n",
      "['CUSAN.IS']: Exception('%ticker%: No price data found, symbol may be delisted (1d 2023-12-28 -> 2023-12-28)')\n"
     ]
    },
    {
     "name": "stdout",
     "output_type": "stream",
     "text": [
      "\n",
      "[*********************100%%**********************]  1 of 1 completed"
     ]
    },
    {
     "name": "stderr",
     "output_type": "stream",
     "text": [
      "\n",
      "1 Failed download:\n",
      "['DAGHL.IS']: Exception('%ticker%: No price data found, symbol may be delisted (1d 2023-12-28 -> 2023-12-28)')\n"
     ]
    },
    {
     "name": "stdout",
     "output_type": "stream",
     "text": [
      "\n",
      "[*********************100%%**********************]  1 of 1 completed"
     ]
    },
    {
     "name": "stderr",
     "output_type": "stream",
     "text": [
      "\n",
      "1 Failed download:\n",
      "['DAPGM.IS']: Exception('%ticker%: No price data found, symbol may be delisted (1d 2023-12-28 -> 2023-12-28)')\n"
     ]
    },
    {
     "name": "stdout",
     "output_type": "stream",
     "text": [
      "\n",
      "[*********************100%%**********************]  1 of 1 completed"
     ]
    },
    {
     "name": "stderr",
     "output_type": "stream",
     "text": [
      "\n",
      "1 Failed download:\n",
      "['DARDL.IS']: Exception('%ticker%: No price data found, symbol may be delisted (1d 2023-12-28 -> 2023-12-28)')\n"
     ]
    },
    {
     "name": "stdout",
     "output_type": "stream",
     "text": [
      "\n",
      "[*********************100%%**********************]  1 of 1 completed"
     ]
    },
    {
     "name": "stderr",
     "output_type": "stream",
     "text": [
      "\n",
      "1 Failed download:\n",
      "['DGATE.IS']: Exception('%ticker%: No price data found, symbol may be delisted (1d 2023-12-28 -> 2023-12-28)')\n"
     ]
    },
    {
     "name": "stdout",
     "output_type": "stream",
     "text": [
      "\n",
      "[*********************100%%**********************]  1 of 1 completed"
     ]
    },
    {
     "name": "stderr",
     "output_type": "stream",
     "text": [
      "\n",
      "1 Failed download:\n",
      "['DGRVK.IS']: Exception('%ticker%: No timezone found, symbol may be delisted')\n"
     ]
    },
    {
     "name": "stdout",
     "output_type": "stream",
     "text": [
      "\n",
      "[*********************100%%**********************]  1 of 1 completed"
     ]
    },
    {
     "name": "stderr",
     "output_type": "stream",
     "text": [
      "\n",
      "1 Failed download:\n",
      "['DMSAS.IS']: Exception('%ticker%: No price data found, symbol may be delisted (1d 2023-12-28 -> 2023-12-28)')\n"
     ]
    },
    {
     "name": "stdout",
     "output_type": "stream",
     "text": [
      "\n",
      "[*********************100%%**********************]  1 of 1 completed"
     ]
    },
    {
     "name": "stderr",
     "output_type": "stream",
     "text": [
      "\n",
      "1 Failed download:\n",
      "['DENGE.IS']: Exception('%ticker%: No price data found, symbol may be delisted (1d 2023-12-28 -> 2023-12-28)')\n"
     ]
    },
    {
     "name": "stdout",
     "output_type": "stream",
     "text": [
      "\n",
      "[*********************100%%**********************]  1 of 1 completed"
     ]
    },
    {
     "name": "stderr",
     "output_type": "stream",
     "text": [
      "\n",
      "1 Failed download:\n",
      "['DENFA.IS']: Exception('%ticker%: No timezone found, symbol may be delisted')\n"
     ]
    },
    {
     "name": "stdout",
     "output_type": "stream",
     "text": [
      "\n",
      "[*********************100%%**********************]  1 of 1 completed"
     ]
    },
    {
     "name": "stderr",
     "output_type": "stream",
     "text": [
      "\n",
      "1 Failed download:\n",
      "['DNFIN.IS']: Exception('%ticker%: No timezone found, symbol may be delisted')\n"
     ]
    },
    {
     "name": "stdout",
     "output_type": "stream",
     "text": [
      "\n",
      "[*********************100%%**********************]  1 of 1 completed"
     ]
    },
    {
     "name": "stderr",
     "output_type": "stream",
     "text": [
      "\n",
      "1 Failed download:\n",
      "['DZGYO.IS']: Exception('%ticker%: No price data found, symbol may be delisted (1d 2023-12-28 -> 2023-12-28)')\n"
     ]
    },
    {
     "name": "stdout",
     "output_type": "stream",
     "text": [
      "\n",
      "[*********************100%%**********************]  1 of 1 completed"
     ]
    },
    {
     "name": "stderr",
     "output_type": "stream",
     "text": [
      "\n",
      "1 Failed download:\n",
      "['DZY.IS']: Exception('%ticker%: No timezone found, symbol may be delisted')\n"
     ]
    },
    {
     "name": "stdout",
     "output_type": "stream",
     "text": [
      "\n",
      "[*********************100%%**********************]  1 of 1 completed"
     ]
    },
    {
     "name": "stderr",
     "output_type": "stream",
     "text": [
      "\n",
      "1 Failed download:\n",
      "['DZYMK.IS']: Exception('%ticker%: No timezone found, symbol may be delisted')\n"
     ]
    },
    {
     "name": "stdout",
     "output_type": "stream",
     "text": [
      "\n",
      "[*********************100%%**********************]  1 of 1 completed"
     ]
    },
    {
     "name": "stderr",
     "output_type": "stream",
     "text": [
      "\n",
      "1 Failed download:\n",
      "['DERIM.IS']: Exception('%ticker%: No price data found, symbol may be delisted (1d 2023-12-28 -> 2023-12-28)')\n"
     ]
    },
    {
     "name": "stdout",
     "output_type": "stream",
     "text": [
      "\n",
      "[*********************100%%**********************]  1 of 1 completed"
     ]
    },
    {
     "name": "stderr",
     "output_type": "stream",
     "text": [
      "\n",
      "1 Failed download:\n",
      "['DERHL.IS']: Exception('%ticker%: No price data found, symbol may be delisted (1d 2023-12-28 -> 2023-12-28)')\n"
     ]
    },
    {
     "name": "stdout",
     "output_type": "stream",
     "text": [
      "\n",
      "[*********************100%%**********************]  1 of 1 completed"
     ]
    },
    {
     "name": "stderr",
     "output_type": "stream",
     "text": [
      "\n",
      "1 Failed download:\n",
      "['DESA.IS']: Exception('%ticker%: No price data found, symbol may be delisted (1d 2023-12-28 -> 2023-12-28)')\n"
     ]
    },
    {
     "name": "stdout",
     "output_type": "stream",
     "text": [
      "\n",
      "[*********************100%%**********************]  1 of 1 completed"
     ]
    },
    {
     "name": "stderr",
     "output_type": "stream",
     "text": [
      "\n",
      "1 Failed download:\n",
      "['DESPC.IS']: Exception('%ticker%: No price data found, symbol may be delisted (1d 2023-12-28 -> 2023-12-28)')\n"
     ]
    },
    {
     "name": "stdout",
     "output_type": "stream",
     "text": [
      "\n",
      "[*********************100%%**********************]  1 of 1 completed"
     ]
    },
    {
     "name": "stderr",
     "output_type": "stream",
     "text": [
      "\n",
      "1 Failed download:\n",
      "['DTYGD.IS']: Exception('%ticker%: No timezone found, symbol may be delisted')\n"
     ]
    },
    {
     "name": "stdout",
     "output_type": "stream",
     "text": [
      "\n",
      "[*********************100%%**********************]  1 of 1 completed"
     ]
    },
    {
     "name": "stderr",
     "output_type": "stream",
     "text": [
      "\n",
      "1 Failed download:\n",
      "['DEVA.IS']: Exception('%ticker%: No price data found, symbol may be delisted (1d 2023-12-28 -> 2023-12-28)')\n"
     ]
    },
    {
     "name": "stdout",
     "output_type": "stream",
     "text": [
      "\n",
      "[*********************100%%**********************]  1 of 1 completed"
     ]
    },
    {
     "name": "stderr",
     "output_type": "stream",
     "text": [
      "\n",
      "1 Failed download:\n",
      "['DNISI.IS']: Exception(\"%ticker%: Period 'max' is invalid, must be one of ['1d', '5d']\")\n"
     ]
    },
    {
     "name": "stdout",
     "output_type": "stream",
     "text": [
      "\n",
      "[*********************100%%**********************]  1 of 1 completed"
     ]
    },
    {
     "name": "stderr",
     "output_type": "stream",
     "text": [
      "\n",
      "1 Failed download:\n",
      "['DIRIT.IS']: Exception('%ticker%: No price data found, symbol may be delisted (1d 2023-12-28 -> 2023-12-28)')\n"
     ]
    },
    {
     "name": "stdout",
     "output_type": "stream",
     "text": [
      "\n",
      "[*********************100%%**********************]  1 of 1 completed"
     ]
    },
    {
     "name": "stderr",
     "output_type": "stream",
     "text": [
      "\n",
      "1 Failed download:\n",
      "['DITAS.IS']: Exception('%ticker%: No price data found, symbol may be delisted (1d 2023-12-28 -> 2023-12-28)')\n"
     ]
    },
    {
     "name": "stdout",
     "output_type": "stream",
     "text": [
      "\n",
      "[*********************100%%**********************]  1 of 1 completed"
     ]
    },
    {
     "name": "stderr",
     "output_type": "stream",
     "text": [
      "\n",
      "1 Failed download:\n",
      "['DMRGD.IS']: Exception('%ticker%: No price data found, symbol may be delisted (1d 2023-12-28 -> 2023-12-28)')\n"
     ]
    },
    {
     "name": "stdout",
     "output_type": "stream",
     "text": [
      "\n",
      "[*********************100%%**********************]  1 of 1 completed"
     ]
    },
    {
     "name": "stderr",
     "output_type": "stream",
     "text": [
      "\n",
      "1 Failed download:\n",
      "['DOCO.IS']: Exception('%ticker%: No price data found, symbol may be delisted (1d 2023-12-28 -> 2023-12-28)')\n"
     ]
    },
    {
     "name": "stdout",
     "output_type": "stream",
     "text": [
      "\n",
      "[*********************100%%**********************]  1 of 1 completed"
     ]
    },
    {
     "name": "stderr",
     "output_type": "stream",
     "text": [
      "\n",
      "1 Failed download:\n",
      "['DOFER.IS']: Exception('%ticker%: No price data found, symbol may be delisted (1d 2023-12-28 -> 2023-12-28)')\n"
     ]
    },
    {
     "name": "stdout",
     "output_type": "stream",
     "text": [
      "\n",
      "[*********************100%%**********************]  1 of 1 completed"
     ]
    },
    {
     "name": "stderr",
     "output_type": "stream",
     "text": [
      "\n",
      "1 Failed download:\n",
      "['DOBUR.IS']: Exception('%ticker%: No price data found, symbol may be delisted (1d 2023-12-28 -> 2023-12-28)')\n"
     ]
    },
    {
     "name": "stdout",
     "output_type": "stream",
     "text": [
      "\n",
      "[*********************100%%**********************]  1 of 1 completed"
     ]
    },
    {
     "name": "stderr",
     "output_type": "stream",
     "text": [
      "\n",
      "1 Failed download:\n",
      "['DOHOL.IS']: Exception('%ticker%: No price data found, symbol may be delisted (1d 2023-12-28 -> 2023-12-28)')\n"
     ]
    },
    {
     "name": "stdout",
     "output_type": "stream",
     "text": [
      "\n",
      "[*********************100%%**********************]  1 of 1 completed"
     ]
    },
    {
     "name": "stderr",
     "output_type": "stream",
     "text": [
      "\n",
      "1 Failed download:\n",
      "['DTRND.IS']: Exception('%ticker%: No timezone found, symbol may be delisted')\n"
     ]
    },
    {
     "name": "stdout",
     "output_type": "stream",
     "text": [
      "\n",
      "[*********************100%%**********************]  1 of 1 completed"
     ]
    },
    {
     "name": "stderr",
     "output_type": "stream",
     "text": [
      "\n",
      "1 Failed download:\n",
      "['DGNMO.IS']: Exception('%ticker%: No price data found, symbol may be delisted (1d 2023-12-28 -> 2023-12-28)')\n"
     ]
    },
    {
     "name": "stdout",
     "output_type": "stream",
     "text": [
      "\n",
      "[*********************100%%**********************]  1 of 1 completed"
     ]
    },
    {
     "name": "stderr",
     "output_type": "stream",
     "text": [
      "\n",
      "1 Failed download:\n",
      "['ARASE.IS']: Exception(\"%ticker%: Period 'max' is invalid, must be one of ['1d', '5d']\")\n"
     ]
    },
    {
     "name": "stdout",
     "output_type": "stream",
     "text": [
      "\n",
      "[*********************100%%**********************]  1 of 1 completed"
     ]
    },
    {
     "name": "stderr",
     "output_type": "stream",
     "text": [
      "\n",
      "1 Failed download:\n",
      "['DOGUB.IS']: Exception('%ticker%: No price data found, symbol may be delisted (1d 2023-12-28 -> 2023-12-28)')\n"
     ]
    },
    {
     "name": "stdout",
     "output_type": "stream",
     "text": [
      "\n",
      "[*********************100%%**********************]  1 of 1 completed"
     ]
    },
    {
     "name": "stderr",
     "output_type": "stream",
     "text": [
      "\n",
      "1 Failed download:\n",
      "['DGGYO.IS']: Exception('%ticker%: No price data found, symbol may be delisted (1d 2023-12-28 -> 2023-12-28)')\n"
     ]
    },
    {
     "name": "stdout",
     "output_type": "stream",
     "text": [
      "\n",
      "[*********************100%%**********************]  1 of 1 completed"
     ]
    },
    {
     "name": "stderr",
     "output_type": "stream",
     "text": [
      "\n",
      "1 Failed download:\n",
      "['DOAS.IS']: Exception('%ticker%: No price data found, symbol may be delisted (1d 2023-12-28 -> 2023-12-28)')\n"
     ]
    },
    {
     "name": "stdout",
     "output_type": "stream",
     "text": [
      "\n",
      "[*********************100%%**********************]  1 of 1 completed"
     ]
    },
    {
     "name": "stderr",
     "output_type": "stream",
     "text": [
      "\n",
      "1 Failed download:\n",
      "['DFKTR.IS']: Exception('%ticker%: No timezone found, symbol may be delisted')\n"
     ]
    },
    {
     "name": "stdout",
     "output_type": "stream",
     "text": [
      "\n",
      "[*********************100%%**********************]  1 of 1 completed"
     ]
    },
    {
     "name": "stderr",
     "output_type": "stream",
     "text": [
      "\n",
      "1 Failed download:\n",
      "['DOKTA.IS']: Exception('%ticker%: No price data found, symbol may be delisted (1d 2023-12-28 -> 2023-12-28)')\n"
     ]
    },
    {
     "name": "stdout",
     "output_type": "stream",
     "text": [
      "\n",
      "[*********************100%%**********************]  1 of 1 completed"
     ]
    },
    {
     "name": "stderr",
     "output_type": "stream",
     "text": [
      "\n",
      "1 Failed download:\n",
      "['DURDO.IS']: Exception('%ticker%: No price data found, symbol may be delisted (1d 2023-12-28 -> 2023-12-28)')\n"
     ]
    },
    {
     "name": "stdout",
     "output_type": "stream",
     "text": [
      "\n",
      "[*********************100%%**********************]  1 of 1 completed"
     ]
    },
    {
     "name": "stderr",
     "output_type": "stream",
     "text": [
      "\n",
      "1 Failed download:\n",
      "['DNYVA.IS']: Exception('%ticker%: No timezone found, symbol may be delisted')\n"
     ]
    },
    {
     "name": "stdout",
     "output_type": "stream",
     "text": [
      "\n",
      "[*********************100%%**********************]  1 of 1 completed"
     ]
    },
    {
     "name": "stderr",
     "output_type": "stream",
     "text": [
      "\n",
      "1 Failed download:\n",
      "['DYOBY.IS']: Exception('%ticker%: No price data found, symbol may be delisted (1d 2023-12-28 -> 2023-12-28)')\n"
     ]
    },
    {
     "name": "stdout",
     "output_type": "stream",
     "text": [
      "\n",
      "[*********************100%%**********************]  1 of 1 completed"
     ]
    },
    {
     "name": "stderr",
     "output_type": "stream",
     "text": [
      "\n",
      "1 Failed download:\n",
      "['EDATA.IS']: Exception(\"%ticker%: Period 'max' is invalid, must be one of ['1d', '5d']\")\n"
     ]
    },
    {
     "name": "stdout",
     "output_type": "stream",
     "text": [
      "\n",
      "[*********************100%%**********************]  1 of 1 completed"
     ]
    },
    {
     "name": "stderr",
     "output_type": "stream",
     "text": [
      "\n",
      "1 Failed download:\n",
      "['EBEBK.IS']: Exception('%ticker%: No price data found, symbol may be delisted (1d 2023-12-28 -> 2023-12-28)')\n"
     ]
    },
    {
     "name": "stdout",
     "output_type": "stream",
     "text": [
      "\n",
      "[*********************100%%**********************]  1 of 1 completed"
     ]
    },
    {
     "name": "stderr",
     "output_type": "stream",
     "text": [
      "\n",
      "1 Failed download:\n",
      "['ECZYT.IS']: Exception('%ticker%: No price data found, symbol may be delisted (1d 2023-12-28 -> 2023-12-28)')\n"
     ]
    },
    {
     "name": "stdout",
     "output_type": "stream",
     "text": [
      "\n",
      "[*********************100%%**********************]  1 of 1 completed"
     ]
    },
    {
     "name": "stderr",
     "output_type": "stream",
     "text": [
      "\n",
      "1 Failed download:\n",
      "['EDIP.IS']: Exception('%ticker%: No price data found, symbol may be delisted (1d 2023-12-28 -> 2023-12-28)')\n"
     ]
    },
    {
     "name": "stdout",
     "output_type": "stream",
     "text": [
      "\n",
      "[*********************100%%**********************]  1 of 1 completed"
     ]
    },
    {
     "name": "stderr",
     "output_type": "stream",
     "text": [
      "\n",
      "1 Failed download:\n",
      "['EGEEN.IS']: Exception('%ticker%: No price data found, symbol may be delisted (1d 2023-12-28 -> 2023-12-28)')\n"
     ]
    },
    {
     "name": "stdout",
     "output_type": "stream",
     "text": [
      "\n",
      "[*********************100%%**********************]  1 of 1 completed"
     ]
    },
    {
     "name": "stderr",
     "output_type": "stream",
     "text": [
      "\n",
      "1 Failed download:\n",
      "['EGGUB.IS']: Exception('%ticker%: No price data found, symbol may be delisted (1d 2023-12-28 -> 2023-12-28)')\n"
     ]
    },
    {
     "name": "stdout",
     "output_type": "stream",
     "text": [
      "\n",
      "[*********************100%%**********************]  1 of 1 completed"
     ]
    },
    {
     "name": "stderr",
     "output_type": "stream",
     "text": [
      "\n",
      "1 Failed download:\n",
      "['EGPRO.IS']: Exception('%ticker%: No price data found, symbol may be delisted (1d 2023-12-28 -> 2023-12-28)')\n"
     ]
    },
    {
     "name": "stdout",
     "output_type": "stream",
     "text": [
      "\n",
      "[*********************100%%**********************]  1 of 1 completed"
     ]
    },
    {
     "name": "stderr",
     "output_type": "stream",
     "text": [
      "\n",
      "1 Failed download:\n",
      "['EGSER.IS']: Exception('%ticker%: No price data found, symbol may be delisted (1d 2023-12-28 -> 2023-12-28)')\n"
     ]
    },
    {
     "name": "stdout",
     "output_type": "stream",
     "text": [
      "\n",
      "[*********************100%%**********************]  1 of 1 completed"
     ]
    },
    {
     "name": "stderr",
     "output_type": "stream",
     "text": [
      "\n",
      "1 Failed download:\n",
      "['EPLAS.IS']: Exception('%ticker%: No price data found, symbol may be delisted (1d 2023-12-28 -> 2023-12-28)')\n"
     ]
    },
    {
     "name": "stdout",
     "output_type": "stream",
     "text": [
      "\n",
      "[*********************100%%**********************]  1 of 1 completed"
     ]
    },
    {
     "name": "stderr",
     "output_type": "stream",
     "text": [
      "\n",
      "1 Failed download:\n",
      "['ECILC.IS']: Exception('%ticker%: No price data found, symbol may be delisted (1d 2023-12-28 -> 2023-12-28)')\n"
     ]
    },
    {
     "name": "stdout",
     "output_type": "stream",
     "text": [
      "\n",
      "[*********************100%%**********************]  1 of 1 completed"
     ]
    },
    {
     "name": "stderr",
     "output_type": "stream",
     "text": [
      "\n",
      "1 Failed download:\n",
      "['EKIZ.IS']: Exception('%ticker%: No price data found, symbol may be delisted (1d 2023-12-28 -> 2023-12-28)')\n"
     ]
    },
    {
     "name": "stdout",
     "output_type": "stream",
     "text": [
      "\n",
      "[*********************100%%**********************]  1 of 1 completed"
     ]
    },
    {
     "name": "stderr",
     "output_type": "stream",
     "text": [
      "\n",
      "1 Failed download:\n",
      "['EKOFA.IS']: Exception('%ticker%: No timezone found, symbol may be delisted')\n"
     ]
    },
    {
     "name": "stdout",
     "output_type": "stream",
     "text": [
      "\n",
      "[*********************100%%**********************]  1 of 1 completed"
     ]
    },
    {
     "name": "stderr",
     "output_type": "stream",
     "text": [
      "\n",
      "1 Failed download:\n",
      "['EKOS.IS']: Exception('%ticker%: No price data found, symbol may be delisted (1d 2023-12-28 -> 2023-12-28)')\n"
     ]
    },
    {
     "name": "stdout",
     "output_type": "stream",
     "text": [
      "\n",
      "[*********************100%%**********************]  1 of 1 completed"
     ]
    },
    {
     "name": "stderr",
     "output_type": "stream",
     "text": [
      "\n",
      "1 Failed download:\n",
      "['EKSUN.IS']: Exception(\"%ticker%: Period 'max' is invalid, must be one of ['1d', '5d']\")\n"
     ]
    },
    {
     "name": "stdout",
     "output_type": "stream",
     "text": [
      "\n",
      "[*********************100%%**********************]  1 of 1 completed"
     ]
    },
    {
     "name": "stderr",
     "output_type": "stream",
     "text": [
      "\n",
      "1 Failed download:\n",
      "['ELITE.IS']: Exception(\"%ticker%: Period 'max' is invalid, must be one of ['1d', '5d']\")\n"
     ]
    },
    {
     "name": "stdout",
     "output_type": "stream",
     "text": [
      "\n",
      "[*********************100%%**********************]  1 of 1 completed"
     ]
    },
    {
     "name": "stderr",
     "output_type": "stream",
     "text": [
      "\n",
      "1 Failed download:\n",
      "['EMKEL.IS']: Exception('%ticker%: No price data found, symbol may be delisted (1d 2023-12-28 -> 2023-12-28)')\n"
     ]
    },
    {
     "name": "stdout",
     "output_type": "stream",
     "text": [
      "\n",
      "[*********************100%%**********************]  1 of 1 completed"
     ]
    },
    {
     "name": "stderr",
     "output_type": "stream",
     "text": [
      "\n",
      "1 Failed download:\n",
      "['EMNIS.IS']: Exception('%ticker%: No price data found, symbol may be delisted (1d 2023-12-28 -> 2023-12-28)')\n"
     ]
    },
    {
     "name": "stdout",
     "output_type": "stream",
     "text": [
      "\n",
      "[*********************100%%**********************]  1 of 1 completed"
     ]
    },
    {
     "name": "stderr",
     "output_type": "stream",
     "text": [
      "\n",
      "1 Failed download:\n",
      "['EMIRV.IS']: Exception('%ticker%: No timezone found, symbol may be delisted')\n"
     ]
    },
    {
     "name": "stdout",
     "output_type": "stream",
     "text": [
      "\n",
      "[*********************100%%**********************]  1 of 1 completed"
     ]
    },
    {
     "name": "stderr",
     "output_type": "stream",
     "text": [
      "\n",
      "1 Failed download:\n",
      "['EKTVK.IS']: Exception('%ticker%: No timezone found, symbol may be delisted')\n"
     ]
    },
    {
     "name": "stdout",
     "output_type": "stream",
     "text": [
      "\n",
      "[*********************100%%**********************]  1 of 1 completed"
     ]
    },
    {
     "name": "stderr",
     "output_type": "stream",
     "text": [
      "\n",
      "1 Failed download:\n",
      "['EKGYO.IS']: Exception('%ticker%: No price data found, symbol may be delisted (1d 2023-12-28 -> 2023-12-28)')\n"
     ]
    },
    {
     "name": "stdout",
     "output_type": "stream",
     "text": [
      "\n",
      "[*********************100%%**********************]  1 of 1 completed"
     ]
    },
    {
     "name": "stderr",
     "output_type": "stream",
     "text": [
      "\n",
      "1 Failed download:\n",
      "['EMVAR.IS']: Exception('%ticker%: No timezone found, symbol may be delisted')\n"
     ]
    },
    {
     "name": "stdout",
     "output_type": "stream",
     "text": [
      "\n",
      "[*********************100%%**********************]  1 of 1 completed"
     ]
    },
    {
     "name": "stderr",
     "output_type": "stream",
     "text": [
      "\n",
      "1 Failed download:\n",
      "['ENJSA.IS']: Exception('%ticker%: No price data found, symbol may be delisted (1d 2023-12-28 -> 2023-12-28)')\n"
     ]
    },
    {
     "name": "stdout",
     "output_type": "stream",
     "text": [
      "\n",
      "[*********************100%%**********************]  1 of 1 completed"
     ]
    },
    {
     "name": "stderr",
     "output_type": "stream",
     "text": [
      "\n",
      "1 Failed download:\n",
      "['ENERY.IS']: Exception('%ticker%: No price data found, symbol may be delisted (1d 2023-12-28 -> 2023-12-28)')\n"
     ]
    },
    {
     "name": "stdout",
     "output_type": "stream",
     "text": [
      "\n",
      "[*********************100%%**********************]  1 of 1 completed"
     ]
    },
    {
     "name": "stderr",
     "output_type": "stream",
     "text": [
      "\n",
      "1 Failed download:\n",
      "['ENKAI.IS']: Exception('%ticker%: No price data found, symbol may be delisted (1d 2023-12-28 -> 2023-12-28)')\n"
     ]
    },
    {
     "name": "stdout",
     "output_type": "stream",
     "text": [
      "\n",
      "[*********************100%%**********************]  1 of 1 completed"
     ]
    },
    {
     "name": "stderr",
     "output_type": "stream",
     "text": [
      "\n",
      "1 Failed download:\n",
      "['ENSRI.IS']: Exception(\"%ticker%: Period 'max' is invalid, must be one of ['1d', '5d']\")\n"
     ]
    },
    {
     "name": "stdout",
     "output_type": "stream",
     "text": [
      "\n",
      "[*********************100%%**********************]  1 of 1 completed"
     ]
    },
    {
     "name": "stderr",
     "output_type": "stream",
     "text": [
      "\n",
      "1 Failed download:\n",
      "['ERBOS.IS']: Exception('%ticker%: No price data found, symbol may be delisted (1d 2023-12-28 -> 2023-12-28)')\n"
     ]
    },
    {
     "name": "stdout",
     "output_type": "stream",
     "text": [
      "\n",
      "[*********************100%%**********************]  1 of 1 completed"
     ]
    },
    {
     "name": "stderr",
     "output_type": "stream",
     "text": [
      "\n",
      "1 Failed download:\n",
      "['ERCB.IS']: Exception('%ticker%: No price data found, symbol may be delisted (1d 2023-12-28 -> 2023-12-28)')\n"
     ]
    },
    {
     "name": "stdout",
     "output_type": "stream",
     "text": [
      "\n",
      "[*********************100%%**********************]  1 of 1 completed"
     ]
    },
    {
     "name": "stderr",
     "output_type": "stream",
     "text": [
      "\n",
      "1 Failed download:\n",
      "['EREGL.IS']: Exception('%ticker%: No price data found, symbol may be delisted (1d 2023-12-28 -> 2023-12-28)')\n"
     ]
    },
    {
     "name": "stdout",
     "output_type": "stream",
     "text": [
      "\n",
      "[*********************100%%**********************]  1 of 1 completed"
     ]
    },
    {
     "name": "stderr",
     "output_type": "stream",
     "text": [
      "\n",
      "1 Failed download:\n",
      "['ERGLI.IS']: Exception('%ticker%: No timezone found, symbol may be delisted')\n"
     ]
    },
    {
     "name": "stdout",
     "output_type": "stream",
     "text": [
      "\n",
      "[*********************100%%**********************]  1 of 1 completed"
     ]
    },
    {
     "name": "stderr",
     "output_type": "stream",
     "text": [
      "\n",
      "1 Failed download:\n",
      "['KIMMR.IS']: Exception(\"%ticker%: Period 'max' is invalid, must be one of ['1d', '5d']\")\n"
     ]
    },
    {
     "name": "stdout",
     "output_type": "stream",
     "text": [
      "\n",
      "[*********************100%%**********************]  1 of 1 completed"
     ]
    },
    {
     "name": "stderr",
     "output_type": "stream",
     "text": [
      "\n",
      "1 Failed download:\n",
      "['ERSU.IS']: Exception('%ticker%: No price data found, symbol may be delisted (1d 2023-12-28 -> 2023-12-28)')\n"
     ]
    },
    {
     "name": "stdout",
     "output_type": "stream",
     "text": [
      "\n",
      "[*********************100%%**********************]  1 of 1 completed"
     ]
    },
    {
     "name": "stderr",
     "output_type": "stream",
     "text": [
      "\n",
      "1 Failed download:\n",
      "['ESCAR.IS']: Exception(\"%ticker%: Period 'max' is invalid, must be one of ['1d', '5d']\")\n"
     ]
    },
    {
     "name": "stdout",
     "output_type": "stream",
     "text": [
      "\n",
      "[*********************100%%**********************]  1 of 1 completed"
     ]
    },
    {
     "name": "stderr",
     "output_type": "stream",
     "text": [
      "\n",
      "1 Failed download:\n",
      "['ESCOM.IS']: Exception('%ticker%: No price data found, symbol may be delisted (1d 2023-12-28 -> 2023-12-28)')\n"
     ]
    },
    {
     "name": "stdout",
     "output_type": "stream",
     "text": [
      "\n",
      "[*********************100%%**********************]  1 of 1 completed"
     ]
    },
    {
     "name": "stderr",
     "output_type": "stream",
     "text": [
      "\n",
      "1 Failed download:\n",
      "['ESEN.IS']: Exception('%ticker%: No price data found, symbol may be delisted (1d 2023-12-28 -> 2023-12-28)')\n"
     ]
    },
    {
     "name": "stdout",
     "output_type": "stream",
     "text": [
      "\n",
      "[*********************100%%**********************]  1 of 1 completed"
     ]
    },
    {
     "name": "stderr",
     "output_type": "stream",
     "text": [
      "\n",
      "1 Failed download:\n",
      "['ETILR.IS']: Exception('%ticker%: No price data found, symbol may be delisted (1d 2023-12-28 -> 2023-12-28)')\n"
     ]
    },
    {
     "name": "stdout",
     "output_type": "stream",
     "text": [
      "\n",
      "[*********************100%%**********************]  1 of 1 completed"
     ]
    },
    {
     "name": "stderr",
     "output_type": "stream",
     "text": [
      "\n",
      "1 Failed download:\n",
      "['EUKYO.IS']: Exception('%ticker%: No price data found, symbol may be delisted (1d 2023-12-28 -> 2023-12-28)')\n"
     ]
    },
    {
     "name": "stdout",
     "output_type": "stream",
     "text": [
      "\n",
      "[*********************100%%**********************]  1 of 1 completed"
     ]
    },
    {
     "name": "stderr",
     "output_type": "stream",
     "text": [
      "\n",
      "1 Failed download:\n",
      "['EUYO.IS']: Exception('%ticker%: No price data found, symbol may be delisted (1d 2023-12-28 -> 2023-12-28)')\n"
     ]
    },
    {
     "name": "stdout",
     "output_type": "stream",
     "text": [
      "\n",
      "[*********************100%%**********************]  1 of 1 completed"
     ]
    },
    {
     "name": "stderr",
     "output_type": "stream",
     "text": [
      "\n",
      "1 Failed download:\n",
      "['ETYAT.IS']: Exception('%ticker%: No price data found, symbol may be delisted (1d 2023-12-28 -> 2023-12-28)')\n"
     ]
    },
    {
     "name": "stdout",
     "output_type": "stream",
     "text": [
      "\n",
      "[*********************100%%**********************]  1 of 1 completed"
     ]
    },
    {
     "name": "stderr",
     "output_type": "stream",
     "text": [
      "\n",
      "1 Failed download:\n",
      "['EUHOL.IS']: Exception('%ticker%: No price data found, symbol may be delisted (1d 2023-12-28 -> 2023-12-28)')\n"
     ]
    },
    {
     "name": "stdout",
     "output_type": "stream",
     "text": [
      "\n",
      "[*********************100%%**********************]  1 of 1 completed"
     ]
    },
    {
     "name": "stderr",
     "output_type": "stream",
     "text": [
      "\n",
      "1 Failed download:\n",
      "['TEZOL.IS']: Exception('%ticker%: No price data found, symbol may be delisted (1d 2023-12-28 -> 2023-12-28)')\n"
     ]
    },
    {
     "name": "stdout",
     "output_type": "stream",
     "text": [
      "\n",
      "[*********************100%%**********************]  1 of 1 completed"
     ]
    },
    {
     "name": "stderr",
     "output_type": "stream",
     "text": [
      "\n",
      "1 Failed download:\n",
      "['EUREN.IS']: Exception(\"%ticker%: Period 'max' is invalid, must be one of ['1d', '5d']\")\n"
     ]
    },
    {
     "name": "stdout",
     "output_type": "stream",
     "text": [
      "\n",
      "[*********************100%%**********************]  1 of 1 completed"
     ]
    },
    {
     "name": "stderr",
     "output_type": "stream",
     "text": [
      "\n",
      "1 Failed download:\n",
      "['EUPWR.IS']: Exception('%ticker%: No price data found, symbol may be delisted (1d 2023-12-28 -> 2023-12-28)')\n"
     ]
    },
    {
     "name": "stdout",
     "output_type": "stream",
     "text": [
      "\n",
      "[*********************100%%**********************]  1 of 1 completed"
     ]
    },
    {
     "name": "stderr",
     "output_type": "stream",
     "text": [
      "\n",
      "1 Failed download:\n",
      "['EYGYO.IS']: Exception('%ticker%: No price data found, symbol may be delisted (1d 2023-12-28 -> 2023-12-28)')\n"
     ]
    },
    {
     "name": "stdout",
     "output_type": "stream",
     "text": [
      "\n",
      "[*********************100%%**********************]  1 of 1 completed"
     ]
    },
    {
     "name": "stderr",
     "output_type": "stream",
     "text": [
      "\n",
      "1 Failed download:\n",
      "['KOD.IS']: Exception('%ticker%: No timezone found, symbol may be delisted')\n"
     ]
    },
    {
     "name": "stdout",
     "output_type": "stream",
     "text": [
      "\n",
      "[*********************100%%**********************]  1 of 1 completed"
     ]
    },
    {
     "name": "stderr",
     "output_type": "stream",
     "text": [
      "\n",
      "1 Failed download:\n",
      "['FADE.IS']: Exception('%ticker%: No price data found, symbol may be delisted (1d 2023-12-28 -> 2023-12-28)')\n"
     ]
    },
    {
     "name": "stdout",
     "output_type": "stream",
     "text": [
      "\n",
      "[*********************100%%**********************]  1 of 1 completed"
     ]
    },
    {
     "name": "stderr",
     "output_type": "stream",
     "text": [
      "\n",
      "1 Failed download:\n",
      "['FSDAT.IS']: Exception('%ticker%: No timezone found, symbol may be delisted')\n"
     ]
    },
    {
     "name": "stdout",
     "output_type": "stream",
     "text": [
      "\n",
      "[*********************100%%**********************]  1 of 1 completed"
     ]
    },
    {
     "name": "stderr",
     "output_type": "stream",
     "text": [
      "\n",
      "1 Failed download:\n",
      "['FMIZP.IS']: Exception('%ticker%: No price data found, symbol may be delisted (1d 2023-12-28 -> 2023-12-28)')\n"
     ]
    },
    {
     "name": "stdout",
     "output_type": "stream",
     "text": [
      "\n",
      "[*********************100%%**********************]  1 of 1 completed"
     ]
    },
    {
     "name": "stderr",
     "output_type": "stream",
     "text": [
      "\n",
      "1 Failed download:\n",
      "['FENER.IS']: Exception('%ticker%: No price data found, symbol may be delisted (1d 2023-12-28 -> 2023-12-28)')\n"
     ]
    },
    {
     "name": "stdout",
     "output_type": "stream",
     "text": [
      "\n",
      "[*********************100%%**********************]  1 of 1 completed"
     ]
    },
    {
     "name": "stderr",
     "output_type": "stream",
     "text": [
      "\n",
      "1 Failed download:\n",
      "['FIBAF.IS']: Exception('%ticker%: No timezone found, symbol may be delisted')\n"
     ]
    },
    {
     "name": "stdout",
     "output_type": "stream",
     "text": [
      "\n",
      "[*********************100%%**********************]  1 of 1 completed"
     ]
    },
    {
     "name": "stderr",
     "output_type": "stream",
     "text": [
      "\n",
      "1 Failed download:\n",
      "['FBB.IS']: Exception('%ticker%: No timezone found, symbol may be delisted')\n"
     ]
    },
    {
     "name": "stdout",
     "output_type": "stream",
     "text": [
      "\n",
      "[*********************100%%**********************]  1 of 1 completed"
     ]
    },
    {
     "name": "stderr",
     "output_type": "stream",
     "text": [
      "\n",
      "1 Failed download:\n",
      "['FBBNK.IS']: Exception('%ticker%: No timezone found, symbol may be delisted')\n"
     ]
    },
    {
     "name": "stdout",
     "output_type": "stream",
     "text": [
      "\n",
      "[*********************100%%**********************]  1 of 1 completed"
     ]
    },
    {
     "name": "stderr",
     "output_type": "stream",
     "text": [
      "\n",
      "1 Failed download:\n",
      "['FLAP.IS']: Exception('%ticker%: No price data found, symbol may be delisted (1d 2023-12-28 -> 2023-12-28)')\n"
     ]
    },
    {
     "name": "stdout",
     "output_type": "stream",
     "text": [
      "\n",
      "[*********************100%%**********************]  1 of 1 completed"
     ]
    },
    {
     "name": "stderr",
     "output_type": "stream",
     "text": [
      "\n",
      "1 Failed download:\n",
      "['FONET.IS']: Exception('%ticker%: No price data found, symbol may be delisted (1d 2023-12-28 -> 2023-12-28)')\n"
     ]
    },
    {
     "name": "stdout",
     "output_type": "stream",
     "text": [
      "\n",
      "[*********************100%%**********************]  1 of 1 completed"
     ]
    },
    {
     "name": "stderr",
     "output_type": "stream",
     "text": [
      "\n",
      "1 Failed download:\n",
      "['FROTO.IS']: Exception('%ticker%: No price data found, symbol may be delisted (1d 2023-12-28 -> 2023-12-28)')\n"
     ]
    },
    {
     "name": "stdout",
     "output_type": "stream",
     "text": [
      "\n",
      "[*********************100%%**********************]  1 of 1 completed"
     ]
    },
    {
     "name": "stderr",
     "output_type": "stream",
     "text": [
      "\n",
      "1 Failed download:\n",
      "['FORMT.IS']: Exception('%ticker%: No price data found, symbol may be delisted (1d 2023-12-28 -> 2023-12-28)')\n"
     ]
    },
    {
     "name": "stdout",
     "output_type": "stream",
     "text": [
      "\n",
      "[*********************100%%**********************]  1 of 1 completed"
     ]
    },
    {
     "name": "stderr",
     "output_type": "stream",
     "text": [
      "\n",
      "1 Failed download:\n",
      "['FORTE.IS']: Exception('%ticker%: No price data found, symbol may be delisted (1d 2023-12-28 -> 2023-12-28)')\n"
     ]
    },
    {
     "name": "stdout",
     "output_type": "stream",
     "text": [
      "\n",
      "[*********************100%%**********************]  1 of 1 completed"
     ]
    },
    {
     "name": "stderr",
     "output_type": "stream",
     "text": [
      "\n",
      "1 Failed download:\n",
      "['FRIGO.IS']: Exception('%ticker%: No price data found, symbol may be delisted (1d 2023-12-28 -> 2023-12-28)')\n"
     ]
    },
    {
     "name": "stdout",
     "output_type": "stream",
     "text": [
      "\n",
      "[*********************100%%**********************]  1 of 1 completed"
     ]
    },
    {
     "name": "stderr",
     "output_type": "stream",
     "text": [
      "\n",
      "1 Failed download:\n",
      "['FZLGY.IS']: Exception('%ticker%: No price data found, symbol may be delisted (1d 2023-12-28 -> 2023-12-28)')\n"
     ]
    },
    {
     "name": "stdout",
     "output_type": "stream",
     "text": [
      "\n",
      "[*********************100%%**********************]  1 of 1 completed"
     ]
    },
    {
     "name": "stderr",
     "output_type": "stream",
     "text": [
      "\n",
      "1 Failed download:\n",
      "['GWIND.IS']: Exception('%ticker%: No price data found, symbol may be delisted (1d 2023-12-28 -> 2023-12-28)')\n"
     ]
    },
    {
     "name": "stdout",
     "output_type": "stream",
     "text": [
      "\n",
      "[*********************100%%**********************]  1 of 1 completed"
     ]
    },
    {
     "name": "stderr",
     "output_type": "stream",
     "text": [
      "\n",
      "1 Failed download:\n",
      "['GSRAY.IS']: Exception('%ticker%: No price data found, symbol may be delisted (1d 2023-12-28 -> 2023-12-28)')\n"
     ]
    },
    {
     "name": "stdout",
     "output_type": "stream",
     "text": [
      "\n",
      "[*********************100%%**********************]  1 of 1 completed"
     ]
    },
    {
     "name": "stderr",
     "output_type": "stream",
     "text": [
      "\n",
      "1 Failed download:\n",
      "['GAPIN.IS']: Exception('%ticker%: No timezone found, symbol may be delisted')\n"
     ]
    },
    {
     "name": "stdout",
     "output_type": "stream",
     "text": [
      "\n",
      "[*********************100%%**********************]  1 of 1 completed"
     ]
    },
    {
     "name": "stderr",
     "output_type": "stream",
     "text": [
      "\n",
      "1 Failed download:\n",
      "['GARFA.IS']: Exception('%ticker%: No price data found, symbol may be delisted (1d 2023-12-28 -> 2023-12-28)')\n"
     ]
    },
    {
     "name": "stdout",
     "output_type": "stream",
     "text": [
      "\n",
      "[*********************100%%**********************]  1 of 1 completed"
     ]
    },
    {
     "name": "stderr",
     "output_type": "stream",
     "text": [
      "\n",
      "1 Failed download:\n",
      "['GARFL.IS']: Exception('%ticker%: No timezone found, symbol may be delisted')\n"
     ]
    },
    {
     "name": "stdout",
     "output_type": "stream",
     "text": [
      "\n",
      "[*********************100%%**********************]  1 of 1 completed"
     ]
    },
    {
     "name": "stderr",
     "output_type": "stream",
     "text": [
      "\n",
      "1 Failed download:\n",
      "['GRFIN.IS']: Exception('%ticker%: No timezone found, symbol may be delisted')\n"
     ]
    },
    {
     "name": "stdout",
     "output_type": "stream",
     "text": [
      "\n",
      "[*********************100%%**********************]  1 of 1 completed"
     ]
    },
    {
     "name": "stderr",
     "output_type": "stream",
     "text": [
      "\n",
      "1 Failed download:\n",
      "['GRNYO.IS']: Exception('%ticker%: No price data found, symbol may be delisted (1d 2023-12-28 -> 2023-12-28)')\n"
     ]
    },
    {
     "name": "stdout",
     "output_type": "stream",
     "text": [
      "\n",
      "[*********************100%%**********************]  1 of 1 completed"
     ]
    },
    {
     "name": "stderr",
     "output_type": "stream",
     "text": [
      "\n",
      "1 Failed download:\n",
      "['GEDIK.IS']: Exception('%ticker%: No price data found, symbol may be delisted (1d 2023-12-28 -> 2023-12-28)')\n"
     ]
    },
    {
     "name": "stdout",
     "output_type": "stream",
     "text": [
      "\n",
      "[*********************100%%**********************]  1 of 1 completed"
     ]
    },
    {
     "name": "stderr",
     "output_type": "stream",
     "text": [
      "\n",
      "1 Failed download:\n",
      "['GEDZA.IS']: Exception('%ticker%: No price data found, symbol may be delisted (1d 2023-12-28 -> 2023-12-28)')\n"
     ]
    },
    {
     "name": "stdout",
     "output_type": "stream",
     "text": [
      "\n",
      "[*********************100%%**********************]  1 of 1 completed"
     ]
    },
    {
     "name": "stderr",
     "output_type": "stream",
     "text": [
      "\n",
      "1 Failed download:\n",
      "['GLCVY.IS']: Exception('%ticker%: No price data found, symbol may be delisted (1d 2023-12-28 -> 2023-12-28)')\n"
     ]
    },
    {
     "name": "stdout",
     "output_type": "stream",
     "text": [
      "\n",
      "[*********************100%%**********************]  1 of 1 completed"
     ]
    },
    {
     "name": "stderr",
     "output_type": "stream",
     "text": [
      "\n",
      "1 Failed download:\n",
      "['GENIL.IS']: Exception('%ticker%: No price data found, symbol may be delisted (1d 2023-12-28 -> 2023-12-28)')\n"
     ]
    },
    {
     "name": "stdout",
     "output_type": "stream",
     "text": [
      "\n",
      "[*********************100%%**********************]  1 of 1 completed"
     ]
    },
    {
     "name": "stderr",
     "output_type": "stream",
     "text": [
      "\n",
      "1 Failed download:\n",
      "['GENTS.IS']: Exception('%ticker%: No price data found, symbol may be delisted (1d 2023-12-28 -> 2023-12-28)')\n"
     ]
    },
    {
     "name": "stdout",
     "output_type": "stream",
     "text": [
      "\n",
      "[*********************100%%**********************]  1 of 1 completed"
     ]
    },
    {
     "name": "stderr",
     "output_type": "stream",
     "text": [
      "\n",
      "1 Failed download:\n",
      "['GEREL.IS']: Exception('%ticker%: No price data found, symbol may be delisted (1d 2023-12-28 -> 2023-12-28)')\n"
     ]
    },
    {
     "name": "stdout",
     "output_type": "stream",
     "text": [
      "\n",
      "[*********************100%%**********************]  1 of 1 completed"
     ]
    },
    {
     "name": "stderr",
     "output_type": "stream",
     "text": [
      "\n",
      "1 Failed download:\n",
      "['GZNMI.IS']: Exception(\"%ticker%: Period 'max' is invalid, must be one of ['1d', '5d']\")\n"
     ]
    },
    {
     "name": "stdout",
     "output_type": "stream",
     "text": [
      "\n",
      "[*********************100%%**********************]  1 of 1 completed"
     ]
    },
    {
     "name": "stderr",
     "output_type": "stream",
     "text": [
      "\n",
      "1 Failed download:\n",
      "['GIPTA.IS']: Exception('%ticker%: No price data found, symbol may be delisted (1d 2023-12-28 -> 2023-12-28)')\n"
     ]
    },
    {
     "name": "stdout",
     "output_type": "stream",
     "text": [
      "\n",
      "[*********************100%%**********************]  1 of 1 completed"
     ]
    },
    {
     "name": "stderr",
     "output_type": "stream",
     "text": [
      "\n",
      "1 Failed download:\n",
      "['GMTAS.IS']: Exception(\"%ticker%: Period 'max' is invalid, must be one of ['1d', '5d']\")\n"
     ]
    },
    {
     "name": "stdout",
     "output_type": "stream",
     "text": [
      "\n",
      "[*********************100%%**********************]  1 of 1 completed"
     ]
    },
    {
     "name": "stderr",
     "output_type": "stream",
     "text": [
      "\n",
      "1 Failed download:\n",
      "['GESAN.IS']: Exception('%ticker%: No price data found, symbol may be delisted (1d 2023-12-28 -> 2023-12-28)')\n"
     ]
    },
    {
     "name": "stdout",
     "output_type": "stream",
     "text": [
      "\n",
      "[*********************100%%**********************]  1 of 1 completed"
     ]
    },
    {
     "name": "stderr",
     "output_type": "stream",
     "text": [
      "\n",
      "1 Failed download:\n",
      "['GLB.IS']: Exception('%ticker%: No timezone found, symbol may be delisted')\n"
     ]
    },
    {
     "name": "stdout",
     "output_type": "stream",
     "text": [
      "\n",
      "[*********************100%%**********************]  1 of 1 completed"
     ]
    },
    {
     "name": "stderr",
     "output_type": "stream",
     "text": [
      "\n",
      "1 Failed download:\n",
      "['GLBMD.IS']: Exception('%ticker%: No price data found, symbol may be delisted (1d 2023-12-28 -> 2023-12-28)')\n"
     ]
    },
    {
     "name": "stdout",
     "output_type": "stream",
     "text": [
      "\n",
      "[*********************100%%**********************]  1 of 1 completed"
     ]
    },
    {
     "name": "stderr",
     "output_type": "stream",
     "text": [
      "\n",
      "1 Failed download:\n",
      "['GLYHO.IS']: Exception('%ticker%: No price data found, symbol may be delisted (1d 2023-12-28 -> 2023-12-28)')\n"
     ]
    },
    {
     "name": "stdout",
     "output_type": "stream",
     "text": [
      "\n",
      "[*********************100%%**********************]  1 of 1 completed"
     ]
    },
    {
     "name": "stderr",
     "output_type": "stream",
     "text": [
      "\n",
      "1 Failed download:\n",
      "['GGBVK.IS']: Exception('%ticker%: No timezone found, symbol may be delisted')\n"
     ]
    },
    {
     "name": "stdout",
     "output_type": "stream",
     "text": [
      "\n",
      "[*********************100%%**********************]  1 of 1 completed"
     ]
    },
    {
     "name": "stderr",
     "output_type": "stream",
     "text": [
      "\n",
      "1 Failed download:\n",
      "['GSIPD.IS']: Exception('%ticker%: No timezone found, symbol may be delisted')\n"
     ]
    },
    {
     "name": "stdout",
     "output_type": "stream",
     "text": [
      "\n",
      "[*********************100%%**********************]  1 of 1 completed"
     ]
    },
    {
     "name": "stderr",
     "output_type": "stream",
     "text": [
      "\n",
      "1 Failed download:\n",
      "['GOODY.IS']: Exception('%ticker%: No price data found, symbol may be delisted (1d 2023-12-28 -> 2023-12-28)')\n"
     ]
    },
    {
     "name": "stdout",
     "output_type": "stream",
     "text": [
      "\n",
      "[*********************100%%**********************]  1 of 1 completed"
     ]
    },
    {
     "name": "stderr",
     "output_type": "stream",
     "text": [
      "\n",
      "1 Failed download:\n",
      "['GOKNR.IS']: Exception('%ticker%: No price data found, symbol may be delisted (1d 2023-12-28 -> 2023-12-28)')\n"
     ]
    },
    {
     "name": "stdout",
     "output_type": "stream",
     "text": [
      "\n",
      "[*********************100%%**********************]  1 of 1 completed"
     ]
    },
    {
     "name": "stderr",
     "output_type": "stream",
     "text": [
      "\n",
      "1 Failed download:\n",
      "['GOLTS.IS']: Exception('%ticker%: No price data found, symbol may be delisted (1d 2023-12-28 -> 2023-12-28)')\n"
     ]
    },
    {
     "name": "stdout",
     "output_type": "stream",
     "text": [
      "\n",
      "[*********************100%%**********************]  1 of 1 completed"
     ]
    },
    {
     "name": "stderr",
     "output_type": "stream",
     "text": [
      "\n",
      "1 Failed download:\n",
      "['GOZDE.IS']: Exception('%ticker%: No price data found, symbol may be delisted (1d 2023-12-28 -> 2023-12-28)')\n"
     ]
    },
    {
     "name": "stdout",
     "output_type": "stream",
     "text": [
      "\n",
      "[*********************100%%**********************]  1 of 1 completed"
     ]
    },
    {
     "name": "stderr",
     "output_type": "stream",
     "text": [
      "\n",
      "1 Failed download:\n",
      "['GRTRK.IS']: Exception('%ticker%: No price data found, symbol may be delisted (1d 2023-12-28 -> 2023-12-28)')\n"
     ]
    },
    {
     "name": "stdout",
     "output_type": "stream",
     "text": [
      "\n",
      "[*********************100%%**********************]  1 of 1 completed"
     ]
    },
    {
     "name": "stderr",
     "output_type": "stream",
     "text": [
      "\n",
      "1 Failed download:\n",
      "['GSDDE.IS']: Exception('%ticker%: No price data found, symbol may be delisted (1d 2023-12-28 -> 2023-12-28)')\n"
     ]
    },
    {
     "name": "stdout",
     "output_type": "stream",
     "text": [
      "\n",
      "[*********************100%%**********************]  1 of 1 completed"
     ]
    },
    {
     "name": "stderr",
     "output_type": "stream",
     "text": [
      "\n",
      "1 Failed download:\n",
      "['GSDHO.IS']: Exception('%ticker%: No price data found, symbol may be delisted (1d 2023-12-28 -> 2023-12-28)')\n"
     ]
    },
    {
     "name": "stdout",
     "output_type": "stream",
     "text": [
      "\n",
      "[*********************100%%**********************]  1 of 1 completed"
     ]
    },
    {
     "name": "stderr",
     "output_type": "stream",
     "text": [
      "\n",
      "1 Failed download:\n",
      "['GUBRF.IS']: Exception('%ticker%: No price data found, symbol may be delisted (1d 2023-12-28 -> 2023-12-28)')\n"
     ]
    },
    {
     "name": "stdout",
     "output_type": "stream",
     "text": [
      "\n",
      "[*********************100%%**********************]  1 of 1 completed"
     ]
    },
    {
     "name": "stderr",
     "output_type": "stream",
     "text": [
      "\n",
      "1 Failed download:\n",
      "['GLRYH.IS']: Exception('%ticker%: No price data found, symbol may be delisted (1d 2023-12-28 -> 2023-12-28)')\n"
     ]
    },
    {
     "name": "stdout",
     "output_type": "stream",
     "text": [
      "\n",
      "[*********************100%%**********************]  1 of 1 completed"
     ]
    },
    {
     "name": "stderr",
     "output_type": "stream",
     "text": [
      "\n",
      "1 Failed download:\n",
      "['GRSEL.IS']: Exception(\"%ticker%: Period 'max' is invalid, must be one of ['1d', '5d']\")\n"
     ]
    },
    {
     "name": "stdout",
     "output_type": "stream",
     "text": [
      "\n",
      "[*********************100%%**********************]  1 of 1 completed"
     ]
    },
    {
     "name": "stderr",
     "output_type": "stream",
     "text": [
      "\n",
      "1 Failed download:\n",
      "['SAHOL.IS']: Exception('%ticker%: No price data found, symbol may be delisted (1d 2023-12-28 -> 2023-12-28)')\n"
     ]
    },
    {
     "name": "stdout",
     "output_type": "stream",
     "text": [
      "\n",
      "[*********************100%%**********************]  1 of 1 completed"
     ]
    },
    {
     "name": "stderr",
     "output_type": "stream",
     "text": [
      "\n",
      "1 Failed download:\n",
      "['HALKF.IS']: Exception('%ticker%: No timezone found, symbol may be delisted')\n"
     ]
    },
    {
     "name": "stdout",
     "output_type": "stream",
     "text": [
      "\n",
      "[*********************100%%**********************]  1 of 1 completed"
     ]
    },
    {
     "name": "stderr",
     "output_type": "stream",
     "text": [
      "\n",
      "1 Failed download:\n",
      "['HLGYO.IS']: Exception('%ticker%: No price data found, symbol may be delisted (1d 2023-12-28 -> 2023-12-28)')\n"
     ]
    },
    {
     "name": "stdout",
     "output_type": "stream",
     "text": [
      "\n",
      "[*********************100%%**********************]  1 of 1 completed"
     ]
    },
    {
     "name": "stderr",
     "output_type": "stream",
     "text": [
      "\n",
      "1 Failed download:\n",
      "['HLVKS.IS']: Exception('%ticker%: No timezone found, symbol may be delisted')\n"
     ]
    },
    {
     "name": "stdout",
     "output_type": "stream",
     "text": [
      "\n",
      "[*********************100%%**********************]  1 of 1 completed"
     ]
    },
    {
     "name": "stderr",
     "output_type": "stream",
     "text": [
      "\n",
      "1 Failed download:\n",
      "['HALKI.IS']: Exception('%ticker%: No timezone found, symbol may be delisted')\n"
     ]
    },
    {
     "name": "stdout",
     "output_type": "stream",
     "text": [
      "\n",
      "[*********************100%%**********************]  1 of 1 completed"
     ]
    },
    {
     "name": "stderr",
     "output_type": "stream",
     "text": [
      "\n",
      "1 Failed download:\n",
      "['HLY.IS']: Exception('%ticker%: No timezone found, symbol may be delisted')\n"
     ]
    },
    {
     "name": "stdout",
     "output_type": "stream",
     "text": [
      "\n",
      "[*********************100%%**********************]  1 of 1 completed"
     ]
    },
    {
     "name": "stderr",
     "output_type": "stream",
     "text": [
      "\n",
      "1 Failed download:\n",
      "['HATSN.IS']: Exception('%ticker%: No price data found, symbol may be delisted (1d 2023-12-28 -> 2023-12-28)')\n"
     ]
    },
    {
     "name": "stdout",
     "output_type": "stream",
     "text": [
      "\n",
      "[*********************100%%**********************]  1 of 1 completed"
     ]
    },
    {
     "name": "stderr",
     "output_type": "stream",
     "text": [
      "\n",
      "1 Failed download:\n",
      "['HATEK.IS']: Exception('%ticker%: No price data found, symbol may be delisted (1d 2023-12-28 -> 2023-12-28)')\n"
     ]
    },
    {
     "name": "stdout",
     "output_type": "stream",
     "text": [
      "\n",
      "[*********************100%%**********************]  1 of 1 completed"
     ]
    },
    {
     "name": "stderr",
     "output_type": "stream",
     "text": [
      "\n",
      "1 Failed download:\n",
      "['HDFFL.IS']: Exception('%ticker%: No timezone found, symbol may be delisted')\n"
     ]
    },
    {
     "name": "stdout",
     "output_type": "stream",
     "text": [
      "\n",
      "[*********************100%%**********************]  1 of 1 completed"
     ]
    },
    {
     "name": "stderr",
     "output_type": "stream",
     "text": [
      "\n",
      "1 Failed download:\n",
      "['HDFGS.IS']: Exception('%ticker%: No price data found, symbol may be delisted (1d 2023-12-28 -> 2023-12-28)')\n"
     ]
    },
    {
     "name": "stdout",
     "output_type": "stream",
     "text": [
      "\n",
      "[*********************100%%**********************]  1 of 1 completed"
     ]
    },
    {
     "name": "stderr",
     "output_type": "stream",
     "text": [
      "\n",
      "1 Failed download:\n",
      "['HEDEF.IS']: Exception('%ticker%: No price data found, symbol may be delisted (1d 2023-12-28 -> 2023-12-28)')\n"
     ]
    },
    {
     "name": "stdout",
     "output_type": "stream",
     "text": [
      "\n",
      "[*********************100%%**********************]  1 of 1 completed"
     ]
    },
    {
     "name": "stderr",
     "output_type": "stream",
     "text": [
      "\n",
      "1 Failed download:\n",
      "['HEKTS.IS']: Exception('%ticker%: No price data found, symbol may be delisted (1d 2023-12-28 -> 2023-12-28)')\n"
     ]
    },
    {
     "name": "stdout",
     "output_type": "stream",
     "text": [
      "\n",
      "[*********************100%%**********************]  1 of 1 completed"
     ]
    },
    {
     "name": "stderr",
     "output_type": "stream",
     "text": [
      "\n",
      "1 Failed download:\n",
      "['HKTM.IS']: Exception(\"%ticker%: Period 'max' is invalid, must be one of ['1d', '5d']\")\n"
     ]
    },
    {
     "name": "stdout",
     "output_type": "stream",
     "text": [
      "\n",
      "[*********************100%%**********************]  1 of 1 completed"
     ]
    },
    {
     "name": "stderr",
     "output_type": "stream",
     "text": [
      "\n",
      "1 Failed download:\n",
      "['HTTBT.IS']: Exception('%ticker%: No price data found, symbol may be delisted (1d 2023-12-28 -> 2023-12-28)')\n"
     ]
    },
    {
     "name": "stdout",
     "output_type": "stream",
     "text": [
      "\n",
      "[*********************100%%**********************]  1 of 1 completed"
     ]
    },
    {
     "name": "stderr",
     "output_type": "stream",
     "text": [
      "\n",
      "1 Failed download:\n",
      "['HUBVC.IS']: Exception('%ticker%: No price data found, symbol may be delisted (1d 2023-12-28 -> 2023-12-28)')\n"
     ]
    },
    {
     "name": "stdout",
     "output_type": "stream",
     "text": [
      "\n",
      "[*********************100%%**********************]  1 of 1 completed"
     ]
    },
    {
     "name": "stderr",
     "output_type": "stream",
     "text": [
      "\n",
      "1 Failed download:\n",
      "['HUNER.IS']: Exception(\"%ticker%: Period 'max' is invalid, must be one of ['1d', '5d']\")\n"
     ]
    },
    {
     "name": "stdout",
     "output_type": "stream",
     "text": [
      "\n",
      "[*********************100%%**********************]  1 of 1 completed"
     ]
    },
    {
     "name": "stderr",
     "output_type": "stream",
     "text": [
      "\n",
      "1 Failed download:\n",
      "['HUZFA.IS']: Exception('%ticker%: No timezone found, symbol may be delisted')\n"
     ]
    },
    {
     "name": "stdout",
     "output_type": "stream",
     "text": [
      "\n",
      "[*********************100%%**********************]  1 of 1 completed"
     ]
    },
    {
     "name": "stderr",
     "output_type": "stream",
     "text": [
      "\n",
      "1 Failed download:\n",
      "['HURGZ.IS']: Exception('%ticker%: No price data found, symbol may be delisted (1d 2023-12-28 -> 2023-12-28)')\n"
     ]
    },
    {
     "name": "stdout",
     "output_type": "stream",
     "text": [
      "\n",
      "[*********************100%%**********************]  1 of 1 completed"
     ]
    },
    {
     "name": "stderr",
     "output_type": "stream",
     "text": [
      "\n",
      "1 Failed download:\n",
      "['ICB.IS']: Exception('%ticker%: No timezone found, symbol may be delisted')\n"
     ]
    },
    {
     "name": "stdout",
     "output_type": "stream",
     "text": [
      "\n",
      "[*********************100%%**********************]  1 of 1 completed"
     ]
    },
    {
     "name": "stderr",
     "output_type": "stream",
     "text": [
      "\n",
      "1 Failed download:\n",
      "['ICBCT.IS']: Exception('%ticker%: No price data found, symbol may be delisted (1d 2023-12-28 -> 2023-12-28)')\n"
     ]
    },
    {
     "name": "stdout",
     "output_type": "stream",
     "text": [
      "\n",
      "[*********************100%%**********************]  1 of 1 completed"
     ]
    },
    {
     "name": "stderr",
     "output_type": "stream",
     "text": [
      "\n",
      "1 Failed download:\n",
      "['ICUGS.IS']: Exception('%ticker%: No price data found, symbol may be delisted (1d 2023-12-28 -> 2023-12-28)')\n"
     ]
    },
    {
     "name": "stdout",
     "output_type": "stream",
     "text": [
      "\n",
      "[*********************100%%**********************]  1 of 1 completed"
     ]
    },
    {
     "name": "stderr",
     "output_type": "stream",
     "text": [
      "\n",
      "1 Failed download:\n",
      "['INGRM.IS']: Exception('%ticker%: No price data found, symbol may be delisted (1d 2023-12-28 -> 2023-12-28)')\n"
     ]
    },
    {
     "name": "stdout",
     "output_type": "stream",
     "text": [
      "\n",
      "[*********************100%%**********************]  1 of 1 completed"
     ]
    },
    {
     "name": "stderr",
     "output_type": "stream",
     "text": [
      "\n",
      "1 Failed download:\n",
      "['INVEO.IS']: Exception('%ticker%: No price data found, symbol may be delisted (1d 2023-12-28 -> 2023-12-28)')\n"
     ]
    },
    {
     "name": "stdout",
     "output_type": "stream",
     "text": [
      "\n",
      "[*********************100%%**********************]  1 of 1 completed"
     ]
    },
    {
     "name": "stderr",
     "output_type": "stream",
     "text": [
      "\n",
      "1 Failed download:\n",
      "['IAZ.IS']: Exception('%ticker%: No timezone found, symbol may be delisted')\n"
     ]
    },
    {
     "name": "stdout",
     "output_type": "stream",
     "text": [
      "\n",
      "[*********************100%%**********************]  1 of 1 completed"
     ]
    },
    {
     "name": "stderr",
     "output_type": "stream",
     "text": [
      "\n",
      "1 Failed download:\n",
      "['INVAZ.IS']: Exception('%ticker%: No timezone found, symbol may be delisted')\n"
     ]
    },
    {
     "name": "stdout",
     "output_type": "stream",
     "text": [
      "\n",
      "[*********************100%%**********************]  1 of 1 completed"
     ]
    },
    {
     "name": "stderr",
     "output_type": "stream",
     "text": [
      "\n",
      "1 Failed download:\n",
      "['INVES.IS']: Exception(\"%ticker%: Period 'max' is invalid, must be one of ['1d', '5d']\")\n"
     ]
    },
    {
     "name": "stdout",
     "output_type": "stream",
     "text": [
      "\n",
      "[*********************100%%**********************]  1 of 1 completed"
     ]
    },
    {
     "name": "stderr",
     "output_type": "stream",
     "text": [
      "\n",
      "1 Failed download:\n",
      "['ISKPL.IS']: Exception(\"%ticker%: Period 'max' is invalid, must be one of ['1d', '5d']\")\n"
     ]
    },
    {
     "name": "stdout",
     "output_type": "stream",
     "text": [
      "\n",
      "[*********************100%%**********************]  1 of 1 completed"
     ]
    },
    {
     "name": "stderr",
     "output_type": "stream",
     "text": [
      "\n",
      "1 Failed download:\n",
      "['IEYHO.IS']: Exception('%ticker%: No price data found, symbol may be delisted (1d 2023-12-28 -> 2023-12-28)')\n"
     ]
    },
    {
     "name": "stdout",
     "output_type": "stream",
     "text": [
      "\n",
      "[*********************100%%**********************]  1 of 1 completed"
     ]
    },
    {
     "name": "stderr",
     "output_type": "stream",
     "text": [
      "\n",
      "1 Failed download:\n",
      "['IDEAS.IS']: Exception('%ticker%: No price data found, symbol may be delisted (1d 2023-12-28 -> 2023-12-28)')\n"
     ]
    },
    {
     "name": "stdout",
     "output_type": "stream",
     "text": [
      "\n",
      "[*********************100%%**********************]  1 of 1 completed"
     ]
    },
    {
     "name": "stderr",
     "output_type": "stream",
     "text": [
      "\n",
      "1 Failed download:\n",
      "['IDGYO.IS']: Exception('%ticker%: No price data found, symbol may be delisted (1d 2023-12-28 -> 2023-12-28)')\n"
     ]
    },
    {
     "name": "stdout",
     "output_type": "stream",
     "text": [
      "\n",
      "[*********************100%%**********************]  1 of 1 completed"
     ]
    },
    {
     "name": "stderr",
     "output_type": "stream",
     "text": [
      "\n",
      "1 Failed download:\n",
      "['IHEVA.IS']: Exception('%ticker%: No price data found, symbol may be delisted (1d 2023-12-28 -> 2023-12-28)')\n"
     ]
    },
    {
     "name": "stdout",
     "output_type": "stream",
     "text": [
      "\n",
      "[*********************100%%**********************]  1 of 1 completed"
     ]
    },
    {
     "name": "stderr",
     "output_type": "stream",
     "text": [
      "\n",
      "1 Failed download:\n",
      "['IHLGM.IS']: Exception('%ticker%: No price data found, symbol may be delisted (1d 2023-12-28 -> 2023-12-28)')\n"
     ]
    },
    {
     "name": "stdout",
     "output_type": "stream",
     "text": [
      "\n",
      "[*********************100%%**********************]  1 of 1 completed"
     ]
    },
    {
     "name": "stderr",
     "output_type": "stream",
     "text": [
      "\n",
      "1 Failed download:\n",
      "['IHGZT.IS']: Exception('%ticker%: No price data found, symbol may be delisted (1d 2023-12-28 -> 2023-12-28)')\n"
     ]
    },
    {
     "name": "stdout",
     "output_type": "stream",
     "text": [
      "\n",
      "[*********************100%%**********************]  1 of 1 completed"
     ]
    },
    {
     "name": "stderr",
     "output_type": "stream",
     "text": [
      "\n",
      "1 Failed download:\n",
      "['IHAAS.IS']: Exception(\"%ticker%: Period 'max' is invalid, must be one of ['1d', '5d']\")\n"
     ]
    },
    {
     "name": "stdout",
     "output_type": "stream",
     "text": [
      "\n",
      "[*********************100%%**********************]  1 of 1 completed"
     ]
    },
    {
     "name": "stderr",
     "output_type": "stream",
     "text": [
      "\n",
      "1 Failed download:\n",
      "['IHLAS.IS']: Exception('%ticker%: No price data found, symbol may be delisted (1d 2023-12-28 -> 2023-12-28)')\n"
     ]
    },
    {
     "name": "stdout",
     "output_type": "stream",
     "text": [
      "\n",
      "[*********************100%%**********************]  1 of 1 completed"
     ]
    },
    {
     "name": "stderr",
     "output_type": "stream",
     "text": [
      "\n",
      "1 Failed download:\n",
      "['IHYAY.IS']: Exception('%ticker%: No price data found, symbol may be delisted (1d 2023-12-28 -> 2023-12-28)')\n"
     ]
    },
    {
     "name": "stdout",
     "output_type": "stream",
     "text": [
      "\n",
      "[*********************100%%**********************]  1 of 1 completed"
     ]
    },
    {
     "name": "stderr",
     "output_type": "stream",
     "text": [
      "\n",
      "1 Failed download:\n",
      "['IMASM.IS']: Exception(\"%ticker%: Period 'max' is invalid, must be one of ['1d', '5d']\")\n"
     ]
    },
    {
     "name": "stdout",
     "output_type": "stream",
     "text": [
      "\n",
      "[*********************100%%**********************]  1 of 1 completed"
     ]
    },
    {
     "name": "stderr",
     "output_type": "stream",
     "text": [
      "\n",
      "1 Failed download:\n",
      "['INALR.IS']: Exception('%ticker%: No timezone found, symbol may be delisted')\n"
     ]
    },
    {
     "name": "stdout",
     "output_type": "stream",
     "text": [
      "\n",
      "[*********************100%%**********************]  1 of 1 completed"
     ]
    },
    {
     "name": "stderr",
     "output_type": "stream",
     "text": [
      "\n",
      "1 Failed download:\n",
      "['INDES.IS']: Exception('%ticker%: No price data found, symbol may be delisted (1d 2023-12-28 -> 2023-12-28)')\n"
     ]
    },
    {
     "name": "stdout",
     "output_type": "stream",
     "text": [
      "\n",
      "[*********************100%%**********************]  1 of 1 completed"
     ]
    },
    {
     "name": "stderr",
     "output_type": "stream",
     "text": [
      "\n",
      "1 Failed download:\n",
      "['INFO.IS']: Exception('%ticker%: No price data found, symbol may be delisted (1d 2023-12-28 -> 2023-12-28)')\n"
     ]
    },
    {
     "name": "stdout",
     "output_type": "stream",
     "text": [
      "\n",
      "[*********************100%%**********************]  1 of 1 completed"
     ]
    },
    {
     "name": "stderr",
     "output_type": "stream",
     "text": [
      "\n",
      "1 Failed download:\n",
      "['IYF.IS']: Exception('%ticker%: No timezone found, symbol may be delisted')\n"
     ]
    },
    {
     "name": "stdout",
     "output_type": "stream",
     "text": [
      "\n",
      "[*********************100%%**********************]  1 of 1 completed"
     ]
    },
    {
     "name": "stderr",
     "output_type": "stream",
     "text": [
      "\n",
      "1 Failed download:\n",
      "['INTEM.IS']: Exception('%ticker%: No price data found, symbol may be delisted (1d 2023-12-28 -> 2023-12-28)')\n"
     ]
    },
    {
     "name": "stdout",
     "output_type": "stream",
     "text": [
      "\n",
      "[*********************100%%**********************]  1 of 1 completed"
     ]
    },
    {
     "name": "stderr",
     "output_type": "stream",
     "text": [
      "\n",
      "1 Failed download:\n",
      "['IPEKE.IS']: Exception('%ticker%: No price data found, symbol may be delisted (1d 2023-12-28 -> 2023-12-28)')\n"
     ]
    },
    {
     "name": "stdout",
     "output_type": "stream",
     "text": [
      "\n",
      "[*********************100%%**********************]  1 of 1 completed"
     ]
    },
    {
     "name": "stderr",
     "output_type": "stream",
     "text": [
      "\n",
      "1 Failed download:\n",
      "['ISDMR.IS']: Exception('%ticker%: No price data found, symbol may be delisted (1d 2023-12-28 -> 2023-12-28)')\n"
     ]
    },
    {
     "name": "stdout",
     "output_type": "stream",
     "text": [
      "\n",
      "[*********************100%%**********************]  1 of 1 completed"
     ]
    },
    {
     "name": "stderr",
     "output_type": "stream",
     "text": [
      "\n",
      "1 Failed download:\n",
      "['ISFAK.IS']: Exception('%ticker%: No timezone found, symbol may be delisted')\n"
     ]
    },
    {
     "name": "stdout",
     "output_type": "stream",
     "text": [
      "\n",
      "[*********************100%%**********************]  1 of 1 completed"
     ]
    },
    {
     "name": "stderr",
     "output_type": "stream",
     "text": [
      "\n",
      "1 Failed download:\n",
      "['ISFIN.IS']: Exception('%ticker%: No price data found, symbol may be delisted (1d 2023-12-28 -> 2023-12-28)')\n"
     ]
    },
    {
     "name": "stdout",
     "output_type": "stream",
     "text": [
      "\n",
      "[*********************100%%**********************]  1 of 1 completed"
     ]
    },
    {
     "name": "stderr",
     "output_type": "stream",
     "text": [
      "\n",
      "1 Failed download:\n",
      "['ISGYO.IS']: Exception('%ticker%: No price data found, symbol may be delisted (1d 2023-12-28 -> 2023-12-28)')\n"
     ]
    },
    {
     "name": "stdout",
     "output_type": "stream",
     "text": [
      "\n",
      "[*********************100%%**********************]  1 of 1 completed"
     ]
    },
    {
     "name": "stderr",
     "output_type": "stream",
     "text": [
      "\n",
      "1 Failed download:\n",
      "['ISGSY.IS']: Exception('%ticker%: No price data found, symbol may be delisted (1d 2023-12-28 -> 2023-12-28)')\n"
     ]
    },
    {
     "name": "stdout",
     "output_type": "stream",
     "text": [
      "\n",
      "[*********************100%%**********************]  1 of 1 completed"
     ]
    },
    {
     "name": "stderr",
     "output_type": "stream",
     "text": [
      "\n",
      "1 Failed download:\n",
      "['ISMEN.IS']: Exception('%ticker%: No price data found, symbol may be delisted (1d 2023-12-28 -> 2023-12-28)')\n"
     ]
    },
    {
     "name": "stdout",
     "output_type": "stream",
     "text": [
      "\n",
      "[*********************100%%**********************]  1 of 1 completed"
     ]
    },
    {
     "name": "stderr",
     "output_type": "stream",
     "text": [
      "\n",
      "1 Failed download:\n",
      "['IYM.IS']: Exception('%ticker%: No timezone found, symbol may be delisted')\n"
     ]
    },
    {
     "name": "stdout",
     "output_type": "stream",
     "text": [
      "\n",
      "[*********************100%%**********************]  1 of 1 completed"
     ]
    },
    {
     "name": "stderr",
     "output_type": "stream",
     "text": [
      "\n",
      "1 Failed download:\n",
      "['ISYAT.IS']: Exception('%ticker%: No price data found, symbol may be delisted (1d 2023-12-28 -> 2023-12-28)')\n"
     ]
    },
    {
     "name": "stdout",
     "output_type": "stream",
     "text": [
      "\n",
      "[*********************100%%**********************]  1 of 1 completed"
     ]
    },
    {
     "name": "stderr",
     "output_type": "stream",
     "text": [
      "\n",
      "1 Failed download:\n",
      "['ISBIR.IS']: Exception('%ticker%: No price data found, symbol may be delisted (1d 2023-12-28 -> 2023-12-28)')\n"
     ]
    },
    {
     "name": "stdout",
     "output_type": "stream",
     "text": [
      "\n",
      "[*********************100%%**********************]  1 of 1 completed"
     ]
    },
    {
     "name": "stderr",
     "output_type": "stream",
     "text": [
      "\n",
      "1 Failed download:\n",
      "['ISSEN.IS']: Exception(\"%ticker%: Period 'max' is invalid, must be one of ['1d', '5d']\")\n"
     ]
    },
    {
     "name": "stdout",
     "output_type": "stream",
     "text": [
      "\n",
      "[*********************100%%**********************]  1 of 1 completed"
     ]
    },
    {
     "name": "stderr",
     "output_type": "stream",
     "text": [
      "\n",
      "1 Failed download:\n",
      "['IZINV.IS']: Exception('%ticker%: No price data found, symbol may be delisted (1d 2023-12-28 -> 2023-12-28)')\n"
     ]
    },
    {
     "name": "stdout",
     "output_type": "stream",
     "text": [
      "\n",
      "[*********************100%%**********************]  1 of 1 completed"
     ]
    },
    {
     "name": "stderr",
     "output_type": "stream",
     "text": [
      "\n",
      "1 Failed download:\n",
      "['IZENR.IS']: Exception('%ticker%: No price data found, symbol may be delisted (1d 2023-12-28 -> 2023-12-28)')\n"
     ]
    },
    {
     "name": "stdout",
     "output_type": "stream",
     "text": [
      "\n",
      "[*********************100%%**********************]  1 of 1 completed"
     ]
    },
    {
     "name": "stderr",
     "output_type": "stream",
     "text": [
      "\n",
      "1 Failed download:\n",
      "['IZMDC.IS']: Exception('%ticker%: No price data found, symbol may be delisted (1d 2023-12-28 -> 2023-12-28)')\n"
     ]
    },
    {
     "name": "stdout",
     "output_type": "stream",
     "text": [
      "\n",
      "[*********************100%%**********************]  1 of 1 completed"
     ]
    },
    {
     "name": "stderr",
     "output_type": "stream",
     "text": [
      "\n",
      "1 Failed download:\n",
      "['IZFAS.IS']: Exception('%ticker%: No price data found, symbol may be delisted (1d 2023-12-28 -> 2023-12-28)')\n"
     ]
    },
    {
     "name": "stdout",
     "output_type": "stream",
     "text": [
      "\n",
      "[*********************100%%**********************]  1 of 1 completed"
     ]
    },
    {
     "name": "stderr",
     "output_type": "stream",
     "text": [
      "\n",
      "1 Failed download:\n",
      "['JANTS.IS']: Exception('%ticker%: No price data found, symbol may be delisted (1d 2023-12-28 -> 2023-12-28)')\n"
     ]
    },
    {
     "name": "stdout",
     "output_type": "stream",
     "text": [
      "\n",
      "[*********************100%%**********************]  1 of 1 completed"
     ]
    },
    {
     "name": "stderr",
     "output_type": "stream",
     "text": [
      "\n",
      "1 Failed download:\n",
      "['KFEIN.IS']: Exception('%ticker%: No price data found, symbol may be delisted (1d 2023-12-28 -> 2023-12-28)')\n"
     ]
    },
    {
     "name": "stdout",
     "output_type": "stream",
     "text": [
      "\n",
      "[*********************100%%**********************]  1 of 1 completed"
     ]
    },
    {
     "name": "stderr",
     "output_type": "stream",
     "text": [
      "\n",
      "1 Failed download:\n",
      "['KLKIM.IS']: Exception('%ticker%: No price data found, symbol may be delisted (1d 2023-12-28 -> 2023-12-28)')\n"
     ]
    },
    {
     "name": "stdout",
     "output_type": "stream",
     "text": [
      "\n",
      "[*********************100%%**********************]  1 of 1 completed"
     ]
    },
    {
     "name": "stderr",
     "output_type": "stream",
     "text": [
      "\n",
      "1 Failed download:\n",
      "['KLSER.IS']: Exception('%ticker%: No price data found, symbol may be delisted (1d 2023-12-28 -> 2023-12-28)')\n"
     ]
    },
    {
     "name": "stdout",
     "output_type": "stream",
     "text": [
      "\n",
      "[*********************100%%**********************]  1 of 1 completed"
     ]
    },
    {
     "name": "stderr",
     "output_type": "stream",
     "text": [
      "\n",
      "1 Failed download:\n",
      "['KLVKS.IS']: Exception('%ticker%: No timezone found, symbol may be delisted')\n"
     ]
    },
    {
     "name": "stdout",
     "output_type": "stream",
     "text": [
      "\n",
      "[*********************100%%**********************]  1 of 1 completed"
     ]
    },
    {
     "name": "stderr",
     "output_type": "stream",
     "text": [
      "\n",
      "1 Failed download:\n",
      "['KAPTESTAS001.IS']: Exception('%ticker%: No timezone found, symbol may be delisted')\n"
     ]
    },
    {
     "name": "stdout",
     "output_type": "stream",
     "text": [
      "\n",
      "[*********************100%%**********************]  1 of 1 completed"
     ]
    },
    {
     "name": "stderr",
     "output_type": "stream",
     "text": [
      "\n",
      "1 Failed download:\n",
      "['TRAKAPTEST01.IS']: Exception('%ticker%: No timezone found, symbol may be delisted')\n"
     ]
    },
    {
     "name": "stdout",
     "output_type": "stream",
     "text": [
      "\n",
      "[*********************100%%**********************]  1 of 1 completed"
     ]
    },
    {
     "name": "stderr",
     "output_type": "stream",
     "text": [
      "\n",
      "1 Failed download:\n",
      "['KAPLM.IS']: Exception('%ticker%: No price data found, symbol may be delisted (1d 2023-12-28 -> 2023-12-28)')\n"
     ]
    },
    {
     "name": "stdout",
     "output_type": "stream",
     "text": [
      "\n",
      "[*********************100%%**********************]  1 of 1 completed"
     ]
    },
    {
     "name": "stderr",
     "output_type": "stream",
     "text": [
      "\n",
      "1 Failed download:\n",
      "['KRDMA.IS']: Exception('%ticker%: No price data found, symbol may be delisted (1d 2023-12-28 -> 2023-12-28)')\n"
     ]
    },
    {
     "name": "stdout",
     "output_type": "stream",
     "text": [
      "\n",
      "[*********************100%%**********************]  1 of 1 completed"
     ]
    },
    {
     "name": "stderr",
     "output_type": "stream",
     "text": [
      "\n",
      "1 Failed download:\n",
      "['KRDMB.IS']: Exception('%ticker%: No price data found, symbol may be delisted (1d 2023-12-28 -> 2023-12-28)')\n"
     ]
    },
    {
     "name": "stdout",
     "output_type": "stream",
     "text": [
      "\n",
      "[*********************100%%**********************]  1 of 1 completed"
     ]
    },
    {
     "name": "stderr",
     "output_type": "stream",
     "text": [
      "\n",
      "1 Failed download:\n",
      "['KRDMD.IS']: Exception('%ticker%: No price data found, symbol may be delisted (1d 2023-12-28 -> 2023-12-28)')\n"
     ]
    },
    {
     "name": "stdout",
     "output_type": "stream",
     "text": [
      "\n",
      "[*********************100%%**********************]  1 of 1 completed"
     ]
    },
    {
     "name": "stderr",
     "output_type": "stream",
     "text": [
      "\n",
      "1 Failed download:\n",
      "['KAREL.IS']: Exception('%ticker%: No price data found, symbol may be delisted (1d 2023-12-28 -> 2023-12-28)')\n"
     ]
    },
    {
     "name": "stdout",
     "output_type": "stream",
     "text": [
      "\n",
      "[*********************100%%**********************]  1 of 1 completed"
     ]
    },
    {
     "name": "stderr",
     "output_type": "stream",
     "text": [
      "\n",
      "1 Failed download:\n",
      "['KARSN.IS']: Exception('%ticker%: No price data found, symbol may be delisted (1d 2023-12-28 -> 2023-12-28)')\n"
     ]
    },
    {
     "name": "stdout",
     "output_type": "stream",
     "text": [
      "\n",
      "[*********************100%%**********************]  1 of 1 completed"
     ]
    },
    {
     "name": "stderr",
     "output_type": "stream",
     "text": [
      "\n",
      "1 Failed download:\n",
      "['KRTEK.IS']: Exception('%ticker%: No price data found, symbol may be delisted (1d 2023-12-28 -> 2023-12-28)')\n"
     ]
    },
    {
     "name": "stdout",
     "output_type": "stream",
     "text": [
      "\n",
      "[*********************100%%**********************]  1 of 1 completed"
     ]
    },
    {
     "name": "stderr",
     "output_type": "stream",
     "text": [
      "\n",
      "1 Failed download:\n",
      "['KARYE.IS']: Exception(\"%ticker%: Period 'max' is invalid, must be one of ['1d', '5d']\")\n"
     ]
    },
    {
     "name": "stdout",
     "output_type": "stream",
     "text": [
      "\n",
      "[*********************100%%**********************]  1 of 1 completed"
     ]
    },
    {
     "name": "stderr",
     "output_type": "stream",
     "text": [
      "\n",
      "1 Failed download:\n",
      "['KARTN.IS']: Exception('%ticker%: No price data found, symbol may be delisted (1d 2023-12-28 -> 2023-12-28)')\n"
     ]
    },
    {
     "name": "stdout",
     "output_type": "stream",
     "text": [
      "\n",
      "[*********************100%%**********************]  1 of 1 completed"
     ]
    },
    {
     "name": "stderr",
     "output_type": "stream",
     "text": [
      "\n",
      "1 Failed download:\n",
      "['KATVK.IS']: Exception('%ticker%: No timezone found, symbol may be delisted')\n"
     ]
    },
    {
     "name": "stdout",
     "output_type": "stream",
     "text": [
      "\n",
      "[*********************100%%**********************]  1 of 1 completed"
     ]
    },
    {
     "name": "stderr",
     "output_type": "stream",
     "text": [
      "\n",
      "1 Failed download:\n",
      "['KTLEV.IS']: Exception('%ticker%: No price data found, symbol may be delisted (1d 2023-12-28 -> 2023-12-28)')\n"
     ]
    },
    {
     "name": "stdout",
     "output_type": "stream",
     "text": [
      "\n",
      "[*********************100%%**********************]  1 of 1 completed"
     ]
    },
    {
     "name": "stderr",
     "output_type": "stream",
     "text": [
      "\n",
      "1 Failed download:\n",
      "['KATMR.IS']: Exception('%ticker%: No price data found, symbol may be delisted (1d 2023-12-28 -> 2023-12-28)')\n"
     ]
    },
    {
     "name": "stdout",
     "output_type": "stream",
     "text": [
      "\n",
      "[*********************100%%**********************]  1 of 1 completed"
     ]
    },
    {
     "name": "stderr",
     "output_type": "stream",
     "text": [
      "\n",
      "1 Failed download:\n",
      "['KAYSE.IS']: Exception('%ticker%: No price data found, symbol may be delisted (1d 2023-12-28 -> 2023-12-28)')\n"
     ]
    },
    {
     "name": "stdout",
     "output_type": "stream",
     "text": [
      "\n",
      "[*********************100%%**********************]  1 of 1 completed"
     ]
    },
    {
     "name": "stderr",
     "output_type": "stream",
     "text": [
      "\n",
      "1 Failed download:\n",
      "['KNTFA.IS']: Exception('%ticker%: No timezone found, symbol may be delisted')\n"
     ]
    },
    {
     "name": "stdout",
     "output_type": "stream",
     "text": [
      "\n",
      "[*********************100%%**********************]  1 of 1 completed"
     ]
    },
    {
     "name": "stderr",
     "output_type": "stream",
     "text": [
      "\n",
      "1 Failed download:\n",
      "['KENT.IS']: Exception('%ticker%: No price data found, symbol may be delisted (1d 2023-12-28 -> 2023-12-28)')\n"
     ]
    },
    {
     "name": "stdout",
     "output_type": "stream",
     "text": [
      "\n",
      "[*********************100%%**********************]  1 of 1 completed"
     ]
    },
    {
     "name": "stderr",
     "output_type": "stream",
     "text": [
      "\n",
      "1 Failed download:\n",
      "['KERVT.IS']: Exception('%ticker%: No price data found, symbol may be delisted (1d 2023-12-28 -> 2023-12-28)')\n"
     ]
    },
    {
     "name": "stdout",
     "output_type": "stream",
     "text": [
      "\n",
      "[*********************100%%**********************]  1 of 1 completed"
     ]
    },
    {
     "name": "stderr",
     "output_type": "stream",
     "text": [
      "\n",
      "1 Failed download:\n",
      "['KRVGD.IS']: Exception('%ticker%: No price data found, symbol may be delisted (1d 2023-12-28 -> 2023-12-28)')\n"
     ]
    },
    {
     "name": "stdout",
     "output_type": "stream",
     "text": [
      "\n",
      "[*********************100%%**********************]  1 of 1 completed"
     ]
    },
    {
     "name": "stderr",
     "output_type": "stream",
     "text": [
      "\n",
      "1 Failed download:\n",
      "['KERVN.IS']: Exception('%ticker%: No price data found, symbol may be delisted (1d 2023-12-28 -> 2023-12-28)')\n"
     ]
    },
    {
     "name": "stdout",
     "output_type": "stream",
     "text": [
      "\n",
      "[*********************100%%**********************]  1 of 1 completed"
     ]
    },
    {
     "name": "stderr",
     "output_type": "stream",
     "text": [
      "\n",
      "1 Failed download:\n",
      "['KZBGY.IS']: Exception('%ticker%: No price data found, symbol may be delisted (1d 2023-12-28 -> 2023-12-28)')\n"
     ]
    },
    {
     "name": "stdout",
     "output_type": "stream",
     "text": [
      "\n",
      "[*********************100%%**********************]  1 of 1 completed"
     ]
    },
    {
     "name": "stderr",
     "output_type": "stream",
     "text": [
      "\n",
      "1 Failed download:\n",
      "['KLGYO.IS']: Exception('%ticker%: No price data found, symbol may be delisted (1d 2023-12-28 -> 2023-12-28)')\n"
     ]
    },
    {
     "name": "stdout",
     "output_type": "stream",
     "text": [
      "\n",
      "[*********************100%%**********************]  1 of 1 completed"
     ]
    },
    {
     "name": "stderr",
     "output_type": "stream",
     "text": [
      "\n",
      "1 Failed download:\n",
      "['KLRHO.IS']: Exception('%ticker%: No price data found, symbol may be delisted (1d 2023-12-28 -> 2023-12-28)')\n"
     ]
    },
    {
     "name": "stdout",
     "output_type": "stream",
     "text": [
      "\n",
      "[*********************100%%**********************]  1 of 1 completed"
     ]
    },
    {
     "name": "stderr",
     "output_type": "stream",
     "text": [
      "\n",
      "1 Failed download:\n",
      "['KMPUR.IS']: Exception('%ticker%: No price data found, symbol may be delisted (1d 2023-12-28 -> 2023-12-28)')\n"
     ]
    },
    {
     "name": "stdout",
     "output_type": "stream",
     "text": [
      "\n",
      "[*********************100%%**********************]  1 of 1 completed"
     ]
    },
    {
     "name": "stderr",
     "output_type": "stream",
     "text": [
      "\n",
      "1 Failed download:\n",
      "['KLMSN.IS']: Exception('%ticker%: No price data found, symbol may be delisted (1d 2023-12-28 -> 2023-12-28)')\n"
     ]
    },
    {
     "name": "stdout",
     "output_type": "stream",
     "text": [
      "\n",
      "[*********************100%%**********************]  1 of 1 completed"
     ]
    },
    {
     "name": "stderr",
     "output_type": "stream",
     "text": [
      "\n",
      "1 Failed download:\n"
     ]
    },
    {
     "name": "stdout",
     "output_type": "stream",
     "text": [
      "\n"
     ]
    },
    {
     "name": "stderr",
     "output_type": "stream",
     "text": [
      "['KCAER.IS']: Exception(\"%ticker%: Period 'max' is invalid, must be one of ['1d', '5d']\")\n"
     ]
    },
    {
     "name": "stdout",
     "output_type": "stream",
     "text": [
      "[*********************100%%**********************]  1 of 1 completed"
     ]
    },
    {
     "name": "stderr",
     "output_type": "stream",
     "text": [
      "\n",
      "1 Failed download:\n",
      "['KFKTF.IS']: Exception('%ticker%: No timezone found, symbol may be delisted')\n"
     ]
    },
    {
     "name": "stdout",
     "output_type": "stream",
     "text": [
      "\n",
      "[*********************100%%**********************]  1 of 1 completed"
     ]
    },
    {
     "name": "stderr",
     "output_type": "stream",
     "text": [
      "\n",
      "1 Failed download:\n",
      "['KOCFN.IS']: Exception('%ticker%: No timezone found, symbol may be delisted')\n"
     ]
    },
    {
     "name": "stdout",
     "output_type": "stream",
     "text": [
      "\n",
      "[*********************100%%**********************]  1 of 1 completed"
     ]
    },
    {
     "name": "stderr",
     "output_type": "stream",
     "text": [
      "\n",
      "1 Failed download:\n",
      "['KCHOL.IS']: Exception('%ticker%: No price data found, symbol may be delisted (1d 2023-12-28 -> 2023-12-28)')\n"
     ]
    },
    {
     "name": "stdout",
     "output_type": "stream",
     "text": [
      "\n",
      "[*********************100%%**********************]  1 of 1 completed"
     ]
    },
    {
     "name": "stderr",
     "output_type": "stream",
     "text": [
      "\n",
      "1 Failed download:\n",
      "['KCSIS.IS']: Exception('%ticker%: No timezone found, symbol may be delisted')\n"
     ]
    },
    {
     "name": "stdout",
     "output_type": "stream",
     "text": [
      "\n",
      "[*********************100%%**********************]  1 of 1 completed"
     ]
    },
    {
     "name": "stderr",
     "output_type": "stream",
     "text": [
      "\n",
      "1 Failed download:\n",
      "['KLSYN.IS']: Exception(\"%ticker%: Period 'max' is invalid, must be one of ['1d', '5d']\")\n"
     ]
    },
    {
     "name": "stdout",
     "output_type": "stream",
     "text": [
      "\n",
      "[*********************100%%**********************]  1 of 1 completed"
     ]
    },
    {
     "name": "stderr",
     "output_type": "stream",
     "text": [
      "\n",
      "1 Failed download:\n",
      "['KNFRT.IS']: Exception('%ticker%: No price data found, symbol may be delisted (1d 2023-12-28 -> 2023-12-28)')\n"
     ]
    },
    {
     "name": "stdout",
     "output_type": "stream",
     "text": [
      "\n",
      "[*********************100%%**********************]  1 of 1 completed"
     ]
    },
    {
     "name": "stderr",
     "output_type": "stream",
     "text": [
      "\n",
      "1 Failed download:\n",
      "['KONTR.IS']: Exception('%ticker%: No price data found, symbol may be delisted (1d 2023-12-28 -> 2023-12-28)')\n"
     ]
    },
    {
     "name": "stdout",
     "output_type": "stream",
     "text": [
      "\n",
      "[*********************100%%**********************]  1 of 1 completed"
     ]
    },
    {
     "name": "stderr",
     "output_type": "stream",
     "text": [
      "\n",
      "1 Failed download:\n",
      "['KONYA.IS']: Exception('%ticker%: No price data found, symbol may be delisted (1d 2023-12-28 -> 2023-12-28)')\n"
     ]
    },
    {
     "name": "stdout",
     "output_type": "stream",
     "text": [
      "\n",
      "[*********************100%%**********************]  1 of 1 completed"
     ]
    },
    {
     "name": "stderr",
     "output_type": "stream",
     "text": [
      "\n",
      "1 Failed download:\n",
      "['KONKA.IS']: Exception('%ticker%: No price data found, symbol may be delisted (1d 2023-12-28 -> 2023-12-28)')\n"
     ]
    },
    {
     "name": "stdout",
     "output_type": "stream",
     "text": [
      "\n",
      "[*********************100%%**********************]  1 of 1 completed"
     ]
    },
    {
     "name": "stderr",
     "output_type": "stream",
     "text": [
      "\n",
      "1 Failed download:\n",
      "['KGYO.IS']: Exception('%ticker%: No price data found, symbol may be delisted (1d 2023-12-28 -> 2023-12-28)')\n"
     ]
    },
    {
     "name": "stdout",
     "output_type": "stream",
     "text": [
      "\n",
      "[*********************100%%**********************]  1 of 1 completed"
     ]
    },
    {
     "name": "stderr",
     "output_type": "stream",
     "text": [
      "\n",
      "1 Failed download:\n",
      "['KORDS.IS']: Exception('%ticker%: No price data found, symbol may be delisted (1d 2023-12-28 -> 2023-12-28)')\n"
     ]
    },
    {
     "name": "stdout",
     "output_type": "stream",
     "text": [
      "\n",
      "[*********************100%%**********************]  1 of 1 completed"
     ]
    },
    {
     "name": "stderr",
     "output_type": "stream",
     "text": [
      "\n",
      "1 Failed download:\n",
      "['KRPLS.IS']: Exception(\"%ticker%: Period 'max' is invalid, must be one of ['1d', '5d']\")\n"
     ]
    },
    {
     "name": "stdout",
     "output_type": "stream",
     "text": [
      "\n",
      "[*********************100%%**********************]  1 of 1 completed"
     ]
    },
    {
     "name": "stderr",
     "output_type": "stream",
     "text": [
      "\n",
      "1 Failed download:\n",
      "['KORTS.IS']: Exception('%ticker%: No timezone found, symbol may be delisted')\n"
     ]
    },
    {
     "name": "stdout",
     "output_type": "stream",
     "text": [
      "\n",
      "[*********************100%%**********************]  1 of 1 completed"
     ]
    },
    {
     "name": "stderr",
     "output_type": "stream",
     "text": [
      "\n",
      "1 Failed download:\n",
      "['KOZAL.IS']: Exception('%ticker%: No price data found, symbol may be delisted (1d 2023-12-28 -> 2023-12-28)')\n"
     ]
    },
    {
     "name": "stdout",
     "output_type": "stream",
     "text": [
      "\n",
      "[*********************100%%**********************]  1 of 1 completed"
     ]
    },
    {
     "name": "stderr",
     "output_type": "stream",
     "text": [
      "\n",
      "1 Failed download:\n",
      "['KOZAA.IS']: Exception('%ticker%: No price data found, symbol may be delisted (1d 2023-12-28 -> 2023-12-28)')\n"
     ]
    },
    {
     "name": "stdout",
     "output_type": "stream",
     "text": [
      "\n",
      "[*********************100%%**********************]  1 of 1 completed"
     ]
    },
    {
     "name": "stderr",
     "output_type": "stream",
     "text": [
      "\n",
      "1 Failed download:\n",
      "['KOPOL.IS']: Exception(\"%ticker%: Period 'max' is invalid, must be one of ['1d', '5d']\")\n"
     ]
    },
    {
     "name": "stdout",
     "output_type": "stream",
     "text": [
      "\n",
      "[*********************100%%**********************]  1 of 1 completed"
     ]
    },
    {
     "name": "stderr",
     "output_type": "stream",
     "text": [
      "\n",
      "1 Failed download:\n",
      "['KRGYO.IS']: Exception('%ticker%: No price data found, symbol may be delisted (1d 2023-12-28 -> 2023-12-28)')\n"
     ]
    },
    {
     "name": "stdout",
     "output_type": "stream",
     "text": [
      "\n",
      "[*********************100%%**********************]  1 of 1 completed"
     ]
    },
    {
     "name": "stderr",
     "output_type": "stream",
     "text": [
      "\n",
      "1 Failed download:\n",
      "['KRSTL.IS']: Exception('%ticker%: No price data found, symbol may be delisted (1d 2023-12-28 -> 2023-12-28)')\n"
     ]
    },
    {
     "name": "stdout",
     "output_type": "stream",
     "text": [
      "\n",
      "[*********************100%%**********************]  1 of 1 completed"
     ]
    },
    {
     "name": "stderr",
     "output_type": "stream",
     "text": [
      "\n",
      "1 Failed download:\n",
      "['KRONT.IS']: Exception('%ticker%: No price data found, symbol may be delisted (1d 2023-12-28 -> 2023-12-28)')\n"
     ]
    },
    {
     "name": "stdout",
     "output_type": "stream",
     "text": [
      "\n",
      "[*********************100%%**********************]  1 of 1 completed"
     ]
    },
    {
     "name": "stderr",
     "output_type": "stream",
     "text": [
      "\n",
      "1 Failed download:\n",
      "['KTKVK.IS']: Exception('%ticker%: No timezone found, symbol may be delisted')\n"
     ]
    },
    {
     "name": "stdout",
     "output_type": "stream",
     "text": [
      "\n",
      "[*********************100%%**********************]  1 of 1 completed"
     ]
    },
    {
     "name": "stderr",
     "output_type": "stream",
     "text": [
      "\n",
      "1 Failed download:\n",
      "['KSTUR.IS']: Exception('%ticker%: No price data found, symbol may be delisted (1d 2023-12-28 -> 2023-12-28)')\n"
     ]
    },
    {
     "name": "stdout",
     "output_type": "stream",
     "text": [
      "\n",
      "[*********************100%%**********************]  1 of 1 completed"
     ]
    },
    {
     "name": "stderr",
     "output_type": "stream",
     "text": [
      "\n",
      "1 Failed download:\n",
      "['KUVVA.IS']: Exception('%ticker%: No price data found, symbol may be delisted (1d 2023-12-28 -> 2023-12-28)')\n"
     ]
    },
    {
     "name": "stdout",
     "output_type": "stream",
     "text": [
      "\n",
      "[*********************100%%**********************]  1 of 1 completed"
     ]
    },
    {
     "name": "stderr",
     "output_type": "stream",
     "text": [
      "\n",
      "1 Failed download:\n",
      "['KUYAS.IS']: Exception('%ticker%: No price data found, symbol may be delisted (1d 2023-12-28 -> 2023-12-28)')\n"
     ]
    },
    {
     "name": "stdout",
     "output_type": "stream",
     "text": [
      "\n",
      "[*********************100%%**********************]  1 of 1 completed"
     ]
    },
    {
     "name": "stderr",
     "output_type": "stream",
     "text": [
      "\n",
      "1 Failed download:\n",
      "['KBORU.IS']: Exception('%ticker%: No price data found, symbol may be delisted (1d 2023-12-28 -> 2023-12-28)')\n"
     ]
    },
    {
     "name": "stdout",
     "output_type": "stream",
     "text": [
      "\n",
      "[*********************100%%**********************]  1 of 1 completed"
     ]
    },
    {
     "name": "stderr",
     "output_type": "stream",
     "text": [
      "\n",
      "1 Failed download:\n",
      "['KZGYO.IS']: Exception('%ticker%: No price data found, symbol may be delisted (1d 2023-12-28 -> 2023-12-28)')\n"
     ]
    },
    {
     "name": "stdout",
     "output_type": "stream",
     "text": [
      "\n",
      "[*********************100%%**********************]  1 of 1 completed"
     ]
    },
    {
     "name": "stderr",
     "output_type": "stream",
     "text": [
      "\n",
      "1 Failed download:\n",
      "['KUTPO.IS']: Exception('%ticker%: No price data found, symbol may be delisted (1d 2023-12-28 -> 2023-12-28)')\n"
     ]
    },
    {
     "name": "stdout",
     "output_type": "stream",
     "text": [
      "\n",
      "[*********************100%%**********************]  1 of 1 completed"
     ]
    },
    {
     "name": "stderr",
     "output_type": "stream",
     "text": [
      "\n",
      "1 Failed download:\n",
      "['KTSKR.IS']: Exception(\"%ticker%: Period 'max' is invalid, must be one of ['1d', '5d']\")\n"
     ]
    },
    {
     "name": "stdout",
     "output_type": "stream",
     "text": [
      "\n",
      "[*********************100%%**********************]  1 of 1 completed"
     ]
    },
    {
     "name": "stderr",
     "output_type": "stream",
     "text": [
      "\n",
      "1 Failed download:\n",
      "['LIDER.IS']: Exception(\"%ticker%: Period 'max' is invalid, must be one of ['1d', '5d']\")\n"
     ]
    },
    {
     "name": "stdout",
     "output_type": "stream",
     "text": [
      "\n",
      "[*********************100%%**********************]  1 of 1 completed"
     ]
    },
    {
     "name": "stderr",
     "output_type": "stream",
     "text": [
      "\n",
      "1 Failed download:\n",
      "['LIDFA.IS']: Exception('%ticker%: No price data found, symbol may be delisted (1d 2023-12-28 -> 2023-12-28)')\n"
     ]
    },
    {
     "name": "stdout",
     "output_type": "stream",
     "text": [
      "\n",
      "[*********************100%%**********************]  1 of 1 completed"
     ]
    },
    {
     "name": "stderr",
     "output_type": "stream",
     "text": [
      "\n",
      "1 Failed download:\n",
      "['LINK.IS']: Exception('%ticker%: No price data found, symbol may be delisted (1d 2023-12-28 -> 2023-12-28)')\n"
     ]
    },
    {
     "name": "stdout",
     "output_type": "stream",
     "text": [
      "\n",
      "[*********************100%%**********************]  1 of 1 completed"
     ]
    },
    {
     "name": "stderr",
     "output_type": "stream",
     "text": [
      "\n",
      "1 Failed download:\n",
      "['LOGO.IS']: Exception('%ticker%: No price data found, symbol may be delisted (1d 2023-12-28 -> 2023-12-28)')\n"
     ]
    },
    {
     "name": "stdout",
     "output_type": "stream",
     "text": [
      "\n",
      "[*********************100%%**********************]  1 of 1 completed"
     ]
    },
    {
     "name": "stderr",
     "output_type": "stream",
     "text": [
      "\n",
      "1 Failed download:\n",
      "['LKMNH.IS']: Exception('%ticker%: No price data found, symbol may be delisted (1d 2023-12-28 -> 2023-12-28)')\n"
     ]
    },
    {
     "name": "stdout",
     "output_type": "stream",
     "text": [
      "\n",
      "[*********************100%%**********************]  1 of 1 completed"
     ]
    },
    {
     "name": "stderr",
     "output_type": "stream",
     "text": [
      "\n",
      "1 Failed download:\n",
      "['LRSHO.IS']: Exception('%ticker%: No price data found, symbol may be delisted (1d 2023-12-28 -> 2023-12-28)')\n"
     ]
    },
    {
     "name": "stdout",
     "output_type": "stream",
     "text": [
      "\n",
      "[*********************100%%**********************]  1 of 1 completed"
     ]
    },
    {
     "name": "stderr",
     "output_type": "stream",
     "text": [
      "\n",
      "1 Failed download:\n",
      "['LUKSK.IS']: Exception('%ticker%: No price data found, symbol may be delisted (1d 2023-12-28 -> 2023-12-28)')\n"
     ]
    },
    {
     "name": "stdout",
     "output_type": "stream",
     "text": [
      "\n",
      "[*********************100%%**********************]  1 of 1 completed"
     ]
    },
    {
     "name": "stderr",
     "output_type": "stream",
     "text": [
      "\n",
      "1 Failed download:\n",
      "['MACKO.IS']: Exception(\"%ticker%: Period 'max' is invalid, must be one of ['1d', '5d']\")\n"
     ]
    },
    {
     "name": "stdout",
     "output_type": "stream",
     "text": [
      "\n",
      "[*********************100%%**********************]  1 of 1 completed"
     ]
    },
    {
     "name": "stderr",
     "output_type": "stream",
     "text": [
      "\n",
      "1 Failed download:\n",
      "['MAKIM.IS']: Exception(\"%ticker%: Period 'max' is invalid, must be one of ['1d', '5d']\")\n"
     ]
    },
    {
     "name": "stdout",
     "output_type": "stream",
     "text": [
      "\n",
      "[*********************100%%**********************]  1 of 1 completed"
     ]
    },
    {
     "name": "stderr",
     "output_type": "stream",
     "text": [
      "\n",
      "1 Failed download:\n",
      "['MAKTK.IS']: Exception('%ticker%: No price data found, symbol may be delisted (1d 2023-12-28 -> 2023-12-28)')\n"
     ]
    },
    {
     "name": "stdout",
     "output_type": "stream",
     "text": [
      "\n",
      "[*********************100%%**********************]  1 of 1 completed"
     ]
    },
    {
     "name": "stderr",
     "output_type": "stream",
     "text": [
      "\n",
      "1 Failed download:\n",
      "['MANAS.IS']: Exception(\"%ticker%: Period 'max' is invalid, must be one of ['1d', '5d']\")\n"
     ]
    },
    {
     "name": "stdout",
     "output_type": "stream",
     "text": [
      "\n",
      "[*********************100%%**********************]  1 of 1 completed"
     ]
    },
    {
     "name": "stderr",
     "output_type": "stream",
     "text": [
      "\n",
      "1 Failed download:\n",
      "['MRBAS.IS']: Exception('%ticker%: No timezone found, symbol may be delisted')\n"
     ]
    },
    {
     "name": "stdout",
     "output_type": "stream",
     "text": [
      "\n"
     ]
    },
    {
     "name": "stderr",
     "output_type": "stream",
     "text": [
      "Failed to get ticker 'MRS.IS' reason: HTTPSConnectionPool(host='www.yahoo.com', port=443): Read timed out.\n"
     ]
    },
    {
     "name": "stdout",
     "output_type": "stream",
     "text": [
      "[*********************100%%**********************]  1 of 1 completed"
     ]
    },
    {
     "name": "stderr",
     "output_type": "stream",
     "text": [
      "\n",
      "1 Failed download:\n",
      "['MRS.IS']: Exception('%ticker%: No timezone found, symbol may be delisted')\n"
     ]
    },
    {
     "name": "stdout",
     "output_type": "stream",
     "text": [
      "\n",
      "[*********************100%%**********************]  1 of 1 completed"
     ]
    },
    {
     "name": "stderr",
     "output_type": "stream",
     "text": [
      "\n",
      "1 Failed download:\n",
      "['MAGEN.IS']: Exception('%ticker%: No price data found, symbol may be delisted (1d 2023-12-28 -> 2023-12-28)')\n"
     ]
    },
    {
     "name": "stdout",
     "output_type": "stream",
     "text": [
      "\n",
      "[*********************100%%**********************]  1 of 1 completed"
     ]
    },
    {
     "name": "stderr",
     "output_type": "stream",
     "text": [
      "\n",
      "1 Failed download:\n",
      "['MRMAG.IS']: Exception('%ticker%: No timezone found, symbol may be delisted')\n"
     ]
    },
    {
     "name": "stdout",
     "output_type": "stream",
     "text": [
      "\n",
      "[*********************100%%**********************]  1 of 1 completed"
     ]
    },
    {
     "name": "stderr",
     "output_type": "stream",
     "text": [
      "\n",
      "1 Failed download:\n",
      "['MARKA.IS']: Exception('%ticker%: No price data found, symbol may be delisted (1d 2023-12-28 -> 2023-12-28)')\n"
     ]
    },
    {
     "name": "stdout",
     "output_type": "stream",
     "text": [
      "\n",
      "[*********************100%%**********************]  1 of 1 completed"
     ]
    },
    {
     "name": "stderr",
     "output_type": "stream",
     "text": [
      "\n",
      "1 Failed download:\n",
      "['MAALT.IS']: Exception('%ticker%: No price data found, symbol may be delisted (1d 2023-12-28 -> 2023-12-28)')\n"
     ]
    },
    {
     "name": "stdout",
     "output_type": "stream",
     "text": [
      "\n",
      "[*********************100%%**********************]  1 of 1 completed"
     ]
    },
    {
     "name": "stderr",
     "output_type": "stream",
     "text": [
      "\n",
      "1 Failed download:\n",
      "['MRSHL.IS']: Exception('%ticker%: No price data found, symbol may be delisted (1d 2023-12-28 -> 2023-12-28)')\n"
     ]
    },
    {
     "name": "stdout",
     "output_type": "stream",
     "text": [
      "\n",
      "[*********************100%%**********************]  1 of 1 completed"
     ]
    },
    {
     "name": "stderr",
     "output_type": "stream",
     "text": [
      "\n",
      "1 Failed download:\n",
      "['MRGYO.IS']: Exception('%ticker%: No price data found, symbol may be delisted (1d 2023-12-28 -> 2023-12-28)')\n"
     ]
    },
    {
     "name": "stdout",
     "output_type": "stream",
     "text": [
      "\n",
      "[*********************100%%**********************]  1 of 1 completed"
     ]
    },
    {
     "name": "stderr",
     "output_type": "stream",
     "text": [
      "\n",
      "1 Failed download:\n",
      "['MARTI.IS']: Exception('%ticker%: No price data found, symbol may be delisted (1d 2023-12-28 -> 2023-12-28)')\n"
     ]
    },
    {
     "name": "stdout",
     "output_type": "stream",
     "text": [
      "\n",
      "[*********************100%%**********************]  1 of 1 completed"
     ]
    },
    {
     "name": "stderr",
     "output_type": "stream",
     "text": [
      "\n",
      "1 Failed download:\n",
      "['MTRKS.IS']: Exception(\"%ticker%: Period 'max' is invalid, must be one of ['1d', '5d']\")\n"
     ]
    },
    {
     "name": "stdout",
     "output_type": "stream",
     "text": [
      "\n",
      "[*********************100%%**********************]  1 of 1 completed"
     ]
    },
    {
     "name": "stderr",
     "output_type": "stream",
     "text": [
      "\n",
      "1 Failed download:\n",
      "['MAVI.IS']: Exception('%ticker%: No price data found, symbol may be delisted (1d 2023-12-28 -> 2023-12-28)')\n"
     ]
    },
    {
     "name": "stdout",
     "output_type": "stream",
     "text": [
      "\n",
      "[*********************100%%**********************]  1 of 1 completed"
     ]
    },
    {
     "name": "stderr",
     "output_type": "stream",
     "text": [
      "\n",
      "1 Failed download:\n",
      "['MZHLD.IS']: Exception('%ticker%: No price data found, symbol may be delisted (1d 2023-12-28 -> 2023-12-28)')\n"
     ]
    },
    {
     "name": "stdout",
     "output_type": "stream",
     "text": [
      "\n",
      "[*********************100%%**********************]  1 of 1 completed"
     ]
    },
    {
     "name": "stderr",
     "output_type": "stream",
     "text": [
      "\n",
      "1 Failed download:\n",
      "['MEDTR.IS']: Exception('%ticker%: No price data found, symbol may be delisted (1d 2023-12-28 -> 2023-12-28)')\n"
     ]
    },
    {
     "name": "stdout",
     "output_type": "stream",
     "text": [
      "\n",
      "[*********************100%%**********************]  1 of 1 completed"
     ]
    },
    {
     "name": "stderr",
     "output_type": "stream",
     "text": [
      "\n",
      "1 Failed download:\n",
      "['MEGMT.IS']: Exception('%ticker%: No price data found, symbol may be delisted (1d 2023-12-28 -> 2023-12-28)')\n"
     ]
    },
    {
     "name": "stdout",
     "output_type": "stream",
     "text": [
      "\n",
      "[*********************100%%**********************]  1 of 1 completed"
     ]
    },
    {
     "name": "stderr",
     "output_type": "stream",
     "text": [
      "\n",
      "1 Failed download:\n",
      "['MEGAP.IS']: Exception('%ticker%: No price data found, symbol may be delisted (1d 2023-12-28 -> 2023-12-28)')\n"
     ]
    },
    {
     "name": "stdout",
     "output_type": "stream",
     "text": [
      "\n",
      "[*********************100%%**********************]  1 of 1 completed"
     ]
    },
    {
     "name": "stderr",
     "output_type": "stream",
     "text": [
      "\n",
      "1 Failed download:\n",
      "['MEKAG.IS']: Exception('%ticker%: No price data found, symbol may be delisted (1d 2023-12-28 -> 2023-12-28)')\n"
     ]
    },
    {
     "name": "stdout",
     "output_type": "stream",
     "text": [
      "\n",
      "[*********************100%%**********************]  1 of 1 completed"
     ]
    },
    {
     "name": "stderr",
     "output_type": "stream",
     "text": [
      "\n",
      "1 Failed download:\n",
      "['MEKMD.IS']: Exception('%ticker%: No timezone found, symbol may be delisted')\n"
     ]
    },
    {
     "name": "stdout",
     "output_type": "stream",
     "text": [
      "\n",
      "[*********************100%%**********************]  1 of 1 completed"
     ]
    },
    {
     "name": "stderr",
     "output_type": "stream",
     "text": [
      "\n",
      "1 Failed download:\n",
      "['MSA.IS']: Exception('%ticker%: No timezone found, symbol may be delisted')\n"
     ]
    },
    {
     "name": "stdout",
     "output_type": "stream",
     "text": [
      "\n",
      "[*********************100%%**********************]  1 of 1 completed"
     ]
    },
    {
     "name": "stderr",
     "output_type": "stream",
     "text": [
      "\n",
      "1 Failed download:\n",
      "['MNDRS.IS']: Exception('%ticker%: No price data found, symbol may be delisted (1d 2023-12-28 -> 2023-12-28)')\n"
     ]
    },
    {
     "name": "stdout",
     "output_type": "stream",
     "text": [
      "\n",
      "[*********************100%%**********************]  1 of 1 completed"
     ]
    },
    {
     "name": "stderr",
     "output_type": "stream",
     "text": [
      "\n",
      "1 Failed download:\n",
      "['MEPET.IS']: Exception('%ticker%: No price data found, symbol may be delisted (1d 2023-12-28 -> 2023-12-28)')\n"
     ]
    },
    {
     "name": "stdout",
     "output_type": "stream",
     "text": [
      "\n",
      "[*********************100%%**********************]  1 of 1 completed"
     ]
    },
    {
     "name": "stderr",
     "output_type": "stream",
     "text": [
      "\n",
      "1 Failed download:\n",
      "['MERCN.IS']: Exception(\"%ticker%: Period 'max' is invalid, must be one of ['1d', '5d']\")\n"
     ]
    },
    {
     "name": "stdout",
     "output_type": "stream",
     "text": [
      "\n",
      "[*********************100%%**********************]  1 of 1 completed"
     ]
    },
    {
     "name": "stderr",
     "output_type": "stream",
     "text": [
      "\n",
      "1 Failed download:\n",
      "['MRBKF.IS']: Exception('%ticker%: No timezone found, symbol may be delisted')\n"
     ]
    },
    {
     "name": "stdout",
     "output_type": "stream",
     "text": [
      "\n",
      "[*********************100%%**********************]  1 of 1 completed"
     ]
    },
    {
     "name": "stderr",
     "output_type": "stream",
     "text": [
      "\n",
      "1 Failed download:\n",
      "['MBFTR.IS']: Exception('%ticker%: No timezone found, symbol may be delisted')\n"
     ]
    },
    {
     "name": "stdout",
     "output_type": "stream",
     "text": [
      "\n",
      "[*********************100%%**********************]  1 of 1 completed"
     ]
    },
    {
     "name": "stderr",
     "output_type": "stream",
     "text": [
      "\n",
      "1 Failed download:\n",
      "['MERIT.IS']: Exception('%ticker%: No price data found, symbol may be delisted (1d 2023-12-28 -> 2023-12-28)')\n"
     ]
    },
    {
     "name": "stdout",
     "output_type": "stream",
     "text": [
      "\n",
      "[*********************100%%**********************]  1 of 1 completed"
     ]
    },
    {
     "name": "stderr",
     "output_type": "stream",
     "text": [
      "\n",
      "1 Failed download:\n",
      "['MERKO.IS']: Exception('%ticker%: No price data found, symbol may be delisted (1d 2023-12-28 -> 2023-12-28)')\n"
     ]
    },
    {
     "name": "stdout",
     "output_type": "stream",
     "text": [
      "\n",
      "[*********************100%%**********************]  1 of 1 completed"
     ]
    },
    {
     "name": "stderr",
     "output_type": "stream",
     "text": [
      "\n",
      "1 Failed download:\n",
      "['MTOTO.IS']: Exception('%ticker%: No timezone found, symbol may be delisted')\n"
     ]
    },
    {
     "name": "stdout",
     "output_type": "stream",
     "text": [
      "\n",
      "[*********************100%%**********************]  1 of 1 completed"
     ]
    },
    {
     "name": "stderr",
     "output_type": "stream",
     "text": [
      "\n",
      "1 Failed download:\n",
      "['METUR.IS']: Exception('%ticker%: No price data found, symbol may be delisted (1d 2023-12-28 -> 2023-12-28)')\n"
     ]
    },
    {
     "name": "stdout",
     "output_type": "stream",
     "text": [
      "\n",
      "[*********************100%%**********************]  1 of 1 completed"
     ]
    },
    {
     "name": "stderr",
     "output_type": "stream",
     "text": [
      "\n",
      "1 Failed download:\n",
      "['METRO.IS']: Exception('%ticker%: No price data found, symbol may be delisted (1d 2023-12-28 -> 2023-12-28)')\n"
     ]
    },
    {
     "name": "stdout",
     "output_type": "stream",
     "text": [
      "\n",
      "[*********************100%%**********************]  1 of 1 completed"
     ]
    },
    {
     "name": "stderr",
     "output_type": "stream",
     "text": [
      "\n",
      "1 Failed download:\n",
      "['MTRYO.IS']: Exception('%ticker%: No price data found, symbol may be delisted (1d 2023-12-28 -> 2023-12-28)')\n"
     ]
    },
    {
     "name": "stdout",
     "output_type": "stream",
     "text": [
      "\n",
      "[*********************100%%**********************]  1 of 1 completed"
     ]
    },
    {
     "name": "stderr",
     "output_type": "stream",
     "text": [
      "\n",
      "1 Failed download:\n",
      "['MHRGY.IS']: Exception('%ticker%: No price data found, symbol may be delisted (1d 2023-12-28 -> 2023-12-28)')\n"
     ]
    },
    {
     "name": "stdout",
     "output_type": "stream",
     "text": [
      "\n",
      "[*********************100%%**********************]  1 of 1 completed"
     ]
    },
    {
     "name": "stderr",
     "output_type": "stream",
     "text": [
      "\n",
      "1 Failed download:\n",
      "['MIATK.IS']: Exception('%ticker%: No price data found, symbol may be delisted (1d 2023-12-28 -> 2023-12-28)')\n"
     ]
    },
    {
     "name": "stdout",
     "output_type": "stream",
     "text": [
      "\n",
      "[*********************100%%**********************]  1 of 1 completed"
     ]
    },
    {
     "name": "stderr",
     "output_type": "stream",
     "text": [
      "\n",
      "1 Failed download:\n",
      "['MGROS.IS']: Exception('%ticker%: No price data found, symbol may be delisted (1d 2023-12-28 -> 2023-12-28)')\n"
     ]
    },
    {
     "name": "stdout",
     "output_type": "stream",
     "text": [
      "\n",
      "[*********************100%%**********************]  1 of 1 completed"
     ]
    },
    {
     "name": "stderr",
     "output_type": "stream",
     "text": [
      "\n",
      "1 Failed download:\n",
      "['MIPAZ.IS']: Exception('%ticker%: No price data found, symbol may be delisted (1d 2023-12-28 -> 2023-12-28)')\n"
     ]
    },
    {
     "name": "stdout",
     "output_type": "stream",
     "text": [
      "\n",
      "[*********************100%%**********************]  1 of 1 completed"
     ]
    },
    {
     "name": "stderr",
     "output_type": "stream",
     "text": [
      "\n",
      "1 Failed download:\n",
      "['MSGYO.IS']: Exception('%ticker%: No price data found, symbol may be delisted (1d 2023-12-28 -> 2023-12-28)')\n"
     ]
    },
    {
     "name": "stdout",
     "output_type": "stream",
     "text": [
      "\n",
      "[*********************100%%**********************]  1 of 1 completed"
     ]
    },
    {
     "name": "stderr",
     "output_type": "stream",
     "text": [
      "\n",
      "1 Failed download:\n",
      "['MPARK.IS']: Exception('%ticker%: No price data found, symbol may be delisted (1d 2023-12-28 -> 2023-12-28)')\n"
     ]
    },
    {
     "name": "stdout",
     "output_type": "stream",
     "text": [
      "\n",
      "[*********************100%%**********************]  1 of 1 completed"
     ]
    },
    {
     "name": "stderr",
     "output_type": "stream",
     "text": [
      "\n",
      "1 Failed download:\n",
      "['MMCAS.IS']: Exception('%ticker%: No price data found, symbol may be delisted (1d 2023-12-28 -> 2023-12-28)')\n"
     ]
    },
    {
     "name": "stdout",
     "output_type": "stream",
     "text": [
      "\n",
      "[*********************100%%**********************]  1 of 1 completed"
     ]
    },
    {
     "name": "stderr",
     "output_type": "stream",
     "text": [
      "\n",
      "1 Failed download:\n",
      "['MOBTL.IS']: Exception(\"%ticker%: Period 'max' is invalid, must be one of ['1d', '5d']\")\n"
     ]
    },
    {
     "name": "stdout",
     "output_type": "stream",
     "text": [
      "\n",
      "[*********************100%%**********************]  1 of 1 completed"
     ]
    },
    {
     "name": "stderr",
     "output_type": "stream",
     "text": [
      "\n",
      "1 Failed download:\n",
      "['MNDTR.IS']: Exception('%ticker%: No price data found, symbol may be delisted (1d 2023-12-28 -> 2023-12-28)')\n"
     ]
    },
    {
     "name": "stdout",
     "output_type": "stream",
     "text": [
      "\n",
      "[*********************100%%**********************]  1 of 1 completed"
     ]
    },
    {
     "name": "stderr",
     "output_type": "stream",
     "text": [
      "\n",
      "1 Failed download:\n",
      "['EGEPO.IS']: Exception(\"%ticker%: Period 'max' is invalid, must be one of ['1d', '5d']\")\n"
     ]
    },
    {
     "name": "stdout",
     "output_type": "stream",
     "text": [
      "\n",
      "[*********************100%%**********************]  1 of 1 completed"
     ]
    },
    {
     "name": "stderr",
     "output_type": "stream",
     "text": [
      "\n",
      "1 Failed download:\n",
      "['NATEN.IS']: Exception('%ticker%: No price data found, symbol may be delisted (1d 2023-12-28 -> 2023-12-28)')\n"
     ]
    },
    {
     "name": "stdout",
     "output_type": "stream",
     "text": [
      "\n",
      "[*********************100%%**********************]  1 of 1 completed"
     ]
    },
    {
     "name": "stderr",
     "output_type": "stream",
     "text": [
      "\n",
      "1 Failed download:\n",
      "['NTGAZ.IS']: Exception(\"%ticker%: Period 'max' is invalid, must be one of ['1d', '5d']\")\n"
     ]
    },
    {
     "name": "stdout",
     "output_type": "stream",
     "text": [
      "\n",
      "[*********************100%%**********************]  1 of 1 completed"
     ]
    },
    {
     "name": "stderr",
     "output_type": "stream",
     "text": [
      "\n",
      "1 Failed download:\n",
      "['NTHOL.IS']: Exception('%ticker%: No price data found, symbol may be delisted (1d 2023-12-28 -> 2023-12-28)')\n"
     ]
    },
    {
     "name": "stdout",
     "output_type": "stream",
     "text": [
      "\n",
      "[*********************100%%**********************]  1 of 1 completed"
     ]
    },
    {
     "name": "stderr",
     "output_type": "stream",
     "text": [
      "\n",
      "1 Failed download:\n",
      "['NETAS.IS']: Exception('%ticker%: No price data found, symbol may be delisted (1d 2023-12-28 -> 2023-12-28)')\n"
     ]
    },
    {
     "name": "stdout",
     "output_type": "stream",
     "text": [
      "\n",
      "[*********************100%%**********************]  1 of 1 completed"
     ]
    },
    {
     "name": "stderr",
     "output_type": "stream",
     "text": [
      "\n",
      "1 Failed download:\n",
      "['NIBAS.IS']: Exception('%ticker%: No price data found, symbol may be delisted (1d 2023-12-28 -> 2023-12-28)')\n"
     ]
    },
    {
     "name": "stdout",
     "output_type": "stream",
     "text": [
      "\n",
      "[*********************100%%**********************]  1 of 1 completed"
     ]
    },
    {
     "name": "stderr",
     "output_type": "stream",
     "text": [
      "\n",
      "1 Failed download:\n",
      "['NUHCM.IS']: Exception('%ticker%: No price data found, symbol may be delisted (1d 2023-12-28 -> 2023-12-28)')\n"
     ]
    },
    {
     "name": "stdout",
     "output_type": "stream",
     "text": [
      "\n",
      "[*********************100%%**********************]  1 of 1 completed"
     ]
    },
    {
     "name": "stderr",
     "output_type": "stream",
     "text": [
      "\n",
      "1 Failed download:\n",
      "['NUGYO.IS']: Exception('%ticker%: No price data found, symbol may be delisted (1d 2023-12-28 -> 2023-12-28)')\n"
     ]
    },
    {
     "name": "stdout",
     "output_type": "stream",
     "text": [
      "\n",
      "[*********************100%%**********************]  1 of 1 completed"
     ]
    },
    {
     "name": "stderr",
     "output_type": "stream",
     "text": [
      "\n",
      "1 Failed download:\n",
      "['NRHOL.IS']: Exception('%ticker%: No timezone found, symbol may be delisted')\n"
     ]
    },
    {
     "name": "stdout",
     "output_type": "stream",
     "text": [
      "\n",
      "[*********************100%%**********************]  1 of 1 completed"
     ]
    },
    {
     "name": "stderr",
     "output_type": "stream",
     "text": [
      "\n",
      "1 Failed download:\n",
      "['NRLIN.IS']: Exception('%ticker%: No timezone found, symbol may be delisted')\n"
     ]
    },
    {
     "name": "stdout",
     "output_type": "stream",
     "text": [
      "\n",
      "[*********************100%%**********************]  1 of 1 completed"
     ]
    },
    {
     "name": "stderr",
     "output_type": "stream",
     "text": [
      "\n",
      "1 Failed download:\n",
      "['NURVK.IS']: Exception('%ticker%: No timezone found, symbol may be delisted')\n"
     ]
    },
    {
     "name": "stdout",
     "output_type": "stream",
     "text": [
      "\n",
      "[*********************100%%**********************]  1 of 1 completed"
     ]
    },
    {
     "name": "stderr",
     "output_type": "stream",
     "text": [
      "\n",
      "1 Failed download:\n",
      "['NRBNK.IS']: Exception('%ticker%: No timezone found, symbol may be delisted')\n"
     ]
    },
    {
     "name": "stdout",
     "output_type": "stream",
     "text": [
      "\n",
      "[*********************100%%**********************]  1 of 1 completed"
     ]
    },
    {
     "name": "stderr",
     "output_type": "stream",
     "text": [
      "\n",
      "1 Failed download:\n",
      "['NYB.IS']: Exception('%ticker%: No timezone found, symbol may be delisted')\n"
     ]
    },
    {
     "name": "stdout",
     "output_type": "stream",
     "text": [
      "\n",
      "[*********************100%%**********************]  1 of 1 completed"
     ]
    },
    {
     "name": "stderr",
     "output_type": "stream",
     "text": [
      "\n",
      "1 Failed download:\n",
      "['OBASE.IS']: Exception(\"%ticker%: Period 'max' is invalid, must be one of ['1d', '5d']\")\n"
     ]
    },
    {
     "name": "stdout",
     "output_type": "stream",
     "text": [
      "\n",
      "[*********************100%%**********************]  1 of 1 completed"
     ]
    },
    {
     "name": "stderr",
     "output_type": "stream",
     "text": [
      "\n",
      "1 Failed download:\n",
      "['ODAS.IS']: Exception('%ticker%: No price data found, symbol may be delisted (1d 2023-12-28 -> 2023-12-28)')\n"
     ]
    },
    {
     "name": "stdout",
     "output_type": "stream",
     "text": [
      "\n",
      "[*********************100%%**********************]  1 of 1 completed"
     ]
    },
    {
     "name": "stderr",
     "output_type": "stream",
     "text": [
      "\n",
      "1 Failed download:\n",
      "['OFSYM.IS']: Exception('%ticker%: No price data found, symbol may be delisted (1d 2023-12-28 -> 2023-12-28)')\n"
     ]
    },
    {
     "name": "stdout",
     "output_type": "stream",
     "text": [
      "\n",
      "[*********************100%%**********************]  1 of 1 completed"
     ]
    },
    {
     "name": "stderr",
     "output_type": "stream",
     "text": [
      "\n",
      "1 Failed download:\n",
      "['ONCSM.IS']: Exception(\"%ticker%: Period 'max' is invalid, must be one of ['1d', '5d']\")\n"
     ]
    },
    {
     "name": "stdout",
     "output_type": "stream",
     "text": [
      "\n",
      "[*********************100%%**********************]  1 of 1 completed"
     ]
    },
    {
     "name": "stderr",
     "output_type": "stream",
     "text": [
      "\n",
      "1 Failed download:\n",
      "['OPET.IS']: Exception('%ticker%: No timezone found, symbol may be delisted')\n"
     ]
    },
    {
     "name": "stdout",
     "output_type": "stream",
     "text": [
      "\n",
      "[*********************100%%**********************]  1 of 1 completed"
     ]
    },
    {
     "name": "stderr",
     "output_type": "stream",
     "text": [
      "\n",
      "1 Failed download:\n",
      "['ORCAY.IS']: Exception('%ticker%: No price data found, symbol may be delisted (1d 2023-12-28 -> 2023-12-28)')\n"
     ]
    },
    {
     "name": "stdout",
     "output_type": "stream",
     "text": [
      "\n",
      "[*********************100%%**********************]  1 of 1 completed"
     ]
    },
    {
     "name": "stderr",
     "output_type": "stream",
     "text": [
      "\n",
      "1 Failed download:\n",
      "['ORFIN.IS']: Exception('%ticker%: No timezone found, symbol may be delisted')\n"
     ]
    },
    {
     "name": "stdout",
     "output_type": "stream",
     "text": [
      "\n",
      "[*********************100%%**********************]  1 of 1 completed"
     ]
    },
    {
     "name": "stderr",
     "output_type": "stream",
     "text": [
      "\n",
      "1 Failed download:\n",
      "['ORGE.IS']: Exception('%ticker%: No price data found, symbol may be delisted (1d 2023-12-28 -> 2023-12-28)')\n"
     ]
    },
    {
     "name": "stdout",
     "output_type": "stream",
     "text": [
      "\n",
      "[*********************100%%**********************]  1 of 1 completed"
     ]
    },
    {
     "name": "stderr",
     "output_type": "stream",
     "text": [
      "\n",
      "1 Failed download:\n",
      "['ORMA.IS']: Exception('%ticker%: No price data found, symbol may be delisted (1d 2023-12-28 -> 2023-12-28)')\n"
     ]
    },
    {
     "name": "stdout",
     "output_type": "stream",
     "text": [
      "\n",
      "[*********************100%%**********************]  1 of 1 completed"
     ]
    },
    {
     "name": "stderr",
     "output_type": "stream",
     "text": [
      "\n",
      "1 Failed download:\n",
      "['OMD.IS']: Exception('%ticker%: No timezone found, symbol may be delisted')\n"
     ]
    },
    {
     "name": "stdout",
     "output_type": "stream",
     "text": [
      "\n",
      "[*********************100%%**********************]  1 of 1 completed"
     ]
    },
    {
     "name": "stderr",
     "output_type": "stream",
     "text": [
      "\n",
      "1 Failed download:\n",
      "['OSMEN.IS']: Exception('%ticker%: No price data found, symbol may be delisted (1d 2023-12-28 -> 2023-12-28)')\n"
     ]
    },
    {
     "name": "stdout",
     "output_type": "stream",
     "text": [
      "\n",
      "[*********************100%%**********************]  1 of 1 completed"
     ]
    },
    {
     "name": "stderr",
     "output_type": "stream",
     "text": [
      "\n",
      "1 Failed download:\n",
      "['OSTIM.IS']: Exception('%ticker%: No price data found, symbol may be delisted (1d 2023-12-28 -> 2023-12-28)')\n"
     ]
    },
    {
     "name": "stdout",
     "output_type": "stream",
     "text": [
      "\n",
      "[*********************100%%**********************]  1 of 1 completed"
     ]
    },
    {
     "name": "stderr",
     "output_type": "stream",
     "text": [
      "\n",
      "1 Failed download:\n",
      "['OTKAR.IS']: Exception('%ticker%: No price data found, symbol may be delisted (1d 2023-12-28 -> 2023-12-28)')\n"
     ]
    },
    {
     "name": "stdout",
     "output_type": "stream",
     "text": [
      "\n",
      "[*********************100%%**********************]  1 of 1 completed"
     ]
    },
    {
     "name": "stderr",
     "output_type": "stream",
     "text": [
      "\n",
      "1 Failed download:\n",
      "['OTOKC.IS']: Exception('%ticker%: No timezone found, symbol may be delisted')\n"
     ]
    },
    {
     "name": "stdout",
     "output_type": "stream",
     "text": [
      "\n",
      "[*********************100%%**********************]  1 of 1 completed"
     ]
    },
    {
     "name": "stderr",
     "output_type": "stream",
     "text": [
      "\n",
      "1 Failed download:\n",
      "['OTOSR.IS']: Exception('%ticker%: No timezone found, symbol may be delisted')\n"
     ]
    },
    {
     "name": "stdout",
     "output_type": "stream",
     "text": [
      "\n",
      "[*********************100%%**********************]  1 of 1 completed"
     ]
    },
    {
     "name": "stderr",
     "output_type": "stream",
     "text": [
      "\n",
      "1 Failed download:\n",
      "['OTTO.IS']: Exception('%ticker%: No price data found, symbol may be delisted (1d 2023-12-28 -> 2023-12-28)')\n"
     ]
    },
    {
     "name": "stdout",
     "output_type": "stream",
     "text": [
      "\n",
      "[*********************100%%**********************]  1 of 1 completed"
     ]
    },
    {
     "name": "stderr",
     "output_type": "stream",
     "text": [
      "\n",
      "1 Failed download:\n",
      "['OYAKC.IS']: Exception('%ticker%: No price data found, symbol may be delisted (1d 2023-12-28 -> 2023-12-28)')\n"
     ]
    },
    {
     "name": "stdout",
     "output_type": "stream",
     "text": [
      "\n",
      "[*********************100%%**********************]  1 of 1 completed"
     ]
    },
    {
     "name": "stderr",
     "output_type": "stream",
     "text": [
      "\n",
      "1 Failed download:\n",
      "['OYA.IS']: Exception('%ticker%: No timezone found, symbol may be delisted')\n"
     ]
    },
    {
     "name": "stdout",
     "output_type": "stream",
     "text": [
      "\n",
      "[*********************100%%**********************]  1 of 1 completed"
     ]
    },
    {
     "name": "stderr",
     "output_type": "stream",
     "text": [
      "\n",
      "1 Failed download:\n",
      "['OYYAT.IS']: Exception('%ticker%: No price data found, symbol may be delisted (1d 2023-12-28 -> 2023-12-28)')\n"
     ]
    },
    {
     "name": "stdout",
     "output_type": "stream",
     "text": [
      "\n",
      "[*********************100%%**********************]  1 of 1 completed"
     ]
    },
    {
     "name": "stderr",
     "output_type": "stream",
     "text": [
      "\n",
      "1 Failed download:\n",
      "['OYAYO.IS']: Exception('%ticker%: No price data found, symbol may be delisted (1d 2023-12-28 -> 2023-12-28)')\n"
     ]
    },
    {
     "name": "stdout",
     "output_type": "stream",
     "text": [
      "\n",
      "[*********************100%%**********************]  1 of 1 completed"
     ]
    },
    {
     "name": "stderr",
     "output_type": "stream",
     "text": [
      "\n",
      "1 Failed download:\n",
      "['OYLUM.IS']: Exception('%ticker%: No price data found, symbol may be delisted (1d 2023-12-28 -> 2023-12-28)')\n"
     ]
    },
    {
     "name": "stdout",
     "output_type": "stream",
     "text": [
      "\n",
      "[*********************100%%**********************]  1 of 1 completed"
     ]
    },
    {
     "name": "stderr",
     "output_type": "stream",
     "text": [
      "\n",
      "1 Failed download:\n",
      "['OZKGY.IS']: Exception('%ticker%: No price data found, symbol may be delisted (1d 2023-12-28 -> 2023-12-28)')\n"
     ]
    },
    {
     "name": "stdout",
     "output_type": "stream",
     "text": [
      "\n",
      "[*********************100%%**********************]  1 of 1 completed"
     ]
    },
    {
     "name": "stderr",
     "output_type": "stream",
     "text": [
      "\n",
      "1 Failed download:\n",
      "['OZGYO.IS']: Exception('%ticker%: No price data found, symbol may be delisted (1d 2023-12-28 -> 2023-12-28)')\n"
     ]
    },
    {
     "name": "stdout",
     "output_type": "stream",
     "text": [
      "\n",
      "[*********************100%%**********************]  1 of 1 completed"
     ]
    },
    {
     "name": "stderr",
     "output_type": "stream",
     "text": [
      "\n",
      "1 Failed download:\n",
      "['OZRDN.IS']: Exception('%ticker%: No price data found, symbol may be delisted (1d 2023-12-28 -> 2023-12-28)')\n"
     ]
    },
    {
     "name": "stdout",
     "output_type": "stream",
     "text": [
      "\n",
      "[*********************100%%**********************]  1 of 1 completed"
     ]
    },
    {
     "name": "stderr",
     "output_type": "stream",
     "text": [
      "\n",
      "1 Failed download:\n",
      "['OZSUB.IS']: Exception(\"%ticker%: Period 'max' is invalid, must be one of ['1d', '5d']\")\n"
     ]
    },
    {
     "name": "stdout",
     "output_type": "stream",
     "text": [
      "\n",
      "[*********************100%%**********************]  1 of 1 completed"
     ]
    },
    {
     "name": "stderr",
     "output_type": "stream",
     "text": [
      "\n",
      "1 Failed download:\n",
      "['PALEN.IS']: Exception('%ticker%: No timezone found, symbol may be delisted')\n"
     ]
    },
    {
     "name": "stdout",
     "output_type": "stream",
     "text": [
      "\n",
      "[*********************100%%**********************]  1 of 1 completed"
     ]
    },
    {
     "name": "stderr",
     "output_type": "stream",
     "text": [
      "\n",
      "1 Failed download:\n",
      "['PAMEL.IS']: Exception('%ticker%: No price data found, symbol may be delisted (1d 2023-12-28 -> 2023-12-28)')\n"
     ]
    },
    {
     "name": "stdout",
     "output_type": "stream",
     "text": [
      "\n",
      "[*********************100%%**********************]  1 of 1 completed"
     ]
    },
    {
     "name": "stderr",
     "output_type": "stream",
     "text": [
      "\n",
      "1 Failed download:\n",
      "['PNLSN.IS']: Exception('%ticker%: No price data found, symbol may be delisted (1d 2023-12-28 -> 2023-12-28)')\n"
     ]
    },
    {
     "name": "stdout",
     "output_type": "stream",
     "text": [
      "\n",
      "[*********************100%%**********************]  1 of 1 completed"
     ]
    },
    {
     "name": "stderr",
     "output_type": "stream",
     "text": [
      "\n",
      "1 Failed download:\n",
      "['PAGYO.IS']: Exception('%ticker%: No price data found, symbol may be delisted (1d 2023-12-28 -> 2023-12-28)')\n"
     ]
    },
    {
     "name": "stdout",
     "output_type": "stream",
     "text": [
      "\n",
      "[*********************100%%**********************]  1 of 1 completed"
     ]
    },
    {
     "name": "stderr",
     "output_type": "stream",
     "text": [
      "\n",
      "1 Failed download:\n",
      "['PAPIL.IS']: Exception('%ticker%: No price data found, symbol may be delisted (1d 2023-12-28 -> 2023-12-28)')\n"
     ]
    },
    {
     "name": "stdout",
     "output_type": "stream",
     "text": [
      "\n",
      "[*********************100%%**********************]  1 of 1 completed"
     ]
    },
    {
     "name": "stderr",
     "output_type": "stream",
     "text": [
      "\n",
      "1 Failed download:\n",
      "['PRDGS.IS']: Exception(\"%ticker%: Period 'max' is invalid, must be one of ['1d', '5d']\")\n"
     ]
    },
    {
     "name": "stdout",
     "output_type": "stream",
     "text": [
      "\n",
      "[*********************100%%**********************]  1 of 1 completed"
     ]
    },
    {
     "name": "stderr",
     "output_type": "stream",
     "text": [
      "\n",
      "1 Failed download:\n",
      "['PRKME.IS']: Exception('%ticker%: No price data found, symbol may be delisted (1d 2023-12-28 -> 2023-12-28)')\n"
     ]
    },
    {
     "name": "stdout",
     "output_type": "stream",
     "text": [
      "\n",
      "[*********************100%%**********************]  1 of 1 completed"
     ]
    },
    {
     "name": "stderr",
     "output_type": "stream",
     "text": [
      "\n",
      "1 Failed download:\n",
      "['PARSN.IS']: Exception('%ticker%: No price data found, symbol may be delisted (1d 2023-12-28 -> 2023-12-28)')\n"
     ]
    },
    {
     "name": "stdout",
     "output_type": "stream",
     "text": [
      "\n",
      "[*********************100%%**********************]  1 of 1 completed"
     ]
    },
    {
     "name": "stderr",
     "output_type": "stream",
     "text": [
      "\n",
      "1 Failed download:\n",
      "['PBT.IS']: Exception('%ticker%: No timezone found, symbol may be delisted')\n"
     ]
    },
    {
     "name": "stdout",
     "output_type": "stream",
     "text": [
      "\n",
      "[*********************100%%**********************]  1 of 1 completed"
     ]
    },
    {
     "name": "stderr",
     "output_type": "stream",
     "text": [
      "\n",
      "1 Failed download:\n",
      "['PBTR.IS']: Exception('%ticker%: No timezone found, symbol may be delisted')\n"
     ]
    },
    {
     "name": "stdout",
     "output_type": "stream",
     "text": [
      "\n",
      "[*********************100%%**********************]  1 of 1 completed"
     ]
    },
    {
     "name": "stderr",
     "output_type": "stream",
     "text": [
      "\n",
      "1 Failed download:\n",
      "['PASEU.IS']: Exception('%ticker%: No price data found, symbol may be delisted (1d 2023-12-28 -> 2023-12-28)')\n"
     ]
    },
    {
     "name": "stdout",
     "output_type": "stream",
     "text": [
      "\n",
      "[*********************100%%**********************]  1 of 1 completed"
     ]
    },
    {
     "name": "stderr",
     "output_type": "stream",
     "text": [
      "\n",
      "1 Failed download:\n",
      "['PSGYO.IS']: Exception('%ticker%: No price data found, symbol may be delisted (1d 2023-12-28 -> 2023-12-28)')\n"
     ]
    },
    {
     "name": "stdout",
     "output_type": "stream",
     "text": [
      "\n",
      "[*********************100%%**********************]  1 of 1 completed"
     ]
    },
    {
     "name": "stderr",
     "output_type": "stream",
     "text": [
      "\n",
      "1 Failed download:\n",
      "['PCILT.IS']: Exception(\"%ticker%: Period 'max' is invalid, must be one of ['1d', '5d']\")\n"
     ]
    },
    {
     "name": "stdout",
     "output_type": "stream",
     "text": [
      "\n",
      "[*********************100%%**********************]  1 of 1 completed"
     ]
    },
    {
     "name": "stderr",
     "output_type": "stream",
     "text": [
      "\n",
      "1 Failed download:\n",
      "['PGSUS.IS']: Exception('%ticker%: No price data found, symbol may be delisted (1d 2023-12-28 -> 2023-12-28)')\n"
     ]
    },
    {
     "name": "stdout",
     "output_type": "stream",
     "text": [
      "\n",
      "[*********************100%%**********************]  1 of 1 completed"
     ]
    },
    {
     "name": "stderr",
     "output_type": "stream",
     "text": [
      "\n",
      "1 Failed download:\n",
      "['PEKGY.IS']: Exception('%ticker%: No price data found, symbol may be delisted (1d 2023-12-28 -> 2023-12-28)')\n"
     ]
    },
    {
     "name": "stdout",
     "output_type": "stream",
     "text": [
      "\n",
      "[*********************100%%**********************]  1 of 1 completed"
     ]
    },
    {
     "name": "stderr",
     "output_type": "stream",
     "text": [
      "\n",
      "1 Failed download:\n",
      "['PENGD.IS']: Exception('%ticker%: No price data found, symbol may be delisted (1d 2023-12-28 -> 2023-12-28)')\n"
     ]
    },
    {
     "name": "stdout",
     "output_type": "stream",
     "text": [
      "\n",
      "[*********************100%%**********************]  1 of 1 completed"
     ]
    },
    {
     "name": "stderr",
     "output_type": "stream",
     "text": [
      "\n",
      "1 Failed download:\n",
      "['PENTA.IS']: Exception('%ticker%: No price data found, symbol may be delisted (1d 2023-12-28 -> 2023-12-28)')\n"
     ]
    },
    {
     "name": "stdout",
     "output_type": "stream",
     "text": [
      "\n",
      "[*********************100%%**********************]  1 of 1 completed"
     ]
    },
    {
     "name": "stderr",
     "output_type": "stream",
     "text": [
      "\n",
      "1 Failed download:\n",
      "['PEGYO.IS']: Exception('%ticker%: No price data found, symbol may be delisted (1d 2023-12-28 -> 2023-12-28)')\n"
     ]
    },
    {
     "name": "stdout",
     "output_type": "stream",
     "text": [
      "\n",
      "[*********************100%%**********************]  1 of 1 completed"
     ]
    },
    {
     "name": "stderr",
     "output_type": "stream",
     "text": [
      "\n",
      "1 Failed download:\n",
      "['PSDTC.IS']: Exception('%ticker%: No price data found, symbol may be delisted (1d 2023-12-28 -> 2023-12-28)')\n"
     ]
    },
    {
     "name": "stdout",
     "output_type": "stream",
     "text": [
      "\n",
      "[*********************100%%**********************]  1 of 1 completed"
     ]
    },
    {
     "name": "stderr",
     "output_type": "stream",
     "text": [
      "\n",
      "1 Failed download:\n",
      "['PETKM.IS']: Exception('%ticker%: No price data found, symbol may be delisted (1d 2023-12-28 -> 2023-12-28)')\n"
     ]
    },
    {
     "name": "stdout",
     "output_type": "stream",
     "text": [
      "\n",
      "[*********************100%%**********************]  1 of 1 completed"
     ]
    },
    {
     "name": "stderr",
     "output_type": "stream",
     "text": [
      "\n",
      "1 Failed download:\n",
      "['PKENT.IS']: Exception('%ticker%: No price data found, symbol may be delisted (1d 2023-12-28 -> 2023-12-28)')\n"
     ]
    },
    {
     "name": "stdout",
     "output_type": "stream",
     "text": [
      "\n",
      "[*********************100%%**********************]  1 of 1 completed"
     ]
    },
    {
     "name": "stderr",
     "output_type": "stream",
     "text": [
      "\n",
      "1 Failed download:\n",
      "['PHC.IS']: Exception('%ticker%: No timezone found, symbol may be delisted')\n"
     ]
    },
    {
     "name": "stdout",
     "output_type": "stream",
     "text": [
      "\n",
      "[*********************100%%**********************]  1 of 1 completed"
     ]
    },
    {
     "name": "stderr",
     "output_type": "stream",
     "text": [
      "\n",
      "1 Failed download:\n",
      "['PHLLP.IS']: Exception('%ticker%: No timezone found, symbol may be delisted')\n"
     ]
    },
    {
     "name": "stdout",
     "output_type": "stream",
     "text": [
      "\n",
      "[*********************100%%**********************]  1 of 1 completed"
     ]
    },
    {
     "name": "stderr",
     "output_type": "stream",
     "text": [
      "\n",
      "1 Failed download:\n",
      "['PETUN.IS']: Exception('%ticker%: No price data found, symbol may be delisted (1d 2023-12-28 -> 2023-12-28)')\n"
     ]
    },
    {
     "name": "stdout",
     "output_type": "stream",
     "text": [
      "\n",
      "[*********************100%%**********************]  1 of 1 completed"
     ]
    },
    {
     "name": "stderr",
     "output_type": "stream",
     "text": [
      "\n",
      "1 Failed download:\n",
      "['PINSU.IS']: Exception('%ticker%: No price data found, symbol may be delisted (1d 2023-12-28 -> 2023-12-28)')\n"
     ]
    },
    {
     "name": "stdout",
     "output_type": "stream",
     "text": [
      "\n",
      "[*********************100%%**********************]  1 of 1 completed"
     ]
    },
    {
     "name": "stderr",
     "output_type": "stream",
     "text": [
      "\n",
      "1 Failed download:\n",
      "['PNSUT.IS']: Exception('%ticker%: No price data found, symbol may be delisted (1d 2023-12-28 -> 2023-12-28)')\n"
     ]
    },
    {
     "name": "stdout",
     "output_type": "stream",
     "text": [
      "\n",
      "[*********************100%%**********************]  1 of 1 completed"
     ]
    },
    {
     "name": "stderr",
     "output_type": "stream",
     "text": [
      "\n",
      "1 Failed download:\n",
      "['PKART.IS']: Exception('%ticker%: No price data found, symbol may be delisted (1d 2023-12-28 -> 2023-12-28)')\n"
     ]
    },
    {
     "name": "stdout",
     "output_type": "stream",
     "text": [
      "\n",
      "[*********************100%%**********************]  1 of 1 completed"
     ]
    },
    {
     "name": "stderr",
     "output_type": "stream",
     "text": [
      "\n",
      "1 Failed download:\n",
      "['PLTUR.IS']: Exception(\"%ticker%: Period 'max' is invalid, must be one of ['1d', '5d']\")\n"
     ]
    },
    {
     "name": "stdout",
     "output_type": "stream",
     "text": [
      "\n",
      "[*********************100%%**********************]  1 of 1 completed"
     ]
    },
    {
     "name": "stderr",
     "output_type": "stream",
     "text": [
      "\n",
      "1 Failed download:\n",
      "['POLHO.IS']: Exception('%ticker%: No price data found, symbol may be delisted (1d 2023-12-28 -> 2023-12-28)')\n"
     ]
    },
    {
     "name": "stdout",
     "output_type": "stream",
     "text": [
      "\n",
      "[*********************100%%**********************]  1 of 1 completed"
     ]
    },
    {
     "name": "stderr",
     "output_type": "stream",
     "text": [
      "\n",
      "1 Failed download:\n",
      "['POLTK.IS']: Exception('%ticker%: No price data found, symbol may be delisted (1d 2023-12-28 -> 2023-12-28)')\n"
     ]
    },
    {
     "name": "stdout",
     "output_type": "stream",
     "text": [
      "\n",
      "[*********************100%%**********************]  1 of 1 completed"
     ]
    },
    {
     "name": "stderr",
     "output_type": "stream",
     "text": [
      "\n",
      "1 Failed download:\n",
      "['PRZMA.IS']: Exception('%ticker%: No price data found, symbol may be delisted (1d 2023-12-28 -> 2023-12-28)')\n"
     ]
    },
    {
     "name": "stdout",
     "output_type": "stream",
     "text": [
      "\n",
      "[*********************100%%**********************]  1 of 1 completed"
     ]
    },
    {
     "name": "stderr",
     "output_type": "stream",
     "text": [
      "\n",
      "1 Failed download:\n",
      "['QYHOL.IS']: Exception('%ticker%: No timezone found, symbol may be delisted')\n"
     ]
    },
    {
     "name": "stdout",
     "output_type": "stream",
     "text": [
      "\n",
      "[*********************100%%**********************]  1 of 1 completed"
     ]
    },
    {
     "name": "stderr",
     "output_type": "stream",
     "text": [
      "\n",
      "1 Failed download:\n",
      "['QNBFF.IS']: Exception('%ticker%: No timezone found, symbol may be delisted')\n"
     ]
    },
    {
     "name": "stdout",
     "output_type": "stream",
     "text": [
      "\n",
      "[*********************100%%**********************]  1 of 1 completed"
     ]
    },
    {
     "name": "stderr",
     "output_type": "stream",
     "text": [
      "\n",
      "1 Failed download:\n",
      "['QNBFL.IS']: Exception('%ticker%: No price data found, symbol may be delisted (1d 2023-12-28 -> 2023-12-28)')\n"
     ]
    },
    {
     "name": "stdout",
     "output_type": "stream",
     "text": [
      "\n",
      "[*********************100%%**********************]  1 of 1 completed"
     ]
    },
    {
     "name": "stderr",
     "output_type": "stream",
     "text": [
      "\n",
      "1 Failed download:\n",
      "['QNBVK.IS']: Exception('%ticker%: No timezone found, symbol may be delisted')\n"
     ]
    },
    {
     "name": "stdout",
     "output_type": "stream",
     "text": [
      "\n",
      "[*********************100%%**********************]  1 of 1 completed"
     ]
    },
    {
     "name": "stderr",
     "output_type": "stream",
     "text": [
      "\n",
      "1 Failed download:\n",
      "['FNY.IS']: Exception('%ticker%: No timezone found, symbol may be delisted')\n"
     ]
    },
    {
     "name": "stdout",
     "output_type": "stream",
     "text": [
      "\n",
      "[*********************100%%**********************]  1 of 1 completed"
     ]
    },
    {
     "name": "stderr",
     "output_type": "stream",
     "text": [
      "\n",
      "1 Failed download:\n",
      "['QNBFI.IS']: Exception('%ticker%: No timezone found, symbol may be delisted')\n"
     ]
    },
    {
     "name": "stdout",
     "output_type": "stream",
     "text": [
      "\n",
      "[*********************100%%**********************]  1 of 1 completed"
     ]
    },
    {
     "name": "stderr",
     "output_type": "stream",
     "text": [
      "\n",
      "1 Failed download:\n",
      "['FIN.IS']: Exception('%ticker%: No timezone found, symbol may be delisted')\n"
     ]
    },
    {
     "name": "stdout",
     "output_type": "stream",
     "text": [
      "\n",
      "[*********************100%%**********************]  1 of 1 completed"
     ]
    },
    {
     "name": "stderr",
     "output_type": "stream",
     "text": [
      "\n",
      "1 Failed download:\n",
      "['QNBFB.IS']: Exception('%ticker%: No price data found, symbol may be delisted (1d 2023-12-28 -> 2023-12-28)')\n"
     ]
    },
    {
     "name": "stdout",
     "output_type": "stream",
     "text": [
      "\n",
      "[*********************100%%**********************]  1 of 1 completed"
     ]
    },
    {
     "name": "stderr",
     "output_type": "stream",
     "text": [
      "\n",
      "1 Failed download:\n",
      "['QUAGR.IS']: Exception('%ticker%: No price data found, symbol may be delisted (1d 2023-12-28 -> 2023-12-28)')\n"
     ]
    },
    {
     "name": "stdout",
     "output_type": "stream",
     "text": [
      "\n",
      "[*********************100%%**********************]  1 of 1 completed"
     ]
    },
    {
     "name": "stderr",
     "output_type": "stream",
     "text": [
      "\n",
      "1 Failed download:\n",
      "['QUFIN.IS']: Exception('%ticker%: No timezone found, symbol may be delisted')\n"
     ]
    },
    {
     "name": "stdout",
     "output_type": "stream",
     "text": [
      "\n",
      "[*********************100%%**********************]  1 of 1 completed"
     ]
    },
    {
     "name": "stderr",
     "output_type": "stream",
     "text": [
      "\n",
      "1 Failed download:\n",
      "['RNPOL.IS']: Exception(\"%ticker%: Period 'max' is invalid, must be one of ['1d', '5d']\")\n"
     ]
    },
    {
     "name": "stdout",
     "output_type": "stream",
     "text": [
      "\n",
      "[*********************100%%**********************]  1 of 1 completed"
     ]
    },
    {
     "name": "stderr",
     "output_type": "stream",
     "text": [
      "\n",
      "1 Failed download:\n",
      "['RALYH.IS']: Exception('%ticker%: No price data found, symbol may be delisted (1d 2023-12-28 -> 2023-12-28)')\n"
     ]
    },
    {
     "name": "stdout",
     "output_type": "stream",
     "text": [
      "\n",
      "[*********************100%%**********************]  1 of 1 completed"
     ]
    },
    {
     "name": "stderr",
     "output_type": "stream",
     "text": [
      "\n",
      "1 Failed download:\n",
      "['RAYSG.IS']: Exception('%ticker%: No price data found, symbol may be delisted (1d 2023-12-28 -> 2023-12-28)')\n"
     ]
    },
    {
     "name": "stdout",
     "output_type": "stream",
     "text": [
      "\n",
      "[*********************100%%**********************]  1 of 1 completed"
     ]
    },
    {
     "name": "stderr",
     "output_type": "stream",
     "text": [
      "\n",
      "1 Failed download:\n",
      "['REEDR.IS']: Exception('%ticker%: No price data found, symbol may be delisted (1d 2023-12-28 -> 2023-12-28)')\n"
     ]
    },
    {
     "name": "stdout",
     "output_type": "stream",
     "text": [
      "\n",
      "[*********************100%%**********************]  1 of 1 completed"
     ]
    },
    {
     "name": "stderr",
     "output_type": "stream",
     "text": [
      "\n",
      "1 Failed download:\n",
      "['RYGYO.IS']: Exception('%ticker%: No price data found, symbol may be delisted (1d 2023-12-28 -> 2023-12-28)')\n"
     ]
    },
    {
     "name": "stdout",
     "output_type": "stream",
     "text": [
      "\n",
      "[*********************100%%**********************]  1 of 1 completed"
     ]
    },
    {
     "name": "stderr",
     "output_type": "stream",
     "text": [
      "\n",
      "1 Failed download:\n",
      "['RYSAS.IS']: Exception('%ticker%: No price data found, symbol may be delisted (1d 2023-12-28 -> 2023-12-28)')\n"
     ]
    },
    {
     "name": "stdout",
     "output_type": "stream",
     "text": [
      "\n",
      "[*********************100%%**********************]  1 of 1 completed"
     ]
    },
    {
     "name": "stderr",
     "output_type": "stream",
     "text": [
      "\n",
      "1 Failed download:\n",
      "['RODRG.IS']: Exception('%ticker%: No price data found, symbol may be delisted (1d 2023-12-28 -> 2023-12-28)')\n"
     ]
    },
    {
     "name": "stdout",
     "output_type": "stream",
     "text": [
      "\n",
      "[*********************100%%**********************]  1 of 1 completed"
     ]
    },
    {
     "name": "stderr",
     "output_type": "stream",
     "text": [
      "\n",
      "1 Failed download:\n",
      "['ROYAL.IS']: Exception('%ticker%: No price data found, symbol may be delisted (1d 2023-12-28 -> 2023-12-28)')\n"
     ]
    },
    {
     "name": "stdout",
     "output_type": "stream",
     "text": [
      "\n",
      "[*********************100%%**********************]  1 of 1 completed"
     ]
    },
    {
     "name": "stderr",
     "output_type": "stream",
     "text": [
      "\n",
      "1 Failed download:\n",
      "['RTALB.IS']: Exception('%ticker%: No price data found, symbol may be delisted (1d 2023-12-28 -> 2023-12-28)')\n"
     ]
    },
    {
     "name": "stdout",
     "output_type": "stream",
     "text": [
      "\n",
      "[*********************100%%**********************]  1 of 1 completed"
     ]
    },
    {
     "name": "stderr",
     "output_type": "stream",
     "text": [
      "\n",
      "1 Failed download:\n",
      "['RUBNS.IS']: Exception('%ticker%: No price data found, symbol may be delisted (1d 2023-12-28 -> 2023-12-28)')\n"
     ]
    },
    {
     "name": "stdout",
     "output_type": "stream",
     "text": [
      "\n",
      "[*********************100%%**********************]  1 of 1 completed"
     ]
    },
    {
     "name": "stderr",
     "output_type": "stream",
     "text": [
      "\n",
      "1 Failed download:\n",
      "['SAFKR.IS']: Exception('%ticker%: No price data found, symbol may be delisted (1d 2023-12-28 -> 2023-12-28)')\n"
     ]
    },
    {
     "name": "stdout",
     "output_type": "stream",
     "text": [
      "\n",
      "[*********************100%%**********************]  1 of 1 completed"
     ]
    },
    {
     "name": "stderr",
     "output_type": "stream",
     "text": [
      "\n",
      "1 Failed download:\n",
      "['SANEL.IS']: Exception('%ticker%: No price data found, symbol may be delisted (1d 2023-12-28 -> 2023-12-28)')\n"
     ]
    },
    {
     "name": "stdout",
     "output_type": "stream",
     "text": [
      "\n",
      "[*********************100%%**********************]  1 of 1 completed"
     ]
    },
    {
     "name": "stderr",
     "output_type": "stream",
     "text": [
      "\n",
      "1 Failed download:\n",
      "['SNICA.IS']: Exception(\"%ticker%: Period 'max' is invalid, must be one of ['1d', '5d']\")\n"
     ]
    },
    {
     "name": "stdout",
     "output_type": "stream",
     "text": [
      "\n",
      "[*********************100%%**********************]  1 of 1 completed"
     ]
    },
    {
     "name": "stderr",
     "output_type": "stream",
     "text": [
      "\n",
      "1 Failed download:\n",
      "['SANFM.IS']: Exception('%ticker%: No price data found, symbol may be delisted (1d 2023-12-28 -> 2023-12-28)')\n"
     ]
    },
    {
     "name": "stdout",
     "output_type": "stream",
     "text": [
      "\n",
      "[*********************100%%**********************]  1 of 1 completed"
     ]
    },
    {
     "name": "stderr",
     "output_type": "stream",
     "text": [
      "\n",
      "1 Failed download:\n",
      "['SANKO.IS']: Exception('%ticker%: No price data found, symbol may be delisted (1d 2023-12-28 -> 2023-12-28)')\n"
     ]
    },
    {
     "name": "stdout",
     "output_type": "stream",
     "text": [
      "\n",
      "[*********************100%%**********************]  1 of 1 completed"
     ]
    },
    {
     "name": "stderr",
     "output_type": "stream",
     "text": [
      "\n",
      "1 Failed download:\n",
      "['SAMAT.IS']: Exception('%ticker%: No price data found, symbol may be delisted (1d 2023-12-28 -> 2023-12-28)')\n"
     ]
    },
    {
     "name": "stdout",
     "output_type": "stream",
     "text": [
      "\n",
      "[*********************100%%**********************]  1 of 1 completed"
     ]
    },
    {
     "name": "stderr",
     "output_type": "stream",
     "text": [
      "\n",
      "1 Failed download:\n",
      "['SARKY.IS']: Exception('%ticker%: No price data found, symbol may be delisted (1d 2023-12-28 -> 2023-12-28)')\n"
     ]
    },
    {
     "name": "stdout",
     "output_type": "stream",
     "text": [
      "\n",
      "[*********************100%%**********************]  1 of 1 completed"
     ]
    },
    {
     "name": "stderr",
     "output_type": "stream",
     "text": [
      "\n",
      "1 Failed download:\n",
      "['SARTN.IS']: Exception('%ticker%: No timezone found, symbol may be delisted')\n"
     ]
    },
    {
     "name": "stdout",
     "output_type": "stream",
     "text": [
      "\n",
      "[*********************100%%**********************]  1 of 1 completed"
     ]
    },
    {
     "name": "stderr",
     "output_type": "stream",
     "text": [
      "\n",
      "1 Failed download:\n",
      "['SASA.IS']: Exception('%ticker%: No price data found, symbol may be delisted (1d 2023-12-28 -> 2023-12-28)')\n"
     ]
    },
    {
     "name": "stdout",
     "output_type": "stream",
     "text": [
      "\n",
      "[*********************100%%**********************]  1 of 1 completed"
     ]
    },
    {
     "name": "stderr",
     "output_type": "stream",
     "text": [
      "\n",
      "1 Failed download:\n",
      "['SAYAS.IS']: Exception('%ticker%: No price data found, symbol may be delisted (1d 2023-12-28 -> 2023-12-28)')\n"
     ]
    },
    {
     "name": "stdout",
     "output_type": "stream",
     "text": [
      "\n",
      "[*********************100%%**********************]  1 of 1 completed"
     ]
    },
    {
     "name": "stderr",
     "output_type": "stream",
     "text": [
      "\n",
      "1 Failed download:\n",
      "['SDTTR.IS']: Exception(\"%ticker%: Period 'max' is invalid, must be one of ['1d', '5d']\")\n"
     ]
    },
    {
     "name": "stdout",
     "output_type": "stream",
     "text": [
      "\n",
      "[*********************100%%**********************]  1 of 1 completed"
     ]
    },
    {
     "name": "stderr",
     "output_type": "stream",
     "text": [
      "\n",
      "1 Failed download:\n",
      "['SEKUR.IS']: Exception('%ticker%: No price data found, symbol may be delisted (1d 2023-12-28 -> 2023-12-28)')\n"
     ]
    },
    {
     "name": "stdout",
     "output_type": "stream",
     "text": [
      "\n",
      "[*********************100%%**********************]  1 of 1 completed"
     ]
    },
    {
     "name": "stderr",
     "output_type": "stream",
     "text": [
      "\n",
      "1 Failed download:\n",
      "['SELEC.IS']: Exception('%ticker%: No price data found, symbol may be delisted (1d 2023-12-28 -> 2023-12-28)')\n"
     ]
    },
    {
     "name": "stdout",
     "output_type": "stream",
     "text": [
      "\n",
      "[*********************100%%**********************]  1 of 1 completed"
     ]
    },
    {
     "name": "stderr",
     "output_type": "stream",
     "text": [
      "\n",
      "1 Failed download:\n",
      "['SELGD.IS']: Exception('%ticker%: No price data found, symbol may be delisted (1d 2023-12-28 -> 2023-12-28)')\n"
     ]
    },
    {
     "name": "stdout",
     "output_type": "stream",
     "text": [
      "\n",
      "[*********************100%%**********************]  1 of 1 completed"
     ]
    },
    {
     "name": "stderr",
     "output_type": "stream",
     "text": [
      "\n",
      "1 Failed download:\n",
      "['SELVA.IS']: Exception(\"%ticker%: Period 'max' is invalid, must be one of ['1d', '5d']\")\n"
     ]
    },
    {
     "name": "stdout",
     "output_type": "stream",
     "text": [
      "\n",
      "[*********************100%%**********************]  1 of 1 completed"
     ]
    },
    {
     "name": "stderr",
     "output_type": "stream",
     "text": [
      "\n",
      "1 Failed download:\n",
      "['SNKRN.IS']: Exception('%ticker%: No price data found, symbol may be delisted (1d 2023-12-28 -> 2023-12-28)')\n"
     ]
    },
    {
     "name": "stdout",
     "output_type": "stream",
     "text": [
      "\n",
      "[*********************100%%**********************]  1 of 1 completed"
     ]
    },
    {
     "name": "stderr",
     "output_type": "stream",
     "text": [
      "\n",
      "1 Failed download:\n",
      "['SRVGY.IS']: Exception('%ticker%: No price data found, symbol may be delisted (1d 2023-12-28 -> 2023-12-28)')\n"
     ]
    },
    {
     "name": "stdout",
     "output_type": "stream",
     "text": [
      "\n",
      "[*********************100%%**********************]  1 of 1 completed"
     ]
    },
    {
     "name": "stderr",
     "output_type": "stream",
     "text": [
      "\n",
      "1 Failed download:\n",
      "['KHSTR.IS']: Exception('%ticker%: No timezone found, symbol may be delisted')\n"
     ]
    },
    {
     "name": "stdout",
     "output_type": "stream",
     "text": [
      "\n",
      "[*********************100%%**********************]  1 of 1 completed"
     ]
    },
    {
     "name": "stderr",
     "output_type": "stream",
     "text": [
      "\n",
      "1 Failed download:\n",
      "['SEYKM.IS']: Exception('%ticker%: No price data found, symbol may be delisted (1d 2023-12-28 -> 2023-12-28)')\n"
     ]
    },
    {
     "name": "stdout",
     "output_type": "stream",
     "text": [
      "\n",
      "[*********************100%%**********************]  1 of 1 completed"
     ]
    },
    {
     "name": "stderr",
     "output_type": "stream",
     "text": [
      "\n",
      "1 Failed download:\n",
      "['SHTRP.IS']: Exception('%ticker%: No timezone found, symbol may be delisted')\n"
     ]
    },
    {
     "name": "stdout",
     "output_type": "stream",
     "text": [
      "\n",
      "[*********************100%%**********************]  1 of 1 completed"
     ]
    },
    {
     "name": "stderr",
     "output_type": "stream",
     "text": [
      "\n",
      "1 Failed download:\n",
      "['SILVR.IS']: Exception('%ticker%: No price data found, symbol may be delisted (1d 2023-12-28 -> 2023-12-28)')\n"
     ]
    },
    {
     "name": "stdout",
     "output_type": "stream",
     "text": [
      "\n",
      "[*********************100%%**********************]  1 of 1 completed"
     ]
    },
    {
     "name": "stderr",
     "output_type": "stream",
     "text": [
      "\n",
      "1 Failed download:\n",
      "['SNGYO.IS']: Exception('%ticker%: No price data found, symbol may be delisted (1d 2023-12-28 -> 2023-12-28)')\n"
     ]
    },
    {
     "name": "stdout",
     "output_type": "stream",
     "text": [
      "\n",
      "[*********************100%%**********************]  1 of 1 completed"
     ]
    },
    {
     "name": "stderr",
     "output_type": "stream",
     "text": [
      "\n",
      "1 Failed download:\n",
      "['SMRTG.IS']: Exception('%ticker%: No price data found, symbol may be delisted (1d 2023-12-28 -> 2023-12-28)')\n"
     ]
    },
    {
     "name": "stdout",
     "output_type": "stream",
     "text": [
      "\n",
      "[*********************100%%**********************]  1 of 1 completed"
     ]
    },
    {
     "name": "stderr",
     "output_type": "stream",
     "text": [
      "\n",
      "1 Failed download:\n",
      "['SMART.IS']: Exception('%ticker%: No price data found, symbol may be delisted (1d 2023-12-28 -> 2023-12-28)')\n"
     ]
    },
    {
     "name": "stdout",
     "output_type": "stream",
     "text": [
      "\n",
      "[*********************100%%**********************]  1 of 1 completed"
     ]
    },
    {
     "name": "stderr",
     "output_type": "stream",
     "text": [
      "\n",
      "1 Failed download:\n",
      "['SODSN.IS']: Exception('%ticker%: No price data found, symbol may be delisted (1d 2023-12-28 -> 2023-12-28)')\n"
     ]
    },
    {
     "name": "stdout",
     "output_type": "stream",
     "text": [
      "\n",
      "[*********************100%%**********************]  1 of 1 completed"
     ]
    },
    {
     "name": "stderr",
     "output_type": "stream",
     "text": [
      "\n",
      "1 Failed download:\n",
      "['SOKE.IS']: Exception(\"%ticker%: Period 'max' is invalid, must be one of ['1d', '5d']\")\n"
     ]
    },
    {
     "name": "stdout",
     "output_type": "stream",
     "text": [
      "\n",
      "[*********************100%%**********************]  1 of 1 completed"
     ]
    },
    {
     "name": "stderr",
     "output_type": "stream",
     "text": [
      "\n",
      "1 Failed download:\n",
      "['SKTAS.IS']: Exception('%ticker%: No price data found, symbol may be delisted (1d 2023-12-28 -> 2023-12-28)')\n"
     ]
    },
    {
     "name": "stdout",
     "output_type": "stream",
     "text": [
      "\n",
      "[*********************100%%**********************]  1 of 1 completed"
     ]
    },
    {
     "name": "stderr",
     "output_type": "stream",
     "text": [
      "\n",
      "1 Failed download:\n",
      "['SONME.IS']: Exception('%ticker%: No price data found, symbol may be delisted (1d 2023-12-28 -> 2023-12-28)')\n"
     ]
    },
    {
     "name": "stdout",
     "output_type": "stream",
     "text": [
      "\n",
      "[*********************100%%**********************]  1 of 1 completed"
     ]
    },
    {
     "name": "stderr",
     "output_type": "stream",
     "text": [
      "\n",
      "1 Failed download:\n",
      "['SNPAM.IS']: Exception('%ticker%: No price data found, symbol may be delisted (1d 2023-12-28 -> 2023-12-28)')\n"
     ]
    },
    {
     "name": "stdout",
     "output_type": "stream",
     "text": [
      "\n",
      "[*********************100%%**********************]  1 of 1 completed"
     ]
    },
    {
     "name": "stderr",
     "output_type": "stream",
     "text": [
      "\n",
      "1 Failed download:\n",
      "['SUMAS.IS']: Exception('%ticker%: No price data found, symbol may be delisted (1d 2023-12-28 -> 2023-12-28)')\n"
     ]
    },
    {
     "name": "stdout",
     "output_type": "stream",
     "text": [
      "\n",
      "[*********************100%%**********************]  1 of 1 completed"
     ]
    },
    {
     "name": "stderr",
     "output_type": "stream",
     "text": [
      "\n",
      "1 Failed download:\n",
      "['SUNTK.IS']: Exception('%ticker%: No price data found, symbol may be delisted (1d 2023-12-28 -> 2023-12-28)')\n"
     ]
    },
    {
     "name": "stdout",
     "output_type": "stream",
     "text": [
      "\n",
      "[*********************100%%**********************]  1 of 1 completed"
     ]
    },
    {
     "name": "stderr",
     "output_type": "stream",
     "text": [
      "\n",
      "1 Failed download:\n",
      "['SURGY.IS']: Exception('%ticker%: No price data found, symbol may be delisted (1d 2023-12-28 -> 2023-12-28)')\n"
     ]
    },
    {
     "name": "stdout",
     "output_type": "stream",
     "text": [
      "\n",
      "[*********************100%%**********************]  1 of 1 completed"
     ]
    },
    {
     "name": "stderr",
     "output_type": "stream",
     "text": [
      "\n",
      "1 Failed download:\n",
      "['SUWEN.IS']: Exception(\"%ticker%: Period 'max' is invalid, must be one of ['1d', '5d']\")\n"
     ]
    },
    {
     "name": "stdout",
     "output_type": "stream",
     "text": [
      "\n",
      "[*********************100%%**********************]  1 of 1 completed"
     ]
    },
    {
     "name": "stderr",
     "output_type": "stream",
     "text": [
      "\n",
      "1 Failed download:\n",
      "['SZUKI.IS']: Exception('%ticker%: No timezone found, symbol may be delisted')\n"
     ]
    },
    {
     "name": "stdout",
     "output_type": "stream",
     "text": [
      "\n",
      "[*********************100%%**********************]  1 of 1 completed"
     ]
    },
    {
     "name": "stderr",
     "output_type": "stream",
     "text": [
      "\n",
      "1 Failed download:\n",
      "['SMRFA.IS']: Exception('%ticker%: No timezone found, symbol may be delisted')\n"
     ]
    },
    {
     "name": "stdout",
     "output_type": "stream",
     "text": [
      "\n",
      "[*********************100%%**********************]  1 of 1 completed"
     ]
    },
    {
     "name": "stderr",
     "output_type": "stream",
     "text": [
      "\n",
      "1 Failed download:\n",
      "['SMRVA.IS']: Exception('%ticker%: No timezone found, symbol may be delisted')\n"
     ]
    },
    {
     "name": "stdout",
     "output_type": "stream",
     "text": [
      "\n",
      "[*********************100%%**********************]  1 of 1 completed"
     ]
    },
    {
     "name": "stderr",
     "output_type": "stream",
     "text": [
      "\n",
      "1 Failed download:\n",
      "['SEKFK.IS']: Exception('%ticker%: No price data found, symbol may be delisted (1d 2023-12-28 -> 2023-12-28)')\n"
     ]
    },
    {
     "name": "stdout",
     "output_type": "stream",
     "text": [
      "\n",
      "[*********************100%%**********************]  1 of 1 completed"
     ]
    },
    {
     "name": "stderr",
     "output_type": "stream",
     "text": [
      "\n",
      "1 Failed download:\n",
      "['SEGYO.IS']: Exception(\"%ticker%: Period 'max' is invalid, must be one of ['1d', '5d']\")\n"
     ]
    },
    {
     "name": "stdout",
     "output_type": "stream",
     "text": [
      "\n",
      "[*********************100%%**********************]  1 of 1 completed"
     ]
    },
    {
     "name": "stderr",
     "output_type": "stream",
     "text": [
      "\n",
      "1 Failed download:\n",
      "['SKY.IS']: Exception('%ticker%: No timezone found, symbol may be delisted')\n"
     ]
    },
    {
     "name": "stdout",
     "output_type": "stream",
     "text": [
      "\n",
      "[*********************100%%**********************]  1 of 1 completed"
     ]
    },
    {
     "name": "stderr",
     "output_type": "stream",
     "text": [
      "\n",
      "1 Failed download:\n",
      "['SKYMD.IS']: Exception('%ticker%: No price data found, symbol may be delisted (1d 2023-12-28 -> 2023-12-28)')\n"
     ]
    },
    {
     "name": "stdout",
     "output_type": "stream",
     "text": [
      "\n",
      "[*********************100%%**********************]  1 of 1 completed"
     ]
    },
    {
     "name": "stderr",
     "output_type": "stream",
     "text": [
      "\n",
      "1 Failed download:\n",
      "['SEK.IS']: Exception('%ticker%: No timezone found, symbol may be delisted')\n"
     ]
    },
    {
     "name": "stdout",
     "output_type": "stream",
     "text": [
      "\n",
      "[*********************100%%**********************]  1 of 1 completed"
     ]
    },
    {
     "name": "stderr",
     "output_type": "stream",
     "text": [
      "\n",
      "1 Failed download:\n",
      "['SKBNK.IS']: Exception('%ticker%: No price data found, symbol may be delisted (1d 2023-12-28 -> 2023-12-28)')\n"
     ]
    },
    {
     "name": "stdout",
     "output_type": "stream",
     "text": [
      "\n",
      "[*********************100%%**********************]  1 of 1 completed"
     ]
    },
    {
     "name": "stderr",
     "output_type": "stream",
     "text": [
      "\n",
      "1 Failed download:\n",
      "['SOKM.IS']: Exception('%ticker%: No price data found, symbol may be delisted (1d 2023-12-28 -> 2023-12-28)')\n"
     ]
    },
    {
     "name": "stdout",
     "output_type": "stream",
     "text": [
      "\n",
      "[*********************100%%**********************]  1 of 1 completed"
     ]
    },
    {
     "name": "stderr",
     "output_type": "stream",
     "text": [
      "\n",
      "1 Failed download:\n",
      "['DRPHN.IS']: Exception('%ticker%: No timezone found, symbol may be delisted')\n"
     ]
    },
    {
     "name": "stdout",
     "output_type": "stream",
     "text": [
      "\n",
      "[*********************100%%**********************]  1 of 1 completed"
     ]
    },
    {
     "name": "stderr",
     "output_type": "stream",
     "text": [
      "\n",
      "1 Failed download:\n",
      "['TOKI.IS']: Exception('%ticker%: No timezone found, symbol may be delisted')\n"
     ]
    },
    {
     "name": "stdout",
     "output_type": "stream",
     "text": [
      "\n",
      "[*********************100%%**********************]  1 of 1 completed"
     ]
    },
    {
     "name": "stderr",
     "output_type": "stream",
     "text": [
      "\n",
      "1 Failed download:\n",
      "['TCZ.IS']: Exception('%ticker%: No timezone found, symbol may be delisted')\n"
     ]
    },
    {
     "name": "stdout",
     "output_type": "stream",
     "text": [
      "\n",
      "[*********************100%%**********************]  1 of 1 completed"
     ]
    },
    {
     "name": "stderr",
     "output_type": "stream",
     "text": [
      "\n",
      "1 Failed download:\n",
      "['TCZB.IS']: Exception('%ticker%: No timezone found, symbol may be delisted')\n"
     ]
    },
    {
     "name": "stdout",
     "output_type": "stream",
     "text": [
      "\n",
      "[*********************100%%**********************]  1 of 1 completed"
     ]
    },
    {
     "name": "stderr",
     "output_type": "stream",
     "text": [
      "\n",
      "1 Failed download:\n",
      "['TABGD.IS']: Exception('%ticker%: No price data found, symbol may be delisted (1d 2023-12-28 -> 2023-12-28)')\n"
     ]
    },
    {
     "name": "stdout",
     "output_type": "stream",
     "text": [
      "\n",
      "[*********************100%%**********************]  1 of 1 completed"
     ]
    },
    {
     "name": "stderr",
     "output_type": "stream",
     "text": [
      "\n",
      "1 Failed download:\n",
      "['TAC.IS']: Exception('%ticker%: No timezone found, symbol may be delisted')\n"
     ]
    },
    {
     "name": "stdout",
     "output_type": "stream",
     "text": [
      "\n",
      "[*********************100%%**********************]  1 of 1 completed"
     ]
    },
    {
     "name": "stderr",
     "output_type": "stream",
     "text": [
      "\n",
      "1 Failed download:\n",
      "['TCRYT.IS']: Exception('%ticker%: No timezone found, symbol may be delisted')\n"
     ]
    },
    {
     "name": "stdout",
     "output_type": "stream",
     "text": [
      "\n",
      "[*********************100%%**********************]  1 of 1 completed"
     ]
    },
    {
     "name": "stderr",
     "output_type": "stream",
     "text": [
      "\n",
      "1 Failed download:\n",
      "['TAMFA.IS']: Exception('%ticker%: No timezone found, symbol may be delisted')\n"
     ]
    },
    {
     "name": "stdout",
     "output_type": "stream",
     "text": [
      "\n",
      "[*********************100%%**********************]  1 of 1 completed"
     ]
    },
    {
     "name": "stderr",
     "output_type": "stream",
     "text": [
      "\n",
      "1 Failed download:\n",
      "['TNZTP.IS']: Exception('%ticker%: No price data found, symbol may be delisted (1d 2023-12-28 -> 2023-12-28)')\n"
     ]
    },
    {
     "name": "stdout",
     "output_type": "stream",
     "text": [
      "\n",
      "[*********************100%%**********************]  1 of 1 completed"
     ]
    },
    {
     "name": "stderr",
     "output_type": "stream",
     "text": [
      "\n",
      "1 Failed download:\n",
      "['TARKM.IS']: Exception('%ticker%: No price data found, symbol may be delisted (1d 2023-12-28 -> 2023-12-28)')\n"
     ]
    },
    {
     "name": "stdout",
     "output_type": "stream",
     "text": [
      "\n",
      "[*********************100%%**********************]  1 of 1 completed"
     ]
    },
    {
     "name": "stderr",
     "output_type": "stream",
     "text": [
      "\n",
      "1 Failed download:\n",
      "['TATGD.IS']: Exception('%ticker%: No price data found, symbol may be delisted (1d 2023-12-28 -> 2023-12-28)')\n"
     ]
    },
    {
     "name": "stdout",
     "output_type": "stream",
     "text": [
      "\n",
      "[*********************100%%**********************]  1 of 1 completed"
     ]
    },
    {
     "name": "stderr",
     "output_type": "stream",
     "text": [
      "\n",
      "1 Failed download:\n",
      "['TATEN.IS']: Exception(\"%ticker%: Period 'max' is invalid, must be one of ['1d', '5d']\")\n"
     ]
    },
    {
     "name": "stdout",
     "output_type": "stream",
     "text": [
      "\n",
      "[*********************100%%**********************]  1 of 1 completed"
     ]
    },
    {
     "name": "stderr",
     "output_type": "stream",
     "text": [
      "\n",
      "1 Failed download:\n",
      "['TAVHL.IS']: Exception('%ticker%: No price data found, symbol may be delisted (1d 2023-12-28 -> 2023-12-28)')\n"
     ]
    },
    {
     "name": "stdout",
     "output_type": "stream",
     "text": [
      "\n",
      "[*********************100%%**********************]  1 of 1 completed"
     ]
    },
    {
     "name": "stderr",
     "output_type": "stream",
     "text": [
      "\n",
      "1 Failed download:\n",
      "['TEBFA.IS']: Exception('%ticker%: No timezone found, symbol may be delisted')\n"
     ]
    },
    {
     "name": "stdout",
     "output_type": "stream",
     "text": [
      "\n",
      "[*********************100%%**********************]  1 of 1 completed"
     ]
    },
    {
     "name": "stderr",
     "output_type": "stream",
     "text": [
      "\n",
      "1 Failed download:\n",
      "['TEBCE.IS']: Exception('%ticker%: No timezone found, symbol may be delisted')\n"
     ]
    },
    {
     "name": "stdout",
     "output_type": "stream",
     "text": [
      "\n",
      "[*********************100%%**********************]  1 of 1 completed"
     ]
    },
    {
     "name": "stderr",
     "output_type": "stream",
     "text": [
      "\n",
      "1 Failed download:\n",
      "['TEKTU.IS']: Exception('%ticker%: No price data found, symbol may be delisted (1d 2023-12-28 -> 2023-12-28)')\n"
     ]
    },
    {
     "name": "stdout",
     "output_type": "stream",
     "text": [
      "\n",
      "[*********************100%%**********************]  1 of 1 completed"
     ]
    },
    {
     "name": "stderr",
     "output_type": "stream",
     "text": [
      "\n",
      "1 Failed download:\n",
      "['TKFEN.IS']: Exception('%ticker%: No price data found, symbol may be delisted (1d 2023-12-28 -> 2023-12-28)')\n"
     ]
    },
    {
     "name": "stdout",
     "output_type": "stream",
     "text": [
      "\n",
      "[*********************100%%**********************]  1 of 1 completed"
     ]
    },
    {
     "name": "stderr",
     "output_type": "stream",
     "text": [
      "\n",
      "1 Failed download:\n",
      "['TKNSA.IS']: Exception('%ticker%: No price data found, symbol may be delisted (1d 2023-12-28 -> 2023-12-28)')\n"
     ]
    },
    {
     "name": "stdout",
     "output_type": "stream",
     "text": [
      "\n",
      "[*********************100%%**********************]  1 of 1 completed"
     ]
    },
    {
     "name": "stderr",
     "output_type": "stream",
     "text": [
      "\n",
      "1 Failed download:\n",
      "['TMPOL.IS']: Exception('%ticker%: No price data found, symbol may be delisted (1d 2023-12-28 -> 2023-12-28)')\n"
     ]
    },
    {
     "name": "stdout",
     "output_type": "stream",
     "text": [
      "\n",
      "[*********************100%%**********************]  1 of 1 completed"
     ]
    },
    {
     "name": "stderr",
     "output_type": "stream",
     "text": [
      "\n",
      "1 Failed download:\n",
      "['TERA.IS']: Exception('%ticker%: No price data found, symbol may be delisted (1d 2023-12-28 -> 2023-12-28)')\n"
     ]
    },
    {
     "name": "stdout",
     "output_type": "stream",
     "text": [
      "\n",
      "[*********************100%%**********************]  1 of 1 completed"
     ]
    },
    {
     "name": "stderr",
     "output_type": "stream",
     "text": [
      "\n",
      "1 Failed download:\n",
      "['TRA.IS']: Exception('%ticker%: No timezone found, symbol may be delisted')\n"
     ]
    },
    {
     "name": "stdout",
     "output_type": "stream",
     "text": [
      "\n",
      "[*********************100%%**********************]  1 of 1 completed"
     ]
    },
    {
     "name": "stderr",
     "output_type": "stream",
     "text": [
      "\n",
      "1 Failed download:\n",
      "['TETMT.IS']: Exception('%ticker%: No price data found, symbol may be delisted (1d 2023-12-28 -> 2023-12-28)')\n"
     ]
    },
    {
     "name": "stdout",
     "output_type": "stream",
     "text": [
      "\n",
      "[*********************100%%**********************]  1 of 1 completed"
     ]
    },
    {
     "name": "stderr",
     "output_type": "stream",
     "text": [
      "\n",
      "1 Failed download:\n",
      "['TFNVK.IS']: Exception('%ticker%: No timezone found, symbol may be delisted')\n"
     ]
    },
    {
     "name": "stdout",
     "output_type": "stream",
     "text": [
      "\n",
      "[*********************100%%**********************]  1 of 1 completed"
     ]
    },
    {
     "name": "stderr",
     "output_type": "stream",
     "text": [
      "\n",
      "1 Failed download:\n",
      "['TGSAS.IS']: Exception('%ticker%: No price data found, symbol may be delisted (1d 2023-12-28 -> 2023-12-28)')\n"
     ]
    },
    {
     "name": "stdout",
     "output_type": "stream",
     "text": [
      "\n",
      "[*********************100%%**********************]  1 of 1 completed"
     ]
    },
    {
     "name": "stderr",
     "output_type": "stream",
     "text": [
      "\n",
      "1 Failed download:\n",
      "['TRYKI.IS']: Exception('%ticker%: No timezone found, symbol may be delisted')\n"
     ]
    },
    {
     "name": "stdout",
     "output_type": "stream",
     "text": [
      "\n",
      "[*********************100%%**********************]  1 of 1 completed"
     ]
    },
    {
     "name": "stderr",
     "output_type": "stream",
     "text": [
      "\n",
      "1 Failed download:\n",
      "['TOASO.IS']: Exception('%ticker%: No price data found, symbol may be delisted (1d 2023-12-28 -> 2023-12-28)')\n"
     ]
    },
    {
     "name": "stdout",
     "output_type": "stream",
     "text": [
      "\n",
      "[*********************100%%**********************]  1 of 1 completed"
     ]
    },
    {
     "name": "stderr",
     "output_type": "stream",
     "text": [
      "\n",
      "1 Failed download:\n",
      "['TMOAS.IS']: Exception('%ticker%: No timezone found, symbol may be delisted')\n"
     ]
    },
    {
     "name": "stdout",
     "output_type": "stream",
     "text": [
      "\n",
      "[*********************100%%**********************]  1 of 1 completed"
     ]
    },
    {
     "name": "stderr",
     "output_type": "stream",
     "text": [
      "\n",
      "1 Failed download:\n",
      "['TRGYO.IS']: Exception('%ticker%: No price data found, symbol may be delisted (1d 2023-12-28 -> 2023-12-28)')\n"
     ]
    },
    {
     "name": "stdout",
     "output_type": "stream",
     "text": [
      "\n",
      "[*********************100%%**********************]  1 of 1 completed"
     ]
    },
    {
     "name": "stderr",
     "output_type": "stream",
     "text": [
      "\n",
      "1 Failed download:\n",
      "['TLMAN.IS']: Exception('%ticker%: No price data found, symbol may be delisted (1d 2023-12-28 -> 2023-12-28)')\n"
     ]
    },
    {
     "name": "stdout",
     "output_type": "stream",
     "text": [
      "\n",
      "[*********************100%%**********************]  1 of 1 completed"
     ]
    },
    {
     "name": "stderr",
     "output_type": "stream",
     "text": [
      "\n",
      "1 Failed download:\n",
      "['TSPOR.IS']: Exception('%ticker%: No price data found, symbol may be delisted (1d 2023-12-28 -> 2023-12-28)')\n"
     ]
    },
    {
     "name": "stdout",
     "output_type": "stream",
     "text": [
      "\n",
      "[*********************100%%**********************]  1 of 1 completed"
     ]
    },
    {
     "name": "stderr",
     "output_type": "stream",
     "text": [
      "\n",
      "1 Failed download:\n",
      "['TDGYO.IS']: Exception('%ticker%: No price data found, symbol may be delisted (1d 2023-12-28 -> 2023-12-28)')\n"
     ]
    },
    {
     "name": "stdout",
     "output_type": "stream",
     "text": [
      "\n",
      "[*********************100%%**********************]  1 of 1 completed"
     ]
    },
    {
     "name": "stderr",
     "output_type": "stream",
     "text": [
      "\n",
      "1 Failed download:\n",
      "['TRMEN.IS']: Exception('%ticker%: No timezone found, symbol may be delisted')\n"
     ]
    },
    {
     "name": "stdout",
     "output_type": "stream",
     "text": [
      "\n",
      "[*********************100%%**********************]  1 of 1 completed"
     ]
    },
    {
     "name": "stderr",
     "output_type": "stream",
     "text": [
      "\n",
      "1 Failed download:\n",
      "['TVM.IS']: Exception('%ticker%: No timezone found, symbol may be delisted')\n"
     ]
    },
    {
     "name": "stdout",
     "output_type": "stream",
     "text": [
      "\n",
      "[*********************100%%**********************]  1 of 1 completed"
     ]
    },
    {
     "name": "stderr",
     "output_type": "stream",
     "text": [
      "\n",
      "1 Failed download:\n",
      "['TSGYO.IS']: Exception('%ticker%: No price data found, symbol may be delisted (1d 2023-12-28 -> 2023-12-28)')\n"
     ]
    },
    {
     "name": "stdout",
     "output_type": "stream",
     "text": [
      "\n",
      "[*********************100%%**********************]  1 of 1 completed"
     ]
    },
    {
     "name": "stderr",
     "output_type": "stream",
     "text": [
      "\n",
      "1 Failed download:\n",
      "['TUCLK.IS']: Exception('%ticker%: No price data found, symbol may be delisted (1d 2023-12-28 -> 2023-12-28)')\n"
     ]
    },
    {
     "name": "stdout",
     "output_type": "stream",
     "text": [
      "\n",
      "[*********************100%%**********************]  1 of 1 completed"
     ]
    },
    {
     "name": "stderr",
     "output_type": "stream",
     "text": [
      "\n",
      "1 Failed download:\n",
      "['TUKAS.IS']: Exception('%ticker%: No price data found, symbol may be delisted (1d 2023-12-28 -> 2023-12-28)')\n"
     ]
    },
    {
     "name": "stdout",
     "output_type": "stream",
     "text": [
      "\n",
      "[*********************100%%**********************]  1 of 1 completed"
     ]
    },
    {
     "name": "stderr",
     "output_type": "stream",
     "text": [
      "\n",
      "1 Failed download:\n",
      "['TRCAS.IS']: Exception('%ticker%: No price data found, symbol may be delisted (1d 2023-12-28 -> 2023-12-28)')\n"
     ]
    },
    {
     "name": "stdout",
     "output_type": "stream",
     "text": [
      "\n",
      "[*********************100%%**********************]  1 of 1 completed"
     ]
    },
    {
     "name": "stderr",
     "output_type": "stream",
     "text": [
      "\n",
      "1 Failed download:\n",
      "['TUREX.IS']: Exception(\"%ticker%: Period 'max' is invalid, must be one of ['1d', '5d']\")\n"
     ]
    },
    {
     "name": "stdout",
     "output_type": "stream",
     "text": [
      "\n",
      "[*********************100%%**********************]  1 of 1 completed"
     ]
    },
    {
     "name": "stderr",
     "output_type": "stream",
     "text": [
      "\n",
      "1 Failed download:\n",
      "['MARBL.IS']: Exception(\"%ticker%: Period 'max' is invalid, must be one of ['1d', '5d']\")\n"
     ]
    },
    {
     "name": "stdout",
     "output_type": "stream",
     "text": [
      "\n",
      "[*********************100%%**********************]  1 of 1 completed"
     ]
    },
    {
     "name": "stderr",
     "output_type": "stream",
     "text": [
      "\n",
      "1 Failed download:\n",
      "['TRKFN.IS']: Exception('%ticker%: No timezone found, symbol may be delisted')\n"
     ]
    },
    {
     "name": "stdout",
     "output_type": "stream",
     "text": [
      "\n",
      "[*********************100%%**********************]  1 of 1 completed"
     ]
    },
    {
     "name": "stderr",
     "output_type": "stream",
     "text": [
      "\n",
      "1 Failed download:\n",
      "['TRILC.IS']: Exception(\"%ticker%: Period 'max' is invalid, must be one of ['1d', '5d']\")\n"
     ]
    },
    {
     "name": "stdout",
     "output_type": "stream",
     "text": [
      "\n",
      "[*********************100%%**********************]  1 of 1 completed"
     ]
    },
    {
     "name": "stderr",
     "output_type": "stream",
     "text": [
      "\n",
      "1 Failed download:\n",
      "['FNCLL.IS']: Exception('%ticker%: No timezone found, symbol may be delisted')\n"
     ]
    },
    {
     "name": "stdout",
     "output_type": "stream",
     "text": [
      "\n",
      "[*********************100%%**********************]  1 of 1 completed"
     ]
    },
    {
     "name": "stderr",
     "output_type": "stream",
     "text": [
      "\n",
      "1 Failed download:\n",
      "['TCELL.IS']: Exception('%ticker%: No price data found, symbol may be delisted (1d 2023-12-28 -> 2023-12-28)')\n"
     ]
    },
    {
     "name": "stdout",
     "output_type": "stream",
     "text": [
      "\n",
      "[*********************100%%**********************]  1 of 1 completed"
     ]
    },
    {
     "name": "stderr",
     "output_type": "stream",
     "text": [
      "\n",
      "1 Failed download:\n",
      "['TBA.IS']: Exception('%ticker%: No timezone found, symbol may be delisted')\n"
     ]
    },
    {
     "name": "stdout",
     "output_type": "stream",
     "text": [
      "\n",
      "[*********************100%%**********************]  1 of 1 completed"
     ]
    },
    {
     "name": "stderr",
     "output_type": "stream",
     "text": [
      "\n",
      "1 Failed download:\n",
      "['TRKSH.IS']: Exception('%ticker%: No timezone found, symbol may be delisted')\n"
     ]
    },
    {
     "name": "stdout",
     "output_type": "stream",
     "text": [
      "\n",
      "[*********************100%%**********************]  1 of 1 completed"
     ]
    },
    {
     "name": "stderr",
     "output_type": "stream",
     "text": [
      "\n",
      "1 Failed download:\n",
      "['TMSN.IS']: Exception('%ticker%: No price data found, symbol may be delisted (1d 2023-12-28 -> 2023-12-28)')\n"
     ]
    },
    {
     "name": "stdout",
     "output_type": "stream",
     "text": [
      "\n",
      "[*********************100%%**********************]  1 of 1 completed"
     ]
    },
    {
     "name": "stderr",
     "output_type": "stream",
     "text": [
      "\n",
      "1 Failed download:\n",
      "['TUPRS.IS']: Exception('%ticker%: No price data found, symbol may be delisted (1d 2023-12-28 -> 2023-12-28)')\n"
     ]
    },
    {
     "name": "stdout",
     "output_type": "stream",
     "text": [
      "\n",
      "[*********************100%%**********************]  1 of 1 completed"
     ]
    },
    {
     "name": "stderr",
     "output_type": "stream",
     "text": [
      "\n",
      "1 Failed download:\n",
      "['THYAO.IS']: Exception('%ticker%: No price data found, symbol may be delisted (1d 2023-12-28 -> 2023-12-28)')\n"
     ]
    },
    {
     "name": "stdout",
     "output_type": "stream",
     "text": [
      "\n",
      "[*********************100%%**********************]  1 of 1 completed"
     ]
    },
    {
     "name": "stderr",
     "output_type": "stream",
     "text": [
      "\n",
      "1 Failed download:\n",
      "['PRKAB.IS']: Exception('%ticker%: No price data found, symbol may be delisted (1d 2023-12-28 -> 2023-12-28)')\n"
     ]
    },
    {
     "name": "stdout",
     "output_type": "stream",
     "text": [
      "\n",
      "[*********************100%%**********************]  1 of 1 completed"
     ]
    },
    {
     "name": "stderr",
     "output_type": "stream",
     "text": [
      "\n",
      "1 Failed download:\n",
      "['TTKOM.IS']: Exception('%ticker%: No price data found, symbol may be delisted (1d 2023-12-28 -> 2023-12-28)')\n"
     ]
    },
    {
     "name": "stdout",
     "output_type": "stream",
     "text": [
      "\n",
      "[*********************100%%**********************]  1 of 1 completed"
     ]
    },
    {
     "name": "stderr",
     "output_type": "stream",
     "text": [
      "\n",
      "1 Failed download:\n",
      "['TTRAK.IS']: Exception('%ticker%: No price data found, symbol may be delisted (1d 2023-12-28 -> 2023-12-28)')\n"
     ]
    },
    {
     "name": "stdout",
     "output_type": "stream",
     "text": [
      "\n",
      "[*********************100%%**********************]  1 of 1 completed"
     ]
    },
    {
     "name": "stderr",
     "output_type": "stream",
     "text": [
      "\n",
      "1 Failed download:\n",
      "['TBORG.IS']: Exception('%ticker%: No price data found, symbol may be delisted (1d 2023-12-28 -> 2023-12-28)')\n"
     ]
    },
    {
     "name": "stdout",
     "output_type": "stream",
     "text": [
      "\n",
      "[*********************100%%**********************]  1 of 1 completed"
     ]
    },
    {
     "name": "stderr",
     "output_type": "stream",
     "text": [
      "\n",
      "1 Failed download:\n",
      "['TURGG.IS']: Exception('%ticker%: No price data found, symbol may be delisted (1d 2023-12-28 -> 2023-12-28)')\n"
     ]
    },
    {
     "name": "stdout",
     "output_type": "stream",
     "text": [
      "\n",
      "[*********************100%%**********************]  1 of 1 completed"
     ]
    },
    {
     "name": "stderr",
     "output_type": "stream",
     "text": [
      "\n",
      "1 Failed download:\n",
      "['GARAN.IS']: Exception('%ticker%: No price data found, symbol may be delisted (1d 2023-12-28 -> 2023-12-28)')\n"
     ]
    },
    {
     "name": "stdout",
     "output_type": "stream",
     "text": [
      "\n",
      "[*********************100%%**********************]  1 of 1 completed"
     ]
    },
    {
     "name": "stderr",
     "output_type": "stream",
     "text": [
      "\n",
      "1 Failed download:\n",
      "['TGB.IS']: Exception('%ticker%: No timezone found, symbol may be delisted')\n"
     ]
    },
    {
     "name": "stdout",
     "output_type": "stream",
     "text": [
      "\n",
      "[*********************100%%**********************]  1 of 1 completed"
     ]
    },
    {
     "name": "stderr",
     "output_type": "stream",
     "text": [
      "\n",
      "1 Failed download:\n",
      "['HALKB.IS']: Exception('%ticker%: No price data found, symbol may be delisted (1d 2023-12-28 -> 2023-12-28)')\n"
     ]
    },
    {
     "name": "stdout",
     "output_type": "stream",
     "text": [
      "\n",
      "[*********************100%%**********************]  1 of 1 completed"
     ]
    },
    {
     "name": "stderr",
     "output_type": "stream",
     "text": [
      "\n",
      "1 Failed download:\n",
      "['THL.IS']: Exception('%ticker%: No timezone found, symbol may be delisted')\n"
     ]
    },
    {
     "name": "stdout",
     "output_type": "stream",
     "text": [
      "\n",
      "[*********************100%%**********************]  1 of 1 completed"
     ]
    },
    {
     "name": "stderr",
     "output_type": "stream",
     "text": [
      "\n",
      "1 Failed download:\n",
      "['EXIMB.IS']: Exception('%ticker%: No timezone found, symbol may be delisted')\n"
     ]
    },
    {
     "name": "stdout",
     "output_type": "stream",
     "text": [
      "\n",
      "[*********************100%%**********************]  1 of 1 completed"
     ]
    },
    {
     "name": "stderr",
     "output_type": "stream",
     "text": [
      "\n",
      "1 Failed download:\n",
      "['THR.IS']: Exception('%ticker%: No timezone found, symbol may be delisted')\n"
     ]
    },
    {
     "name": "stdout",
     "output_type": "stream",
     "text": [
      "\n",
      "[*********************100%%**********************]  1 of 1 completed"
     ]
    },
    {
     "name": "stderr",
     "output_type": "stream",
     "text": [
      "\n",
      "1 Failed download:\n",
      "['ISATR.IS']: Exception('%ticker%: No price data found, symbol may be delisted (1d 2023-12-28 -> 2023-12-28)')\n"
     ]
    },
    {
     "name": "stdout",
     "output_type": "stream",
     "text": [
      "\n",
      "[*********************100%%**********************]  1 of 1 completed"
     ]
    },
    {
     "name": "stderr",
     "output_type": "stream",
     "text": [
      "\n",
      "1 Failed download:\n",
      "['ISBTR.IS']: Exception('%ticker%: No price data found, symbol may be delisted (1d 2023-12-28 -> 2023-12-28)')\n"
     ]
    },
    {
     "name": "stdout",
     "output_type": "stream",
     "text": [
      "\n",
      "[*********************100%%**********************]  1 of 1 completed"
     ]
    },
    {
     "name": "stderr",
     "output_type": "stream",
     "text": [
      "\n",
      "1 Failed download:\n",
      "['ISCTR.IS']: Exception('%ticker%: No price data found, symbol may be delisted (1d 2023-12-28 -> 2023-12-28)')\n"
     ]
    },
    {
     "name": "stdout",
     "output_type": "stream",
     "text": [
      "\n",
      "[*********************100%%**********************]  1 of 1 completed"
     ]
    },
    {
     "name": "stderr",
     "output_type": "stream",
     "text": [
      "\n",
      "1 Failed download:\n",
      "['ISKUR.IS']: Exception('%ticker%: No price data found, symbol may be delisted (1d 2023-12-28 -> 2023-12-28)')\n"
     ]
    },
    {
     "name": "stdout",
     "output_type": "stream",
     "text": [
      "\n",
      "[*********************100%%**********************]  1 of 1 completed"
     ]
    },
    {
     "name": "stderr",
     "output_type": "stream",
     "text": [
      "\n",
      "1 Failed download:\n",
      "['TIB.IS']: Exception('%ticker%: No timezone found, symbol may be delisted')\n"
     ]
    },
    {
     "name": "stdout",
     "output_type": "stream",
     "text": [
      "\n",
      "[*********************100%%**********************]  1 of 1 completed"
     ]
    },
    {
     "name": "stderr",
     "output_type": "stream",
     "text": [
      "\n",
      "1 Failed download:\n",
      "['KLN.IS']: Exception('%ticker%: No timezone found, symbol may be delisted')\n"
     ]
    },
    {
     "name": "stdout",
     "output_type": "stream",
     "text": [
      "\n",
      "[*********************100%%**********************]  1 of 1 completed"
     ]
    },
    {
     "name": "stderr",
     "output_type": "stream",
     "text": [
      "\n",
      "1 Failed download:\n",
      "['KLNMA.IS']: Exception('%ticker%: No price data found, symbol may be delisted (1d 2023-12-28 -> 2023-12-28)')\n"
     ]
    },
    {
     "name": "stdout",
     "output_type": "stream",
     "text": [
      "\n",
      "[*********************100%%**********************]  1 of 1 completed"
     ]
    },
    {
     "name": "stderr",
     "output_type": "stream",
     "text": [
      "\n",
      "1 Failed download:\n",
      "['TSK.IS']: Exception('%ticker%: No timezone found, symbol may be delisted')\n"
     ]
    },
    {
     "name": "stdout",
     "output_type": "stream",
     "text": [
      "\n",
      "[*********************100%%**********************]  1 of 1 completed"
     ]
    },
    {
     "name": "stderr",
     "output_type": "stream",
     "text": [
      "\n",
      "1 Failed download:\n",
      "['TSKB.IS']: Exception('%ticker%: No price data found, symbol may be delisted (1d 2023-12-28 -> 2023-12-28)')\n"
     ]
    },
    {
     "name": "stdout",
     "output_type": "stream",
     "text": [
      "\n",
      "[*********************100%%**********************]  1 of 1 completed"
     ]
    },
    {
     "name": "stderr",
     "output_type": "stream",
     "text": [
      "\n",
      "1 Failed download:\n",
      "['TURSG.IS']: Exception('%ticker%: No price data found, symbol may be delisted (1d 2023-12-28 -> 2023-12-28)')\n"
     ]
    },
    {
     "name": "stdout",
     "output_type": "stream",
     "text": [
      "\n",
      "[*********************100%%**********************]  1 of 1 completed"
     ]
    },
    {
     "name": "stderr",
     "output_type": "stream",
     "text": [
      "\n",
      "1 Failed download:\n",
      "['SISE.IS']: Exception('%ticker%: No price data found, symbol may be delisted (1d 2023-12-28 -> 2023-12-28)')\n"
     ]
    },
    {
     "name": "stdout",
     "output_type": "stream",
     "text": [
      "\n",
      "[*********************100%%**********************]  1 of 1 completed"
     ]
    },
    {
     "name": "stderr",
     "output_type": "stream",
     "text": [
      "\n",
      "1 Failed download:\n",
      "['TVB.IS']: Exception('%ticker%: No timezone found, symbol may be delisted')\n"
     ]
    },
    {
     "name": "stdout",
     "output_type": "stream",
     "text": [
      "\n",
      "[*********************100%%**********************]  1 of 1 completed"
     ]
    },
    {
     "name": "stderr",
     "output_type": "stream",
     "text": [
      "\n",
      "1 Failed download:\n",
      "['VAKBN.IS']: Exception('%ticker%: No price data found, symbol may be delisted (1d 2023-12-28 -> 2023-12-28)')\n"
     ]
    },
    {
     "name": "stdout",
     "output_type": "stream",
     "text": [
      "\n",
      "[*********************100%%**********************]  1 of 1 completed"
     ]
    },
    {
     "name": "stderr",
     "output_type": "stream",
     "text": [
      "\n",
      "1 Failed download:\n",
      "['UFUK.IS']: Exception('%ticker%: No price data found, symbol may be delisted (1d 2023-12-28 -> 2023-12-28)')\n"
     ]
    },
    {
     "name": "stdout",
     "output_type": "stream",
     "text": [
      "\n",
      "[*********************100%%**********************]  1 of 1 completed"
     ]
    },
    {
     "name": "stderr",
     "output_type": "stream",
     "text": [
      "\n",
      "1 Failed download:\n",
      "['ULAS.IS']: Exception('%ticker%: No price data found, symbol may be delisted (1d 2023-12-28 -> 2023-12-28)')\n"
     ]
    },
    {
     "name": "stdout",
     "output_type": "stream",
     "text": [
      "\n",
      "[*********************100%%**********************]  1 of 1 completed"
     ]
    },
    {
     "name": "stderr",
     "output_type": "stream",
     "text": [
      "\n",
      "1 Failed download:\n",
      "['ULUFA.IS']: Exception('%ticker%: No price data found, symbol may be delisted (1d 2023-12-28 -> 2023-12-28)')\n"
     ]
    },
    {
     "name": "stdout",
     "output_type": "stream",
     "text": [
      "\n",
      "[*********************100%%**********************]  1 of 1 completed"
     ]
    },
    {
     "name": "stderr",
     "output_type": "stream",
     "text": [
      "\n",
      "1 Failed download:\n",
      "['ULUSE.IS']: Exception('%ticker%: No price data found, symbol may be delisted (1d 2023-12-28 -> 2023-12-28)')\n"
     ]
    },
    {
     "name": "stdout",
     "output_type": "stream",
     "text": [
      "\n",
      "[*********************100%%**********************]  1 of 1 completed"
     ]
    },
    {
     "name": "stderr",
     "output_type": "stream",
     "text": [
      "\n",
      "1 Failed download:\n",
      "['ULUUN.IS']: Exception('%ticker%: No price data found, symbol may be delisted (1d 2023-12-28 -> 2023-12-28)')\n"
     ]
    },
    {
     "name": "stdout",
     "output_type": "stream",
     "text": [
      "\n",
      "[*********************100%%**********************]  1 of 1 completed"
     ]
    },
    {
     "name": "stderr",
     "output_type": "stream",
     "text": [
      "\n",
      "1 Failed download:\n",
      "['UMPAS.IS']: Exception('%ticker%: No price data found, symbol may be delisted (1d 2023-12-28 -> 2023-12-28)')\n"
     ]
    },
    {
     "name": "stdout",
     "output_type": "stream",
     "text": [
      "\n",
      "[*********************100%%**********************]  1 of 1 completed"
     ]
    },
    {
     "name": "stderr",
     "output_type": "stream",
     "text": [
      "\n",
      "1 Failed download:\n",
      "['USAK.IS']: Exception('%ticker%: No price data found, symbol may be delisted (1d 2023-12-28 -> 2023-12-28)')\n"
     ]
    },
    {
     "name": "stdout",
     "output_type": "stream",
     "text": [
      "\n",
      "[*********************100%%**********************]  1 of 1 completed"
     ]
    },
    {
     "name": "stderr",
     "output_type": "stream",
     "text": [
      "\n",
      "1 Failed download:\n",
      "['UZERB.IS']: Exception('%ticker%: No price data found, symbol may be delisted (1d 2023-12-28 -> 2023-12-28)')\n"
     ]
    },
    {
     "name": "stdout",
     "output_type": "stream",
     "text": [
      "\n",
      "[*********************100%%**********************]  1 of 1 completed"
     ]
    },
    {
     "name": "stderr",
     "output_type": "stream",
     "text": [
      "\n",
      "1 Failed download:\n",
      "['ULKER.IS']: Exception('%ticker%: No price data found, symbol may be delisted (1d 2023-12-28 -> 2023-12-28)')\n"
     ]
    },
    {
     "name": "stdout",
     "output_type": "stream",
     "text": [
      "\n",
      "[*********************100%%**********************]  1 of 1 completed"
     ]
    },
    {
     "name": "stderr",
     "output_type": "stream",
     "text": [
      "\n",
      "1 Failed download:\n",
      "['UNLUS.IS']: Exception('%ticker%: No timezone found, symbol may be delisted')\n"
     ]
    },
    {
     "name": "stdout",
     "output_type": "stream",
     "text": [
      "\n",
      "[*********************100%%**********************]  1 of 1 completed"
     ]
    },
    {
     "name": "stderr",
     "output_type": "stream",
     "text": [
      "\n",
      "1 Failed download:\n",
      "['UNS.IS']: Exception('%ticker%: No timezone found, symbol may be delisted')\n"
     ]
    },
    {
     "name": "stdout",
     "output_type": "stream",
     "text": [
      "\n",
      "[*********************100%%**********************]  1 of 1 completed"
     ]
    },
    {
     "name": "stderr",
     "output_type": "stream",
     "text": [
      "\n",
      "1 Failed download:\n",
      "['UNLU.IS']: Exception('%ticker%: No price data found, symbol may be delisted (1d 2023-12-28 -> 2023-12-28)')\n"
     ]
    },
    {
     "name": "stdout",
     "output_type": "stream",
     "text": [
      "\n",
      "[*********************100%%**********************]  1 of 1 completed"
     ]
    },
    {
     "name": "stderr",
     "output_type": "stream",
     "text": [
      "\n",
      "1 Failed download:\n",
      "['VAKFA.IS']: Exception('%ticker%: No timezone found, symbol may be delisted')\n"
     ]
    },
    {
     "name": "stdout",
     "output_type": "stream",
     "text": [
      "\n",
      "[*********************100%%**********************]  1 of 1 completed"
     ]
    },
    {
     "name": "stderr",
     "output_type": "stream",
     "text": [
      "\n",
      "1 Failed download:\n",
      "['VAKFN.IS']: Exception('%ticker%: No price data found, symbol may be delisted (1d 2023-12-28 -> 2023-12-28)')\n"
     ]
    },
    {
     "name": "stdout",
     "output_type": "stream",
     "text": [
      "\n",
      "[*********************100%%**********************]  1 of 1 completed"
     ]
    },
    {
     "name": "stderr",
     "output_type": "stream",
     "text": [
      "\n",
      "1 Failed download:\n",
      "['VKGYO.IS']: Exception('%ticker%: No price data found, symbol may be delisted (1d 2023-12-28 -> 2023-12-28)')\n"
     ]
    },
    {
     "name": "stdout",
     "output_type": "stream",
     "text": [
      "\n",
      "[*********************100%%**********************]  1 of 1 completed"
     ]
    },
    {
     "name": "stderr",
     "output_type": "stream",
     "text": [
      "\n",
      "1 Failed download:\n",
      "['VKFYO.IS']: Exception('%ticker%: No price data found, symbol may be delisted (1d 2023-12-28 -> 2023-12-28)')\n"
     ]
    },
    {
     "name": "stdout",
     "output_type": "stream",
     "text": [
      "\n",
      "[*********************100%%**********************]  1 of 1 completed"
     ]
    },
    {
     "name": "stderr",
     "output_type": "stream",
     "text": [
      "\n",
      "1 Failed download:\n",
      "['VAKVK.IS']: Exception('%ticker%: No timezone found, symbol may be delisted')\n"
     ]
    },
    {
     "name": "stdout",
     "output_type": "stream",
     "text": [
      "\n",
      "[*********************100%%**********************]  1 of 1 completed"
     ]
    },
    {
     "name": "stderr",
     "output_type": "stream",
     "text": [
      "\n",
      "1 Failed download:\n",
      "['VAKKO.IS']: Exception('%ticker%: No price data found, symbol may be delisted (1d 2023-12-28 -> 2023-12-28)')\n"
     ]
    },
    {
     "name": "stdout",
     "output_type": "stream",
     "text": [
      "\n",
      "[*********************100%%**********************]  1 of 1 completed"
     ]
    },
    {
     "name": "stderr",
     "output_type": "stream",
     "text": [
      "\n",
      "1 Failed download:\n",
      "['VANGD.IS']: Exception('%ticker%: No price data found, symbol may be delisted (1d 2023-12-28 -> 2023-12-28)')\n"
     ]
    },
    {
     "name": "stdout",
     "output_type": "stream",
     "text": [
      "\n",
      "[*********************100%%**********************]  1 of 1 completed"
     ]
    },
    {
     "name": "stderr",
     "output_type": "stream",
     "text": [
      "\n",
      "1 Failed download:\n",
      "['VBTYZ.IS']: Exception('%ticker%: No price data found, symbol may be delisted (1d 2023-12-28 -> 2023-12-28)')\n"
     ]
    },
    {
     "name": "stdout",
     "output_type": "stream",
     "text": [
      "\n",
      "[*********************100%%**********************]  1 of 1 completed"
     ]
    },
    {
     "name": "stderr",
     "output_type": "stream",
     "text": [
      "\n",
      "1 Failed download:\n",
      "['VDFLO.IS']: Exception('%ticker%: No timezone found, symbol may be delisted')\n"
     ]
    },
    {
     "name": "stdout",
     "output_type": "stream",
     "text": [
      "\n",
      "[*********************100%%**********************]  1 of 1 completed"
     ]
    },
    {
     "name": "stderr",
     "output_type": "stream",
     "text": [
      "\n",
      "1 Failed download:\n",
      "['VRGYO.IS']: Exception('%ticker%: No price data found, symbol may be delisted (1d 2023-12-28 -> 2023-12-28)')\n"
     ]
    },
    {
     "name": "stdout",
     "output_type": "stream",
     "text": [
      "\n",
      "[*********************100%%**********************]  1 of 1 completed"
     ]
    },
    {
     "name": "stderr",
     "output_type": "stream",
     "text": [
      "\n",
      "1 Failed download:\n",
      "['VERUS.IS']: Exception('%ticker%: No price data found, symbol may be delisted (1d 2023-12-28 -> 2023-12-28)')\n"
     ]
    },
    {
     "name": "stdout",
     "output_type": "stream",
     "text": [
      "\n",
      "[*********************100%%**********************]  1 of 1 completed"
     ]
    },
    {
     "name": "stderr",
     "output_type": "stream",
     "text": [
      "\n",
      "1 Failed download:\n",
      "['VERTU.IS']: Exception('%ticker%: No price data found, symbol may be delisted (1d 2023-12-28 -> 2023-12-28)')\n"
     ]
    },
    {
     "name": "stdout",
     "output_type": "stream",
     "text": [
      "\n",
      "[*********************100%%**********************]  1 of 1 completed"
     ]
    },
    {
     "name": "stderr",
     "output_type": "stream",
     "text": [
      "\n",
      "1 Failed download:\n",
      "['VESBE.IS']: Exception('%ticker%: No price data found, symbol may be delisted (1d 2023-12-28 -> 2023-12-28)')\n"
     ]
    },
    {
     "name": "stdout",
     "output_type": "stream",
     "text": [
      "\n",
      "[*********************100%%**********************]  1 of 1 completed"
     ]
    },
    {
     "name": "stderr",
     "output_type": "stream",
     "text": [
      "\n",
      "1 Failed download:\n",
      "['VESTL.IS']: Exception('%ticker%: No price data found, symbol may be delisted (1d 2023-12-28 -> 2023-12-28)')\n"
     ]
    },
    {
     "name": "stdout",
     "output_type": "stream",
     "text": [
      "\n",
      "[*********************100%%**********************]  1 of 1 completed"
     ]
    },
    {
     "name": "stderr",
     "output_type": "stream",
     "text": [
      "\n",
      "1 Failed download:\n",
      "['VKING.IS']: Exception('%ticker%: No price data found, symbol may be delisted (1d 2023-12-28 -> 2023-12-28)')\n"
     ]
    },
    {
     "name": "stdout",
     "output_type": "stream",
     "text": [
      "\n",
      "[*********************100%%**********************]  1 of 1 completed"
     ]
    },
    {
     "name": "stderr",
     "output_type": "stream",
     "text": [
      "\n",
      "1 Failed download:\n",
      "['VDFAS.IS']: Exception('%ticker%: No timezone found, symbol may be delisted')\n"
     ]
    },
    {
     "name": "stdout",
     "output_type": "stream",
     "text": [
      "\n",
      "[*********************100%%**********************]  1 of 1 completed"
     ]
    },
    {
     "name": "stderr",
     "output_type": "stream",
     "text": [
      "\n",
      "1 Failed download:\n",
      "['YKFKT.IS']: Exception('%ticker%: No timezone found, symbol may be delisted')\n"
     ]
    },
    {
     "name": "stdout",
     "output_type": "stream",
     "text": [
      "\n",
      "[*********************100%%**********************]  1 of 1 completed"
     ]
    },
    {
     "name": "stderr",
     "output_type": "stream",
     "text": [
      "\n",
      "1 Failed download:\n",
      "['YKR.IS']: Exception('%ticker%: No timezone found, symbol may be delisted')\n"
     ]
    },
    {
     "name": "stdout",
     "output_type": "stream",
     "text": [
      "\n",
      "[*********************100%%**********************]  1 of 1 completed"
     ]
    },
    {
     "name": "stderr",
     "output_type": "stream",
     "text": [
      "\n",
      "1 Failed download:\n",
      "['YKYAT.IS']: Exception('%ticker%: No timezone found, symbol may be delisted')\n"
     ]
    },
    {
     "name": "stdout",
     "output_type": "stream",
     "text": [
      "\n",
      "[*********************100%%**********************]  1 of 1 completed"
     ]
    },
    {
     "name": "stderr",
     "output_type": "stream",
     "text": [
      "\n",
      "1 Failed download:\n",
      "['YKB.IS']: Exception('%ticker%: No timezone found, symbol may be delisted')\n"
     ]
    },
    {
     "name": "stdout",
     "output_type": "stream",
     "text": [
      "\n",
      "[*********************100%%**********************]  1 of 1 completed"
     ]
    },
    {
     "name": "stderr",
     "output_type": "stream",
     "text": [
      "\n",
      "1 Failed download:\n",
      "['YKBNK.IS']: Exception('%ticker%: No price data found, symbol may be delisted (1d 2023-12-28 -> 2023-12-28)')\n"
     ]
    },
    {
     "name": "stdout",
     "output_type": "stream",
     "text": [
      "\n",
      "[*********************100%%**********************]  1 of 1 completed"
     ]
    },
    {
     "name": "stderr",
     "output_type": "stream",
     "text": [
      "\n",
      "1 Failed download:\n",
      "['YAPRK.IS']: Exception('%ticker%: No price data found, symbol may be delisted (1d 2023-12-28 -> 2023-12-28)')\n"
     ]
    },
    {
     "name": "stdout",
     "output_type": "stream",
     "text": [
      "\n",
      "[*********************100%%**********************]  1 of 1 completed"
     ]
    },
    {
     "name": "stderr",
     "output_type": "stream",
     "text": [
      "\n",
      "1 Failed download:\n",
      "['YATAS.IS']: Exception('%ticker%: No price data found, symbol may be delisted (1d 2023-12-28 -> 2023-12-28)')\n"
     ]
    },
    {
     "name": "stdout",
     "output_type": "stream",
     "text": [
      "\n",
      "[*********************100%%**********************]  1 of 1 completed"
     ]
    },
    {
     "name": "stderr",
     "output_type": "stream",
     "text": [
      "\n",
      "1 Failed download:\n",
      "['YAT.IS']: Exception('%ticker%: No timezone found, symbol may be delisted')\n"
     ]
    },
    {
     "name": "stdout",
     "output_type": "stream",
     "text": [
      "\n",
      "[*********************100%%**********************]  1 of 1 completed"
     ]
    },
    {
     "name": "stderr",
     "output_type": "stream",
     "text": [
      "\n",
      "1 Failed download:\n",
      "['YFMEN.IS']: Exception('%ticker%: No timezone found, symbol may be delisted')\n"
     ]
    },
    {
     "name": "stdout",
     "output_type": "stream",
     "text": [
      "\n",
      "[*********************100%%**********************]  1 of 1 completed"
     ]
    },
    {
     "name": "stderr",
     "output_type": "stream",
     "text": [
      "\n",
      "1 Failed download:\n",
      "['YATVK.IS']: Exception('%ticker%: No timezone found, symbol may be delisted')\n"
     ]
    },
    {
     "name": "stdout",
     "output_type": "stream",
     "text": [
      "\n",
      "[*********************100%%**********************]  1 of 1 completed"
     ]
    },
    {
     "name": "stderr",
     "output_type": "stream",
     "text": [
      "\n",
      "1 Failed download:\n",
      "['YYLGD.IS']: Exception('%ticker%: No price data found, symbol may be delisted (1d 2023-12-28 -> 2023-12-28)')\n"
     ]
    },
    {
     "name": "stdout",
     "output_type": "stream",
     "text": [
      "\n",
      "[*********************100%%**********************]  1 of 1 completed"
     ]
    },
    {
     "name": "stderr",
     "output_type": "stream",
     "text": [
      "\n",
      "1 Failed download:\n",
      "['YAYLA.IS']: Exception('%ticker%: No price data found, symbol may be delisted (1d 2023-12-28 -> 2023-12-28)')\n"
     ]
    },
    {
     "name": "stdout",
     "output_type": "stream",
     "text": [
      "\n",
      "[*********************100%%**********************]  1 of 1 completed"
     ]
    },
    {
     "name": "stderr",
     "output_type": "stream",
     "text": [
      "\n",
      "1 Failed download:\n",
      "['YGGYO.IS']: Exception('%ticker%: No price data found, symbol may be delisted (1d 2023-12-28 -> 2023-12-28)')\n"
     ]
    },
    {
     "name": "stdout",
     "output_type": "stream",
     "text": [
      "\n",
      "[*********************100%%**********************]  1 of 1 completed"
     ]
    },
    {
     "name": "stderr",
     "output_type": "stream",
     "text": [
      "\n",
      "1 Failed download:\n",
      "['YEOTK.IS']: Exception(\"%ticker%: Period 'max' is invalid, must be one of ['1d', '5d']\")\n"
     ]
    },
    {
     "name": "stdout",
     "output_type": "stream",
     "text": [
      "\n",
      "[*********************100%%**********************]  1 of 1 completed"
     ]
    },
    {
     "name": "stderr",
     "output_type": "stream",
     "text": [
      "\n",
      "1 Failed download:\n",
      "['YGYO.IS']: Exception('%ticker%: No price data found, symbol may be delisted (1d 2023-12-28 -> 2023-12-28)')\n"
     ]
    },
    {
     "name": "stdout",
     "output_type": "stream",
     "text": [
      "\n",
      "[*********************100%%**********************]  1 of 1 completed"
     ]
    },
    {
     "name": "stderr",
     "output_type": "stream",
     "text": [
      "\n",
      "1 Failed download:\n",
      "['YYAPI.IS']: Exception('%ticker%: No price data found, symbol may be delisted (1d 2023-12-28 -> 2023-12-28)')\n"
     ]
    },
    {
     "name": "stdout",
     "output_type": "stream",
     "text": [
      "\n",
      "[*********************100%%**********************]  1 of 1 completed"
     ]
    },
    {
     "name": "stderr",
     "output_type": "stream",
     "text": [
      "\n",
      "1 Failed download:\n",
      "['YESIL.IS']: Exception('%ticker%: No price data found, symbol may be delisted (1d 2023-12-28 -> 2023-12-28)')\n"
     ]
    },
    {
     "name": "stdout",
     "output_type": "stream",
     "text": [
      "\n",
      "[*********************100%%**********************]  1 of 1 completed"
     ]
    },
    {
     "name": "stderr",
     "output_type": "stream",
     "text": [
      "\n",
      "1 Failed download:\n",
      "['YBTAS.IS']: Exception('%ticker%: No price data found, symbol may be delisted (1d 2023-12-28 -> 2023-12-28)')\n"
     ]
    },
    {
     "name": "stdout",
     "output_type": "stream",
     "text": [
      "\n",
      "[*********************100%%**********************]  1 of 1 completed"
     ]
    },
    {
     "name": "stderr",
     "output_type": "stream",
     "text": [
      "\n",
      "1 Failed download:\n",
      "['YONGA.IS']: Exception('%ticker%: No price data found, symbol may be delisted (1d 2023-12-28 -> 2023-12-28)')\n"
     ]
    },
    {
     "name": "stdout",
     "output_type": "stream",
     "text": [
      "\n",
      "[*********************100%%**********************]  1 of 1 completed"
     ]
    },
    {
     "name": "stderr",
     "output_type": "stream",
     "text": [
      "\n",
      "1 Failed download:\n",
      "['YKSLN.IS']: Exception('%ticker%: No price data found, symbol may be delisted (1d 2023-12-28 -> 2023-12-28)')\n"
     ]
    },
    {
     "name": "stdout",
     "output_type": "stream",
     "text": [
      "\n",
      "[*********************100%%**********************]  1 of 1 completed"
     ]
    },
    {
     "name": "stderr",
     "output_type": "stream",
     "text": [
      "\n",
      "1 Failed download:\n",
      "['YUNSA.IS']: Exception('%ticker%: No price data found, symbol may be delisted (1d 2023-12-28 -> 2023-12-28)')\n"
     ]
    },
    {
     "name": "stdout",
     "output_type": "stream",
     "text": [
      "\n",
      "[*********************100%%**********************]  1 of 1 completed"
     ]
    },
    {
     "name": "stderr",
     "output_type": "stream",
     "text": [
      "\n",
      "1 Failed download:\n",
      "['ZEDUR.IS']: Exception('%ticker%: No price data found, symbol may be delisted (1d 2023-12-28 -> 2023-12-28)')\n"
     ]
    },
    {
     "name": "stdout",
     "output_type": "stream",
     "text": [
      "\n",
      "[*********************100%%**********************]  1 of 1 completed"
     ]
    },
    {
     "name": "stderr",
     "output_type": "stream",
     "text": [
      "\n",
      "1 Failed download:\n",
      "['ZRGYO.IS']: Exception('%ticker%: No price data found, symbol may be delisted (1d 2023-12-28 -> 2023-12-28)')\n"
     ]
    },
    {
     "name": "stdout",
     "output_type": "stream",
     "text": [
      "\n",
      "[*********************100%%**********************]  1 of 1 completed"
     ]
    },
    {
     "name": "stderr",
     "output_type": "stream",
     "text": [
      "\n",
      "1 Failed download:\n",
      "['ZKBVK.IS']: Exception('%ticker%: No timezone found, symbol may be delisted')\n"
     ]
    },
    {
     "name": "stdout",
     "output_type": "stream",
     "text": [
      "\n",
      "[*********************100%%**********************]  1 of 1 completed"
     ]
    },
    {
     "name": "stderr",
     "output_type": "stream",
     "text": [
      "\n",
      "1 Failed download:\n",
      "['ZKBVR.IS']: Exception('%ticker%: No timezone found, symbol may be delisted')\n"
     ]
    },
    {
     "name": "stdout",
     "output_type": "stream",
     "text": [
      "\n",
      "[*********************100%%**********************]  1 of 1 completed"
     ]
    },
    {
     "name": "stderr",
     "output_type": "stream",
     "text": [
      "\n",
      "1 Failed download:\n",
      "['ZOREN.IS']: Exception('%ticker%: No price data found, symbol may be delisted (1d 2023-12-28 -> 2023-12-28)')\n"
     ]
    },
    {
     "name": "stdout",
     "output_type": "stream",
     "text": [
      "\n",
      "[*********************100%%**********************]  1 of 1 completed"
     ]
    },
    {
     "name": "stderr",
     "output_type": "stream",
     "text": [
      "\n",
      "1 Failed download:\n",
      "['ZORLF.IS']: Exception('%ticker%: No timezone found, symbol may be delisted')\n"
     ]
    },
    {
     "name": "stdout",
     "output_type": "stream",
     "text": [
      "\n",
      "[*********************100%%**********************]  1 of 1 completed"
     ]
    },
    {
     "name": "stderr",
     "output_type": "stream",
     "text": [
      "\n",
      "1 Failed download:\n",
      "['TRY=X']: IndexError('index 0 is out of bounds for axis 0 with size 0')\n"
     ]
    },
    {
     "name": "stdout",
     "output_type": "stream",
     "text": [
      "\n",
      "[*********************100%%**********************]  1 of 1 completed"
     ]
    },
    {
     "name": "stderr",
     "output_type": "stream",
     "text": [
      "\n",
      "1 Failed download:\n",
      "['XU100.IS']: Exception('%ticker%: No price data found, symbol may be delisted (1d 2023-12-28 -> 2023-12-28)')\n"
     ]
    },
    {
     "name": "stdout",
     "output_type": "stream",
     "text": [
      "\n",
      "[*********************100%%**********************]  1 of 1 completed"
     ]
    },
    {
     "name": "stderr",
     "output_type": "stream",
     "text": [
      "\n",
      "1 Failed download:\n",
      "['XU030.IS']: Exception('%ticker%: No price data found, symbol may be delisted (1d 2023-12-28 -> 2023-12-28)')\n"
     ]
    },
    {
     "name": "stdout",
     "output_type": "stream",
     "text": [
      "\n",
      "[*********************100%%**********************]  1 of 1 completed"
     ]
    },
    {
     "name": "stderr",
     "output_type": "stream",
     "text": [
      "\n",
      "1 Failed download:\n",
      "['GC=F']: IndexError('index 0 is out of bounds for axis 0 with size 0')\n"
     ]
    },
    {
     "name": "stdout",
     "output_type": "stream",
     "text": [
      "\n",
      "[*********************100%%**********************]  1 of 1 completed"
     ]
    },
    {
     "name": "stderr",
     "output_type": "stream",
     "text": [
      "\n",
      "1 Failed download:\n",
      "['XSIST.IS']: Exception(\"%ticker%: Period 'max' is invalid, must be one of ['1d', '5d']\")\n"
     ]
    },
    {
     "name": "stdout",
     "output_type": "stream",
     "text": [
      "\n"
     ]
    }
   ],
   "source": [
    "update_database(\"test\")"
   ]
  },
  {
   "cell_type": "code",
   "execution_count": null,
   "metadata": {},
   "outputs": [],
   "source": []
  }
 ],
 "metadata": {
  "kernelspec": {
   "display_name": ".venv",
   "language": "python",
   "name": "python3"
  },
  "language_info": {
   "codemirror_mode": {
    "name": "ipython",
    "version": 3
   },
   "file_extension": ".py",
   "mimetype": "text/x-python",
   "name": "python",
   "nbconvert_exporter": "python",
   "pygments_lexer": "ipython3",
   "version": "3.10.2"
  }
 },
 "nbformat": 4,
 "nbformat_minor": 2
}
