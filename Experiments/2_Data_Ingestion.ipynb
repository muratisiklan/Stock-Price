{
 "cells": [
  {
   "cell_type": "code",
   "execution_count": 1,
   "metadata": {},
   "outputs": [],
   "source": [
    "from pymongo import MongoClient\n",
    "import pandas as pd"
   ]
  },
  {
   "cell_type": "code",
   "execution_count": 2,
   "metadata": {},
   "outputs": [],
   "source": [
    "def get_historical_data(symbol: str, last_n: int):\n",
    "    try:\n",
    "        # Connect to MongoDB\n",
    "        client = MongoClient(\"mongodb://127.0.0.1:27017/\")\n",
    "        db = client[\"stockdata\"]\n",
    "        collection = db[symbol]\n",
    "\n",
    "        # Retrieve the last N documents for the given symbol\n",
    "        cursor = collection.find().sort(\"_id\", -1).limit(last_n)\n",
    "        data_list = list(cursor)\n",
    "\n",
    "        # Convert the selected documents into a DataFrame\n",
    "        df = pd.DataFrame(data_list)\n",
    "\n",
    "        return df\n",
    "\n",
    "    finally:\n",
    "        # Close the MongoDB connection\n",
    "        client.close()"
   ]
  },
  {
   "cell_type": "code",
   "execution_count": 3,
   "metadata": {},
   "outputs": [],
   "source": [
    "df = get_historical_data('TURSG.IS',50)"
   ]
  },
  {
   "cell_type": "code",
   "execution_count": 4,
   "metadata": {},
   "outputs": [
    {
     "data": {
      "text/html": [
       "<div>\n",
       "<style scoped>\n",
       "    .dataframe tbody tr th:only-of-type {\n",
       "        vertical-align: middle;\n",
       "    }\n",
       "\n",
       "    .dataframe tbody tr th {\n",
       "        vertical-align: top;\n",
       "    }\n",
       "\n",
       "    .dataframe thead th {\n",
       "        text-align: right;\n",
       "    }\n",
       "</style>\n",
       "<table border=\"1\" class=\"dataframe\">\n",
       "  <thead>\n",
       "    <tr style=\"text-align: right;\">\n",
       "      <th></th>\n",
       "      <th>_id</th>\n",
       "      <th>Open</th>\n",
       "      <th>High</th>\n",
       "      <th>Low</th>\n",
       "      <th>Close</th>\n",
       "      <th>Adj Close</th>\n",
       "      <th>Volume</th>\n",
       "    </tr>\n",
       "  </thead>\n",
       "  <tbody>\n",
       "    <tr>\n",
       "      <th>0</th>\n",
       "      <td>2024-02-28</td>\n",
       "      <td>48.000000</td>\n",
       "      <td>48.540001</td>\n",
       "      <td>47.020000</td>\n",
       "      <td>47.900002</td>\n",
       "      <td>47.900002</td>\n",
       "      <td>1650077</td>\n",
       "    </tr>\n",
       "    <tr>\n",
       "      <th>1</th>\n",
       "      <td>2024-02-27</td>\n",
       "      <td>49.639999</td>\n",
       "      <td>49.680000</td>\n",
       "      <td>47.840000</td>\n",
       "      <td>47.919998</td>\n",
       "      <td>47.919998</td>\n",
       "      <td>2800885</td>\n",
       "    </tr>\n",
       "    <tr>\n",
       "      <th>2</th>\n",
       "      <td>2024-02-26</td>\n",
       "      <td>50.349998</td>\n",
       "      <td>50.799999</td>\n",
       "      <td>49.580002</td>\n",
       "      <td>49.580002</td>\n",
       "      <td>49.580002</td>\n",
       "      <td>2175003</td>\n",
       "    </tr>\n",
       "    <tr>\n",
       "      <th>3</th>\n",
       "      <td>2024-02-23</td>\n",
       "      <td>50.650002</td>\n",
       "      <td>51.250000</td>\n",
       "      <td>49.000000</td>\n",
       "      <td>50.349998</td>\n",
       "      <td>50.349998</td>\n",
       "      <td>5101495</td>\n",
       "    </tr>\n",
       "    <tr>\n",
       "      <th>4</th>\n",
       "      <td>2024-02-22</td>\n",
       "      <td>51.549999</td>\n",
       "      <td>52.200001</td>\n",
       "      <td>50.250000</td>\n",
       "      <td>50.549999</td>\n",
       "      <td>50.549999</td>\n",
       "      <td>4381130</td>\n",
       "    </tr>\n",
       "  </tbody>\n",
       "</table>\n",
       "</div>"
      ],
      "text/plain": [
       "          _id       Open       High        Low      Close  Adj Close   Volume\n",
       "0  2024-02-28  48.000000  48.540001  47.020000  47.900002  47.900002  1650077\n",
       "1  2024-02-27  49.639999  49.680000  47.840000  47.919998  47.919998  2800885\n",
       "2  2024-02-26  50.349998  50.799999  49.580002  49.580002  49.580002  2175003\n",
       "3  2024-02-23  50.650002  51.250000  49.000000  50.349998  50.349998  5101495\n",
       "4  2024-02-22  51.549999  52.200001  50.250000  50.549999  50.549999  4381130"
      ]
     },
     "execution_count": 4,
     "metadata": {},
     "output_type": "execute_result"
    }
   ],
   "source": [
    "df.head()"
   ]
  },
  {
   "cell_type": "code",
   "execution_count": null,
   "metadata": {},
   "outputs": [],
   "source": []
  }
 ],
 "metadata": {
  "kernelspec": {
   "display_name": ".venv",
   "language": "python",
   "name": "python3"
  },
  "language_info": {
   "codemirror_mode": {
    "name": "ipython",
    "version": 3
   },
   "file_extension": ".py",
   "mimetype": "text/x-python",
   "name": "python",
   "nbconvert_exporter": "python",
   "pygments_lexer": "ipython3",
   "version": "3.10.2"
  }
 },
 "nbformat": 4,
 "nbformat_minor": 2
}
